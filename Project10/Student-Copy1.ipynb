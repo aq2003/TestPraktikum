{
 "cells": [
  {
   "cell_type": "markdown",
   "metadata": {},
   "source": [
    "<div class=\"alert alert-block alert-sucess\">\n",
    "<b>Senior Reviewer's comment</b> <a class=\"tocSkip\"></a>\n",
    "    \n",
    "Hi Jose Manuel, my name is Andrey and I am glad to be your Senior Reviewer for this project. The legend you know - green, yellow, red\n",
    "</div>"
   ]
  },
  {
   "cell_type": "markdown",
   "metadata": {},
   "source": [
    "# WORKSHOP FOR REVIEWERS\n",
    "\n",
    "- Name: Jose Manuel Barrera\n",
    "- email: ecojmbarrera@gmail.com\n",
    "- Date: 2022-SEPT-08\n",
    "- Start time: 06:00 pm\n",
    "- End time: 09:00 pm\n",
    "\n",
    "#### Review below this line \n",
    "-------------------\n",
    "\n",
    "Hi `STUDENT NAME` !!\n",
    "\n",
    "My name is Jose Barrera, I'll be reviewing your project today!\n",
    "If I find any mistake, I'll just point it out and I'll let you fix it by yourself. This will help you to work in Data Analytics, as your team leader would do the same in a real job. If by any reason you can't handle this task, I will give you a more precise hint. \n",
    "\n",
    "You will find my comments below - **please do not move, modify or delete them**.\n",
    "\n",
    "You can find my comments in green, yellow or red boxes like this:\n",
    "\n",
    "<div class=\"alert alert-block alert-success\">\n",
    "<b>Reviewer's comment</b> <a class=\"tocSkip\"></a>\n",
    "\n",
    "Success. Everything is done succesfully.\n",
    "</div>\n",
    "\n",
    "<div class=\"alert alert-block alert-warning\">\n",
    "<b>Reviewer's comment</b> <a class=\"tocSkip\"></a>\n",
    "\n",
    "Remarks. Some recommendations.\n",
    "</div>\n",
    "\n",
    "<div class=\"alert alert-block alert-danger\">\n",
    "\n",
    "<b>Reviewer's comment</b> <a class=\"tocSkip\"></a>\n",
    "\n",
    "Needs fixing. The block requires some corrections. Work can't be accepted with the red comments.\n",
    "</div>\n",
    "\n",
    "You can answer me by using this:\n",
    "\n",
    "<div class=\"alert alert-block alert-info\">\n",
    "<b>Student answer.</b> <a class=\"tocSkip\"></a>\n",
    "</div>\n",
    "\n",
    "-------------------\n",
    "\n",
    "### Project Assessment Criteria\n",
    "\n",
    "\n",
    "Filters: \n",
    "- The file was empty -> SUCCESS\n",
    "- The file was sent in the wrong format; the reviewer could not open it -> SUCCESS\n",
    "- The code doesn’t run because of errors -> SUCCESS\n",
    "- The cells containing code are in the wrong order -> SUCCESS\n",
    "- It’s clear that the project is incomplete -> SUCCESS\n",
    "- The file contains only code, without explanations -> SUCCESS\n",
    "- The project’s main steps seem to have been completed out of order. -> SUCCESS\n",
    "\n",
    "### Task check-list\n",
    "\n",
    "- [x]  All files were opened\n",
    "- [x]  The files were studied (the first rows printed, *info()* method used)\n",
    "- [x]  The data was converted to necessary types\n",
    "- [x]  Data preprocessing was done\n",
    "\n",
    "*The student calculated:*\n",
    "\n",
    "- [x]  The number of calls made minutes spent per month\n",
    "- [x]  The number of SMS sent per month\n",
    "- [x]  The volume of web traffic per month\n",
    "- [x]  The monthly profit from each of the users (subtract free package limit from the total number of calls, SMS and web traffic; multiply the result by the calling plan value\n",
    "- [x]  Outliers were detected and removed\n",
    "- [x]  The mean, variance and standard deviation were calculated\n",
    "- [x]  There's an answer to the question: \"How many minutes and SMS and the volume of web traffic do the users of each of the plans require per month?\"\n",
    "- [x]  Histograms were plotted and described\n",
    "- [x]  The student tested the hypothesis: \"the average profit from the users of Ultimate and Surf calling plans is different\"\n",
    "- [x]  The student tested the hypothesis:  \"the average profit from the users in NY-NJ area is different from that of the users from other regions\"\n",
    "- [x]  There are explanations to hypothesis testing: \"How you formulated the null and alternative hypotheses\"\n",
    "- [x]  There are explanations to hypothesis testing: \"What criterion you used for testing the hypotheses and why\"\n",
    "- [x]  There are conclusions at each stage\n",
    "- [x]  There’s an overall conclusion\n",
    "\n"
   ]
  },
  {
   "cell_type": "markdown",
   "metadata": {},
   "source": [
    "<div class=\"alert alert-block alert-success\">\n",
    "<b>Senior Reviewer's comment</b> <a class=\"tocSkip\"></a>\n",
    "    \n",
    "Good idea to give a full check list for all criteria you base on\n",
    "</div>"
   ]
  },
  {
   "cell_type": "markdown",
   "metadata": {},
   "source": [
    "# Which one is a better plan?\n",
    "\n",
    "You work as an analyst for the telecom operator Megaline. The company offers its clients two prepaid plans, Surf and Ultimate. The commercial department wants to know which of the plans brings in more revenue in order to adjust the advertising budget.\n",
    "\n",
    "You are going to carry out a preliminary analysis of the plans based on a relatively small client selection. You'll have the data on 500 Megaline clients: who the clients are, where they're from, which plan they use, and the number of calls they made and text messages they sent in 2018. Your job is to analyze the clients' behavior and determine which prepaid plan brings in more revenue."
   ]
  },
  {
   "cell_type": "markdown",
   "metadata": {},
   "source": [
    "<div class=\"alert alert-block alert-warning\">\n",
    "<b>Senior Reviewer's comment</b> <a class=\"tocSkip\"></a>\n",
    "    \n",
    "It would be good job to give a feedback about the student's intro\n",
    "</div>"
   ]
  },
  {
   "cell_type": "markdown",
   "metadata": {},
   "source": [
    "## Initialization"
   ]
  },
  {
   "cell_type": "markdown",
   "metadata": {},
   "source": [
    "Initialize by loading libraries."
   ]
  },
  {
   "cell_type": "code",
   "execution_count": 1,
   "metadata": {},
   "outputs": [],
   "source": [
    "# Loading all the libraries\n",
    "\n",
    "import pandas as pd\n",
    "import numpy as np\n",
    "import matplotlib.pyplot as plt\n",
    "from scipy import stats as st"
   ]
  },
  {
   "cell_type": "markdown",
   "metadata": {},
   "source": [
    "### Load data"
   ]
  },
  {
   "cell_type": "markdown",
   "metadata": {},
   "source": [
    "There are five distinct data sets to work with."
   ]
  },
  {
   "cell_type": "code",
   "execution_count": 2,
   "metadata": {},
   "outputs": [],
   "source": [
    "# Load the data files into different DataFrames\n",
    "\n",
    "calls = pd.read_csv('megaline_calls.csv')\n",
    "internet = pd.read_csv('megaline_internet.csv')\n",
    "messages = pd.read_csv('megaline_messages.csv')\n",
    "plans = pd.read_csv('megaline_plans.csv')\n",
    "users = pd.read_csv('megaline_users.csv')"
   ]
  },
  {
   "cell_type": "markdown",
   "metadata": {},
   "source": [
    "### Prepare the data"
   ]
  },
  {
   "cell_type": "markdown",
   "metadata": {},
   "source": [
    "Before we work with the data, it is important to get a view of each CSV. We will print out the information, and the first few rows to get a feel for the shapes."
   ]
  },
  {
   "cell_type": "code",
   "execution_count": 3,
   "metadata": {
    "scrolled": true
   },
   "outputs": [
    {
     "name": "stdout",
     "output_type": "stream",
     "text": [
      "<class 'pandas.core.frame.DataFrame'>\n",
      "RangeIndex: 137735 entries, 0 to 137734\n",
      "Data columns (total 4 columns):\n",
      " #   Column     Non-Null Count   Dtype  \n",
      "---  ------     --------------   -----  \n",
      " 0   id         137735 non-null  object \n",
      " 1   user_id    137735 non-null  int64  \n",
      " 2   call_date  137735 non-null  object \n",
      " 3   duration   137735 non-null  float64\n",
      "dtypes: float64(1), int64(1), object(2)\n",
      "memory usage: 4.2+ MB\n"
     ]
    }
   ],
   "source": [
    "calls.info()"
   ]
  },
  {
   "cell_type": "code",
   "execution_count": 4,
   "metadata": {
    "scrolled": true
   },
   "outputs": [
    {
     "data": {
      "text/html": [
       "<div>\n",
       "<style scoped>\n",
       "    .dataframe tbody tr th:only-of-type {\n",
       "        vertical-align: middle;\n",
       "    }\n",
       "\n",
       "    .dataframe tbody tr th {\n",
       "        vertical-align: top;\n",
       "    }\n",
       "\n",
       "    .dataframe thead th {\n",
       "        text-align: right;\n",
       "    }\n",
       "</style>\n",
       "<table border=\"1\" class=\"dataframe\">\n",
       "  <thead>\n",
       "    <tr style=\"text-align: right;\">\n",
       "      <th></th>\n",
       "      <th>id</th>\n",
       "      <th>user_id</th>\n",
       "      <th>call_date</th>\n",
       "      <th>duration</th>\n",
       "    </tr>\n",
       "  </thead>\n",
       "  <tbody>\n",
       "    <tr>\n",
       "      <th>0</th>\n",
       "      <td>1000_93</td>\n",
       "      <td>1000</td>\n",
       "      <td>2018-12-27</td>\n",
       "      <td>8.52</td>\n",
       "    </tr>\n",
       "    <tr>\n",
       "      <th>1</th>\n",
       "      <td>1000_145</td>\n",
       "      <td>1000</td>\n",
       "      <td>2018-12-27</td>\n",
       "      <td>13.66</td>\n",
       "    </tr>\n",
       "    <tr>\n",
       "      <th>2</th>\n",
       "      <td>1000_247</td>\n",
       "      <td>1000</td>\n",
       "      <td>2018-12-27</td>\n",
       "      <td>14.48</td>\n",
       "    </tr>\n",
       "    <tr>\n",
       "      <th>3</th>\n",
       "      <td>1000_309</td>\n",
       "      <td>1000</td>\n",
       "      <td>2018-12-28</td>\n",
       "      <td>5.76</td>\n",
       "    </tr>\n",
       "    <tr>\n",
       "      <th>4</th>\n",
       "      <td>1000_380</td>\n",
       "      <td>1000</td>\n",
       "      <td>2018-12-30</td>\n",
       "      <td>4.22</td>\n",
       "    </tr>\n",
       "  </tbody>\n",
       "</table>\n",
       "</div>"
      ],
      "text/plain": [
       "         id  user_id   call_date  duration\n",
       "0   1000_93     1000  2018-12-27      8.52\n",
       "1  1000_145     1000  2018-12-27     13.66\n",
       "2  1000_247     1000  2018-12-27     14.48\n",
       "3  1000_309     1000  2018-12-28      5.76\n",
       "4  1000_380     1000  2018-12-30      4.22"
      ]
     },
     "execution_count": 4,
     "metadata": {},
     "output_type": "execute_result"
    }
   ],
   "source": [
    "calls.head()"
   ]
  },
  {
   "cell_type": "code",
   "execution_count": 5,
   "metadata": {},
   "outputs": [
    {
     "name": "stdout",
     "output_type": "stream",
     "text": [
      "<class 'pandas.core.frame.DataFrame'>\n",
      "RangeIndex: 104825 entries, 0 to 104824\n",
      "Data columns (total 4 columns):\n",
      " #   Column        Non-Null Count   Dtype  \n",
      "---  ------        --------------   -----  \n",
      " 0   id            104825 non-null  object \n",
      " 1   user_id       104825 non-null  int64  \n",
      " 2   session_date  104825 non-null  object \n",
      " 3   mb_used       104825 non-null  float64\n",
      "dtypes: float64(1), int64(1), object(2)\n",
      "memory usage: 3.2+ MB\n"
     ]
    }
   ],
   "source": [
    "internet.info()"
   ]
  },
  {
   "cell_type": "code",
   "execution_count": 6,
   "metadata": {},
   "outputs": [
    {
     "data": {
      "text/html": [
       "<div>\n",
       "<style scoped>\n",
       "    .dataframe tbody tr th:only-of-type {\n",
       "        vertical-align: middle;\n",
       "    }\n",
       "\n",
       "    .dataframe tbody tr th {\n",
       "        vertical-align: top;\n",
       "    }\n",
       "\n",
       "    .dataframe thead th {\n",
       "        text-align: right;\n",
       "    }\n",
       "</style>\n",
       "<table border=\"1\" class=\"dataframe\">\n",
       "  <thead>\n",
       "    <tr style=\"text-align: right;\">\n",
       "      <th></th>\n",
       "      <th>id</th>\n",
       "      <th>user_id</th>\n",
       "      <th>session_date</th>\n",
       "      <th>mb_used</th>\n",
       "    </tr>\n",
       "  </thead>\n",
       "  <tbody>\n",
       "    <tr>\n",
       "      <th>0</th>\n",
       "      <td>1000_13</td>\n",
       "      <td>1000</td>\n",
       "      <td>2018-12-29</td>\n",
       "      <td>89.86</td>\n",
       "    </tr>\n",
       "    <tr>\n",
       "      <th>1</th>\n",
       "      <td>1000_204</td>\n",
       "      <td>1000</td>\n",
       "      <td>2018-12-31</td>\n",
       "      <td>0.00</td>\n",
       "    </tr>\n",
       "    <tr>\n",
       "      <th>2</th>\n",
       "      <td>1000_379</td>\n",
       "      <td>1000</td>\n",
       "      <td>2018-12-28</td>\n",
       "      <td>660.40</td>\n",
       "    </tr>\n",
       "    <tr>\n",
       "      <th>3</th>\n",
       "      <td>1000_413</td>\n",
       "      <td>1000</td>\n",
       "      <td>2018-12-26</td>\n",
       "      <td>270.99</td>\n",
       "    </tr>\n",
       "    <tr>\n",
       "      <th>4</th>\n",
       "      <td>1000_442</td>\n",
       "      <td>1000</td>\n",
       "      <td>2018-12-27</td>\n",
       "      <td>880.22</td>\n",
       "    </tr>\n",
       "  </tbody>\n",
       "</table>\n",
       "</div>"
      ],
      "text/plain": [
       "         id  user_id session_date  mb_used\n",
       "0   1000_13     1000   2018-12-29    89.86\n",
       "1  1000_204     1000   2018-12-31     0.00\n",
       "2  1000_379     1000   2018-12-28   660.40\n",
       "3  1000_413     1000   2018-12-26   270.99\n",
       "4  1000_442     1000   2018-12-27   880.22"
      ]
     },
     "execution_count": 6,
     "metadata": {},
     "output_type": "execute_result"
    }
   ],
   "source": [
    "internet.head()"
   ]
  },
  {
   "cell_type": "code",
   "execution_count": 7,
   "metadata": {},
   "outputs": [
    {
     "name": "stdout",
     "output_type": "stream",
     "text": [
      "<class 'pandas.core.frame.DataFrame'>\n",
      "RangeIndex: 76051 entries, 0 to 76050\n",
      "Data columns (total 3 columns):\n",
      " #   Column        Non-Null Count  Dtype \n",
      "---  ------        --------------  ----- \n",
      " 0   id            76051 non-null  object\n",
      " 1   user_id       76051 non-null  int64 \n",
      " 2   message_date  76051 non-null  object\n",
      "dtypes: int64(1), object(2)\n",
      "memory usage: 1.7+ MB\n"
     ]
    }
   ],
   "source": [
    "messages.info()"
   ]
  },
  {
   "cell_type": "code",
   "execution_count": 8,
   "metadata": {},
   "outputs": [
    {
     "data": {
      "text/html": [
       "<div>\n",
       "<style scoped>\n",
       "    .dataframe tbody tr th:only-of-type {\n",
       "        vertical-align: middle;\n",
       "    }\n",
       "\n",
       "    .dataframe tbody tr th {\n",
       "        vertical-align: top;\n",
       "    }\n",
       "\n",
       "    .dataframe thead th {\n",
       "        text-align: right;\n",
       "    }\n",
       "</style>\n",
       "<table border=\"1\" class=\"dataframe\">\n",
       "  <thead>\n",
       "    <tr style=\"text-align: right;\">\n",
       "      <th></th>\n",
       "      <th>id</th>\n",
       "      <th>user_id</th>\n",
       "      <th>message_date</th>\n",
       "    </tr>\n",
       "  </thead>\n",
       "  <tbody>\n",
       "    <tr>\n",
       "      <th>0</th>\n",
       "      <td>1000_125</td>\n",
       "      <td>1000</td>\n",
       "      <td>2018-12-27</td>\n",
       "    </tr>\n",
       "    <tr>\n",
       "      <th>1</th>\n",
       "      <td>1000_160</td>\n",
       "      <td>1000</td>\n",
       "      <td>2018-12-31</td>\n",
       "    </tr>\n",
       "    <tr>\n",
       "      <th>2</th>\n",
       "      <td>1000_223</td>\n",
       "      <td>1000</td>\n",
       "      <td>2018-12-31</td>\n",
       "    </tr>\n",
       "    <tr>\n",
       "      <th>3</th>\n",
       "      <td>1000_251</td>\n",
       "      <td>1000</td>\n",
       "      <td>2018-12-27</td>\n",
       "    </tr>\n",
       "    <tr>\n",
       "      <th>4</th>\n",
       "      <td>1000_255</td>\n",
       "      <td>1000</td>\n",
       "      <td>2018-12-26</td>\n",
       "    </tr>\n",
       "  </tbody>\n",
       "</table>\n",
       "</div>"
      ],
      "text/plain": [
       "         id  user_id message_date\n",
       "0  1000_125     1000   2018-12-27\n",
       "1  1000_160     1000   2018-12-31\n",
       "2  1000_223     1000   2018-12-31\n",
       "3  1000_251     1000   2018-12-27\n",
       "4  1000_255     1000   2018-12-26"
      ]
     },
     "execution_count": 8,
     "metadata": {},
     "output_type": "execute_result"
    }
   ],
   "source": [
    "messages.head()"
   ]
  },
  {
   "cell_type": "code",
   "execution_count": 9,
   "metadata": {},
   "outputs": [
    {
     "name": "stdout",
     "output_type": "stream",
     "text": [
      "<class 'pandas.core.frame.DataFrame'>\n",
      "RangeIndex: 2 entries, 0 to 1\n",
      "Data columns (total 8 columns):\n",
      " #   Column                 Non-Null Count  Dtype  \n",
      "---  ------                 --------------  -----  \n",
      " 0   messages_included      2 non-null      int64  \n",
      " 1   mb_per_month_included  2 non-null      int64  \n",
      " 2   minutes_included       2 non-null      int64  \n",
      " 3   usd_monthly_pay        2 non-null      int64  \n",
      " 4   usd_per_gb             2 non-null      int64  \n",
      " 5   usd_per_message        2 non-null      float64\n",
      " 6   usd_per_minute         2 non-null      float64\n",
      " 7   plan_name              2 non-null      object \n",
      "dtypes: float64(2), int64(5), object(1)\n",
      "memory usage: 256.0+ bytes\n"
     ]
    }
   ],
   "source": [
    "plans.info()"
   ]
  },
  {
   "cell_type": "code",
   "execution_count": 10,
   "metadata": {
    "scrolled": true
   },
   "outputs": [
    {
     "data": {
      "text/html": [
       "<div>\n",
       "<style scoped>\n",
       "    .dataframe tbody tr th:only-of-type {\n",
       "        vertical-align: middle;\n",
       "    }\n",
       "\n",
       "    .dataframe tbody tr th {\n",
       "        vertical-align: top;\n",
       "    }\n",
       "\n",
       "    .dataframe thead th {\n",
       "        text-align: right;\n",
       "    }\n",
       "</style>\n",
       "<table border=\"1\" class=\"dataframe\">\n",
       "  <thead>\n",
       "    <tr style=\"text-align: right;\">\n",
       "      <th></th>\n",
       "      <th>messages_included</th>\n",
       "      <th>mb_per_month_included</th>\n",
       "      <th>minutes_included</th>\n",
       "      <th>usd_monthly_pay</th>\n",
       "      <th>usd_per_gb</th>\n",
       "      <th>usd_per_message</th>\n",
       "      <th>usd_per_minute</th>\n",
       "      <th>plan_name</th>\n",
       "    </tr>\n",
       "  </thead>\n",
       "  <tbody>\n",
       "    <tr>\n",
       "      <th>0</th>\n",
       "      <td>50</td>\n",
       "      <td>15360</td>\n",
       "      <td>500</td>\n",
       "      <td>20</td>\n",
       "      <td>10</td>\n",
       "      <td>0.03</td>\n",
       "      <td>0.03</td>\n",
       "      <td>surf</td>\n",
       "    </tr>\n",
       "    <tr>\n",
       "      <th>1</th>\n",
       "      <td>1000</td>\n",
       "      <td>30720</td>\n",
       "      <td>3000</td>\n",
       "      <td>70</td>\n",
       "      <td>7</td>\n",
       "      <td>0.01</td>\n",
       "      <td>0.01</td>\n",
       "      <td>ultimate</td>\n",
       "    </tr>\n",
       "  </tbody>\n",
       "</table>\n",
       "</div>"
      ],
      "text/plain": [
       "   messages_included  mb_per_month_included  minutes_included  \\\n",
       "0                 50                  15360               500   \n",
       "1               1000                  30720              3000   \n",
       "\n",
       "   usd_monthly_pay  usd_per_gb  usd_per_message  usd_per_minute plan_name  \n",
       "0               20          10             0.03            0.03      surf  \n",
       "1               70           7             0.01            0.01  ultimate  "
      ]
     },
     "execution_count": 10,
     "metadata": {},
     "output_type": "execute_result"
    }
   ],
   "source": [
    "plans.head()"
   ]
  },
  {
   "cell_type": "code",
   "execution_count": 11,
   "metadata": {
    "scrolled": true
   },
   "outputs": [
    {
     "name": "stdout",
     "output_type": "stream",
     "text": [
      "<class 'pandas.core.frame.DataFrame'>\n",
      "RangeIndex: 500 entries, 0 to 499\n",
      "Data columns (total 8 columns):\n",
      " #   Column      Non-Null Count  Dtype \n",
      "---  ------      --------------  ----- \n",
      " 0   user_id     500 non-null    int64 \n",
      " 1   first_name  500 non-null    object\n",
      " 2   last_name   500 non-null    object\n",
      " 3   age         500 non-null    int64 \n",
      " 4   city        500 non-null    object\n",
      " 5   reg_date    500 non-null    object\n",
      " 6   plan        500 non-null    object\n",
      " 7   churn_date  34 non-null     object\n",
      "dtypes: int64(2), object(6)\n",
      "memory usage: 31.4+ KB\n"
     ]
    }
   ],
   "source": [
    "users.info()"
   ]
  },
  {
   "cell_type": "code",
   "execution_count": 12,
   "metadata": {
    "scrolled": true
   },
   "outputs": [
    {
     "data": {
      "text/html": [
       "<div>\n",
       "<style scoped>\n",
       "    .dataframe tbody tr th:only-of-type {\n",
       "        vertical-align: middle;\n",
       "    }\n",
       "\n",
       "    .dataframe tbody tr th {\n",
       "        vertical-align: top;\n",
       "    }\n",
       "\n",
       "    .dataframe thead th {\n",
       "        text-align: right;\n",
       "    }\n",
       "</style>\n",
       "<table border=\"1\" class=\"dataframe\">\n",
       "  <thead>\n",
       "    <tr style=\"text-align: right;\">\n",
       "      <th></th>\n",
       "      <th>user_id</th>\n",
       "      <th>first_name</th>\n",
       "      <th>last_name</th>\n",
       "      <th>age</th>\n",
       "      <th>city</th>\n",
       "      <th>reg_date</th>\n",
       "      <th>plan</th>\n",
       "      <th>churn_date</th>\n",
       "    </tr>\n",
       "  </thead>\n",
       "  <tbody>\n",
       "    <tr>\n",
       "      <th>0</th>\n",
       "      <td>1000</td>\n",
       "      <td>Anamaria</td>\n",
       "      <td>Bauer</td>\n",
       "      <td>45</td>\n",
       "      <td>Atlanta-Sandy Springs-Roswell, GA MSA</td>\n",
       "      <td>2018-12-24</td>\n",
       "      <td>ultimate</td>\n",
       "      <td>NaN</td>\n",
       "    </tr>\n",
       "    <tr>\n",
       "      <th>1</th>\n",
       "      <td>1001</td>\n",
       "      <td>Mickey</td>\n",
       "      <td>Wilkerson</td>\n",
       "      <td>28</td>\n",
       "      <td>Seattle-Tacoma-Bellevue, WA MSA</td>\n",
       "      <td>2018-08-13</td>\n",
       "      <td>surf</td>\n",
       "      <td>NaN</td>\n",
       "    </tr>\n",
       "    <tr>\n",
       "      <th>2</th>\n",
       "      <td>1002</td>\n",
       "      <td>Carlee</td>\n",
       "      <td>Hoffman</td>\n",
       "      <td>36</td>\n",
       "      <td>Las Vegas-Henderson-Paradise, NV MSA</td>\n",
       "      <td>2018-10-21</td>\n",
       "      <td>surf</td>\n",
       "      <td>NaN</td>\n",
       "    </tr>\n",
       "    <tr>\n",
       "      <th>3</th>\n",
       "      <td>1003</td>\n",
       "      <td>Reynaldo</td>\n",
       "      <td>Jenkins</td>\n",
       "      <td>52</td>\n",
       "      <td>Tulsa, OK MSA</td>\n",
       "      <td>2018-01-28</td>\n",
       "      <td>surf</td>\n",
       "      <td>NaN</td>\n",
       "    </tr>\n",
       "    <tr>\n",
       "      <th>4</th>\n",
       "      <td>1004</td>\n",
       "      <td>Leonila</td>\n",
       "      <td>Thompson</td>\n",
       "      <td>40</td>\n",
       "      <td>Seattle-Tacoma-Bellevue, WA MSA</td>\n",
       "      <td>2018-05-23</td>\n",
       "      <td>surf</td>\n",
       "      <td>NaN</td>\n",
       "    </tr>\n",
       "  </tbody>\n",
       "</table>\n",
       "</div>"
      ],
      "text/plain": [
       "   user_id first_name  last_name  age                                   city  \\\n",
       "0     1000   Anamaria      Bauer   45  Atlanta-Sandy Springs-Roswell, GA MSA   \n",
       "1     1001     Mickey  Wilkerson   28        Seattle-Tacoma-Bellevue, WA MSA   \n",
       "2     1002     Carlee    Hoffman   36   Las Vegas-Henderson-Paradise, NV MSA   \n",
       "3     1003   Reynaldo    Jenkins   52                          Tulsa, OK MSA   \n",
       "4     1004    Leonila   Thompson   40        Seattle-Tacoma-Bellevue, WA MSA   \n",
       "\n",
       "     reg_date      plan churn_date  \n",
       "0  2018-12-24  ultimate        NaN  \n",
       "1  2018-08-13      surf        NaN  \n",
       "2  2018-10-21      surf        NaN  \n",
       "3  2018-01-28      surf        NaN  \n",
       "4  2018-05-23      surf        NaN  "
      ]
     },
     "execution_count": 12,
     "metadata": {},
     "output_type": "execute_result"
    }
   ],
   "source": [
    "users.head()"
   ]
  },
  {
   "cell_type": "markdown",
   "metadata": {},
   "source": [
    "<div class=\"alert alert-block alert-success\">\n",
    "<b>Reviewer's comment</b> <a class=\"tocSkip\"></a>\n",
    "\n",
    "Great Job! \n",
    "I really like how you choose to analyze each data set separately for the next part of your code. However, observe that you already used `info()` and `head()` methods on each dataset, and you are going to use them again for each block of your data data preparation process.\n",
    "\n",
    "Try to avoid repetition :), nothing wrong with this, but it will help you to reduce a couple of lines out of your final project.\n",
    "</div>"
   ]
  },
  {
   "cell_type": "markdown",
   "metadata": {},
   "source": [
    "<div class=\"alert alert-block alert-success\">\n",
    "<b>Senior Reviewer's comment</b> <a class=\"tocSkip\"></a>\n",
    "    \n",
    "I like the way you are constructing comments, great job\n",
    "</div>"
   ]
  },
  {
   "cell_type": "markdown",
   "metadata": {},
   "source": [
    "## Plans"
   ]
  },
  {
   "cell_type": "code",
   "execution_count": 13,
   "metadata": {},
   "outputs": [
    {
     "name": "stdout",
     "output_type": "stream",
     "text": [
      "<class 'pandas.core.frame.DataFrame'>\n",
      "RangeIndex: 2 entries, 0 to 1\n",
      "Data columns (total 8 columns):\n",
      " #   Column                 Non-Null Count  Dtype  \n",
      "---  ------                 --------------  -----  \n",
      " 0   messages_included      2 non-null      int64  \n",
      " 1   mb_per_month_included  2 non-null      int64  \n",
      " 2   minutes_included       2 non-null      int64  \n",
      " 3   usd_monthly_pay        2 non-null      int64  \n",
      " 4   usd_per_gb             2 non-null      int64  \n",
      " 5   usd_per_message        2 non-null      float64\n",
      " 6   usd_per_minute         2 non-null      float64\n",
      " 7   plan_name              2 non-null      object \n",
      "dtypes: float64(2), int64(5), object(1)\n",
      "memory usage: 256.0+ bytes\n"
     ]
    }
   ],
   "source": [
    "# Print the general/summary information about the plans' DataFrame\n",
    "\n",
    "plans.info()"
   ]
  },
  {
   "cell_type": "code",
   "execution_count": 14,
   "metadata": {},
   "outputs": [
    {
     "data": {
      "text/html": [
       "<div>\n",
       "<style scoped>\n",
       "    .dataframe tbody tr th:only-of-type {\n",
       "        vertical-align: middle;\n",
       "    }\n",
       "\n",
       "    .dataframe tbody tr th {\n",
       "        vertical-align: top;\n",
       "    }\n",
       "\n",
       "    .dataframe thead th {\n",
       "        text-align: right;\n",
       "    }\n",
       "</style>\n",
       "<table border=\"1\" class=\"dataframe\">\n",
       "  <thead>\n",
       "    <tr style=\"text-align: right;\">\n",
       "      <th></th>\n",
       "      <th>messages_included</th>\n",
       "      <th>mb_per_month_included</th>\n",
       "      <th>minutes_included</th>\n",
       "      <th>usd_monthly_pay</th>\n",
       "      <th>usd_per_gb</th>\n",
       "      <th>usd_per_message</th>\n",
       "      <th>usd_per_minute</th>\n",
       "      <th>plan_name</th>\n",
       "    </tr>\n",
       "  </thead>\n",
       "  <tbody>\n",
       "    <tr>\n",
       "      <th>0</th>\n",
       "      <td>50</td>\n",
       "      <td>15360</td>\n",
       "      <td>500</td>\n",
       "      <td>20</td>\n",
       "      <td>10</td>\n",
       "      <td>0.03</td>\n",
       "      <td>0.03</td>\n",
       "      <td>surf</td>\n",
       "    </tr>\n",
       "    <tr>\n",
       "      <th>1</th>\n",
       "      <td>1000</td>\n",
       "      <td>30720</td>\n",
       "      <td>3000</td>\n",
       "      <td>70</td>\n",
       "      <td>7</td>\n",
       "      <td>0.01</td>\n",
       "      <td>0.01</td>\n",
       "      <td>ultimate</td>\n",
       "    </tr>\n",
       "  </tbody>\n",
       "</table>\n",
       "</div>"
      ],
      "text/plain": [
       "   messages_included  mb_per_month_included  minutes_included  \\\n",
       "0                 50                  15360               500   \n",
       "1               1000                  30720              3000   \n",
       "\n",
       "   usd_monthly_pay  usd_per_gb  usd_per_message  usd_per_minute plan_name  \n",
       "0               20          10             0.03            0.03      surf  \n",
       "1               70           7             0.01            0.01  ultimate  "
      ]
     },
     "execution_count": 14,
     "metadata": {},
     "output_type": "execute_result"
    }
   ],
   "source": [
    "# Print a sample of data for plans\n",
    "\n",
    "plans.head()"
   ]
  },
  {
   "cell_type": "markdown",
   "metadata": {},
   "source": [
    "We only have two plans that we offer, so that's fine. Just to make certain we have not had any errors, a quick scan over the plans shows that they are accurate to the offered plans, meaning the data was not entered incorrectly. There is nothing wrong here."
   ]
  },
  {
   "cell_type": "markdown",
   "metadata": {},
   "source": [
    " "
   ]
  },
  {
   "cell_type": "markdown",
   "metadata": {},
   "source": [
    "### Fix data"
   ]
  },
  {
   "cell_type": "markdown",
   "metadata": {},
   "source": [
    "There are no issues that require fixing in the 'Plans' data."
   ]
  },
  {
   "cell_type": "markdown",
   "metadata": {},
   "source": [
    "### Enrich data"
   ]
  },
  {
   "cell_type": "markdown",
   "metadata": {},
   "source": [
    "We might wish to add a gb_per_month_included column, since that could make it easier to find our billable internet usage."
   ]
  },
  {
   "cell_type": "code",
   "execution_count": 15,
   "metadata": {},
   "outputs": [
    {
     "data": {
      "text/html": [
       "<div>\n",
       "<style scoped>\n",
       "    .dataframe tbody tr th:only-of-type {\n",
       "        vertical-align: middle;\n",
       "    }\n",
       "\n",
       "    .dataframe tbody tr th {\n",
       "        vertical-align: top;\n",
       "    }\n",
       "\n",
       "    .dataframe thead th {\n",
       "        text-align: right;\n",
       "    }\n",
       "</style>\n",
       "<table border=\"1\" class=\"dataframe\">\n",
       "  <thead>\n",
       "    <tr style=\"text-align: right;\">\n",
       "      <th></th>\n",
       "      <th>messages_included</th>\n",
       "      <th>mb_per_month_included</th>\n",
       "      <th>minutes_included</th>\n",
       "      <th>usd_monthly_pay</th>\n",
       "      <th>usd_per_gb</th>\n",
       "      <th>usd_per_message</th>\n",
       "      <th>usd_per_minute</th>\n",
       "      <th>plan_name</th>\n",
       "      <th>gb_per_month_included</th>\n",
       "    </tr>\n",
       "  </thead>\n",
       "  <tbody>\n",
       "    <tr>\n",
       "      <th>0</th>\n",
       "      <td>50</td>\n",
       "      <td>15360</td>\n",
       "      <td>500</td>\n",
       "      <td>20</td>\n",
       "      <td>10</td>\n",
       "      <td>0.03</td>\n",
       "      <td>0.03</td>\n",
       "      <td>surf</td>\n",
       "      <td>15.36</td>\n",
       "    </tr>\n",
       "    <tr>\n",
       "      <th>1</th>\n",
       "      <td>1000</td>\n",
       "      <td>30720</td>\n",
       "      <td>3000</td>\n",
       "      <td>70</td>\n",
       "      <td>7</td>\n",
       "      <td>0.01</td>\n",
       "      <td>0.01</td>\n",
       "      <td>ultimate</td>\n",
       "      <td>30.72</td>\n",
       "    </tr>\n",
       "  </tbody>\n",
       "</table>\n",
       "</div>"
      ],
      "text/plain": [
       "   messages_included  mb_per_month_included  minutes_included  \\\n",
       "0                 50                  15360               500   \n",
       "1               1000                  30720              3000   \n",
       "\n",
       "   usd_monthly_pay  usd_per_gb  usd_per_message  usd_per_minute plan_name  \\\n",
       "0               20          10             0.03            0.03      surf   \n",
       "1               70           7             0.01            0.01  ultimate   \n",
       "\n",
       "   gb_per_month_included  \n",
       "0                  15.36  \n",
       "1                  30.72  "
      ]
     },
     "execution_count": 15,
     "metadata": {},
     "output_type": "execute_result"
    }
   ],
   "source": [
    "# add gb per month\n",
    "\n",
    "plans['gb_per_month_included'] = plans['mb_per_month_included'] /1000\n",
    "plans"
   ]
  },
  {
   "cell_type": "markdown",
   "metadata": {},
   "source": [
    "## Users"
   ]
  },
  {
   "cell_type": "code",
   "execution_count": 16,
   "metadata": {
    "scrolled": true
   },
   "outputs": [
    {
     "name": "stdout",
     "output_type": "stream",
     "text": [
      "<class 'pandas.core.frame.DataFrame'>\n",
      "RangeIndex: 500 entries, 0 to 499\n",
      "Data columns (total 8 columns):\n",
      " #   Column      Non-Null Count  Dtype \n",
      "---  ------      --------------  ----- \n",
      " 0   user_id     500 non-null    int64 \n",
      " 1   first_name  500 non-null    object\n",
      " 2   last_name   500 non-null    object\n",
      " 3   age         500 non-null    int64 \n",
      " 4   city        500 non-null    object\n",
      " 5   reg_date    500 non-null    object\n",
      " 6   plan        500 non-null    object\n",
      " 7   churn_date  34 non-null     object\n",
      "dtypes: int64(2), object(6)\n",
      "memory usage: 31.4+ KB\n"
     ]
    }
   ],
   "source": [
    "# Print the general/summary information about the users' DataFrame\n",
    "\n",
    "users.info()"
   ]
  },
  {
   "cell_type": "code",
   "execution_count": 17,
   "metadata": {
    "scrolled": true
   },
   "outputs": [
    {
     "data": {
      "text/html": [
       "<div>\n",
       "<style scoped>\n",
       "    .dataframe tbody tr th:only-of-type {\n",
       "        vertical-align: middle;\n",
       "    }\n",
       "\n",
       "    .dataframe tbody tr th {\n",
       "        vertical-align: top;\n",
       "    }\n",
       "\n",
       "    .dataframe thead th {\n",
       "        text-align: right;\n",
       "    }\n",
       "</style>\n",
       "<table border=\"1\" class=\"dataframe\">\n",
       "  <thead>\n",
       "    <tr style=\"text-align: right;\">\n",
       "      <th></th>\n",
       "      <th>user_id</th>\n",
       "      <th>first_name</th>\n",
       "      <th>last_name</th>\n",
       "      <th>age</th>\n",
       "      <th>city</th>\n",
       "      <th>reg_date</th>\n",
       "      <th>plan</th>\n",
       "      <th>churn_date</th>\n",
       "    </tr>\n",
       "  </thead>\n",
       "  <tbody>\n",
       "    <tr>\n",
       "      <th>0</th>\n",
       "      <td>1000</td>\n",
       "      <td>Anamaria</td>\n",
       "      <td>Bauer</td>\n",
       "      <td>45</td>\n",
       "      <td>Atlanta-Sandy Springs-Roswell, GA MSA</td>\n",
       "      <td>2018-12-24</td>\n",
       "      <td>ultimate</td>\n",
       "      <td>NaN</td>\n",
       "    </tr>\n",
       "    <tr>\n",
       "      <th>1</th>\n",
       "      <td>1001</td>\n",
       "      <td>Mickey</td>\n",
       "      <td>Wilkerson</td>\n",
       "      <td>28</td>\n",
       "      <td>Seattle-Tacoma-Bellevue, WA MSA</td>\n",
       "      <td>2018-08-13</td>\n",
       "      <td>surf</td>\n",
       "      <td>NaN</td>\n",
       "    </tr>\n",
       "    <tr>\n",
       "      <th>2</th>\n",
       "      <td>1002</td>\n",
       "      <td>Carlee</td>\n",
       "      <td>Hoffman</td>\n",
       "      <td>36</td>\n",
       "      <td>Las Vegas-Henderson-Paradise, NV MSA</td>\n",
       "      <td>2018-10-21</td>\n",
       "      <td>surf</td>\n",
       "      <td>NaN</td>\n",
       "    </tr>\n",
       "    <tr>\n",
       "      <th>3</th>\n",
       "      <td>1003</td>\n",
       "      <td>Reynaldo</td>\n",
       "      <td>Jenkins</td>\n",
       "      <td>52</td>\n",
       "      <td>Tulsa, OK MSA</td>\n",
       "      <td>2018-01-28</td>\n",
       "      <td>surf</td>\n",
       "      <td>NaN</td>\n",
       "    </tr>\n",
       "    <tr>\n",
       "      <th>4</th>\n",
       "      <td>1004</td>\n",
       "      <td>Leonila</td>\n",
       "      <td>Thompson</td>\n",
       "      <td>40</td>\n",
       "      <td>Seattle-Tacoma-Bellevue, WA MSA</td>\n",
       "      <td>2018-05-23</td>\n",
       "      <td>surf</td>\n",
       "      <td>NaN</td>\n",
       "    </tr>\n",
       "  </tbody>\n",
       "</table>\n",
       "</div>"
      ],
      "text/plain": [
       "   user_id first_name  last_name  age                                   city  \\\n",
       "0     1000   Anamaria      Bauer   45  Atlanta-Sandy Springs-Roswell, GA MSA   \n",
       "1     1001     Mickey  Wilkerson   28        Seattle-Tacoma-Bellevue, WA MSA   \n",
       "2     1002     Carlee    Hoffman   36   Las Vegas-Henderson-Paradise, NV MSA   \n",
       "3     1003   Reynaldo    Jenkins   52                          Tulsa, OK MSA   \n",
       "4     1004    Leonila   Thompson   40        Seattle-Tacoma-Bellevue, WA MSA   \n",
       "\n",
       "     reg_date      plan churn_date  \n",
       "0  2018-12-24  ultimate        NaN  \n",
       "1  2018-08-13      surf        NaN  \n",
       "2  2018-10-21      surf        NaN  \n",
       "3  2018-01-28      surf        NaN  \n",
       "4  2018-05-23      surf        NaN  "
      ]
     },
     "execution_count": 17,
     "metadata": {},
     "output_type": "execute_result"
    }
   ],
   "source": [
    "# Print a sample of data for users\n",
    "\n",
    "users.head()"
   ]
  },
  {
   "cell_type": "markdown",
   "metadata": {},
   "source": [
    "The dates are needing formatting but this data at the moment does not have many issues. The city column could probably be separated into city and state if necessary, but that is not in the scope of the questions we wish to answer."
   ]
  },
  {
   "cell_type": "markdown",
   "metadata": {},
   "source": [
    "### Fix Data"
   ]
  },
  {
   "cell_type": "code",
   "execution_count": 18,
   "metadata": {
    "scrolled": true
   },
   "outputs": [
    {
     "name": "stdout",
     "output_type": "stream",
     "text": [
      "<class 'pandas.core.frame.DataFrame'>\n",
      "RangeIndex: 500 entries, 0 to 499\n",
      "Data columns (total 8 columns):\n",
      " #   Column      Non-Null Count  Dtype         \n",
      "---  ------      --------------  -----         \n",
      " 0   user_id     500 non-null    int64         \n",
      " 1   first_name  500 non-null    object        \n",
      " 2   last_name   500 non-null    object        \n",
      " 3   age         500 non-null    int64         \n",
      " 4   city        500 non-null    object        \n",
      " 5   reg_date    500 non-null    datetime64[ns]\n",
      " 6   plan        500 non-null    object        \n",
      " 7   churn_date  34 non-null     object        \n",
      "dtypes: datetime64[ns](1), int64(2), object(5)\n",
      "memory usage: 31.4+ KB\n"
     ]
    }
   ],
   "source": [
    "# convert date column to proper format\n",
    "\n",
    "users['reg_date'] = pd.to_datetime(users['reg_date'], format='%Y-%m-%d')\n",
    "users.info()"
   ]
  },
  {
   "cell_type": "markdown",
   "metadata": {},
   "source": [
    "### Enrich Data"
   ]
  },
  {
   "cell_type": "markdown",
   "metadata": {},
   "source": [
    "It probably could also be a good idea to clean up the churn_date column. There are mostly null values, since most of the users have not cancelled their plans. First, we will make a boolean column that checks if the churn date is nonzero. This column should return 34 True values and 466 False."
   ]
  },
  {
   "cell_type": "code",
   "execution_count": 19,
   "metadata": {},
   "outputs": [
    {
     "data": {
      "text/plain": [
       "False    466\n",
       "True      34\n",
       "Name: is_cancelled, dtype: int64"
      ]
     },
     "execution_count": 19,
     "metadata": {},
     "output_type": "execute_result"
    }
   ],
   "source": [
    "# create is_cancelled boolean\n",
    "\n",
    "users['is_cancelled'] = users['churn_date']\n",
    "users['is_cancelled'] = users['is_cancelled'].fillna(0).astype('bool')\n",
    "users['is_cancelled'].value_counts()"
   ]
  },
  {
   "cell_type": "markdown",
   "metadata": {},
   "source": [
    "Next, we fill the churn_date column with our filler date, and then convert it to a datetime format."
   ]
  },
  {
   "cell_type": "code",
   "execution_count": 20,
   "metadata": {},
   "outputs": [
    {
     "name": "stdout",
     "output_type": "stream",
     "text": [
      "<class 'pandas.core.frame.DataFrame'>\n",
      "RangeIndex: 500 entries, 0 to 499\n",
      "Data columns (total 9 columns):\n",
      " #   Column        Non-Null Count  Dtype         \n",
      "---  ------        --------------  -----         \n",
      " 0   user_id       500 non-null    int64         \n",
      " 1   first_name    500 non-null    object        \n",
      " 2   last_name     500 non-null    object        \n",
      " 3   age           500 non-null    int64         \n",
      " 4   city          500 non-null    object        \n",
      " 5   reg_date      500 non-null    datetime64[ns]\n",
      " 6   plan          500 non-null    object        \n",
      " 7   churn_date    500 non-null    datetime64[ns]\n",
      " 8   is_cancelled  500 non-null    bool          \n",
      "dtypes: bool(1), datetime64[ns](2), int64(2), object(4)\n",
      "memory usage: 31.9+ KB\n"
     ]
    }
   ],
   "source": [
    "# fill missing values\n",
    "\n",
    "users['churn_date'] = users['churn_date'].fillna('1900-01-01')\n",
    "\n",
    "# convert to datetime format\n",
    "\n",
    "users['churn_date'] = pd.to_datetime(users['churn_date'], format='%Y-%m-%d')\n",
    "users.info()"
   ]
  },
  {
   "cell_type": "markdown",
   "metadata": {},
   "source": [
    "We should also check for duplicates."
   ]
  },
  {
   "cell_type": "code",
   "execution_count": 21,
   "metadata": {},
   "outputs": [
    {
     "data": {
      "text/plain": [
       "False    500\n",
       "dtype: int64"
      ]
     },
     "execution_count": 21,
     "metadata": {},
     "output_type": "execute_result"
    }
   ],
   "source": [
    "# check for duplicate rows\n",
    "\n",
    "users.duplicated().value_counts()"
   ]
  },
  {
   "cell_type": "markdown",
   "metadata": {},
   "source": [
    "There are no duplicates. But there may be duplicate users with incorrectly assigned IDs, so we should check for that."
   ]
  },
  {
   "cell_type": "code",
   "execution_count": 22,
   "metadata": {},
   "outputs": [
    {
     "data": {
      "text/plain": [
       "False    500\n",
       "Name: user_id, dtype: int64"
      ]
     },
     "execution_count": 22,
     "metadata": {},
     "output_type": "execute_result"
    }
   ],
   "source": [
    "# check for duplicates in ID column\n",
    "\n",
    "users['user_id'].duplicated().value_counts()"
   ]
  },
  {
   "cell_type": "markdown",
   "metadata": {},
   "source": [
    "Each user has a unique ID."
   ]
  },
  {
   "cell_type": "markdown",
   "metadata": {},
   "source": [
    "## Calls"
   ]
  },
  {
   "cell_type": "code",
   "execution_count": 23,
   "metadata": {},
   "outputs": [
    {
     "name": "stdout",
     "output_type": "stream",
     "text": [
      "<class 'pandas.core.frame.DataFrame'>\n",
      "RangeIndex: 137735 entries, 0 to 137734\n",
      "Data columns (total 4 columns):\n",
      " #   Column     Non-Null Count   Dtype  \n",
      "---  ------     --------------   -----  \n",
      " 0   id         137735 non-null  object \n",
      " 1   user_id    137735 non-null  int64  \n",
      " 2   call_date  137735 non-null  object \n",
      " 3   duration   137735 non-null  float64\n",
      "dtypes: float64(1), int64(1), object(2)\n",
      "memory usage: 4.2+ MB\n"
     ]
    }
   ],
   "source": [
    "# Print the general/summary information about the calls' DataFrame\n",
    "\n",
    "calls.info()"
   ]
  },
  {
   "cell_type": "code",
   "execution_count": 24,
   "metadata": {
    "scrolled": true
   },
   "outputs": [
    {
     "data": {
      "text/html": [
       "<div>\n",
       "<style scoped>\n",
       "    .dataframe tbody tr th:only-of-type {\n",
       "        vertical-align: middle;\n",
       "    }\n",
       "\n",
       "    .dataframe tbody tr th {\n",
       "        vertical-align: top;\n",
       "    }\n",
       "\n",
       "    .dataframe thead th {\n",
       "        text-align: right;\n",
       "    }\n",
       "</style>\n",
       "<table border=\"1\" class=\"dataframe\">\n",
       "  <thead>\n",
       "    <tr style=\"text-align: right;\">\n",
       "      <th></th>\n",
       "      <th>id</th>\n",
       "      <th>user_id</th>\n",
       "      <th>call_date</th>\n",
       "      <th>duration</th>\n",
       "    </tr>\n",
       "  </thead>\n",
       "  <tbody>\n",
       "    <tr>\n",
       "      <th>0</th>\n",
       "      <td>1000_93</td>\n",
       "      <td>1000</td>\n",
       "      <td>2018-12-27</td>\n",
       "      <td>8.52</td>\n",
       "    </tr>\n",
       "    <tr>\n",
       "      <th>1</th>\n",
       "      <td>1000_145</td>\n",
       "      <td>1000</td>\n",
       "      <td>2018-12-27</td>\n",
       "      <td>13.66</td>\n",
       "    </tr>\n",
       "    <tr>\n",
       "      <th>2</th>\n",
       "      <td>1000_247</td>\n",
       "      <td>1000</td>\n",
       "      <td>2018-12-27</td>\n",
       "      <td>14.48</td>\n",
       "    </tr>\n",
       "    <tr>\n",
       "      <th>3</th>\n",
       "      <td>1000_309</td>\n",
       "      <td>1000</td>\n",
       "      <td>2018-12-28</td>\n",
       "      <td>5.76</td>\n",
       "    </tr>\n",
       "    <tr>\n",
       "      <th>4</th>\n",
       "      <td>1000_380</td>\n",
       "      <td>1000</td>\n",
       "      <td>2018-12-30</td>\n",
       "      <td>4.22</td>\n",
       "    </tr>\n",
       "  </tbody>\n",
       "</table>\n",
       "</div>"
      ],
      "text/plain": [
       "         id  user_id   call_date  duration\n",
       "0   1000_93     1000  2018-12-27      8.52\n",
       "1  1000_145     1000  2018-12-27     13.66\n",
       "2  1000_247     1000  2018-12-27     14.48\n",
       "3  1000_309     1000  2018-12-28      5.76\n",
       "4  1000_380     1000  2018-12-30      4.22"
      ]
     },
     "execution_count": 24,
     "metadata": {},
     "output_type": "execute_result"
    }
   ],
   "source": [
    "# Print a sample of data for calls\n",
    "\n",
    "calls.head()"
   ]
  },
  {
   "cell_type": "markdown",
   "metadata": {},
   "source": [
    "Luckily, it appears that our calls data frame is in order, or if it has issues they are not something we are yet aware of. The ID and duration are an integer and a float respectively, so they are in proper format. There are no missing values. There may be duplicates, which we will check for soon."
   ]
  },
  {
   "cell_type": "markdown",
   "metadata": {},
   "source": [
    "### Fix data"
   ]
  },
  {
   "cell_type": "markdown",
   "metadata": {},
   "source": [
    "The call date is not in a date format, however. This might be an issue that is on the other data frames, in which case we could format all the dates together."
   ]
  },
  {
   "cell_type": "code",
   "execution_count": 25,
   "metadata": {},
   "outputs": [
    {
     "name": "stdout",
     "output_type": "stream",
     "text": [
      "<class 'pandas.core.frame.DataFrame'>\n",
      "RangeIndex: 137735 entries, 0 to 137734\n",
      "Data columns (total 4 columns):\n",
      " #   Column     Non-Null Count   Dtype         \n",
      "---  ------     --------------   -----         \n",
      " 0   id         137735 non-null  object        \n",
      " 1   user_id    137735 non-null  int64         \n",
      " 2   call_date  137735 non-null  datetime64[ns]\n",
      " 3   duration   137735 non-null  float64       \n",
      "dtypes: datetime64[ns](1), float64(1), int64(1), object(1)\n",
      "memory usage: 4.2+ MB\n"
     ]
    }
   ],
   "source": [
    "# convert to datetime\n",
    "\n",
    "calls['call_date'] = pd.to_datetime(calls['call_date'], format='%Y-%m-%d')\n",
    "calls.info()"
   ]
  },
  {
   "cell_type": "markdown",
   "metadata": {},
   "source": [
    "It also would be a good idea to add a columns for the month and year of the calls. We will need to use this to calculate monthly rates."
   ]
  },
  {
   "cell_type": "code",
   "execution_count": 26,
   "metadata": {},
   "outputs": [
    {
     "data": {
      "text/html": [
       "<div>\n",
       "<style scoped>\n",
       "    .dataframe tbody tr th:only-of-type {\n",
       "        vertical-align: middle;\n",
       "    }\n",
       "\n",
       "    .dataframe tbody tr th {\n",
       "        vertical-align: top;\n",
       "    }\n",
       "\n",
       "    .dataframe thead th {\n",
       "        text-align: right;\n",
       "    }\n",
       "</style>\n",
       "<table border=\"1\" class=\"dataframe\">\n",
       "  <thead>\n",
       "    <tr style=\"text-align: right;\">\n",
       "      <th></th>\n",
       "      <th>user_id</th>\n",
       "      <th>duration</th>\n",
       "      <th>year</th>\n",
       "      <th>month</th>\n",
       "    </tr>\n",
       "  </thead>\n",
       "  <tbody>\n",
       "    <tr>\n",
       "      <th>count</th>\n",
       "      <td>137735.000000</td>\n",
       "      <td>137735.000000</td>\n",
       "      <td>137735.0</td>\n",
       "      <td>137735.000000</td>\n",
       "    </tr>\n",
       "    <tr>\n",
       "      <th>mean</th>\n",
       "      <td>1247.658046</td>\n",
       "      <td>6.745927</td>\n",
       "      <td>2018.0</td>\n",
       "      <td>9.320797</td>\n",
       "    </tr>\n",
       "    <tr>\n",
       "      <th>std</th>\n",
       "      <td>139.416268</td>\n",
       "      <td>5.839241</td>\n",
       "      <td>0.0</td>\n",
       "      <td>2.412550</td>\n",
       "    </tr>\n",
       "    <tr>\n",
       "      <th>min</th>\n",
       "      <td>1000.000000</td>\n",
       "      <td>0.000000</td>\n",
       "      <td>2018.0</td>\n",
       "      <td>1.000000</td>\n",
       "    </tr>\n",
       "    <tr>\n",
       "      <th>25%</th>\n",
       "      <td>1128.000000</td>\n",
       "      <td>1.290000</td>\n",
       "      <td>2018.0</td>\n",
       "      <td>8.000000</td>\n",
       "    </tr>\n",
       "    <tr>\n",
       "      <th>50%</th>\n",
       "      <td>1247.000000</td>\n",
       "      <td>5.980000</td>\n",
       "      <td>2018.0</td>\n",
       "      <td>10.000000</td>\n",
       "    </tr>\n",
       "    <tr>\n",
       "      <th>75%</th>\n",
       "      <td>1365.000000</td>\n",
       "      <td>10.690000</td>\n",
       "      <td>2018.0</td>\n",
       "      <td>11.000000</td>\n",
       "    </tr>\n",
       "    <tr>\n",
       "      <th>max</th>\n",
       "      <td>1499.000000</td>\n",
       "      <td>37.600000</td>\n",
       "      <td>2018.0</td>\n",
       "      <td>12.000000</td>\n",
       "    </tr>\n",
       "  </tbody>\n",
       "</table>\n",
       "</div>"
      ],
      "text/plain": [
       "             user_id       duration      year          month\n",
       "count  137735.000000  137735.000000  137735.0  137735.000000\n",
       "mean     1247.658046       6.745927    2018.0       9.320797\n",
       "std       139.416268       5.839241       0.0       2.412550\n",
       "min      1000.000000       0.000000    2018.0       1.000000\n",
       "25%      1128.000000       1.290000    2018.0       8.000000\n",
       "50%      1247.000000       5.980000    2018.0      10.000000\n",
       "75%      1365.000000      10.690000    2018.0      11.000000\n",
       "max      1499.000000      37.600000    2018.0      12.000000"
      ]
     },
     "execution_count": 26,
     "metadata": {},
     "output_type": "execute_result"
    }
   ],
   "source": [
    "# add year and month columns\n",
    "\n",
    "calls['year'] = pd.DatetimeIndex(calls['call_date']).year\n",
    "calls['month'] = pd.DatetimeIndex(calls['call_date']).month\n",
    "\n",
    "# check dataframe\n",
    "\n",
    "calls.describe()"
   ]
  },
  {
   "cell_type": "markdown",
   "metadata": {},
   "source": [
    "We were told that all the data is from 2018, but it's good to double check, anyway."
   ]
  },
  {
   "cell_type": "markdown",
   "metadata": {},
   "source": [
    "### Enrich data"
   ]
  },
  {
   "cell_type": "markdown",
   "metadata": {},
   "source": [
    "Since our time duration is in minutes, and our minutes will always be rounded up, it might be worthwhile to add a column of what could be called \"effective minutes\" or \"billable time\" that takes the duration values and rounds them up."
   ]
  },
  {
   "cell_type": "code",
   "execution_count": 27,
   "metadata": {},
   "outputs": [
    {
     "data": {
      "text/html": [
       "<div>\n",
       "<style scoped>\n",
       "    .dataframe tbody tr th:only-of-type {\n",
       "        vertical-align: middle;\n",
       "    }\n",
       "\n",
       "    .dataframe tbody tr th {\n",
       "        vertical-align: top;\n",
       "    }\n",
       "\n",
       "    .dataframe thead th {\n",
       "        text-align: right;\n",
       "    }\n",
       "</style>\n",
       "<table border=\"1\" class=\"dataframe\">\n",
       "  <thead>\n",
       "    <tr style=\"text-align: right;\">\n",
       "      <th></th>\n",
       "      <th>id</th>\n",
       "      <th>user_id</th>\n",
       "      <th>call_date</th>\n",
       "      <th>duration</th>\n",
       "      <th>year</th>\n",
       "      <th>month</th>\n",
       "      <th>billable_time</th>\n",
       "    </tr>\n",
       "  </thead>\n",
       "  <tbody>\n",
       "    <tr>\n",
       "      <th>0</th>\n",
       "      <td>1000_93</td>\n",
       "      <td>1000</td>\n",
       "      <td>2018-12-27</td>\n",
       "      <td>8.52</td>\n",
       "      <td>2018</td>\n",
       "      <td>12</td>\n",
       "      <td>9.0</td>\n",
       "    </tr>\n",
       "    <tr>\n",
       "      <th>1</th>\n",
       "      <td>1000_145</td>\n",
       "      <td>1000</td>\n",
       "      <td>2018-12-27</td>\n",
       "      <td>13.66</td>\n",
       "      <td>2018</td>\n",
       "      <td>12</td>\n",
       "      <td>14.0</td>\n",
       "    </tr>\n",
       "    <tr>\n",
       "      <th>2</th>\n",
       "      <td>1000_247</td>\n",
       "      <td>1000</td>\n",
       "      <td>2018-12-27</td>\n",
       "      <td>14.48</td>\n",
       "      <td>2018</td>\n",
       "      <td>12</td>\n",
       "      <td>15.0</td>\n",
       "    </tr>\n",
       "    <tr>\n",
       "      <th>3</th>\n",
       "      <td>1000_309</td>\n",
       "      <td>1000</td>\n",
       "      <td>2018-12-28</td>\n",
       "      <td>5.76</td>\n",
       "      <td>2018</td>\n",
       "      <td>12</td>\n",
       "      <td>6.0</td>\n",
       "    </tr>\n",
       "    <tr>\n",
       "      <th>4</th>\n",
       "      <td>1000_380</td>\n",
       "      <td>1000</td>\n",
       "      <td>2018-12-30</td>\n",
       "      <td>4.22</td>\n",
       "      <td>2018</td>\n",
       "      <td>12</td>\n",
       "      <td>5.0</td>\n",
       "    </tr>\n",
       "  </tbody>\n",
       "</table>\n",
       "</div>"
      ],
      "text/plain": [
       "         id  user_id  call_date  duration  year  month  billable_time\n",
       "0   1000_93     1000 2018-12-27      8.52  2018     12            9.0\n",
       "1  1000_145     1000 2018-12-27     13.66  2018     12           14.0\n",
       "2  1000_247     1000 2018-12-27     14.48  2018     12           15.0\n",
       "3  1000_309     1000 2018-12-28      5.76  2018     12            6.0\n",
       "4  1000_380     1000 2018-12-30      4.22  2018     12            5.0"
      ]
     },
     "execution_count": 27,
     "metadata": {},
     "output_type": "execute_result"
    }
   ],
   "source": [
    "# add minutes rounded up column\n",
    "\n",
    "calls['billable_time'] = calls['duration'].apply(np.ceil)\n",
    "calls.head()"
   ]
  },
  {
   "cell_type": "markdown",
   "metadata": {},
   "source": [
    "We will check for duplicates."
   ]
  },
  {
   "cell_type": "code",
   "execution_count": 28,
   "metadata": {},
   "outputs": [
    {
     "data": {
      "text/plain": [
       "False    137735\n",
       "dtype: int64"
      ]
     },
     "execution_count": 28,
     "metadata": {},
     "output_type": "execute_result"
    }
   ],
   "source": [
    "# check for duplicates\n",
    "\n",
    "calls.duplicated().value_counts()"
   ]
  },
  {
   "cell_type": "markdown",
   "metadata": {},
   "source": [
    "## Messages"
   ]
  },
  {
   "cell_type": "code",
   "execution_count": 29,
   "metadata": {},
   "outputs": [
    {
     "name": "stdout",
     "output_type": "stream",
     "text": [
      "<class 'pandas.core.frame.DataFrame'>\n",
      "RangeIndex: 76051 entries, 0 to 76050\n",
      "Data columns (total 3 columns):\n",
      " #   Column        Non-Null Count  Dtype \n",
      "---  ------        --------------  ----- \n",
      " 0   id            76051 non-null  object\n",
      " 1   user_id       76051 non-null  int64 \n",
      " 2   message_date  76051 non-null  object\n",
      "dtypes: int64(1), object(2)\n",
      "memory usage: 1.7+ MB\n"
     ]
    }
   ],
   "source": [
    "# Print the general/summary information about the messages' DataFrame\n",
    "\n",
    "messages.info()"
   ]
  },
  {
   "cell_type": "code",
   "execution_count": 30,
   "metadata": {},
   "outputs": [
    {
     "data": {
      "text/html": [
       "<div>\n",
       "<style scoped>\n",
       "    .dataframe tbody tr th:only-of-type {\n",
       "        vertical-align: middle;\n",
       "    }\n",
       "\n",
       "    .dataframe tbody tr th {\n",
       "        vertical-align: top;\n",
       "    }\n",
       "\n",
       "    .dataframe thead th {\n",
       "        text-align: right;\n",
       "    }\n",
       "</style>\n",
       "<table border=\"1\" class=\"dataframe\">\n",
       "  <thead>\n",
       "    <tr style=\"text-align: right;\">\n",
       "      <th></th>\n",
       "      <th>id</th>\n",
       "      <th>user_id</th>\n",
       "      <th>message_date</th>\n",
       "    </tr>\n",
       "  </thead>\n",
       "  <tbody>\n",
       "    <tr>\n",
       "      <th>0</th>\n",
       "      <td>1000_125</td>\n",
       "      <td>1000</td>\n",
       "      <td>2018-12-27</td>\n",
       "    </tr>\n",
       "    <tr>\n",
       "      <th>1</th>\n",
       "      <td>1000_160</td>\n",
       "      <td>1000</td>\n",
       "      <td>2018-12-31</td>\n",
       "    </tr>\n",
       "    <tr>\n",
       "      <th>2</th>\n",
       "      <td>1000_223</td>\n",
       "      <td>1000</td>\n",
       "      <td>2018-12-31</td>\n",
       "    </tr>\n",
       "    <tr>\n",
       "      <th>3</th>\n",
       "      <td>1000_251</td>\n",
       "      <td>1000</td>\n",
       "      <td>2018-12-27</td>\n",
       "    </tr>\n",
       "    <tr>\n",
       "      <th>4</th>\n",
       "      <td>1000_255</td>\n",
       "      <td>1000</td>\n",
       "      <td>2018-12-26</td>\n",
       "    </tr>\n",
       "  </tbody>\n",
       "</table>\n",
       "</div>"
      ],
      "text/plain": [
       "         id  user_id message_date\n",
       "0  1000_125     1000   2018-12-27\n",
       "1  1000_160     1000   2018-12-31\n",
       "2  1000_223     1000   2018-12-31\n",
       "3  1000_251     1000   2018-12-27\n",
       "4  1000_255     1000   2018-12-26"
      ]
     },
     "execution_count": 30,
     "metadata": {},
     "output_type": "execute_result"
    }
   ],
   "source": [
    "# Print a sample of data for messages\n",
    "\n",
    "messages.head()"
   ]
  },
  {
   "cell_type": "markdown",
   "metadata": {},
   "source": [
    "With this, messages is also in order."
   ]
  },
  {
   "cell_type": "markdown",
   "metadata": {},
   "source": [
    "### Fix data"
   ]
  },
  {
   "cell_type": "markdown",
   "metadata": {},
   "source": [
    "Like our prior data, we need to reformat the dates."
   ]
  },
  {
   "cell_type": "code",
   "execution_count": 31,
   "metadata": {},
   "outputs": [
    {
     "name": "stdout",
     "output_type": "stream",
     "text": [
      "<class 'pandas.core.frame.DataFrame'>\n",
      "RangeIndex: 76051 entries, 0 to 76050\n",
      "Data columns (total 3 columns):\n",
      " #   Column        Non-Null Count  Dtype         \n",
      "---  ------        --------------  -----         \n",
      " 0   id            76051 non-null  object        \n",
      " 1   user_id       76051 non-null  int64         \n",
      " 2   message_date  76051 non-null  datetime64[ns]\n",
      "dtypes: datetime64[ns](1), int64(1), object(1)\n",
      "memory usage: 1.7+ MB\n"
     ]
    }
   ],
   "source": [
    "# convert to datetime\n",
    "\n",
    "messages['message_date'] = pd.to_datetime(messages['message_date'], format='%Y-%m-%d')\n",
    "messages.info()"
   ]
  },
  {
   "cell_type": "markdown",
   "metadata": {},
   "source": [
    "We also need to check the year and month."
   ]
  },
  {
   "cell_type": "code",
   "execution_count": 32,
   "metadata": {},
   "outputs": [
    {
     "data": {
      "text/html": [
       "<div>\n",
       "<style scoped>\n",
       "    .dataframe tbody tr th:only-of-type {\n",
       "        vertical-align: middle;\n",
       "    }\n",
       "\n",
       "    .dataframe tbody tr th {\n",
       "        vertical-align: top;\n",
       "    }\n",
       "\n",
       "    .dataframe thead th {\n",
       "        text-align: right;\n",
       "    }\n",
       "</style>\n",
       "<table border=\"1\" class=\"dataframe\">\n",
       "  <thead>\n",
       "    <tr style=\"text-align: right;\">\n",
       "      <th></th>\n",
       "      <th>user_id</th>\n",
       "      <th>year</th>\n",
       "      <th>month</th>\n",
       "    </tr>\n",
       "  </thead>\n",
       "  <tbody>\n",
       "    <tr>\n",
       "      <th>count</th>\n",
       "      <td>76051.000000</td>\n",
       "      <td>76051.0</td>\n",
       "      <td>76051.000000</td>\n",
       "    </tr>\n",
       "    <tr>\n",
       "      <th>mean</th>\n",
       "      <td>1245.972768</td>\n",
       "      <td>2018.0</td>\n",
       "      <td>9.584016</td>\n",
       "    </tr>\n",
       "    <tr>\n",
       "      <th>std</th>\n",
       "      <td>139.843635</td>\n",
       "      <td>0.0</td>\n",
       "      <td>2.276392</td>\n",
       "    </tr>\n",
       "    <tr>\n",
       "      <th>min</th>\n",
       "      <td>1000.000000</td>\n",
       "      <td>2018.0</td>\n",
       "      <td>1.000000</td>\n",
       "    </tr>\n",
       "    <tr>\n",
       "      <th>25%</th>\n",
       "      <td>1123.000000</td>\n",
       "      <td>2018.0</td>\n",
       "      <td>8.000000</td>\n",
       "    </tr>\n",
       "    <tr>\n",
       "      <th>50%</th>\n",
       "      <td>1251.000000</td>\n",
       "      <td>2018.0</td>\n",
       "      <td>10.000000</td>\n",
       "    </tr>\n",
       "    <tr>\n",
       "      <th>75%</th>\n",
       "      <td>1362.000000</td>\n",
       "      <td>2018.0</td>\n",
       "      <td>12.000000</td>\n",
       "    </tr>\n",
       "    <tr>\n",
       "      <th>max</th>\n",
       "      <td>1497.000000</td>\n",
       "      <td>2018.0</td>\n",
       "      <td>12.000000</td>\n",
       "    </tr>\n",
       "  </tbody>\n",
       "</table>\n",
       "</div>"
      ],
      "text/plain": [
       "            user_id     year         month\n",
       "count  76051.000000  76051.0  76051.000000\n",
       "mean    1245.972768   2018.0      9.584016\n",
       "std      139.843635      0.0      2.276392\n",
       "min     1000.000000   2018.0      1.000000\n",
       "25%     1123.000000   2018.0      8.000000\n",
       "50%     1251.000000   2018.0     10.000000\n",
       "75%     1362.000000   2018.0     12.000000\n",
       "max     1497.000000   2018.0     12.000000"
      ]
     },
     "execution_count": 32,
     "metadata": {},
     "output_type": "execute_result"
    }
   ],
   "source": [
    "# separate into year and month\n",
    "\n",
    "messages['year'] = pd.DatetimeIndex(messages['message_date']).year\n",
    "messages['month'] = pd.DatetimeIndex(messages['message_date']).month\n",
    "\n",
    "# check dataframe\n",
    "\n",
    "messages.describe()"
   ]
  },
  {
   "cell_type": "markdown",
   "metadata": {},
   "source": [
    "Again, our data shows it is only over the year of 2018. Just one more set and we can be certain."
   ]
  },
  {
   "cell_type": "markdown",
   "metadata": {},
   "source": [
    "### Enrich data"
   ]
  },
  {
   "cell_type": "markdown",
   "metadata": {},
   "source": [
    "It might seem like an oversight to not include a fourth column that is related to message size (either in characters or in data) but the pricing plan is based on number of messages, so that is not an issue. It isn't like text files can get particularly large, anyway.\n",
    "\n",
    "We should check for the duplicates."
   ]
  },
  {
   "cell_type": "code",
   "execution_count": 33,
   "metadata": {},
   "outputs": [
    {
     "data": {
      "text/plain": [
       "False    76051\n",
       "dtype: int64"
      ]
     },
     "execution_count": 33,
     "metadata": {},
     "output_type": "execute_result"
    }
   ],
   "source": [
    "# check for duplicates\n",
    "\n",
    "messages.duplicated().value_counts()"
   ]
  },
  {
   "cell_type": "markdown",
   "metadata": {},
   "source": [
    "There are no duplicates."
   ]
  },
  {
   "cell_type": "markdown",
   "metadata": {},
   "source": [
    "## Internet"
   ]
  },
  {
   "cell_type": "code",
   "execution_count": 34,
   "metadata": {},
   "outputs": [
    {
     "name": "stdout",
     "output_type": "stream",
     "text": [
      "<class 'pandas.core.frame.DataFrame'>\n",
      "RangeIndex: 104825 entries, 0 to 104824\n",
      "Data columns (total 4 columns):\n",
      " #   Column        Non-Null Count   Dtype  \n",
      "---  ------        --------------   -----  \n",
      " 0   id            104825 non-null  object \n",
      " 1   user_id       104825 non-null  int64  \n",
      " 2   session_date  104825 non-null  object \n",
      " 3   mb_used       104825 non-null  float64\n",
      "dtypes: float64(1), int64(1), object(2)\n",
      "memory usage: 3.2+ MB\n"
     ]
    }
   ],
   "source": [
    "# Print the general/summary information about the internet DataFrame\n",
    "\n",
    "internet.info()"
   ]
  },
  {
   "cell_type": "code",
   "execution_count": 35,
   "metadata": {},
   "outputs": [
    {
     "data": {
      "text/html": [
       "<div>\n",
       "<style scoped>\n",
       "    .dataframe tbody tr th:only-of-type {\n",
       "        vertical-align: middle;\n",
       "    }\n",
       "\n",
       "    .dataframe tbody tr th {\n",
       "        vertical-align: top;\n",
       "    }\n",
       "\n",
       "    .dataframe thead th {\n",
       "        text-align: right;\n",
       "    }\n",
       "</style>\n",
       "<table border=\"1\" class=\"dataframe\">\n",
       "  <thead>\n",
       "    <tr style=\"text-align: right;\">\n",
       "      <th></th>\n",
       "      <th>id</th>\n",
       "      <th>user_id</th>\n",
       "      <th>session_date</th>\n",
       "      <th>mb_used</th>\n",
       "    </tr>\n",
       "  </thead>\n",
       "  <tbody>\n",
       "    <tr>\n",
       "      <th>0</th>\n",
       "      <td>1000_13</td>\n",
       "      <td>1000</td>\n",
       "      <td>2018-12-29</td>\n",
       "      <td>89.86</td>\n",
       "    </tr>\n",
       "    <tr>\n",
       "      <th>1</th>\n",
       "      <td>1000_204</td>\n",
       "      <td>1000</td>\n",
       "      <td>2018-12-31</td>\n",
       "      <td>0.00</td>\n",
       "    </tr>\n",
       "    <tr>\n",
       "      <th>2</th>\n",
       "      <td>1000_379</td>\n",
       "      <td>1000</td>\n",
       "      <td>2018-12-28</td>\n",
       "      <td>660.40</td>\n",
       "    </tr>\n",
       "    <tr>\n",
       "      <th>3</th>\n",
       "      <td>1000_413</td>\n",
       "      <td>1000</td>\n",
       "      <td>2018-12-26</td>\n",
       "      <td>270.99</td>\n",
       "    </tr>\n",
       "    <tr>\n",
       "      <th>4</th>\n",
       "      <td>1000_442</td>\n",
       "      <td>1000</td>\n",
       "      <td>2018-12-27</td>\n",
       "      <td>880.22</td>\n",
       "    </tr>\n",
       "  </tbody>\n",
       "</table>\n",
       "</div>"
      ],
      "text/plain": [
       "         id  user_id session_date  mb_used\n",
       "0   1000_13     1000   2018-12-29    89.86\n",
       "1  1000_204     1000   2018-12-31     0.00\n",
       "2  1000_379     1000   2018-12-28   660.40\n",
       "3  1000_413     1000   2018-12-26   270.99\n",
       "4  1000_442     1000   2018-12-27   880.22"
      ]
     },
     "execution_count": 35,
     "metadata": {},
     "output_type": "execute_result"
    }
   ],
   "source": [
    "# Print a sample of data for the internet traffic\n",
    "\n",
    "internet.head()"
   ]
  },
  {
   "cell_type": "markdown",
   "metadata": {},
   "source": [
    "The look of our internet data frame is the same as our others. We can see here that each data frame seems to be of different lengths, because they are all measured based on user activity, but that is not necessarily a problem. It might seem odd that there are fewer internet sessions than phone calls, as generally it could be assumed that people are more likely to use the internet on a daily basis than they are to have phone calls, but that is not our place to psss judgment."
   ]
  },
  {
   "cell_type": "markdown",
   "metadata": {},
   "source": [
    "### Fix data"
   ]
  },
  {
   "cell_type": "markdown",
   "metadata": {},
   "source": [
    "Convert to datetime."
   ]
  },
  {
   "cell_type": "code",
   "execution_count": 36,
   "metadata": {},
   "outputs": [
    {
     "name": "stdout",
     "output_type": "stream",
     "text": [
      "<class 'pandas.core.frame.DataFrame'>\n",
      "RangeIndex: 104825 entries, 0 to 104824\n",
      "Data columns (total 4 columns):\n",
      " #   Column        Non-Null Count   Dtype         \n",
      "---  ------        --------------   -----         \n",
      " 0   id            104825 non-null  object        \n",
      " 1   user_id       104825 non-null  int64         \n",
      " 2   session_date  104825 non-null  datetime64[ns]\n",
      " 3   mb_used       104825 non-null  float64       \n",
      "dtypes: datetime64[ns](1), float64(1), int64(1), object(1)\n",
      "memory usage: 3.2+ MB\n"
     ]
    }
   ],
   "source": [
    "# convert to datetime\n",
    "\n",
    "internet['session_date'] = pd.to_datetime(internet['session_date'], format='%Y-%m-%d')\n",
    "internet.info()"
   ]
  },
  {
   "cell_type": "markdown",
   "metadata": {},
   "source": [
    "Check year/month."
   ]
  },
  {
   "cell_type": "code",
   "execution_count": 37,
   "metadata": {},
   "outputs": [
    {
     "data": {
      "text/html": [
       "<div>\n",
       "<style scoped>\n",
       "    .dataframe tbody tr th:only-of-type {\n",
       "        vertical-align: middle;\n",
       "    }\n",
       "\n",
       "    .dataframe tbody tr th {\n",
       "        vertical-align: top;\n",
       "    }\n",
       "\n",
       "    .dataframe thead th {\n",
       "        text-align: right;\n",
       "    }\n",
       "</style>\n",
       "<table border=\"1\" class=\"dataframe\">\n",
       "  <thead>\n",
       "    <tr style=\"text-align: right;\">\n",
       "      <th></th>\n",
       "      <th>user_id</th>\n",
       "      <th>mb_used</th>\n",
       "      <th>year</th>\n",
       "      <th>month</th>\n",
       "    </tr>\n",
       "  </thead>\n",
       "  <tbody>\n",
       "    <tr>\n",
       "      <th>count</th>\n",
       "      <td>104825.000000</td>\n",
       "      <td>104825.000000</td>\n",
       "      <td>104825.0</td>\n",
       "      <td>104825.000000</td>\n",
       "    </tr>\n",
       "    <tr>\n",
       "      <th>mean</th>\n",
       "      <td>1242.496361</td>\n",
       "      <td>366.713701</td>\n",
       "      <td>2018.0</td>\n",
       "      <td>9.342552</td>\n",
       "    </tr>\n",
       "    <tr>\n",
       "      <th>std</th>\n",
       "      <td>142.053913</td>\n",
       "      <td>277.170542</td>\n",
       "      <td>0.0</td>\n",
       "      <td>2.400404</td>\n",
       "    </tr>\n",
       "    <tr>\n",
       "      <th>min</th>\n",
       "      <td>1000.000000</td>\n",
       "      <td>0.000000</td>\n",
       "      <td>2018.0</td>\n",
       "      <td>1.000000</td>\n",
       "    </tr>\n",
       "    <tr>\n",
       "      <th>25%</th>\n",
       "      <td>1122.000000</td>\n",
       "      <td>136.080000</td>\n",
       "      <td>2018.0</td>\n",
       "      <td>8.000000</td>\n",
       "    </tr>\n",
       "    <tr>\n",
       "      <th>50%</th>\n",
       "      <td>1236.000000</td>\n",
       "      <td>343.980000</td>\n",
       "      <td>2018.0</td>\n",
       "      <td>10.000000</td>\n",
       "    </tr>\n",
       "    <tr>\n",
       "      <th>75%</th>\n",
       "      <td>1367.000000</td>\n",
       "      <td>554.610000</td>\n",
       "      <td>2018.0</td>\n",
       "      <td>11.000000</td>\n",
       "    </tr>\n",
       "    <tr>\n",
       "      <th>max</th>\n",
       "      <td>1499.000000</td>\n",
       "      <td>1693.470000</td>\n",
       "      <td>2018.0</td>\n",
       "      <td>12.000000</td>\n",
       "    </tr>\n",
       "  </tbody>\n",
       "</table>\n",
       "</div>"
      ],
      "text/plain": [
       "             user_id        mb_used      year          month\n",
       "count  104825.000000  104825.000000  104825.0  104825.000000\n",
       "mean     1242.496361     366.713701    2018.0       9.342552\n",
       "std       142.053913     277.170542       0.0       2.400404\n",
       "min      1000.000000       0.000000    2018.0       1.000000\n",
       "25%      1122.000000     136.080000    2018.0       8.000000\n",
       "50%      1236.000000     343.980000    2018.0      10.000000\n",
       "75%      1367.000000     554.610000    2018.0      11.000000\n",
       "max      1499.000000    1693.470000    2018.0      12.000000"
      ]
     },
     "execution_count": 37,
     "metadata": {},
     "output_type": "execute_result"
    }
   ],
   "source": [
    "# add year and month\n",
    "\n",
    "internet['year'] = pd.DatetimeIndex(internet['session_date']).year\n",
    "internet['month'] = pd.DatetimeIndex(internet['session_date']).month\n",
    "\n",
    "# check data frame\n",
    "\n",
    "internet.describe()"
   ]
  },
  {
   "cell_type": "markdown",
   "metadata": {},
   "source": [
    "### Enrich data"
   ]
  },
  {
   "cell_type": "markdown",
   "metadata": {},
   "source": [
    "While we have calculated the billable minutes per month for the phone call data, there is no need to do something similar in the internet usage since the usage is tracked across all sessions rather than per session. We will want to convert to GB eventually, but since that is something that is measured at the end of the month, it is something we should do when we group our data by month.\n",
    "\n",
    "Instead, we will do our standard check for duplicates."
   ]
  },
  {
   "cell_type": "code",
   "execution_count": 38,
   "metadata": {},
   "outputs": [
    {
     "data": {
      "text/plain": [
       "False    104825\n",
       "dtype: int64"
      ]
     },
     "execution_count": 38,
     "metadata": {},
     "output_type": "execute_result"
    }
   ],
   "source": [
    "# check for duplicates\n",
    "\n",
    "internet.duplicated().value_counts()"
   ]
  },
  {
   "cell_type": "markdown",
   "metadata": {},
   "source": [
    "With that, we can safely say that the data collection process is working rather well. No missing values, no duplicates, and no values with the wrong year. This means that we can move right along to our next step, where we use these five data frames to make one that we can have all the information we need easily accessible."
   ]
  },
  {
   "cell_type": "markdown",
   "metadata": {},
   "source": [
    "<div class=\"alert alert-success\">\n",
    "<h2> Reviewer's comment</h2>\n",
    "\n",
    "I'm very happy to see your good use of techniques to fix and enrich the data. Nicely done with the Users data set where you used date format, boolean data type, and fill in NA.\n",
    "    \n",
    "The data was converted to necesary types, and data preprocessing was nicely done. \n",
    "    \n",
    "    \n",
    "\n",
    "</div>"
   ]
  },
  {
   "cell_type": "markdown",
   "metadata": {},
   "source": [
    "<div class=\"alert alert-block alert-success\">\n",
    "<b>Senior Reviewer's comment</b> <a class=\"tocSkip\"></a>\n",
    "    \n",
    "The more green the more the student gets happy\n",
    "</div>"
   ]
  },
  {
   "cell_type": "markdown",
   "metadata": {},
   "source": [
    "## Study plan conditions"
   ]
  },
  {
   "cell_type": "markdown",
   "metadata": {},
   "source": [
    "To recap the conditions of the plans for each user, we will print out the plan conditions and have them here for reference."
   ]
  },
  {
   "cell_type": "code",
   "execution_count": 39,
   "metadata": {},
   "outputs": [
    {
     "data": {
      "text/html": [
       "<div>\n",
       "<style scoped>\n",
       "    .dataframe tbody tr th:only-of-type {\n",
       "        vertical-align: middle;\n",
       "    }\n",
       "\n",
       "    .dataframe tbody tr th {\n",
       "        vertical-align: top;\n",
       "    }\n",
       "\n",
       "    .dataframe thead th {\n",
       "        text-align: right;\n",
       "    }\n",
       "</style>\n",
       "<table border=\"1\" class=\"dataframe\">\n",
       "  <thead>\n",
       "    <tr style=\"text-align: right;\">\n",
       "      <th></th>\n",
       "      <th>messages_included</th>\n",
       "      <th>mb_per_month_included</th>\n",
       "      <th>minutes_included</th>\n",
       "      <th>usd_monthly_pay</th>\n",
       "      <th>usd_per_gb</th>\n",
       "      <th>usd_per_message</th>\n",
       "      <th>usd_per_minute</th>\n",
       "      <th>plan_name</th>\n",
       "      <th>gb_per_month_included</th>\n",
       "    </tr>\n",
       "  </thead>\n",
       "  <tbody>\n",
       "    <tr>\n",
       "      <th>0</th>\n",
       "      <td>50</td>\n",
       "      <td>15360</td>\n",
       "      <td>500</td>\n",
       "      <td>20</td>\n",
       "      <td>10</td>\n",
       "      <td>0.03</td>\n",
       "      <td>0.03</td>\n",
       "      <td>surf</td>\n",
       "      <td>15.36</td>\n",
       "    </tr>\n",
       "    <tr>\n",
       "      <th>1</th>\n",
       "      <td>1000</td>\n",
       "      <td>30720</td>\n",
       "      <td>3000</td>\n",
       "      <td>70</td>\n",
       "      <td>7</td>\n",
       "      <td>0.01</td>\n",
       "      <td>0.01</td>\n",
       "      <td>ultimate</td>\n",
       "      <td>30.72</td>\n",
       "    </tr>\n",
       "  </tbody>\n",
       "</table>\n",
       "</div>"
      ],
      "text/plain": [
       "   messages_included  mb_per_month_included  minutes_included  \\\n",
       "0                 50                  15360               500   \n",
       "1               1000                  30720              3000   \n",
       "\n",
       "   usd_monthly_pay  usd_per_gb  usd_per_message  usd_per_minute plan_name  \\\n",
       "0               20          10             0.03            0.03      surf   \n",
       "1               70           7             0.01            0.01  ultimate   \n",
       "\n",
       "   gb_per_month_included  \n",
       "0                  15.36  \n",
       "1                  30.72  "
      ]
     },
     "execution_count": 39,
     "metadata": {},
     "output_type": "execute_result"
    }
   ],
   "source": [
    "# plan conditions\n",
    "\n",
    "plans"
   ]
  },
  {
   "cell_type": "markdown",
   "metadata": {},
   "source": [
    "**Surf Plan**\n",
    "\n",
    "* \\$20 per month\n",
    "* Texts: 50 included, then each subsequent text is \\$0.03\n",
    "* Internet: 15GB (15360MB) included, then each subsequent GB (1024MB) is \\$10\n",
    "* Phone: 500 minutes (8.3 hours) included, then each subsequent minute is \\$0.03\n",
    "\n",
    "**Ultimate Plan**\n",
    "\n",
    "* \\$70 per month\n",
    "* Texts: 1000 included, then each subsequent text is \\$0.01\n",
    "* Internet: 30GB (30720) included, then each subsequent GB (1024MB) is \\$7\n",
    "* Phone: 3000 minutes (50 hours) included, then each subsequent minute is \\$0.03\n",
    "\n",
    "**All GB and minutes are rounded up. Minutes are rounded up per call, GB is rounded up at the end of the month.**"
   ]
  },
  {
   "cell_type": "markdown",
   "metadata": {},
   "source": [
    "## Aggregate data per user\n",
    "\n",
    "Now that the data is clean, we need to arrange it all into a usable record for each pay period. What this means is that we need a data frame that has each user's usage of phone calls, text messages, and internet data for each month. To do this, we will be making one large data frame that contains all of the data and then pruning it into the areas where we are interested.\n",
    "\n",
    "To aggregate our data per user, we will need to group by their ID and by month. This will be easily accomplished using a pivot table. In order to make the pivot table more agreeable with our data, we also will have to convert it back to a data frame using [.reset_index]."
   ]
  },
  {
   "cell_type": "markdown",
   "metadata": {},
   "source": [
    "### Aggregate calls"
   ]
  },
  {
   "cell_type": "code",
   "execution_count": 40,
   "metadata": {},
   "outputs": [
    {
     "data": {
      "text/html": [
       "<div>\n",
       "<style scoped>\n",
       "    .dataframe tbody tr th:only-of-type {\n",
       "        vertical-align: middle;\n",
       "    }\n",
       "\n",
       "    .dataframe tbody tr th {\n",
       "        vertical-align: top;\n",
       "    }\n",
       "\n",
       "    .dataframe thead th {\n",
       "        text-align: right;\n",
       "    }\n",
       "</style>\n",
       "<table border=\"1\" class=\"dataframe\">\n",
       "  <thead>\n",
       "    <tr style=\"text-align: right;\">\n",
       "      <th></th>\n",
       "      <th>user_id</th>\n",
       "      <th>month</th>\n",
       "      <th>id</th>\n",
       "    </tr>\n",
       "  </thead>\n",
       "  <tbody>\n",
       "    <tr>\n",
       "      <th>0</th>\n",
       "      <td>1000</td>\n",
       "      <td>12</td>\n",
       "      <td>16</td>\n",
       "    </tr>\n",
       "    <tr>\n",
       "      <th>1</th>\n",
       "      <td>1001</td>\n",
       "      <td>8</td>\n",
       "      <td>27</td>\n",
       "    </tr>\n",
       "    <tr>\n",
       "      <th>2</th>\n",
       "      <td>1001</td>\n",
       "      <td>9</td>\n",
       "      <td>49</td>\n",
       "    </tr>\n",
       "    <tr>\n",
       "      <th>3</th>\n",
       "      <td>1001</td>\n",
       "      <td>10</td>\n",
       "      <td>65</td>\n",
       "    </tr>\n",
       "    <tr>\n",
       "      <th>4</th>\n",
       "      <td>1001</td>\n",
       "      <td>11</td>\n",
       "      <td>64</td>\n",
       "    </tr>\n",
       "    <tr>\n",
       "      <th>...</th>\n",
       "      <td>...</td>\n",
       "      <td>...</td>\n",
       "      <td>...</td>\n",
       "    </tr>\n",
       "    <tr>\n",
       "      <th>2253</th>\n",
       "      <td>1498</td>\n",
       "      <td>12</td>\n",
       "      <td>39</td>\n",
       "    </tr>\n",
       "    <tr>\n",
       "      <th>2254</th>\n",
       "      <td>1499</td>\n",
       "      <td>9</td>\n",
       "      <td>41</td>\n",
       "    </tr>\n",
       "    <tr>\n",
       "      <th>2255</th>\n",
       "      <td>1499</td>\n",
       "      <td>10</td>\n",
       "      <td>53</td>\n",
       "    </tr>\n",
       "    <tr>\n",
       "      <th>2256</th>\n",
       "      <td>1499</td>\n",
       "      <td>11</td>\n",
       "      <td>45</td>\n",
       "    </tr>\n",
       "    <tr>\n",
       "      <th>2257</th>\n",
       "      <td>1499</td>\n",
       "      <td>12</td>\n",
       "      <td>65</td>\n",
       "    </tr>\n",
       "  </tbody>\n",
       "</table>\n",
       "<p>2258 rows × 3 columns</p>\n",
       "</div>"
      ],
      "text/plain": [
       "      user_id  month  id\n",
       "0        1000     12  16\n",
       "1        1001      8  27\n",
       "2        1001      9  49\n",
       "3        1001     10  65\n",
       "4        1001     11  64\n",
       "...       ...    ...  ..\n",
       "2253     1498     12  39\n",
       "2254     1499      9  41\n",
       "2255     1499     10  53\n",
       "2256     1499     11  45\n",
       "2257     1499     12  65\n",
       "\n",
       "[2258 rows x 3 columns]"
      ]
     },
     "execution_count": 40,
     "metadata": {},
     "output_type": "execute_result"
    }
   ],
   "source": [
    "# Calculate the number of calls made by each user per month. Save the result.\n",
    "\n",
    "calls_per_month = calls.pivot_table(\n",
    "    index=['user_id', 'month'], \n",
    "    values = 'id', \n",
    "    aggfunc='count', \n",
    "    margins=False).reset_index()\n",
    "calls_per_month"
   ]
  },
  {
   "cell_type": "markdown",
   "metadata": {},
   "source": [
    "The pivot table will be workable for our data set, but we should also print out some descriptive statistics to get a good idea of what sort of results we have."
   ]
  },
  {
   "cell_type": "code",
   "execution_count": 41,
   "metadata": {},
   "outputs": [
    {
     "data": {
      "text/html": [
       "<div>\n",
       "<style scoped>\n",
       "    .dataframe tbody tr th:only-of-type {\n",
       "        vertical-align: middle;\n",
       "    }\n",
       "\n",
       "    .dataframe tbody tr th {\n",
       "        vertical-align: top;\n",
       "    }\n",
       "\n",
       "    .dataframe thead th {\n",
       "        text-align: right;\n",
       "    }\n",
       "</style>\n",
       "<table border=\"1\" class=\"dataframe\">\n",
       "  <thead>\n",
       "    <tr style=\"text-align: right;\">\n",
       "      <th></th>\n",
       "      <th>user_id</th>\n",
       "      <th>month</th>\n",
       "      <th>id</th>\n",
       "    </tr>\n",
       "  </thead>\n",
       "  <tbody>\n",
       "    <tr>\n",
       "      <th>count</th>\n",
       "      <td>2258.000000</td>\n",
       "      <td>2258.000000</td>\n",
       "      <td>2258.000000</td>\n",
       "    </tr>\n",
       "    <tr>\n",
       "      <th>mean</th>\n",
       "      <td>1247.175819</td>\n",
       "      <td>9.167405</td>\n",
       "      <td>60.998671</td>\n",
       "    </tr>\n",
       "    <tr>\n",
       "      <th>std</th>\n",
       "      <td>143.344211</td>\n",
       "      <td>2.495785</td>\n",
       "      <td>31.770869</td>\n",
       "    </tr>\n",
       "    <tr>\n",
       "      <th>min</th>\n",
       "      <td>1000.000000</td>\n",
       "      <td>1.000000</td>\n",
       "      <td>1.000000</td>\n",
       "    </tr>\n",
       "    <tr>\n",
       "      <th>25%</th>\n",
       "      <td>1122.000000</td>\n",
       "      <td>8.000000</td>\n",
       "      <td>39.000000</td>\n",
       "    </tr>\n",
       "    <tr>\n",
       "      <th>50%</th>\n",
       "      <td>1246.000000</td>\n",
       "      <td>10.000000</td>\n",
       "      <td>60.000000</td>\n",
       "    </tr>\n",
       "    <tr>\n",
       "      <th>75%</th>\n",
       "      <td>1370.000000</td>\n",
       "      <td>11.000000</td>\n",
       "      <td>80.000000</td>\n",
       "    </tr>\n",
       "    <tr>\n",
       "      <th>max</th>\n",
       "      <td>1499.000000</td>\n",
       "      <td>12.000000</td>\n",
       "      <td>205.000000</td>\n",
       "    </tr>\n",
       "  </tbody>\n",
       "</table>\n",
       "</div>"
      ],
      "text/plain": [
       "           user_id        month           id\n",
       "count  2258.000000  2258.000000  2258.000000\n",
       "mean   1247.175819     9.167405    60.998671\n",
       "std     143.344211     2.495785    31.770869\n",
       "min    1000.000000     1.000000     1.000000\n",
       "25%    1122.000000     8.000000    39.000000\n",
       "50%    1246.000000    10.000000    60.000000\n",
       "75%    1370.000000    11.000000    80.000000\n",
       "max    1499.000000    12.000000   205.000000"
      ]
     },
     "execution_count": 41,
     "metadata": {},
     "output_type": "execute_result"
    }
   ],
   "source": [
    "# view data\n",
    "\n",
    "calls_per_month.describe()"
   ]
  },
  {
   "cell_type": "markdown",
   "metadata": {},
   "source": [
    "We see here a bit of an issue, in that there are people who do not make any phone calls could, and probably should, be included in our analysis, but since they do not make any calls, they are not reflected in the data set. The minimum value is 1. As such, it would probably be a better idea to create a new data set, starting with our 'users' data frame, that will aggregate their monthly usage rates.\n",
    "\n",
    "The 'users' data frame will also serve to be a good place where we can throw all of our data to be cleaned up once it is filled."
   ]
  },
  {
   "cell_type": "code",
   "execution_count": 42,
   "metadata": {},
   "outputs": [
    {
     "data": {
      "text/html": [
       "<div>\n",
       "<style scoped>\n",
       "    .dataframe tbody tr th:only-of-type {\n",
       "        vertical-align: middle;\n",
       "    }\n",
       "\n",
       "    .dataframe tbody tr th {\n",
       "        vertical-align: top;\n",
       "    }\n",
       "\n",
       "    .dataframe thead th {\n",
       "        text-align: right;\n",
       "    }\n",
       "</style>\n",
       "<table border=\"1\" class=\"dataframe\">\n",
       "  <thead>\n",
       "    <tr style=\"text-align: right;\">\n",
       "      <th></th>\n",
       "      <th>user_id</th>\n",
       "      <th>first_name</th>\n",
       "      <th>last_name</th>\n",
       "      <th>age</th>\n",
       "      <th>city</th>\n",
       "      <th>reg_date</th>\n",
       "      <th>plan</th>\n",
       "      <th>churn_date</th>\n",
       "      <th>is_cancelled</th>\n",
       "      <th>month</th>\n",
       "      <th>calls</th>\n",
       "    </tr>\n",
       "  </thead>\n",
       "  <tbody>\n",
       "    <tr>\n",
       "      <th>0</th>\n",
       "      <td>1000</td>\n",
       "      <td>Anamaria</td>\n",
       "      <td>Bauer</td>\n",
       "      <td>45</td>\n",
       "      <td>Atlanta-Sandy Springs-Roswell, GA MSA</td>\n",
       "      <td>2018-12-24</td>\n",
       "      <td>ultimate</td>\n",
       "      <td>1900-01-01</td>\n",
       "      <td>False</td>\n",
       "      <td>12.0</td>\n",
       "      <td>16.0</td>\n",
       "    </tr>\n",
       "    <tr>\n",
       "      <th>1</th>\n",
       "      <td>1001</td>\n",
       "      <td>Mickey</td>\n",
       "      <td>Wilkerson</td>\n",
       "      <td>28</td>\n",
       "      <td>Seattle-Tacoma-Bellevue, WA MSA</td>\n",
       "      <td>2018-08-13</td>\n",
       "      <td>surf</td>\n",
       "      <td>1900-01-01</td>\n",
       "      <td>False</td>\n",
       "      <td>8.0</td>\n",
       "      <td>27.0</td>\n",
       "    </tr>\n",
       "    <tr>\n",
       "      <th>2</th>\n",
       "      <td>1001</td>\n",
       "      <td>Mickey</td>\n",
       "      <td>Wilkerson</td>\n",
       "      <td>28</td>\n",
       "      <td>Seattle-Tacoma-Bellevue, WA MSA</td>\n",
       "      <td>2018-08-13</td>\n",
       "      <td>surf</td>\n",
       "      <td>1900-01-01</td>\n",
       "      <td>False</td>\n",
       "      <td>9.0</td>\n",
       "      <td>49.0</td>\n",
       "    </tr>\n",
       "    <tr>\n",
       "      <th>3</th>\n",
       "      <td>1001</td>\n",
       "      <td>Mickey</td>\n",
       "      <td>Wilkerson</td>\n",
       "      <td>28</td>\n",
       "      <td>Seattle-Tacoma-Bellevue, WA MSA</td>\n",
       "      <td>2018-08-13</td>\n",
       "      <td>surf</td>\n",
       "      <td>1900-01-01</td>\n",
       "      <td>False</td>\n",
       "      <td>10.0</td>\n",
       "      <td>65.0</td>\n",
       "    </tr>\n",
       "    <tr>\n",
       "      <th>4</th>\n",
       "      <td>1001</td>\n",
       "      <td>Mickey</td>\n",
       "      <td>Wilkerson</td>\n",
       "      <td>28</td>\n",
       "      <td>Seattle-Tacoma-Bellevue, WA MSA</td>\n",
       "      <td>2018-08-13</td>\n",
       "      <td>surf</td>\n",
       "      <td>1900-01-01</td>\n",
       "      <td>False</td>\n",
       "      <td>11.0</td>\n",
       "      <td>64.0</td>\n",
       "    </tr>\n",
       "    <tr>\n",
       "      <th>5</th>\n",
       "      <td>1001</td>\n",
       "      <td>Mickey</td>\n",
       "      <td>Wilkerson</td>\n",
       "      <td>28</td>\n",
       "      <td>Seattle-Tacoma-Bellevue, WA MSA</td>\n",
       "      <td>2018-08-13</td>\n",
       "      <td>surf</td>\n",
       "      <td>1900-01-01</td>\n",
       "      <td>False</td>\n",
       "      <td>12.0</td>\n",
       "      <td>56.0</td>\n",
       "    </tr>\n",
       "    <tr>\n",
       "      <th>6</th>\n",
       "      <td>1002</td>\n",
       "      <td>Carlee</td>\n",
       "      <td>Hoffman</td>\n",
       "      <td>36</td>\n",
       "      <td>Las Vegas-Henderson-Paradise, NV MSA</td>\n",
       "      <td>2018-10-21</td>\n",
       "      <td>surf</td>\n",
       "      <td>1900-01-01</td>\n",
       "      <td>False</td>\n",
       "      <td>10.0</td>\n",
       "      <td>11.0</td>\n",
       "    </tr>\n",
       "    <tr>\n",
       "      <th>7</th>\n",
       "      <td>1002</td>\n",
       "      <td>Carlee</td>\n",
       "      <td>Hoffman</td>\n",
       "      <td>36</td>\n",
       "      <td>Las Vegas-Henderson-Paradise, NV MSA</td>\n",
       "      <td>2018-10-21</td>\n",
       "      <td>surf</td>\n",
       "      <td>1900-01-01</td>\n",
       "      <td>False</td>\n",
       "      <td>11.0</td>\n",
       "      <td>55.0</td>\n",
       "    </tr>\n",
       "    <tr>\n",
       "      <th>8</th>\n",
       "      <td>1002</td>\n",
       "      <td>Carlee</td>\n",
       "      <td>Hoffman</td>\n",
       "      <td>36</td>\n",
       "      <td>Las Vegas-Henderson-Paradise, NV MSA</td>\n",
       "      <td>2018-10-21</td>\n",
       "      <td>surf</td>\n",
       "      <td>1900-01-01</td>\n",
       "      <td>False</td>\n",
       "      <td>12.0</td>\n",
       "      <td>47.0</td>\n",
       "    </tr>\n",
       "    <tr>\n",
       "      <th>9</th>\n",
       "      <td>1003</td>\n",
       "      <td>Reynaldo</td>\n",
       "      <td>Jenkins</td>\n",
       "      <td>52</td>\n",
       "      <td>Tulsa, OK MSA</td>\n",
       "      <td>2018-01-28</td>\n",
       "      <td>surf</td>\n",
       "      <td>1900-01-01</td>\n",
       "      <td>False</td>\n",
       "      <td>12.0</td>\n",
       "      <td>149.0</td>\n",
       "    </tr>\n",
       "  </tbody>\n",
       "</table>\n",
       "</div>"
      ],
      "text/plain": [
       "   user_id first_name  last_name  age                                   city  \\\n",
       "0     1000   Anamaria      Bauer   45  Atlanta-Sandy Springs-Roswell, GA MSA   \n",
       "1     1001     Mickey  Wilkerson   28        Seattle-Tacoma-Bellevue, WA MSA   \n",
       "2     1001     Mickey  Wilkerson   28        Seattle-Tacoma-Bellevue, WA MSA   \n",
       "3     1001     Mickey  Wilkerson   28        Seattle-Tacoma-Bellevue, WA MSA   \n",
       "4     1001     Mickey  Wilkerson   28        Seattle-Tacoma-Bellevue, WA MSA   \n",
       "5     1001     Mickey  Wilkerson   28        Seattle-Tacoma-Bellevue, WA MSA   \n",
       "6     1002     Carlee    Hoffman   36   Las Vegas-Henderson-Paradise, NV MSA   \n",
       "7     1002     Carlee    Hoffman   36   Las Vegas-Henderson-Paradise, NV MSA   \n",
       "8     1002     Carlee    Hoffman   36   Las Vegas-Henderson-Paradise, NV MSA   \n",
       "9     1003   Reynaldo    Jenkins   52                          Tulsa, OK MSA   \n",
       "\n",
       "    reg_date      plan churn_date  is_cancelled  month  calls  \n",
       "0 2018-12-24  ultimate 1900-01-01         False   12.0   16.0  \n",
       "1 2018-08-13      surf 1900-01-01         False    8.0   27.0  \n",
       "2 2018-08-13      surf 1900-01-01         False    9.0   49.0  \n",
       "3 2018-08-13      surf 1900-01-01         False   10.0   65.0  \n",
       "4 2018-08-13      surf 1900-01-01         False   11.0   64.0  \n",
       "5 2018-08-13      surf 1900-01-01         False   12.0   56.0  \n",
       "6 2018-10-21      surf 1900-01-01         False   10.0   11.0  \n",
       "7 2018-10-21      surf 1900-01-01         False   11.0   55.0  \n",
       "8 2018-10-21      surf 1900-01-01         False   12.0   47.0  \n",
       "9 2018-01-28      surf 1900-01-01         False   12.0  149.0  "
      ]
     },
     "execution_count": 42,
     "metadata": {},
     "output_type": "execute_result"
    }
   ],
   "source": [
    "# create new users_data data frame\n",
    "\n",
    "users_data = users.copy(deep = False)\n",
    "\n",
    "# merge in monthly calls\n",
    "\n",
    "users_data = users_data.merge(calls_per_month, on= 'user_id', how = 'left')\n",
    "\n",
    "# original monthly calls data is defined as 'id', change that column to 'calls_per_month'\n",
    "\n",
    "users_data.rename(columns={'id' : 'calls'}, inplace=True)\n",
    "\n",
    "# check data frame\n",
    "\n",
    "users_data.head(10)"
   ]
  },
  {
   "cell_type": "markdown",
   "metadata": {},
   "source": [
    "This has provided us a column with the calls in each month, which also has been added to the data frame in the month column. We can use descriptive statistics to see if it changes our values. "
   ]
  },
  {
   "cell_type": "code",
   "execution_count": 43,
   "metadata": {},
   "outputs": [
    {
     "data": {
      "text/html": [
       "<div>\n",
       "<style scoped>\n",
       "    .dataframe tbody tr th:only-of-type {\n",
       "        vertical-align: middle;\n",
       "    }\n",
       "\n",
       "    .dataframe tbody tr th {\n",
       "        vertical-align: top;\n",
       "    }\n",
       "\n",
       "    .dataframe thead th {\n",
       "        text-align: right;\n",
       "    }\n",
       "</style>\n",
       "<table border=\"1\" class=\"dataframe\">\n",
       "  <thead>\n",
       "    <tr style=\"text-align: right;\">\n",
       "      <th></th>\n",
       "      <th>user_id</th>\n",
       "      <th>age</th>\n",
       "      <th>month</th>\n",
       "      <th>calls</th>\n",
       "    </tr>\n",
       "  </thead>\n",
       "  <tbody>\n",
       "    <tr>\n",
       "      <th>count</th>\n",
       "      <td>2277.000000</td>\n",
       "      <td>2277.000000</td>\n",
       "      <td>2258.000000</td>\n",
       "      <td>2258.000000</td>\n",
       "    </tr>\n",
       "    <tr>\n",
       "      <th>mean</th>\n",
       "      <td>1246.955204</td>\n",
       "      <td>45.354853</td>\n",
       "      <td>9.167405</td>\n",
       "      <td>60.998671</td>\n",
       "    </tr>\n",
       "    <tr>\n",
       "      <th>std</th>\n",
       "      <td>143.248085</td>\n",
       "      <td>16.788738</td>\n",
       "      <td>2.495785</td>\n",
       "      <td>31.770869</td>\n",
       "    </tr>\n",
       "    <tr>\n",
       "      <th>min</th>\n",
       "      <td>1000.000000</td>\n",
       "      <td>18.000000</td>\n",
       "      <td>1.000000</td>\n",
       "      <td>1.000000</td>\n",
       "    </tr>\n",
       "    <tr>\n",
       "      <th>25%</th>\n",
       "      <td>1122.000000</td>\n",
       "      <td>30.000000</td>\n",
       "      <td>8.000000</td>\n",
       "      <td>39.000000</td>\n",
       "    </tr>\n",
       "    <tr>\n",
       "      <th>50%</th>\n",
       "      <td>1246.000000</td>\n",
       "      <td>46.000000</td>\n",
       "      <td>10.000000</td>\n",
       "      <td>60.000000</td>\n",
       "    </tr>\n",
       "    <tr>\n",
       "      <th>75%</th>\n",
       "      <td>1370.000000</td>\n",
       "      <td>61.000000</td>\n",
       "      <td>11.000000</td>\n",
       "      <td>80.000000</td>\n",
       "    </tr>\n",
       "    <tr>\n",
       "      <th>max</th>\n",
       "      <td>1499.000000</td>\n",
       "      <td>75.000000</td>\n",
       "      <td>12.000000</td>\n",
       "      <td>205.000000</td>\n",
       "    </tr>\n",
       "  </tbody>\n",
       "</table>\n",
       "</div>"
      ],
      "text/plain": [
       "           user_id          age        month        calls\n",
       "count  2277.000000  2277.000000  2258.000000  2258.000000\n",
       "mean   1246.955204    45.354853     9.167405    60.998671\n",
       "std     143.248085    16.788738     2.495785    31.770869\n",
       "min    1000.000000    18.000000     1.000000     1.000000\n",
       "25%    1122.000000    30.000000     8.000000    39.000000\n",
       "50%    1246.000000    46.000000    10.000000    60.000000\n",
       "75%    1370.000000    61.000000    11.000000    80.000000\n",
       "max    1499.000000    75.000000    12.000000   205.000000"
      ]
     },
     "execution_count": 43,
     "metadata": {},
     "output_type": "execute_result"
    }
   ],
   "source": [
    "# check data frame\n",
    "\n",
    "users_data.describe()"
   ]
  },
  {
   "cell_type": "markdown",
   "metadata": {},
   "source": [
    "As we see, though we may have merged the data back into our data frame, it has not filled in the values. There are 19 users who have not made phone calls. This should be something we note as we fill out the other columns, that we will have missing values after merging in whenever our count = 0. However, we might want to save filling our null values until after we have finished making this users_data frame, since there could be more unique user_id and month pairings that could require a fill with 0."
   ]
  },
  {
   "cell_type": "markdown",
   "metadata": {},
   "source": [
    "#### Aggregate minutes"
   ]
  },
  {
   "cell_type": "markdown",
   "metadata": {},
   "source": [
    "Next, we can check to do the same for the amount of minutes each user is on the phone per month. The process will be similar, but not quite the same.\n",
    "\n",
    "Since we are interested in the minutes that are used per month rather than the total time spent, we should sum up the total values in the billable_time column."
   ]
  },
  {
   "cell_type": "code",
   "execution_count": 44,
   "metadata": {},
   "outputs": [
    {
     "data": {
      "text/html": [
       "<div>\n",
       "<style scoped>\n",
       "    .dataframe tbody tr th:only-of-type {\n",
       "        vertical-align: middle;\n",
       "    }\n",
       "\n",
       "    .dataframe tbody tr th {\n",
       "        vertical-align: top;\n",
       "    }\n",
       "\n",
       "    .dataframe thead th {\n",
       "        text-align: right;\n",
       "    }\n",
       "</style>\n",
       "<table border=\"1\" class=\"dataframe\">\n",
       "  <thead>\n",
       "    <tr style=\"text-align: right;\">\n",
       "      <th></th>\n",
       "      <th>user_id</th>\n",
       "      <th>month</th>\n",
       "      <th>billable_time</th>\n",
       "    </tr>\n",
       "  </thead>\n",
       "  <tbody>\n",
       "    <tr>\n",
       "      <th>0</th>\n",
       "      <td>1000</td>\n",
       "      <td>12</td>\n",
       "      <td>124.0</td>\n",
       "    </tr>\n",
       "    <tr>\n",
       "      <th>1</th>\n",
       "      <td>1001</td>\n",
       "      <td>8</td>\n",
       "      <td>182.0</td>\n",
       "    </tr>\n",
       "    <tr>\n",
       "      <th>2</th>\n",
       "      <td>1001</td>\n",
       "      <td>9</td>\n",
       "      <td>315.0</td>\n",
       "    </tr>\n",
       "    <tr>\n",
       "      <th>3</th>\n",
       "      <td>1001</td>\n",
       "      <td>10</td>\n",
       "      <td>393.0</td>\n",
       "    </tr>\n",
       "    <tr>\n",
       "      <th>4</th>\n",
       "      <td>1001</td>\n",
       "      <td>11</td>\n",
       "      <td>426.0</td>\n",
       "    </tr>\n",
       "    <tr>\n",
       "      <th>...</th>\n",
       "      <td>...</td>\n",
       "      <td>...</td>\n",
       "      <td>...</td>\n",
       "    </tr>\n",
       "    <tr>\n",
       "      <th>2253</th>\n",
       "      <td>1498</td>\n",
       "      <td>12</td>\n",
       "      <td>339.0</td>\n",
       "    </tr>\n",
       "    <tr>\n",
       "      <th>2254</th>\n",
       "      <td>1499</td>\n",
       "      <td>9</td>\n",
       "      <td>346.0</td>\n",
       "    </tr>\n",
       "    <tr>\n",
       "      <th>2255</th>\n",
       "      <td>1499</td>\n",
       "      <td>10</td>\n",
       "      <td>385.0</td>\n",
       "    </tr>\n",
       "    <tr>\n",
       "      <th>2256</th>\n",
       "      <td>1499</td>\n",
       "      <td>11</td>\n",
       "      <td>308.0</td>\n",
       "    </tr>\n",
       "    <tr>\n",
       "      <th>2257</th>\n",
       "      <td>1499</td>\n",
       "      <td>12</td>\n",
       "      <td>496.0</td>\n",
       "    </tr>\n",
       "  </tbody>\n",
       "</table>\n",
       "<p>2258 rows × 3 columns</p>\n",
       "</div>"
      ],
      "text/plain": [
       "      user_id  month  billable_time\n",
       "0        1000     12          124.0\n",
       "1        1001      8          182.0\n",
       "2        1001      9          315.0\n",
       "3        1001     10          393.0\n",
       "4        1001     11          426.0\n",
       "...       ...    ...            ...\n",
       "2253     1498     12          339.0\n",
       "2254     1499      9          346.0\n",
       "2255     1499     10          385.0\n",
       "2256     1499     11          308.0\n",
       "2257     1499     12          496.0\n",
       "\n",
       "[2258 rows x 3 columns]"
      ]
     },
     "execution_count": 44,
     "metadata": {},
     "output_type": "execute_result"
    }
   ],
   "source": [
    "# Calculate the amount of minutes spent by each user per month. Save the result.\n",
    "\n",
    "minutes_per_month = calls.pivot_table(\n",
    "    index=['user_id', 'month'], \n",
    "    values = 'billable_time', \n",
    "    aggfunc='sum', \n",
    "    margins=False).reset_index()\n",
    "\n",
    "minutes_per_month"
   ]
  },
  {
   "cell_type": "code",
   "execution_count": 45,
   "metadata": {},
   "outputs": [
    {
     "data": {
      "text/html": [
       "<div>\n",
       "<style scoped>\n",
       "    .dataframe tbody tr th:only-of-type {\n",
       "        vertical-align: middle;\n",
       "    }\n",
       "\n",
       "    .dataframe tbody tr th {\n",
       "        vertical-align: top;\n",
       "    }\n",
       "\n",
       "    .dataframe thead th {\n",
       "        text-align: right;\n",
       "    }\n",
       "</style>\n",
       "<table border=\"1\" class=\"dataframe\">\n",
       "  <thead>\n",
       "    <tr style=\"text-align: right;\">\n",
       "      <th></th>\n",
       "      <th>user_id</th>\n",
       "      <th>month</th>\n",
       "      <th>billable_time</th>\n",
       "    </tr>\n",
       "  </thead>\n",
       "  <tbody>\n",
       "    <tr>\n",
       "      <th>count</th>\n",
       "      <td>2258.000000</td>\n",
       "      <td>2258.000000</td>\n",
       "      <td>2258.000000</td>\n",
       "    </tr>\n",
       "    <tr>\n",
       "      <th>mean</th>\n",
       "      <td>1247.175819</td>\n",
       "      <td>9.167405</td>\n",
       "      <td>435.937555</td>\n",
       "    </tr>\n",
       "    <tr>\n",
       "      <th>std</th>\n",
       "      <td>143.344211</td>\n",
       "      <td>2.495785</td>\n",
       "      <td>231.972343</td>\n",
       "    </tr>\n",
       "    <tr>\n",
       "      <th>min</th>\n",
       "      <td>1000.000000</td>\n",
       "      <td>1.000000</td>\n",
       "      <td>0.000000</td>\n",
       "    </tr>\n",
       "    <tr>\n",
       "      <th>25%</th>\n",
       "      <td>1122.000000</td>\n",
       "      <td>8.000000</td>\n",
       "      <td>275.000000</td>\n",
       "    </tr>\n",
       "    <tr>\n",
       "      <th>50%</th>\n",
       "      <td>1246.000000</td>\n",
       "      <td>10.000000</td>\n",
       "      <td>429.000000</td>\n",
       "    </tr>\n",
       "    <tr>\n",
       "      <th>75%</th>\n",
       "      <td>1370.000000</td>\n",
       "      <td>11.000000</td>\n",
       "      <td>574.750000</td>\n",
       "    </tr>\n",
       "    <tr>\n",
       "      <th>max</th>\n",
       "      <td>1499.000000</td>\n",
       "      <td>12.000000</td>\n",
       "      <td>1510.000000</td>\n",
       "    </tr>\n",
       "  </tbody>\n",
       "</table>\n",
       "</div>"
      ],
      "text/plain": [
       "           user_id        month  billable_time\n",
       "count  2258.000000  2258.000000    2258.000000\n",
       "mean   1247.175819     9.167405     435.937555\n",
       "std     143.344211     2.495785     231.972343\n",
       "min    1000.000000     1.000000       0.000000\n",
       "25%    1122.000000     8.000000     275.000000\n",
       "50%    1246.000000    10.000000     429.000000\n",
       "75%    1370.000000    11.000000     574.750000\n",
       "max    1499.000000    12.000000    1510.000000"
      ]
     },
     "execution_count": 45,
     "metadata": {},
     "output_type": "execute_result"
    }
   ],
   "source": [
    "# view minutes\n",
    "\n",
    "minutes_per_month.describe()"
   ]
  },
  {
   "cell_type": "markdown",
   "metadata": {},
   "source": [
    "As we should expect, there are still missing values from this set of data. Since our value is now 'billable_time' instead of 'id', we won't need to rename the column when we merge it into our users_data frame, but we should make sure that we are merging not just on the user ID but also on the month."
   ]
  },
  {
   "cell_type": "code",
   "execution_count": 46,
   "metadata": {},
   "outputs": [
    {
     "data": {
      "text/html": [
       "<div>\n",
       "<style scoped>\n",
       "    .dataframe tbody tr th:only-of-type {\n",
       "        vertical-align: middle;\n",
       "    }\n",
       "\n",
       "    .dataframe tbody tr th {\n",
       "        vertical-align: top;\n",
       "    }\n",
       "\n",
       "    .dataframe thead th {\n",
       "        text-align: right;\n",
       "    }\n",
       "</style>\n",
       "<table border=\"1\" class=\"dataframe\">\n",
       "  <thead>\n",
       "    <tr style=\"text-align: right;\">\n",
       "      <th></th>\n",
       "      <th>user_id</th>\n",
       "      <th>first_name</th>\n",
       "      <th>last_name</th>\n",
       "      <th>age</th>\n",
       "      <th>city</th>\n",
       "      <th>reg_date</th>\n",
       "      <th>plan</th>\n",
       "      <th>churn_date</th>\n",
       "      <th>is_cancelled</th>\n",
       "      <th>month</th>\n",
       "      <th>calls</th>\n",
       "      <th>billable_time</th>\n",
       "    </tr>\n",
       "  </thead>\n",
       "  <tbody>\n",
       "    <tr>\n",
       "      <th>0</th>\n",
       "      <td>1000</td>\n",
       "      <td>Anamaria</td>\n",
       "      <td>Bauer</td>\n",
       "      <td>45</td>\n",
       "      <td>Atlanta-Sandy Springs-Roswell, GA MSA</td>\n",
       "      <td>2018-12-24</td>\n",
       "      <td>ultimate</td>\n",
       "      <td>1900-01-01</td>\n",
       "      <td>False</td>\n",
       "      <td>12.0</td>\n",
       "      <td>16.0</td>\n",
       "      <td>124.0</td>\n",
       "    </tr>\n",
       "    <tr>\n",
       "      <th>1</th>\n",
       "      <td>1001</td>\n",
       "      <td>Mickey</td>\n",
       "      <td>Wilkerson</td>\n",
       "      <td>28</td>\n",
       "      <td>Seattle-Tacoma-Bellevue, WA MSA</td>\n",
       "      <td>2018-08-13</td>\n",
       "      <td>surf</td>\n",
       "      <td>1900-01-01</td>\n",
       "      <td>False</td>\n",
       "      <td>8.0</td>\n",
       "      <td>27.0</td>\n",
       "      <td>182.0</td>\n",
       "    </tr>\n",
       "    <tr>\n",
       "      <th>2</th>\n",
       "      <td>1001</td>\n",
       "      <td>Mickey</td>\n",
       "      <td>Wilkerson</td>\n",
       "      <td>28</td>\n",
       "      <td>Seattle-Tacoma-Bellevue, WA MSA</td>\n",
       "      <td>2018-08-13</td>\n",
       "      <td>surf</td>\n",
       "      <td>1900-01-01</td>\n",
       "      <td>False</td>\n",
       "      <td>9.0</td>\n",
       "      <td>49.0</td>\n",
       "      <td>315.0</td>\n",
       "    </tr>\n",
       "    <tr>\n",
       "      <th>3</th>\n",
       "      <td>1001</td>\n",
       "      <td>Mickey</td>\n",
       "      <td>Wilkerson</td>\n",
       "      <td>28</td>\n",
       "      <td>Seattle-Tacoma-Bellevue, WA MSA</td>\n",
       "      <td>2018-08-13</td>\n",
       "      <td>surf</td>\n",
       "      <td>1900-01-01</td>\n",
       "      <td>False</td>\n",
       "      <td>10.0</td>\n",
       "      <td>65.0</td>\n",
       "      <td>393.0</td>\n",
       "    </tr>\n",
       "    <tr>\n",
       "      <th>4</th>\n",
       "      <td>1001</td>\n",
       "      <td>Mickey</td>\n",
       "      <td>Wilkerson</td>\n",
       "      <td>28</td>\n",
       "      <td>Seattle-Tacoma-Bellevue, WA MSA</td>\n",
       "      <td>2018-08-13</td>\n",
       "      <td>surf</td>\n",
       "      <td>1900-01-01</td>\n",
       "      <td>False</td>\n",
       "      <td>11.0</td>\n",
       "      <td>64.0</td>\n",
       "      <td>426.0</td>\n",
       "    </tr>\n",
       "    <tr>\n",
       "      <th>5</th>\n",
       "      <td>1001</td>\n",
       "      <td>Mickey</td>\n",
       "      <td>Wilkerson</td>\n",
       "      <td>28</td>\n",
       "      <td>Seattle-Tacoma-Bellevue, WA MSA</td>\n",
       "      <td>2018-08-13</td>\n",
       "      <td>surf</td>\n",
       "      <td>1900-01-01</td>\n",
       "      <td>False</td>\n",
       "      <td>12.0</td>\n",
       "      <td>56.0</td>\n",
       "      <td>412.0</td>\n",
       "    </tr>\n",
       "    <tr>\n",
       "      <th>6</th>\n",
       "      <td>1002</td>\n",
       "      <td>Carlee</td>\n",
       "      <td>Hoffman</td>\n",
       "      <td>36</td>\n",
       "      <td>Las Vegas-Henderson-Paradise, NV MSA</td>\n",
       "      <td>2018-10-21</td>\n",
       "      <td>surf</td>\n",
       "      <td>1900-01-01</td>\n",
       "      <td>False</td>\n",
       "      <td>10.0</td>\n",
       "      <td>11.0</td>\n",
       "      <td>59.0</td>\n",
       "    </tr>\n",
       "    <tr>\n",
       "      <th>7</th>\n",
       "      <td>1002</td>\n",
       "      <td>Carlee</td>\n",
       "      <td>Hoffman</td>\n",
       "      <td>36</td>\n",
       "      <td>Las Vegas-Henderson-Paradise, NV MSA</td>\n",
       "      <td>2018-10-21</td>\n",
       "      <td>surf</td>\n",
       "      <td>1900-01-01</td>\n",
       "      <td>False</td>\n",
       "      <td>11.0</td>\n",
       "      <td>55.0</td>\n",
       "      <td>386.0</td>\n",
       "    </tr>\n",
       "    <tr>\n",
       "      <th>8</th>\n",
       "      <td>1002</td>\n",
       "      <td>Carlee</td>\n",
       "      <td>Hoffman</td>\n",
       "      <td>36</td>\n",
       "      <td>Las Vegas-Henderson-Paradise, NV MSA</td>\n",
       "      <td>2018-10-21</td>\n",
       "      <td>surf</td>\n",
       "      <td>1900-01-01</td>\n",
       "      <td>False</td>\n",
       "      <td>12.0</td>\n",
       "      <td>47.0</td>\n",
       "      <td>384.0</td>\n",
       "    </tr>\n",
       "    <tr>\n",
       "      <th>9</th>\n",
       "      <td>1003</td>\n",
       "      <td>Reynaldo</td>\n",
       "      <td>Jenkins</td>\n",
       "      <td>52</td>\n",
       "      <td>Tulsa, OK MSA</td>\n",
       "      <td>2018-01-28</td>\n",
       "      <td>surf</td>\n",
       "      <td>1900-01-01</td>\n",
       "      <td>False</td>\n",
       "      <td>12.0</td>\n",
       "      <td>149.0</td>\n",
       "      <td>1104.0</td>\n",
       "    </tr>\n",
       "    <tr>\n",
       "      <th>10</th>\n",
       "      <td>1004</td>\n",
       "      <td>Leonila</td>\n",
       "      <td>Thompson</td>\n",
       "      <td>40</td>\n",
       "      <td>Seattle-Tacoma-Bellevue, WA MSA</td>\n",
       "      <td>2018-05-23</td>\n",
       "      <td>surf</td>\n",
       "      <td>1900-01-01</td>\n",
       "      <td>False</td>\n",
       "      <td>5.0</td>\n",
       "      <td>21.0</td>\n",
       "      <td>193.0</td>\n",
       "    </tr>\n",
       "    <tr>\n",
       "      <th>11</th>\n",
       "      <td>1004</td>\n",
       "      <td>Leonila</td>\n",
       "      <td>Thompson</td>\n",
       "      <td>40</td>\n",
       "      <td>Seattle-Tacoma-Bellevue, WA MSA</td>\n",
       "      <td>2018-05-23</td>\n",
       "      <td>surf</td>\n",
       "      <td>1900-01-01</td>\n",
       "      <td>False</td>\n",
       "      <td>6.0</td>\n",
       "      <td>44.0</td>\n",
       "      <td>275.0</td>\n",
       "    </tr>\n",
       "    <tr>\n",
       "      <th>12</th>\n",
       "      <td>1004</td>\n",
       "      <td>Leonila</td>\n",
       "      <td>Thompson</td>\n",
       "      <td>40</td>\n",
       "      <td>Seattle-Tacoma-Bellevue, WA MSA</td>\n",
       "      <td>2018-05-23</td>\n",
       "      <td>surf</td>\n",
       "      <td>1900-01-01</td>\n",
       "      <td>False</td>\n",
       "      <td>7.0</td>\n",
       "      <td>49.0</td>\n",
       "      <td>381.0</td>\n",
       "    </tr>\n",
       "    <tr>\n",
       "      <th>13</th>\n",
       "      <td>1004</td>\n",
       "      <td>Leonila</td>\n",
       "      <td>Thompson</td>\n",
       "      <td>40</td>\n",
       "      <td>Seattle-Tacoma-Bellevue, WA MSA</td>\n",
       "      <td>2018-05-23</td>\n",
       "      <td>surf</td>\n",
       "      <td>1900-01-01</td>\n",
       "      <td>False</td>\n",
       "      <td>8.0</td>\n",
       "      <td>49.0</td>\n",
       "      <td>354.0</td>\n",
       "    </tr>\n",
       "    <tr>\n",
       "      <th>14</th>\n",
       "      <td>1004</td>\n",
       "      <td>Leonila</td>\n",
       "      <td>Thompson</td>\n",
       "      <td>40</td>\n",
       "      <td>Seattle-Tacoma-Bellevue, WA MSA</td>\n",
       "      <td>2018-05-23</td>\n",
       "      <td>surf</td>\n",
       "      <td>1900-01-01</td>\n",
       "      <td>False</td>\n",
       "      <td>9.0</td>\n",
       "      <td>42.0</td>\n",
       "      <td>301.0</td>\n",
       "    </tr>\n",
       "    <tr>\n",
       "      <th>15</th>\n",
       "      <td>1004</td>\n",
       "      <td>Leonila</td>\n",
       "      <td>Thompson</td>\n",
       "      <td>40</td>\n",
       "      <td>Seattle-Tacoma-Bellevue, WA MSA</td>\n",
       "      <td>2018-05-23</td>\n",
       "      <td>surf</td>\n",
       "      <td>1900-01-01</td>\n",
       "      <td>False</td>\n",
       "      <td>10.0</td>\n",
       "      <td>61.0</td>\n",
       "      <td>365.0</td>\n",
       "    </tr>\n",
       "    <tr>\n",
       "      <th>16</th>\n",
       "      <td>1004</td>\n",
       "      <td>Leonila</td>\n",
       "      <td>Thompson</td>\n",
       "      <td>40</td>\n",
       "      <td>Seattle-Tacoma-Bellevue, WA MSA</td>\n",
       "      <td>2018-05-23</td>\n",
       "      <td>surf</td>\n",
       "      <td>1900-01-01</td>\n",
       "      <td>False</td>\n",
       "      <td>11.0</td>\n",
       "      <td>54.0</td>\n",
       "      <td>476.0</td>\n",
       "    </tr>\n",
       "    <tr>\n",
       "      <th>17</th>\n",
       "      <td>1004</td>\n",
       "      <td>Leonila</td>\n",
       "      <td>Thompson</td>\n",
       "      <td>40</td>\n",
       "      <td>Seattle-Tacoma-Bellevue, WA MSA</td>\n",
       "      <td>2018-05-23</td>\n",
       "      <td>surf</td>\n",
       "      <td>1900-01-01</td>\n",
       "      <td>False</td>\n",
       "      <td>12.0</td>\n",
       "      <td>50.0</td>\n",
       "      <td>427.0</td>\n",
       "    </tr>\n",
       "    <tr>\n",
       "      <th>18</th>\n",
       "      <td>1005</td>\n",
       "      <td>Livia</td>\n",
       "      <td>Shields</td>\n",
       "      <td>31</td>\n",
       "      <td>Dallas-Fort Worth-Arlington, TX MSA</td>\n",
       "      <td>2018-11-29</td>\n",
       "      <td>surf</td>\n",
       "      <td>1900-01-01</td>\n",
       "      <td>False</td>\n",
       "      <td>12.0</td>\n",
       "      <td>59.0</td>\n",
       "      <td>496.0</td>\n",
       "    </tr>\n",
       "    <tr>\n",
       "      <th>19</th>\n",
       "      <td>1006</td>\n",
       "      <td>Jesusa</td>\n",
       "      <td>Bradford</td>\n",
       "      <td>73</td>\n",
       "      <td>San Francisco-Oakland-Berkeley, CA MSA</td>\n",
       "      <td>2018-11-27</td>\n",
       "      <td>ultimate</td>\n",
       "      <td>2018-12-18</td>\n",
       "      <td>True</td>\n",
       "      <td>11.0</td>\n",
       "      <td>2.0</td>\n",
       "      <td>10.0</td>\n",
       "    </tr>\n",
       "  </tbody>\n",
       "</table>\n",
       "</div>"
      ],
      "text/plain": [
       "    user_id first_name  last_name  age  \\\n",
       "0      1000   Anamaria      Bauer   45   \n",
       "1      1001     Mickey  Wilkerson   28   \n",
       "2      1001     Mickey  Wilkerson   28   \n",
       "3      1001     Mickey  Wilkerson   28   \n",
       "4      1001     Mickey  Wilkerson   28   \n",
       "5      1001     Mickey  Wilkerson   28   \n",
       "6      1002     Carlee    Hoffman   36   \n",
       "7      1002     Carlee    Hoffman   36   \n",
       "8      1002     Carlee    Hoffman   36   \n",
       "9      1003   Reynaldo    Jenkins   52   \n",
       "10     1004    Leonila   Thompson   40   \n",
       "11     1004    Leonila   Thompson   40   \n",
       "12     1004    Leonila   Thompson   40   \n",
       "13     1004    Leonila   Thompson   40   \n",
       "14     1004    Leonila   Thompson   40   \n",
       "15     1004    Leonila   Thompson   40   \n",
       "16     1004    Leonila   Thompson   40   \n",
       "17     1004    Leonila   Thompson   40   \n",
       "18     1005      Livia    Shields   31   \n",
       "19     1006     Jesusa   Bradford   73   \n",
       "\n",
       "                                      city   reg_date      plan churn_date  \\\n",
       "0    Atlanta-Sandy Springs-Roswell, GA MSA 2018-12-24  ultimate 1900-01-01   \n",
       "1          Seattle-Tacoma-Bellevue, WA MSA 2018-08-13      surf 1900-01-01   \n",
       "2          Seattle-Tacoma-Bellevue, WA MSA 2018-08-13      surf 1900-01-01   \n",
       "3          Seattle-Tacoma-Bellevue, WA MSA 2018-08-13      surf 1900-01-01   \n",
       "4          Seattle-Tacoma-Bellevue, WA MSA 2018-08-13      surf 1900-01-01   \n",
       "5          Seattle-Tacoma-Bellevue, WA MSA 2018-08-13      surf 1900-01-01   \n",
       "6     Las Vegas-Henderson-Paradise, NV MSA 2018-10-21      surf 1900-01-01   \n",
       "7     Las Vegas-Henderson-Paradise, NV MSA 2018-10-21      surf 1900-01-01   \n",
       "8     Las Vegas-Henderson-Paradise, NV MSA 2018-10-21      surf 1900-01-01   \n",
       "9                            Tulsa, OK MSA 2018-01-28      surf 1900-01-01   \n",
       "10         Seattle-Tacoma-Bellevue, WA MSA 2018-05-23      surf 1900-01-01   \n",
       "11         Seattle-Tacoma-Bellevue, WA MSA 2018-05-23      surf 1900-01-01   \n",
       "12         Seattle-Tacoma-Bellevue, WA MSA 2018-05-23      surf 1900-01-01   \n",
       "13         Seattle-Tacoma-Bellevue, WA MSA 2018-05-23      surf 1900-01-01   \n",
       "14         Seattle-Tacoma-Bellevue, WA MSA 2018-05-23      surf 1900-01-01   \n",
       "15         Seattle-Tacoma-Bellevue, WA MSA 2018-05-23      surf 1900-01-01   \n",
       "16         Seattle-Tacoma-Bellevue, WA MSA 2018-05-23      surf 1900-01-01   \n",
       "17         Seattle-Tacoma-Bellevue, WA MSA 2018-05-23      surf 1900-01-01   \n",
       "18     Dallas-Fort Worth-Arlington, TX MSA 2018-11-29      surf 1900-01-01   \n",
       "19  San Francisco-Oakland-Berkeley, CA MSA 2018-11-27  ultimate 2018-12-18   \n",
       "\n",
       "    is_cancelled  month  calls  billable_time  \n",
       "0          False   12.0   16.0          124.0  \n",
       "1          False    8.0   27.0          182.0  \n",
       "2          False    9.0   49.0          315.0  \n",
       "3          False   10.0   65.0          393.0  \n",
       "4          False   11.0   64.0          426.0  \n",
       "5          False   12.0   56.0          412.0  \n",
       "6          False   10.0   11.0           59.0  \n",
       "7          False   11.0   55.0          386.0  \n",
       "8          False   12.0   47.0          384.0  \n",
       "9          False   12.0  149.0         1104.0  \n",
       "10         False    5.0   21.0          193.0  \n",
       "11         False    6.0   44.0          275.0  \n",
       "12         False    7.0   49.0          381.0  \n",
       "13         False    8.0   49.0          354.0  \n",
       "14         False    9.0   42.0          301.0  \n",
       "15         False   10.0   61.0          365.0  \n",
       "16         False   11.0   54.0          476.0  \n",
       "17         False   12.0   50.0          427.0  \n",
       "18         False   12.0   59.0          496.0  \n",
       "19          True   11.0    2.0           10.0  "
      ]
     },
     "execution_count": 46,
     "metadata": {},
     "output_type": "execute_result"
    }
   ],
   "source": [
    "# merge in monthly calls\n",
    "\n",
    "users_data = users_data.merge(minutes_per_month, on= ['user_id', 'month'], how = 'left')\n",
    "users_data.head(20)"
   ]
  },
  {
   "cell_type": "code",
   "execution_count": 47,
   "metadata": {},
   "outputs": [
    {
     "data": {
      "text/html": [
       "<div>\n",
       "<style scoped>\n",
       "    .dataframe tbody tr th:only-of-type {\n",
       "        vertical-align: middle;\n",
       "    }\n",
       "\n",
       "    .dataframe tbody tr th {\n",
       "        vertical-align: top;\n",
       "    }\n",
       "\n",
       "    .dataframe thead th {\n",
       "        text-align: right;\n",
       "    }\n",
       "</style>\n",
       "<table border=\"1\" class=\"dataframe\">\n",
       "  <thead>\n",
       "    <tr style=\"text-align: right;\">\n",
       "      <th></th>\n",
       "      <th>user_id</th>\n",
       "      <th>age</th>\n",
       "      <th>month</th>\n",
       "      <th>calls</th>\n",
       "      <th>billable_time</th>\n",
       "    </tr>\n",
       "  </thead>\n",
       "  <tbody>\n",
       "    <tr>\n",
       "      <th>count</th>\n",
       "      <td>2277.000000</td>\n",
       "      <td>2277.000000</td>\n",
       "      <td>2258.000000</td>\n",
       "      <td>2258.000000</td>\n",
       "      <td>2258.000000</td>\n",
       "    </tr>\n",
       "    <tr>\n",
       "      <th>mean</th>\n",
       "      <td>1246.955204</td>\n",
       "      <td>45.354853</td>\n",
       "      <td>9.167405</td>\n",
       "      <td>60.998671</td>\n",
       "      <td>435.937555</td>\n",
       "    </tr>\n",
       "    <tr>\n",
       "      <th>std</th>\n",
       "      <td>143.248085</td>\n",
       "      <td>16.788738</td>\n",
       "      <td>2.495785</td>\n",
       "      <td>31.770869</td>\n",
       "      <td>231.972343</td>\n",
       "    </tr>\n",
       "    <tr>\n",
       "      <th>min</th>\n",
       "      <td>1000.000000</td>\n",
       "      <td>18.000000</td>\n",
       "      <td>1.000000</td>\n",
       "      <td>1.000000</td>\n",
       "      <td>0.000000</td>\n",
       "    </tr>\n",
       "    <tr>\n",
       "      <th>25%</th>\n",
       "      <td>1122.000000</td>\n",
       "      <td>30.000000</td>\n",
       "      <td>8.000000</td>\n",
       "      <td>39.000000</td>\n",
       "      <td>275.000000</td>\n",
       "    </tr>\n",
       "    <tr>\n",
       "      <th>50%</th>\n",
       "      <td>1246.000000</td>\n",
       "      <td>46.000000</td>\n",
       "      <td>10.000000</td>\n",
       "      <td>60.000000</td>\n",
       "      <td>429.000000</td>\n",
       "    </tr>\n",
       "    <tr>\n",
       "      <th>75%</th>\n",
       "      <td>1370.000000</td>\n",
       "      <td>61.000000</td>\n",
       "      <td>11.000000</td>\n",
       "      <td>80.000000</td>\n",
       "      <td>574.750000</td>\n",
       "    </tr>\n",
       "    <tr>\n",
       "      <th>max</th>\n",
       "      <td>1499.000000</td>\n",
       "      <td>75.000000</td>\n",
       "      <td>12.000000</td>\n",
       "      <td>205.000000</td>\n",
       "      <td>1510.000000</td>\n",
       "    </tr>\n",
       "  </tbody>\n",
       "</table>\n",
       "</div>"
      ],
      "text/plain": [
       "           user_id          age        month        calls  billable_time\n",
       "count  2277.000000  2277.000000  2258.000000  2258.000000    2258.000000\n",
       "mean   1246.955204    45.354853     9.167405    60.998671     435.937555\n",
       "std     143.248085    16.788738     2.495785    31.770869     231.972343\n",
       "min    1000.000000    18.000000     1.000000     1.000000       0.000000\n",
       "25%    1122.000000    30.000000     8.000000    39.000000     275.000000\n",
       "50%    1246.000000    46.000000    10.000000    60.000000     429.000000\n",
       "75%    1370.000000    61.000000    11.000000    80.000000     574.750000\n",
       "max    1499.000000    75.000000    12.000000   205.000000    1510.000000"
      ]
     },
     "execution_count": 47,
     "metadata": {},
     "output_type": "execute_result"
    }
   ],
   "source": [
    "# check data frame\n",
    "\n",
    "users_data.describe()"
   ]
  },
  {
   "cell_type": "markdown",
   "metadata": {},
   "source": [
    "As we should expect, we are missing the same number of values from the month, calls per month and the billable time, since it is suggesting that there are users who haven't made any calls in 2018 (they are using a different phone plan, perhaps). Just to be certain, let's print out all the rows with missing data to confirm that these are all the same users."
   ]
  },
  {
   "cell_type": "code",
   "execution_count": 48,
   "metadata": {},
   "outputs": [
    {
     "data": {
      "text/html": [
       "<div>\n",
       "<style scoped>\n",
       "    .dataframe tbody tr th:only-of-type {\n",
       "        vertical-align: middle;\n",
       "    }\n",
       "\n",
       "    .dataframe tbody tr th {\n",
       "        vertical-align: top;\n",
       "    }\n",
       "\n",
       "    .dataframe thead th {\n",
       "        text-align: right;\n",
       "    }\n",
       "</style>\n",
       "<table border=\"1\" class=\"dataframe\">\n",
       "  <thead>\n",
       "    <tr style=\"text-align: right;\">\n",
       "      <th></th>\n",
       "      <th>user_id</th>\n",
       "      <th>first_name</th>\n",
       "      <th>last_name</th>\n",
       "      <th>age</th>\n",
       "      <th>city</th>\n",
       "      <th>reg_date</th>\n",
       "      <th>plan</th>\n",
       "      <th>churn_date</th>\n",
       "      <th>is_cancelled</th>\n",
       "      <th>month</th>\n",
       "      <th>calls</th>\n",
       "      <th>billable_time</th>\n",
       "    </tr>\n",
       "  </thead>\n",
       "  <tbody>\n",
       "    <tr>\n",
       "      <th>86</th>\n",
       "      <td>1025</td>\n",
       "      <td>Jess</td>\n",
       "      <td>Wilkinson</td>\n",
       "      <td>64</td>\n",
       "      <td>Atlanta-Sandy Springs-Roswell, GA MSA</td>\n",
       "      <td>2018-10-28</td>\n",
       "      <td>ultimate</td>\n",
       "      <td>1900-01-01</td>\n",
       "      <td>False</td>\n",
       "      <td>NaN</td>\n",
       "      <td>NaN</td>\n",
       "      <td>NaN</td>\n",
       "    </tr>\n",
       "    <tr>\n",
       "      <th>381</th>\n",
       "      <td>1080</td>\n",
       "      <td>Neal</td>\n",
       "      <td>Mcgee</td>\n",
       "      <td>45</td>\n",
       "      <td>New York-Newark-Jersey City, NY-NJ-PA MSA</td>\n",
       "      <td>2018-08-03</td>\n",
       "      <td>surf</td>\n",
       "      <td>1900-01-01</td>\n",
       "      <td>False</td>\n",
       "      <td>NaN</td>\n",
       "      <td>NaN</td>\n",
       "      <td>NaN</td>\n",
       "    </tr>\n",
       "    <tr>\n",
       "      <th>422</th>\n",
       "      <td>1089</td>\n",
       "      <td>Malena</td>\n",
       "      <td>Kelley</td>\n",
       "      <td>70</td>\n",
       "      <td>Philadelphia-Camden-Wilmington, PA-NJ-DE-MD MSA</td>\n",
       "      <td>2018-09-03</td>\n",
       "      <td>surf</td>\n",
       "      <td>1900-01-01</td>\n",
       "      <td>False</td>\n",
       "      <td>NaN</td>\n",
       "      <td>NaN</td>\n",
       "      <td>NaN</td>\n",
       "    </tr>\n",
       "    <tr>\n",
       "      <th>503</th>\n",
       "      <td>1108</td>\n",
       "      <td>Porfirio</td>\n",
       "      <td>Kane</td>\n",
       "      <td>45</td>\n",
       "      <td>Salt Lake City, UT MSA</td>\n",
       "      <td>2018-12-30</td>\n",
       "      <td>ultimate</td>\n",
       "      <td>1900-01-01</td>\n",
       "      <td>False</td>\n",
       "      <td>NaN</td>\n",
       "      <td>NaN</td>\n",
       "      <td>NaN</td>\n",
       "    </tr>\n",
       "    <tr>\n",
       "      <th>565</th>\n",
       "      <td>1121</td>\n",
       "      <td>Kathaleen</td>\n",
       "      <td>Albert</td>\n",
       "      <td>34</td>\n",
       "      <td>Miami-Fort Lauderdale-West Palm Beach, FL MSA</td>\n",
       "      <td>2018-03-13</td>\n",
       "      <td>surf</td>\n",
       "      <td>1900-01-01</td>\n",
       "      <td>False</td>\n",
       "      <td>NaN</td>\n",
       "      <td>NaN</td>\n",
       "      <td>NaN</td>\n",
       "    </tr>\n",
       "    <tr>\n",
       "      <th>606</th>\n",
       "      <td>1129</td>\n",
       "      <td>Marin</td>\n",
       "      <td>Bolton</td>\n",
       "      <td>70</td>\n",
       "      <td>Baton Rouge, LA MSA</td>\n",
       "      <td>2018-11-10</td>\n",
       "      <td>surf</td>\n",
       "      <td>2018-12-27</td>\n",
       "      <td>True</td>\n",
       "      <td>NaN</td>\n",
       "      <td>NaN</td>\n",
       "      <td>NaN</td>\n",
       "    </tr>\n",
       "    <tr>\n",
       "      <th>611</th>\n",
       "      <td>1131</td>\n",
       "      <td>Shane</td>\n",
       "      <td>Morrison</td>\n",
       "      <td>60</td>\n",
       "      <td>Los Angeles-Long Beach-Anaheim, CA MSA</td>\n",
       "      <td>2018-01-07</td>\n",
       "      <td>surf</td>\n",
       "      <td>1900-01-01</td>\n",
       "      <td>False</td>\n",
       "      <td>NaN</td>\n",
       "      <td>NaN</td>\n",
       "      <td>NaN</td>\n",
       "    </tr>\n",
       "    <tr>\n",
       "      <th>635</th>\n",
       "      <td>1137</td>\n",
       "      <td>Allegra</td>\n",
       "      <td>Hopkins</td>\n",
       "      <td>20</td>\n",
       "      <td>Chicago-Naperville-Elgin, IL-IN-WI MSA</td>\n",
       "      <td>2018-10-02</td>\n",
       "      <td>surf</td>\n",
       "      <td>1900-01-01</td>\n",
       "      <td>False</td>\n",
       "      <td>NaN</td>\n",
       "      <td>NaN</td>\n",
       "      <td>NaN</td>\n",
       "    </tr>\n",
       "    <tr>\n",
       "      <th>667</th>\n",
       "      <td>1143</td>\n",
       "      <td>Lorina</td>\n",
       "      <td>Stevens</td>\n",
       "      <td>69</td>\n",
       "      <td>Cincinnati, OH-KY-IN MSA</td>\n",
       "      <td>2018-10-26</td>\n",
       "      <td>surf</td>\n",
       "      <td>1900-01-01</td>\n",
       "      <td>False</td>\n",
       "      <td>NaN</td>\n",
       "      <td>NaN</td>\n",
       "      <td>NaN</td>\n",
       "    </tr>\n",
       "    <tr>\n",
       "      <th>918</th>\n",
       "      <td>1194</td>\n",
       "      <td>Robert</td>\n",
       "      <td>Mclean</td>\n",
       "      <td>40</td>\n",
       "      <td>San Jose-Sunnyvale-Santa Clara, CA MSA</td>\n",
       "      <td>2018-05-31</td>\n",
       "      <td>surf</td>\n",
       "      <td>1900-01-01</td>\n",
       "      <td>False</td>\n",
       "      <td>NaN</td>\n",
       "      <td>NaN</td>\n",
       "      <td>NaN</td>\n",
       "    </tr>\n",
       "    <tr>\n",
       "      <th>968</th>\n",
       "      <td>1204</td>\n",
       "      <td>Sherly</td>\n",
       "      <td>Levy</td>\n",
       "      <td>44</td>\n",
       "      <td>Chicago-Naperville-Elgin, IL-IN-WI MSA</td>\n",
       "      <td>2018-08-20</td>\n",
       "      <td>ultimate</td>\n",
       "      <td>1900-01-01</td>\n",
       "      <td>False</td>\n",
       "      <td>NaN</td>\n",
       "      <td>NaN</td>\n",
       "      <td>NaN</td>\n",
       "    </tr>\n",
       "    <tr>\n",
       "      <th>1264</th>\n",
       "      <td>1269</td>\n",
       "      <td>Irving</td>\n",
       "      <td>Thompson</td>\n",
       "      <td>39</td>\n",
       "      <td>Dallas-Fort Worth-Arlington, TX MSA</td>\n",
       "      <td>2018-09-13</td>\n",
       "      <td>ultimate</td>\n",
       "      <td>2018-12-15</td>\n",
       "      <td>True</td>\n",
       "      <td>NaN</td>\n",
       "      <td>NaN</td>\n",
       "      <td>NaN</td>\n",
       "    </tr>\n",
       "    <tr>\n",
       "      <th>1276</th>\n",
       "      <td>1275</td>\n",
       "      <td>Elvie</td>\n",
       "      <td>Velazquez</td>\n",
       "      <td>33</td>\n",
       "      <td>New York-Newark-Jersey City, NY-NJ-PA MSA</td>\n",
       "      <td>2018-11-29</td>\n",
       "      <td>ultimate</td>\n",
       "      <td>1900-01-01</td>\n",
       "      <td>False</td>\n",
       "      <td>NaN</td>\n",
       "      <td>NaN</td>\n",
       "      <td>NaN</td>\n",
       "    </tr>\n",
       "    <tr>\n",
       "      <th>1397</th>\n",
       "      <td>1307</td>\n",
       "      <td>Kristopher</td>\n",
       "      <td>Lang</td>\n",
       "      <td>28</td>\n",
       "      <td>Boston-Cambridge-Newton, MA-NH MSA</td>\n",
       "      <td>2018-12-31</td>\n",
       "      <td>surf</td>\n",
       "      <td>1900-01-01</td>\n",
       "      <td>False</td>\n",
       "      <td>NaN</td>\n",
       "      <td>NaN</td>\n",
       "      <td>NaN</td>\n",
       "    </tr>\n",
       "    <tr>\n",
       "      <th>1444</th>\n",
       "      <td>1319</td>\n",
       "      <td>Eliseo</td>\n",
       "      <td>Carson</td>\n",
       "      <td>21</td>\n",
       "      <td>Colorado Springs, CO MSA</td>\n",
       "      <td>2018-06-17</td>\n",
       "      <td>surf</td>\n",
       "      <td>1900-01-01</td>\n",
       "      <td>False</td>\n",
       "      <td>NaN</td>\n",
       "      <td>NaN</td>\n",
       "      <td>NaN</td>\n",
       "    </tr>\n",
       "    <tr>\n",
       "      <th>1594</th>\n",
       "      <td>1349</td>\n",
       "      <td>Florentina</td>\n",
       "      <td>Diaz</td>\n",
       "      <td>69</td>\n",
       "      <td>Boston-Cambridge-Newton, MA-NH MSA</td>\n",
       "      <td>2018-10-01</td>\n",
       "      <td>surf</td>\n",
       "      <td>1900-01-01</td>\n",
       "      <td>False</td>\n",
       "      <td>NaN</td>\n",
       "      <td>NaN</td>\n",
       "      <td>NaN</td>\n",
       "    </tr>\n",
       "    <tr>\n",
       "      <th>1737</th>\n",
       "      <td>1378</td>\n",
       "      <td>Mckinley</td>\n",
       "      <td>Clayton</td>\n",
       "      <td>22</td>\n",
       "      <td>Denver-Aurora-Lakewood, CO MSA</td>\n",
       "      <td>2018-12-17</td>\n",
       "      <td>surf</td>\n",
       "      <td>1900-01-01</td>\n",
       "      <td>False</td>\n",
       "      <td>NaN</td>\n",
       "      <td>NaN</td>\n",
       "      <td>NaN</td>\n",
       "    </tr>\n",
       "    <tr>\n",
       "      <th>2114</th>\n",
       "      <td>1463</td>\n",
       "      <td>Dinorah</td>\n",
       "      <td>Simmons</td>\n",
       "      <td>30</td>\n",
       "      <td>Atlanta-Sandy Springs-Roswell, GA MSA</td>\n",
       "      <td>2018-11-27</td>\n",
       "      <td>ultimate</td>\n",
       "      <td>1900-01-01</td>\n",
       "      <td>False</td>\n",
       "      <td>NaN</td>\n",
       "      <td>NaN</td>\n",
       "      <td>NaN</td>\n",
       "    </tr>\n",
       "    <tr>\n",
       "      <th>2164</th>\n",
       "      <td>1473</td>\n",
       "      <td>Kirk</td>\n",
       "      <td>Velez</td>\n",
       "      <td>61</td>\n",
       "      <td>Louisville/Jefferson County, KY-IN MSA</td>\n",
       "      <td>2018-12-31</td>\n",
       "      <td>surf</td>\n",
       "      <td>1900-01-01</td>\n",
       "      <td>False</td>\n",
       "      <td>NaN</td>\n",
       "      <td>NaN</td>\n",
       "      <td>NaN</td>\n",
       "    </tr>\n",
       "  </tbody>\n",
       "</table>\n",
       "</div>"
      ],
      "text/plain": [
       "      user_id  first_name  last_name  age  \\\n",
       "86       1025        Jess  Wilkinson   64   \n",
       "381      1080        Neal      Mcgee   45   \n",
       "422      1089      Malena     Kelley   70   \n",
       "503      1108    Porfirio       Kane   45   \n",
       "565      1121   Kathaleen     Albert   34   \n",
       "606      1129       Marin     Bolton   70   \n",
       "611      1131       Shane   Morrison   60   \n",
       "635      1137     Allegra    Hopkins   20   \n",
       "667      1143      Lorina    Stevens   69   \n",
       "918      1194      Robert     Mclean   40   \n",
       "968      1204      Sherly       Levy   44   \n",
       "1264     1269      Irving   Thompson   39   \n",
       "1276     1275       Elvie  Velazquez   33   \n",
       "1397     1307  Kristopher       Lang   28   \n",
       "1444     1319      Eliseo     Carson   21   \n",
       "1594     1349  Florentina       Diaz   69   \n",
       "1737     1378    Mckinley    Clayton   22   \n",
       "2114     1463     Dinorah    Simmons   30   \n",
       "2164     1473        Kirk      Velez   61   \n",
       "\n",
       "                                                 city   reg_date      plan  \\\n",
       "86              Atlanta-Sandy Springs-Roswell, GA MSA 2018-10-28  ultimate   \n",
       "381         New York-Newark-Jersey City, NY-NJ-PA MSA 2018-08-03      surf   \n",
       "422   Philadelphia-Camden-Wilmington, PA-NJ-DE-MD MSA 2018-09-03      surf   \n",
       "503                            Salt Lake City, UT MSA 2018-12-30  ultimate   \n",
       "565     Miami-Fort Lauderdale-West Palm Beach, FL MSA 2018-03-13      surf   \n",
       "606                               Baton Rouge, LA MSA 2018-11-10      surf   \n",
       "611            Los Angeles-Long Beach-Anaheim, CA MSA 2018-01-07      surf   \n",
       "635            Chicago-Naperville-Elgin, IL-IN-WI MSA 2018-10-02      surf   \n",
       "667                          Cincinnati, OH-KY-IN MSA 2018-10-26      surf   \n",
       "918            San Jose-Sunnyvale-Santa Clara, CA MSA 2018-05-31      surf   \n",
       "968            Chicago-Naperville-Elgin, IL-IN-WI MSA 2018-08-20  ultimate   \n",
       "1264              Dallas-Fort Worth-Arlington, TX MSA 2018-09-13  ultimate   \n",
       "1276        New York-Newark-Jersey City, NY-NJ-PA MSA 2018-11-29  ultimate   \n",
       "1397               Boston-Cambridge-Newton, MA-NH MSA 2018-12-31      surf   \n",
       "1444                         Colorado Springs, CO MSA 2018-06-17      surf   \n",
       "1594               Boston-Cambridge-Newton, MA-NH MSA 2018-10-01      surf   \n",
       "1737                   Denver-Aurora-Lakewood, CO MSA 2018-12-17      surf   \n",
       "2114            Atlanta-Sandy Springs-Roswell, GA MSA 2018-11-27  ultimate   \n",
       "2164           Louisville/Jefferson County, KY-IN MSA 2018-12-31      surf   \n",
       "\n",
       "     churn_date  is_cancelled  month  calls  billable_time  \n",
       "86   1900-01-01         False    NaN    NaN            NaN  \n",
       "381  1900-01-01         False    NaN    NaN            NaN  \n",
       "422  1900-01-01         False    NaN    NaN            NaN  \n",
       "503  1900-01-01         False    NaN    NaN            NaN  \n",
       "565  1900-01-01         False    NaN    NaN            NaN  \n",
       "606  2018-12-27          True    NaN    NaN            NaN  \n",
       "611  1900-01-01         False    NaN    NaN            NaN  \n",
       "635  1900-01-01         False    NaN    NaN            NaN  \n",
       "667  1900-01-01         False    NaN    NaN            NaN  \n",
       "918  1900-01-01         False    NaN    NaN            NaN  \n",
       "968  1900-01-01         False    NaN    NaN            NaN  \n",
       "1264 2018-12-15          True    NaN    NaN            NaN  \n",
       "1276 1900-01-01         False    NaN    NaN            NaN  \n",
       "1397 1900-01-01         False    NaN    NaN            NaN  \n",
       "1444 1900-01-01         False    NaN    NaN            NaN  \n",
       "1594 1900-01-01         False    NaN    NaN            NaN  \n",
       "1737 1900-01-01         False    NaN    NaN            NaN  \n",
       "2114 1900-01-01         False    NaN    NaN            NaN  \n",
       "2164 1900-01-01         False    NaN    NaN            NaN  "
      ]
     },
     "execution_count": 48,
     "metadata": {},
     "output_type": "execute_result"
    }
   ],
   "source": [
    "# check missing values\n",
    "\n",
    "users_data[users_data['month'].isna()]"
   ]
  },
  {
   "cell_type": "markdown",
   "metadata": {},
   "source": [
    "We will be able to fill these values out with null values later on, after we have made a data set that is more complete.\n",
    "\n",
    "Next, we will move onto seeing the amount of text messaging done on a monthly basis."
   ]
  },
  {
   "cell_type": "markdown",
   "metadata": {},
   "source": [
    "### Aggregate texts"
   ]
  },
  {
   "cell_type": "code",
   "execution_count": 49,
   "metadata": {},
   "outputs": [
    {
     "data": {
      "text/html": [
       "<div>\n",
       "<style scoped>\n",
       "    .dataframe tbody tr th:only-of-type {\n",
       "        vertical-align: middle;\n",
       "    }\n",
       "\n",
       "    .dataframe tbody tr th {\n",
       "        vertical-align: top;\n",
       "    }\n",
       "\n",
       "    .dataframe thead th {\n",
       "        text-align: right;\n",
       "    }\n",
       "</style>\n",
       "<table border=\"1\" class=\"dataframe\">\n",
       "  <thead>\n",
       "    <tr style=\"text-align: right;\">\n",
       "      <th></th>\n",
       "      <th>user_id</th>\n",
       "      <th>month</th>\n",
       "      <th>id</th>\n",
       "    </tr>\n",
       "  </thead>\n",
       "  <tbody>\n",
       "    <tr>\n",
       "      <th>0</th>\n",
       "      <td>1000</td>\n",
       "      <td>12</td>\n",
       "      <td>11</td>\n",
       "    </tr>\n",
       "    <tr>\n",
       "      <th>1</th>\n",
       "      <td>1001</td>\n",
       "      <td>8</td>\n",
       "      <td>30</td>\n",
       "    </tr>\n",
       "    <tr>\n",
       "      <th>2</th>\n",
       "      <td>1001</td>\n",
       "      <td>9</td>\n",
       "      <td>44</td>\n",
       "    </tr>\n",
       "    <tr>\n",
       "      <th>3</th>\n",
       "      <td>1001</td>\n",
       "      <td>10</td>\n",
       "      <td>53</td>\n",
       "    </tr>\n",
       "    <tr>\n",
       "      <th>4</th>\n",
       "      <td>1001</td>\n",
       "      <td>11</td>\n",
       "      <td>36</td>\n",
       "    </tr>\n",
       "    <tr>\n",
       "      <th>...</th>\n",
       "      <td>...</td>\n",
       "      <td>...</td>\n",
       "      <td>...</td>\n",
       "    </tr>\n",
       "    <tr>\n",
       "      <th>1801</th>\n",
       "      <td>1496</td>\n",
       "      <td>9</td>\n",
       "      <td>21</td>\n",
       "    </tr>\n",
       "    <tr>\n",
       "      <th>1802</th>\n",
       "      <td>1496</td>\n",
       "      <td>10</td>\n",
       "      <td>18</td>\n",
       "    </tr>\n",
       "    <tr>\n",
       "      <th>1803</th>\n",
       "      <td>1496</td>\n",
       "      <td>11</td>\n",
       "      <td>13</td>\n",
       "    </tr>\n",
       "    <tr>\n",
       "      <th>1804</th>\n",
       "      <td>1496</td>\n",
       "      <td>12</td>\n",
       "      <td>11</td>\n",
       "    </tr>\n",
       "    <tr>\n",
       "      <th>1805</th>\n",
       "      <td>1497</td>\n",
       "      <td>12</td>\n",
       "      <td>50</td>\n",
       "    </tr>\n",
       "  </tbody>\n",
       "</table>\n",
       "<p>1806 rows × 3 columns</p>\n",
       "</div>"
      ],
      "text/plain": [
       "      user_id  month  id\n",
       "0        1000     12  11\n",
       "1        1001      8  30\n",
       "2        1001      9  44\n",
       "3        1001     10  53\n",
       "4        1001     11  36\n",
       "...       ...    ...  ..\n",
       "1801     1496      9  21\n",
       "1802     1496     10  18\n",
       "1803     1496     11  13\n",
       "1804     1496     12  11\n",
       "1805     1497     12  50\n",
       "\n",
       "[1806 rows x 3 columns]"
      ]
     },
     "execution_count": 49,
     "metadata": {},
     "output_type": "execute_result"
    }
   ],
   "source": [
    "# Calculate the number of messages sent by each user per month. Save the result.\n",
    "\n",
    "texts_per_month = messages.pivot_table(\n",
    "    index=['user_id', 'month'], \n",
    "    values = 'id', \n",
    "    aggfunc='count', \n",
    "    margins=False).reset_index()\n",
    "texts_per_month"
   ]
  },
  {
   "cell_type": "code",
   "execution_count": 50,
   "metadata": {},
   "outputs": [
    {
     "data": {
      "text/html": [
       "<div>\n",
       "<style scoped>\n",
       "    .dataframe tbody tr th:only-of-type {\n",
       "        vertical-align: middle;\n",
       "    }\n",
       "\n",
       "    .dataframe tbody tr th {\n",
       "        vertical-align: top;\n",
       "    }\n",
       "\n",
       "    .dataframe thead th {\n",
       "        text-align: right;\n",
       "    }\n",
       "</style>\n",
       "<table border=\"1\" class=\"dataframe\">\n",
       "  <thead>\n",
       "    <tr style=\"text-align: right;\">\n",
       "      <th></th>\n",
       "      <th>user_id</th>\n",
       "      <th>month</th>\n",
       "      <th>id</th>\n",
       "    </tr>\n",
       "  </thead>\n",
       "  <tbody>\n",
       "    <tr>\n",
       "      <th>count</th>\n",
       "      <td>1806.000000</td>\n",
       "      <td>1806.000000</td>\n",
       "      <td>1806.000000</td>\n",
       "    </tr>\n",
       "    <tr>\n",
       "      <th>mean</th>\n",
       "      <td>1245.091916</td>\n",
       "      <td>9.260797</td>\n",
       "      <td>42.110188</td>\n",
       "    </tr>\n",
       "    <tr>\n",
       "      <th>std</th>\n",
       "      <td>139.583315</td>\n",
       "      <td>2.443621</td>\n",
       "      <td>33.122931</td>\n",
       "    </tr>\n",
       "    <tr>\n",
       "      <th>min</th>\n",
       "      <td>1000.000000</td>\n",
       "      <td>1.000000</td>\n",
       "      <td>1.000000</td>\n",
       "    </tr>\n",
       "    <tr>\n",
       "      <th>25%</th>\n",
       "      <td>1126.250000</td>\n",
       "      <td>8.000000</td>\n",
       "      <td>17.000000</td>\n",
       "    </tr>\n",
       "    <tr>\n",
       "      <th>50%</th>\n",
       "      <td>1245.000000</td>\n",
       "      <td>10.000000</td>\n",
       "      <td>34.000000</td>\n",
       "    </tr>\n",
       "    <tr>\n",
       "      <th>75%</th>\n",
       "      <td>1362.000000</td>\n",
       "      <td>11.000000</td>\n",
       "      <td>59.000000</td>\n",
       "    </tr>\n",
       "    <tr>\n",
       "      <th>max</th>\n",
       "      <td>1497.000000</td>\n",
       "      <td>12.000000</td>\n",
       "      <td>266.000000</td>\n",
       "    </tr>\n",
       "  </tbody>\n",
       "</table>\n",
       "</div>"
      ],
      "text/plain": [
       "           user_id        month           id\n",
       "count  1806.000000  1806.000000  1806.000000\n",
       "mean   1245.091916     9.260797    42.110188\n",
       "std     139.583315     2.443621    33.122931\n",
       "min    1000.000000     1.000000     1.000000\n",
       "25%    1126.250000     8.000000    17.000000\n",
       "50%    1245.000000    10.000000    34.000000\n",
       "75%    1362.000000    11.000000    59.000000\n",
       "max    1497.000000    12.000000   266.000000"
      ]
     },
     "execution_count": 50,
     "metadata": {},
     "output_type": "execute_result"
    }
   ],
   "source": [
    "# view data\n",
    "\n",
    "texts_per_month.describe()"
   ]
  },
  {
   "cell_type": "code",
   "execution_count": 51,
   "metadata": {},
   "outputs": [
    {
     "data": {
      "text/html": [
       "<div>\n",
       "<style scoped>\n",
       "    .dataframe tbody tr th:only-of-type {\n",
       "        vertical-align: middle;\n",
       "    }\n",
       "\n",
       "    .dataframe tbody tr th {\n",
       "        vertical-align: top;\n",
       "    }\n",
       "\n",
       "    .dataframe thead th {\n",
       "        text-align: right;\n",
       "    }\n",
       "</style>\n",
       "<table border=\"1\" class=\"dataframe\">\n",
       "  <thead>\n",
       "    <tr style=\"text-align: right;\">\n",
       "      <th></th>\n",
       "      <th>user_id</th>\n",
       "      <th>first_name</th>\n",
       "      <th>last_name</th>\n",
       "      <th>age</th>\n",
       "      <th>city</th>\n",
       "      <th>reg_date</th>\n",
       "      <th>plan</th>\n",
       "      <th>churn_date</th>\n",
       "      <th>is_cancelled</th>\n",
       "      <th>month</th>\n",
       "      <th>calls</th>\n",
       "      <th>billable_time</th>\n",
       "      <th>texts</th>\n",
       "    </tr>\n",
       "  </thead>\n",
       "  <tbody>\n",
       "    <tr>\n",
       "      <th>0</th>\n",
       "      <td>1000</td>\n",
       "      <td>Anamaria</td>\n",
       "      <td>Bauer</td>\n",
       "      <td>45</td>\n",
       "      <td>Atlanta-Sandy Springs-Roswell, GA MSA</td>\n",
       "      <td>2018-12-24</td>\n",
       "      <td>ultimate</td>\n",
       "      <td>1900-01-01</td>\n",
       "      <td>False</td>\n",
       "      <td>12.0</td>\n",
       "      <td>16.0</td>\n",
       "      <td>124.0</td>\n",
       "      <td>11.0</td>\n",
       "    </tr>\n",
       "    <tr>\n",
       "      <th>1</th>\n",
       "      <td>1001</td>\n",
       "      <td>Mickey</td>\n",
       "      <td>Wilkerson</td>\n",
       "      <td>28</td>\n",
       "      <td>Seattle-Tacoma-Bellevue, WA MSA</td>\n",
       "      <td>2018-08-13</td>\n",
       "      <td>surf</td>\n",
       "      <td>1900-01-01</td>\n",
       "      <td>False</td>\n",
       "      <td>8.0</td>\n",
       "      <td>27.0</td>\n",
       "      <td>182.0</td>\n",
       "      <td>30.0</td>\n",
       "    </tr>\n",
       "    <tr>\n",
       "      <th>2</th>\n",
       "      <td>1001</td>\n",
       "      <td>Mickey</td>\n",
       "      <td>Wilkerson</td>\n",
       "      <td>28</td>\n",
       "      <td>Seattle-Tacoma-Bellevue, WA MSA</td>\n",
       "      <td>2018-08-13</td>\n",
       "      <td>surf</td>\n",
       "      <td>1900-01-01</td>\n",
       "      <td>False</td>\n",
       "      <td>9.0</td>\n",
       "      <td>49.0</td>\n",
       "      <td>315.0</td>\n",
       "      <td>44.0</td>\n",
       "    </tr>\n",
       "    <tr>\n",
       "      <th>3</th>\n",
       "      <td>1001</td>\n",
       "      <td>Mickey</td>\n",
       "      <td>Wilkerson</td>\n",
       "      <td>28</td>\n",
       "      <td>Seattle-Tacoma-Bellevue, WA MSA</td>\n",
       "      <td>2018-08-13</td>\n",
       "      <td>surf</td>\n",
       "      <td>1900-01-01</td>\n",
       "      <td>False</td>\n",
       "      <td>10.0</td>\n",
       "      <td>65.0</td>\n",
       "      <td>393.0</td>\n",
       "      <td>53.0</td>\n",
       "    </tr>\n",
       "    <tr>\n",
       "      <th>4</th>\n",
       "      <td>1001</td>\n",
       "      <td>Mickey</td>\n",
       "      <td>Wilkerson</td>\n",
       "      <td>28</td>\n",
       "      <td>Seattle-Tacoma-Bellevue, WA MSA</td>\n",
       "      <td>2018-08-13</td>\n",
       "      <td>surf</td>\n",
       "      <td>1900-01-01</td>\n",
       "      <td>False</td>\n",
       "      <td>11.0</td>\n",
       "      <td>64.0</td>\n",
       "      <td>426.0</td>\n",
       "      <td>36.0</td>\n",
       "    </tr>\n",
       "  </tbody>\n",
       "</table>\n",
       "</div>"
      ],
      "text/plain": [
       "   user_id first_name  last_name  age                                   city  \\\n",
       "0     1000   Anamaria      Bauer   45  Atlanta-Sandy Springs-Roswell, GA MSA   \n",
       "1     1001     Mickey  Wilkerson   28        Seattle-Tacoma-Bellevue, WA MSA   \n",
       "2     1001     Mickey  Wilkerson   28        Seattle-Tacoma-Bellevue, WA MSA   \n",
       "3     1001     Mickey  Wilkerson   28        Seattle-Tacoma-Bellevue, WA MSA   \n",
       "4     1001     Mickey  Wilkerson   28        Seattle-Tacoma-Bellevue, WA MSA   \n",
       "\n",
       "    reg_date      plan churn_date  is_cancelled  month  calls  billable_time  \\\n",
       "0 2018-12-24  ultimate 1900-01-01         False   12.0   16.0          124.0   \n",
       "1 2018-08-13      surf 1900-01-01         False    8.0   27.0          182.0   \n",
       "2 2018-08-13      surf 1900-01-01         False    9.0   49.0          315.0   \n",
       "3 2018-08-13      surf 1900-01-01         False   10.0   65.0          393.0   \n",
       "4 2018-08-13      surf 1900-01-01         False   11.0   64.0          426.0   \n",
       "\n",
       "   texts  \n",
       "0   11.0  \n",
       "1   30.0  \n",
       "2   44.0  \n",
       "3   53.0  \n",
       "4   36.0  "
      ]
     },
     "execution_count": 51,
     "metadata": {},
     "output_type": "execute_result"
    }
   ],
   "source": [
    "# merge in monthly texts\n",
    "\n",
    "users_data = users_data.merge(texts_per_month, on= ['user_id', 'month'], how = 'left')\n",
    "\n",
    "# original monthly calls data is defined as 'id', change that column to 'calls_per_month'\n",
    "\n",
    "users_data.rename(columns={'id' : 'texts'}, inplace=True)\n",
    "\n",
    "# check data frame\n",
    "\n",
    "users_data.head()"
   ]
  },
  {
   "cell_type": "code",
   "execution_count": 52,
   "metadata": {},
   "outputs": [
    {
     "data": {
      "text/html": [
       "<div>\n",
       "<style scoped>\n",
       "    .dataframe tbody tr th:only-of-type {\n",
       "        vertical-align: middle;\n",
       "    }\n",
       "\n",
       "    .dataframe tbody tr th {\n",
       "        vertical-align: top;\n",
       "    }\n",
       "\n",
       "    .dataframe thead th {\n",
       "        text-align: right;\n",
       "    }\n",
       "</style>\n",
       "<table border=\"1\" class=\"dataframe\">\n",
       "  <thead>\n",
       "    <tr style=\"text-align: right;\">\n",
       "      <th></th>\n",
       "      <th>user_id</th>\n",
       "      <th>age</th>\n",
       "      <th>month</th>\n",
       "      <th>calls</th>\n",
       "      <th>billable_time</th>\n",
       "      <th>texts</th>\n",
       "    </tr>\n",
       "  </thead>\n",
       "  <tbody>\n",
       "    <tr>\n",
       "      <th>count</th>\n",
       "      <td>2277.000000</td>\n",
       "      <td>2277.000000</td>\n",
       "      <td>2258.000000</td>\n",
       "      <td>2258.000000</td>\n",
       "      <td>2258.000000</td>\n",
       "      <td>1773.000000</td>\n",
       "    </tr>\n",
       "    <tr>\n",
       "      <th>mean</th>\n",
       "      <td>1246.955204</td>\n",
       "      <td>45.354853</td>\n",
       "      <td>9.167405</td>\n",
       "      <td>60.998671</td>\n",
       "      <td>435.937555</td>\n",
       "      <td>42.095319</td>\n",
       "    </tr>\n",
       "    <tr>\n",
       "      <th>std</th>\n",
       "      <td>143.248085</td>\n",
       "      <td>16.788738</td>\n",
       "      <td>2.495785</td>\n",
       "      <td>31.770869</td>\n",
       "      <td>231.972343</td>\n",
       "      <td>33.234773</td>\n",
       "    </tr>\n",
       "    <tr>\n",
       "      <th>min</th>\n",
       "      <td>1000.000000</td>\n",
       "      <td>18.000000</td>\n",
       "      <td>1.000000</td>\n",
       "      <td>1.000000</td>\n",
       "      <td>0.000000</td>\n",
       "      <td>1.000000</td>\n",
       "    </tr>\n",
       "    <tr>\n",
       "      <th>25%</th>\n",
       "      <td>1122.000000</td>\n",
       "      <td>30.000000</td>\n",
       "      <td>8.000000</td>\n",
       "      <td>39.000000</td>\n",
       "      <td>275.000000</td>\n",
       "      <td>17.000000</td>\n",
       "    </tr>\n",
       "    <tr>\n",
       "      <th>50%</th>\n",
       "      <td>1246.000000</td>\n",
       "      <td>46.000000</td>\n",
       "      <td>10.000000</td>\n",
       "      <td>60.000000</td>\n",
       "      <td>429.000000</td>\n",
       "      <td>34.000000</td>\n",
       "    </tr>\n",
       "    <tr>\n",
       "      <th>75%</th>\n",
       "      <td>1370.000000</td>\n",
       "      <td>61.000000</td>\n",
       "      <td>11.000000</td>\n",
       "      <td>80.000000</td>\n",
       "      <td>574.750000</td>\n",
       "      <td>59.000000</td>\n",
       "    </tr>\n",
       "    <tr>\n",
       "      <th>max</th>\n",
       "      <td>1499.000000</td>\n",
       "      <td>75.000000</td>\n",
       "      <td>12.000000</td>\n",
       "      <td>205.000000</td>\n",
       "      <td>1510.000000</td>\n",
       "      <td>266.000000</td>\n",
       "    </tr>\n",
       "  </tbody>\n",
       "</table>\n",
       "</div>"
      ],
      "text/plain": [
       "           user_id          age        month        calls  billable_time  \\\n",
       "count  2277.000000  2277.000000  2258.000000  2258.000000    2258.000000   \n",
       "mean   1246.955204    45.354853     9.167405    60.998671     435.937555   \n",
       "std     143.248085    16.788738     2.495785    31.770869     231.972343   \n",
       "min    1000.000000    18.000000     1.000000     1.000000       0.000000   \n",
       "25%    1122.000000    30.000000     8.000000    39.000000     275.000000   \n",
       "50%    1246.000000    46.000000    10.000000    60.000000     429.000000   \n",
       "75%    1370.000000    61.000000    11.000000    80.000000     574.750000   \n",
       "max    1499.000000    75.000000    12.000000   205.000000    1510.000000   \n",
       "\n",
       "             texts  \n",
       "count  1773.000000  \n",
       "mean     42.095319  \n",
       "std      33.234773  \n",
       "min       1.000000  \n",
       "25%      17.000000  \n",
       "50%      34.000000  \n",
       "75%      59.000000  \n",
       "max     266.000000  "
      ]
     },
     "execution_count": 52,
     "metadata": {},
     "output_type": "execute_result"
    }
   ],
   "source": [
    "# view data\n",
    "\n",
    "users_data.describe()"
   ]
  },
  {
   "cell_type": "markdown",
   "metadata": {},
   "source": [
    "There are significantly fewer texts than there are phone calls. Even as recent as 2018, there still are people who simply don't like texting. Interestingly, we can note that there now are more values from the \"month\" column. The reason is simple: some of the users who had null values in that column"
   ]
  },
  {
   "cell_type": "code",
   "execution_count": 53,
   "metadata": {},
   "outputs": [
    {
     "data": {
      "text/html": [
       "<div>\n",
       "<style scoped>\n",
       "    .dataframe tbody tr th:only-of-type {\n",
       "        vertical-align: middle;\n",
       "    }\n",
       "\n",
       "    .dataframe tbody tr th {\n",
       "        vertical-align: top;\n",
       "    }\n",
       "\n",
       "    .dataframe thead th {\n",
       "        text-align: right;\n",
       "    }\n",
       "</style>\n",
       "<table border=\"1\" class=\"dataframe\">\n",
       "  <thead>\n",
       "    <tr style=\"text-align: right;\">\n",
       "      <th></th>\n",
       "      <th>user_id</th>\n",
       "      <th>first_name</th>\n",
       "      <th>last_name</th>\n",
       "      <th>age</th>\n",
       "      <th>city</th>\n",
       "      <th>reg_date</th>\n",
       "      <th>plan</th>\n",
       "      <th>churn_date</th>\n",
       "      <th>is_cancelled</th>\n",
       "      <th>month</th>\n",
       "      <th>calls</th>\n",
       "      <th>billable_time</th>\n",
       "      <th>texts</th>\n",
       "    </tr>\n",
       "  </thead>\n",
       "  <tbody>\n",
       "    <tr>\n",
       "      <th>86</th>\n",
       "      <td>1025</td>\n",
       "      <td>Jess</td>\n",
       "      <td>Wilkinson</td>\n",
       "      <td>64</td>\n",
       "      <td>Atlanta-Sandy Springs-Roswell, GA MSA</td>\n",
       "      <td>2018-10-28</td>\n",
       "      <td>ultimate</td>\n",
       "      <td>1900-01-01</td>\n",
       "      <td>False</td>\n",
       "      <td>NaN</td>\n",
       "      <td>NaN</td>\n",
       "      <td>NaN</td>\n",
       "      <td>NaN</td>\n",
       "    </tr>\n",
       "    <tr>\n",
       "      <th>381</th>\n",
       "      <td>1080</td>\n",
       "      <td>Neal</td>\n",
       "      <td>Mcgee</td>\n",
       "      <td>45</td>\n",
       "      <td>New York-Newark-Jersey City, NY-NJ-PA MSA</td>\n",
       "      <td>2018-08-03</td>\n",
       "      <td>surf</td>\n",
       "      <td>1900-01-01</td>\n",
       "      <td>False</td>\n",
       "      <td>NaN</td>\n",
       "      <td>NaN</td>\n",
       "      <td>NaN</td>\n",
       "      <td>NaN</td>\n",
       "    </tr>\n",
       "    <tr>\n",
       "      <th>422</th>\n",
       "      <td>1089</td>\n",
       "      <td>Malena</td>\n",
       "      <td>Kelley</td>\n",
       "      <td>70</td>\n",
       "      <td>Philadelphia-Camden-Wilmington, PA-NJ-DE-MD MSA</td>\n",
       "      <td>2018-09-03</td>\n",
       "      <td>surf</td>\n",
       "      <td>1900-01-01</td>\n",
       "      <td>False</td>\n",
       "      <td>NaN</td>\n",
       "      <td>NaN</td>\n",
       "      <td>NaN</td>\n",
       "      <td>NaN</td>\n",
       "    </tr>\n",
       "    <tr>\n",
       "      <th>503</th>\n",
       "      <td>1108</td>\n",
       "      <td>Porfirio</td>\n",
       "      <td>Kane</td>\n",
       "      <td>45</td>\n",
       "      <td>Salt Lake City, UT MSA</td>\n",
       "      <td>2018-12-30</td>\n",
       "      <td>ultimate</td>\n",
       "      <td>1900-01-01</td>\n",
       "      <td>False</td>\n",
       "      <td>NaN</td>\n",
       "      <td>NaN</td>\n",
       "      <td>NaN</td>\n",
       "      <td>NaN</td>\n",
       "    </tr>\n",
       "    <tr>\n",
       "      <th>565</th>\n",
       "      <td>1121</td>\n",
       "      <td>Kathaleen</td>\n",
       "      <td>Albert</td>\n",
       "      <td>34</td>\n",
       "      <td>Miami-Fort Lauderdale-West Palm Beach, FL MSA</td>\n",
       "      <td>2018-03-13</td>\n",
       "      <td>surf</td>\n",
       "      <td>1900-01-01</td>\n",
       "      <td>False</td>\n",
       "      <td>NaN</td>\n",
       "      <td>NaN</td>\n",
       "      <td>NaN</td>\n",
       "      <td>NaN</td>\n",
       "    </tr>\n",
       "    <tr>\n",
       "      <th>606</th>\n",
       "      <td>1129</td>\n",
       "      <td>Marin</td>\n",
       "      <td>Bolton</td>\n",
       "      <td>70</td>\n",
       "      <td>Baton Rouge, LA MSA</td>\n",
       "      <td>2018-11-10</td>\n",
       "      <td>surf</td>\n",
       "      <td>2018-12-27</td>\n",
       "      <td>True</td>\n",
       "      <td>NaN</td>\n",
       "      <td>NaN</td>\n",
       "      <td>NaN</td>\n",
       "      <td>NaN</td>\n",
       "    </tr>\n",
       "    <tr>\n",
       "      <th>611</th>\n",
       "      <td>1131</td>\n",
       "      <td>Shane</td>\n",
       "      <td>Morrison</td>\n",
       "      <td>60</td>\n",
       "      <td>Los Angeles-Long Beach-Anaheim, CA MSA</td>\n",
       "      <td>2018-01-07</td>\n",
       "      <td>surf</td>\n",
       "      <td>1900-01-01</td>\n",
       "      <td>False</td>\n",
       "      <td>NaN</td>\n",
       "      <td>NaN</td>\n",
       "      <td>NaN</td>\n",
       "      <td>NaN</td>\n",
       "    </tr>\n",
       "    <tr>\n",
       "      <th>635</th>\n",
       "      <td>1137</td>\n",
       "      <td>Allegra</td>\n",
       "      <td>Hopkins</td>\n",
       "      <td>20</td>\n",
       "      <td>Chicago-Naperville-Elgin, IL-IN-WI MSA</td>\n",
       "      <td>2018-10-02</td>\n",
       "      <td>surf</td>\n",
       "      <td>1900-01-01</td>\n",
       "      <td>False</td>\n",
       "      <td>NaN</td>\n",
       "      <td>NaN</td>\n",
       "      <td>NaN</td>\n",
       "      <td>NaN</td>\n",
       "    </tr>\n",
       "    <tr>\n",
       "      <th>667</th>\n",
       "      <td>1143</td>\n",
       "      <td>Lorina</td>\n",
       "      <td>Stevens</td>\n",
       "      <td>69</td>\n",
       "      <td>Cincinnati, OH-KY-IN MSA</td>\n",
       "      <td>2018-10-26</td>\n",
       "      <td>surf</td>\n",
       "      <td>1900-01-01</td>\n",
       "      <td>False</td>\n",
       "      <td>NaN</td>\n",
       "      <td>NaN</td>\n",
       "      <td>NaN</td>\n",
       "      <td>NaN</td>\n",
       "    </tr>\n",
       "    <tr>\n",
       "      <th>918</th>\n",
       "      <td>1194</td>\n",
       "      <td>Robert</td>\n",
       "      <td>Mclean</td>\n",
       "      <td>40</td>\n",
       "      <td>San Jose-Sunnyvale-Santa Clara, CA MSA</td>\n",
       "      <td>2018-05-31</td>\n",
       "      <td>surf</td>\n",
       "      <td>1900-01-01</td>\n",
       "      <td>False</td>\n",
       "      <td>NaN</td>\n",
       "      <td>NaN</td>\n",
       "      <td>NaN</td>\n",
       "      <td>NaN</td>\n",
       "    </tr>\n",
       "    <tr>\n",
       "      <th>968</th>\n",
       "      <td>1204</td>\n",
       "      <td>Sherly</td>\n",
       "      <td>Levy</td>\n",
       "      <td>44</td>\n",
       "      <td>Chicago-Naperville-Elgin, IL-IN-WI MSA</td>\n",
       "      <td>2018-08-20</td>\n",
       "      <td>ultimate</td>\n",
       "      <td>1900-01-01</td>\n",
       "      <td>False</td>\n",
       "      <td>NaN</td>\n",
       "      <td>NaN</td>\n",
       "      <td>NaN</td>\n",
       "      <td>NaN</td>\n",
       "    </tr>\n",
       "    <tr>\n",
       "      <th>1264</th>\n",
       "      <td>1269</td>\n",
       "      <td>Irving</td>\n",
       "      <td>Thompson</td>\n",
       "      <td>39</td>\n",
       "      <td>Dallas-Fort Worth-Arlington, TX MSA</td>\n",
       "      <td>2018-09-13</td>\n",
       "      <td>ultimate</td>\n",
       "      <td>2018-12-15</td>\n",
       "      <td>True</td>\n",
       "      <td>NaN</td>\n",
       "      <td>NaN</td>\n",
       "      <td>NaN</td>\n",
       "      <td>NaN</td>\n",
       "    </tr>\n",
       "    <tr>\n",
       "      <th>1276</th>\n",
       "      <td>1275</td>\n",
       "      <td>Elvie</td>\n",
       "      <td>Velazquez</td>\n",
       "      <td>33</td>\n",
       "      <td>New York-Newark-Jersey City, NY-NJ-PA MSA</td>\n",
       "      <td>2018-11-29</td>\n",
       "      <td>ultimate</td>\n",
       "      <td>1900-01-01</td>\n",
       "      <td>False</td>\n",
       "      <td>NaN</td>\n",
       "      <td>NaN</td>\n",
       "      <td>NaN</td>\n",
       "      <td>NaN</td>\n",
       "    </tr>\n",
       "    <tr>\n",
       "      <th>1397</th>\n",
       "      <td>1307</td>\n",
       "      <td>Kristopher</td>\n",
       "      <td>Lang</td>\n",
       "      <td>28</td>\n",
       "      <td>Boston-Cambridge-Newton, MA-NH MSA</td>\n",
       "      <td>2018-12-31</td>\n",
       "      <td>surf</td>\n",
       "      <td>1900-01-01</td>\n",
       "      <td>False</td>\n",
       "      <td>NaN</td>\n",
       "      <td>NaN</td>\n",
       "      <td>NaN</td>\n",
       "      <td>NaN</td>\n",
       "    </tr>\n",
       "    <tr>\n",
       "      <th>1444</th>\n",
       "      <td>1319</td>\n",
       "      <td>Eliseo</td>\n",
       "      <td>Carson</td>\n",
       "      <td>21</td>\n",
       "      <td>Colorado Springs, CO MSA</td>\n",
       "      <td>2018-06-17</td>\n",
       "      <td>surf</td>\n",
       "      <td>1900-01-01</td>\n",
       "      <td>False</td>\n",
       "      <td>NaN</td>\n",
       "      <td>NaN</td>\n",
       "      <td>NaN</td>\n",
       "      <td>NaN</td>\n",
       "    </tr>\n",
       "    <tr>\n",
       "      <th>1594</th>\n",
       "      <td>1349</td>\n",
       "      <td>Florentina</td>\n",
       "      <td>Diaz</td>\n",
       "      <td>69</td>\n",
       "      <td>Boston-Cambridge-Newton, MA-NH MSA</td>\n",
       "      <td>2018-10-01</td>\n",
       "      <td>surf</td>\n",
       "      <td>1900-01-01</td>\n",
       "      <td>False</td>\n",
       "      <td>NaN</td>\n",
       "      <td>NaN</td>\n",
       "      <td>NaN</td>\n",
       "      <td>NaN</td>\n",
       "    </tr>\n",
       "    <tr>\n",
       "      <th>1737</th>\n",
       "      <td>1378</td>\n",
       "      <td>Mckinley</td>\n",
       "      <td>Clayton</td>\n",
       "      <td>22</td>\n",
       "      <td>Denver-Aurora-Lakewood, CO MSA</td>\n",
       "      <td>2018-12-17</td>\n",
       "      <td>surf</td>\n",
       "      <td>1900-01-01</td>\n",
       "      <td>False</td>\n",
       "      <td>NaN</td>\n",
       "      <td>NaN</td>\n",
       "      <td>NaN</td>\n",
       "      <td>NaN</td>\n",
       "    </tr>\n",
       "    <tr>\n",
       "      <th>2114</th>\n",
       "      <td>1463</td>\n",
       "      <td>Dinorah</td>\n",
       "      <td>Simmons</td>\n",
       "      <td>30</td>\n",
       "      <td>Atlanta-Sandy Springs-Roswell, GA MSA</td>\n",
       "      <td>2018-11-27</td>\n",
       "      <td>ultimate</td>\n",
       "      <td>1900-01-01</td>\n",
       "      <td>False</td>\n",
       "      <td>NaN</td>\n",
       "      <td>NaN</td>\n",
       "      <td>NaN</td>\n",
       "      <td>NaN</td>\n",
       "    </tr>\n",
       "    <tr>\n",
       "      <th>2164</th>\n",
       "      <td>1473</td>\n",
       "      <td>Kirk</td>\n",
       "      <td>Velez</td>\n",
       "      <td>61</td>\n",
       "      <td>Louisville/Jefferson County, KY-IN MSA</td>\n",
       "      <td>2018-12-31</td>\n",
       "      <td>surf</td>\n",
       "      <td>1900-01-01</td>\n",
       "      <td>False</td>\n",
       "      <td>NaN</td>\n",
       "      <td>NaN</td>\n",
       "      <td>NaN</td>\n",
       "      <td>NaN</td>\n",
       "    </tr>\n",
       "  </tbody>\n",
       "</table>\n",
       "</div>"
      ],
      "text/plain": [
       "      user_id  first_name  last_name  age  \\\n",
       "86       1025        Jess  Wilkinson   64   \n",
       "381      1080        Neal      Mcgee   45   \n",
       "422      1089      Malena     Kelley   70   \n",
       "503      1108    Porfirio       Kane   45   \n",
       "565      1121   Kathaleen     Albert   34   \n",
       "606      1129       Marin     Bolton   70   \n",
       "611      1131       Shane   Morrison   60   \n",
       "635      1137     Allegra    Hopkins   20   \n",
       "667      1143      Lorina    Stevens   69   \n",
       "918      1194      Robert     Mclean   40   \n",
       "968      1204      Sherly       Levy   44   \n",
       "1264     1269      Irving   Thompson   39   \n",
       "1276     1275       Elvie  Velazquez   33   \n",
       "1397     1307  Kristopher       Lang   28   \n",
       "1444     1319      Eliseo     Carson   21   \n",
       "1594     1349  Florentina       Diaz   69   \n",
       "1737     1378    Mckinley    Clayton   22   \n",
       "2114     1463     Dinorah    Simmons   30   \n",
       "2164     1473        Kirk      Velez   61   \n",
       "\n",
       "                                                 city   reg_date      plan  \\\n",
       "86              Atlanta-Sandy Springs-Roswell, GA MSA 2018-10-28  ultimate   \n",
       "381         New York-Newark-Jersey City, NY-NJ-PA MSA 2018-08-03      surf   \n",
       "422   Philadelphia-Camden-Wilmington, PA-NJ-DE-MD MSA 2018-09-03      surf   \n",
       "503                            Salt Lake City, UT MSA 2018-12-30  ultimate   \n",
       "565     Miami-Fort Lauderdale-West Palm Beach, FL MSA 2018-03-13      surf   \n",
       "606                               Baton Rouge, LA MSA 2018-11-10      surf   \n",
       "611            Los Angeles-Long Beach-Anaheim, CA MSA 2018-01-07      surf   \n",
       "635            Chicago-Naperville-Elgin, IL-IN-WI MSA 2018-10-02      surf   \n",
       "667                          Cincinnati, OH-KY-IN MSA 2018-10-26      surf   \n",
       "918            San Jose-Sunnyvale-Santa Clara, CA MSA 2018-05-31      surf   \n",
       "968            Chicago-Naperville-Elgin, IL-IN-WI MSA 2018-08-20  ultimate   \n",
       "1264              Dallas-Fort Worth-Arlington, TX MSA 2018-09-13  ultimate   \n",
       "1276        New York-Newark-Jersey City, NY-NJ-PA MSA 2018-11-29  ultimate   \n",
       "1397               Boston-Cambridge-Newton, MA-NH MSA 2018-12-31      surf   \n",
       "1444                         Colorado Springs, CO MSA 2018-06-17      surf   \n",
       "1594               Boston-Cambridge-Newton, MA-NH MSA 2018-10-01      surf   \n",
       "1737                   Denver-Aurora-Lakewood, CO MSA 2018-12-17      surf   \n",
       "2114            Atlanta-Sandy Springs-Roswell, GA MSA 2018-11-27  ultimate   \n",
       "2164           Louisville/Jefferson County, KY-IN MSA 2018-12-31      surf   \n",
       "\n",
       "     churn_date  is_cancelled  month  calls  billable_time  texts  \n",
       "86   1900-01-01         False    NaN    NaN            NaN    NaN  \n",
       "381  1900-01-01         False    NaN    NaN            NaN    NaN  \n",
       "422  1900-01-01         False    NaN    NaN            NaN    NaN  \n",
       "503  1900-01-01         False    NaN    NaN            NaN    NaN  \n",
       "565  1900-01-01         False    NaN    NaN            NaN    NaN  \n",
       "606  2018-12-27          True    NaN    NaN            NaN    NaN  \n",
       "611  1900-01-01         False    NaN    NaN            NaN    NaN  \n",
       "635  1900-01-01         False    NaN    NaN            NaN    NaN  \n",
       "667  1900-01-01         False    NaN    NaN            NaN    NaN  \n",
       "918  1900-01-01         False    NaN    NaN            NaN    NaN  \n",
       "968  1900-01-01         False    NaN    NaN            NaN    NaN  \n",
       "1264 2018-12-15          True    NaN    NaN            NaN    NaN  \n",
       "1276 1900-01-01         False    NaN    NaN            NaN    NaN  \n",
       "1397 1900-01-01         False    NaN    NaN            NaN    NaN  \n",
       "1444 1900-01-01         False    NaN    NaN            NaN    NaN  \n",
       "1594 1900-01-01         False    NaN    NaN            NaN    NaN  \n",
       "1737 1900-01-01         False    NaN    NaN            NaN    NaN  \n",
       "2114 1900-01-01         False    NaN    NaN            NaN    NaN  \n",
       "2164 1900-01-01         False    NaN    NaN            NaN    NaN  "
      ]
     },
     "execution_count": 53,
     "metadata": {},
     "output_type": "execute_result"
    }
   ],
   "source": [
    "# check missing values\n",
    "\n",
    "users_data[users_data['month'].isna()]"
   ]
  },
  {
   "cell_type": "markdown",
   "metadata": {},
   "source": [
    "We see a number of rows here that have been mostly blanked out. They all have missing values in their calls data frame as well. This might be suspicious, because if they don't have any internet useage then that means they aren't using the services at all.\n",
    "\n",
    "Next, we will be adding data for internet usage per month."
   ]
  },
  {
   "cell_type": "markdown",
   "metadata": {},
   "source": [
    "### Aggregate internet"
   ]
  },
  {
   "cell_type": "code",
   "execution_count": 54,
   "metadata": {},
   "outputs": [
    {
     "data": {
      "text/html": [
       "<div>\n",
       "<style scoped>\n",
       "    .dataframe tbody tr th:only-of-type {\n",
       "        vertical-align: middle;\n",
       "    }\n",
       "\n",
       "    .dataframe tbody tr th {\n",
       "        vertical-align: top;\n",
       "    }\n",
       "\n",
       "    .dataframe thead th {\n",
       "        text-align: right;\n",
       "    }\n",
       "</style>\n",
       "<table border=\"1\" class=\"dataframe\">\n",
       "  <thead>\n",
       "    <tr style=\"text-align: right;\">\n",
       "      <th></th>\n",
       "      <th>user_id</th>\n",
       "      <th>month</th>\n",
       "      <th>mb_used</th>\n",
       "    </tr>\n",
       "  </thead>\n",
       "  <tbody>\n",
       "    <tr>\n",
       "      <th>0</th>\n",
       "      <td>1000</td>\n",
       "      <td>12</td>\n",
       "      <td>1901.47</td>\n",
       "    </tr>\n",
       "    <tr>\n",
       "      <th>1</th>\n",
       "      <td>1001</td>\n",
       "      <td>8</td>\n",
       "      <td>6919.15</td>\n",
       "    </tr>\n",
       "    <tr>\n",
       "      <th>2</th>\n",
       "      <td>1001</td>\n",
       "      <td>9</td>\n",
       "      <td>13314.82</td>\n",
       "    </tr>\n",
       "    <tr>\n",
       "      <th>3</th>\n",
       "      <td>1001</td>\n",
       "      <td>10</td>\n",
       "      <td>22330.49</td>\n",
       "    </tr>\n",
       "    <tr>\n",
       "      <th>4</th>\n",
       "      <td>1001</td>\n",
       "      <td>11</td>\n",
       "      <td>18504.30</td>\n",
       "    </tr>\n",
       "    <tr>\n",
       "      <th>...</th>\n",
       "      <td>...</td>\n",
       "      <td>...</td>\n",
       "      <td>...</td>\n",
       "    </tr>\n",
       "    <tr>\n",
       "      <th>2272</th>\n",
       "      <td>1498</td>\n",
       "      <td>12</td>\n",
       "      <td>23137.69</td>\n",
       "    </tr>\n",
       "    <tr>\n",
       "      <th>2273</th>\n",
       "      <td>1499</td>\n",
       "      <td>9</td>\n",
       "      <td>12984.76</td>\n",
       "    </tr>\n",
       "    <tr>\n",
       "      <th>2274</th>\n",
       "      <td>1499</td>\n",
       "      <td>10</td>\n",
       "      <td>19492.43</td>\n",
       "    </tr>\n",
       "    <tr>\n",
       "      <th>2275</th>\n",
       "      <td>1499</td>\n",
       "      <td>11</td>\n",
       "      <td>16813.83</td>\n",
       "    </tr>\n",
       "    <tr>\n",
       "      <th>2276</th>\n",
       "      <td>1499</td>\n",
       "      <td>12</td>\n",
       "      <td>22059.21</td>\n",
       "    </tr>\n",
       "  </tbody>\n",
       "</table>\n",
       "<p>2277 rows × 3 columns</p>\n",
       "</div>"
      ],
      "text/plain": [
       "      user_id  month   mb_used\n",
       "0        1000     12   1901.47\n",
       "1        1001      8   6919.15\n",
       "2        1001      9  13314.82\n",
       "3        1001     10  22330.49\n",
       "4        1001     11  18504.30\n",
       "...       ...    ...       ...\n",
       "2272     1498     12  23137.69\n",
       "2273     1499      9  12984.76\n",
       "2274     1499     10  19492.43\n",
       "2275     1499     11  16813.83\n",
       "2276     1499     12  22059.21\n",
       "\n",
       "[2277 rows x 3 columns]"
      ]
     },
     "execution_count": 54,
     "metadata": {},
     "output_type": "execute_result"
    }
   ],
   "source": [
    "# Calculate the volume of internet traffic used by each user per month. Save the result.\n",
    "\n",
    "internet_per_month = internet.pivot_table(\n",
    "    index=['user_id', 'month'], \n",
    "    values = 'mb_used', \n",
    "    aggfunc='sum', \n",
    "    margins=False).reset_index()\n",
    "internet_per_month"
   ]
  },
  {
   "cell_type": "code",
   "execution_count": 55,
   "metadata": {},
   "outputs": [
    {
     "data": {
      "text/html": [
       "<div>\n",
       "<style scoped>\n",
       "    .dataframe tbody tr th:only-of-type {\n",
       "        vertical-align: middle;\n",
       "    }\n",
       "\n",
       "    .dataframe tbody tr th {\n",
       "        vertical-align: top;\n",
       "    }\n",
       "\n",
       "    .dataframe thead th {\n",
       "        text-align: right;\n",
       "    }\n",
       "</style>\n",
       "<table border=\"1\" class=\"dataframe\">\n",
       "  <thead>\n",
       "    <tr style=\"text-align: right;\">\n",
       "      <th></th>\n",
       "      <th>user_id</th>\n",
       "      <th>month</th>\n",
       "      <th>mb_used</th>\n",
       "    </tr>\n",
       "  </thead>\n",
       "  <tbody>\n",
       "    <tr>\n",
       "      <th>count</th>\n",
       "      <td>2277.000000</td>\n",
       "      <td>2277.000000</td>\n",
       "      <td>2277.000000</td>\n",
       "    </tr>\n",
       "    <tr>\n",
       "      <th>mean</th>\n",
       "      <td>1244.925780</td>\n",
       "      <td>9.177866</td>\n",
       "      <td>16882.197501</td>\n",
       "    </tr>\n",
       "    <tr>\n",
       "      <th>std</th>\n",
       "      <td>142.544823</td>\n",
       "      <td>2.497183</td>\n",
       "      <td>7869.784848</td>\n",
       "    </tr>\n",
       "    <tr>\n",
       "      <th>min</th>\n",
       "      <td>1000.000000</td>\n",
       "      <td>1.000000</td>\n",
       "      <td>92.310000</td>\n",
       "    </tr>\n",
       "    <tr>\n",
       "      <th>25%</th>\n",
       "      <td>1121.000000</td>\n",
       "      <td>8.000000</td>\n",
       "      <td>12347.720000</td>\n",
       "    </tr>\n",
       "    <tr>\n",
       "      <th>50%</th>\n",
       "      <td>1243.000000</td>\n",
       "      <td>10.000000</td>\n",
       "      <td>16873.740000</td>\n",
       "    </tr>\n",
       "    <tr>\n",
       "      <th>75%</th>\n",
       "      <td>1367.000000</td>\n",
       "      <td>11.000000</td>\n",
       "      <td>21041.520000</td>\n",
       "    </tr>\n",
       "    <tr>\n",
       "      <th>max</th>\n",
       "      <td>1499.000000</td>\n",
       "      <td>12.000000</td>\n",
       "      <td>70931.590000</td>\n",
       "    </tr>\n",
       "  </tbody>\n",
       "</table>\n",
       "</div>"
      ],
      "text/plain": [
       "           user_id        month       mb_used\n",
       "count  2277.000000  2277.000000   2277.000000\n",
       "mean   1244.925780     9.177866  16882.197501\n",
       "std     142.544823     2.497183   7869.784848\n",
       "min    1000.000000     1.000000     92.310000\n",
       "25%    1121.000000     8.000000  12347.720000\n",
       "50%    1243.000000    10.000000  16873.740000\n",
       "75%    1367.000000    11.000000  21041.520000\n",
       "max    1499.000000    12.000000  70931.590000"
      ]
     },
     "execution_count": 55,
     "metadata": {},
     "output_type": "execute_result"
    }
   ],
   "source": [
    "# view data\n",
    "\n",
    "internet_per_month.describe()"
   ]
  },
  {
   "cell_type": "markdown",
   "metadata": {},
   "source": [
    "This time, we have more to do than simply fill out our missing values, we also should convert the MB used per month to GB. Since most of our data frame has many GB worth of data being used each month, and since we are always rounding up, it would be easier to make a new column for gb_used rather than both modifying and renaming mb_used."
   ]
  },
  {
   "cell_type": "code",
   "execution_count": 56,
   "metadata": {},
   "outputs": [
    {
     "data": {
      "text/html": [
       "<div>\n",
       "<style scoped>\n",
       "    .dataframe tbody tr th:only-of-type {\n",
       "        vertical-align: middle;\n",
       "    }\n",
       "\n",
       "    .dataframe tbody tr th {\n",
       "        vertical-align: top;\n",
       "    }\n",
       "\n",
       "    .dataframe thead th {\n",
       "        text-align: right;\n",
       "    }\n",
       "</style>\n",
       "<table border=\"1\" class=\"dataframe\">\n",
       "  <thead>\n",
       "    <tr style=\"text-align: right;\">\n",
       "      <th></th>\n",
       "      <th>user_id</th>\n",
       "      <th>first_name</th>\n",
       "      <th>last_name</th>\n",
       "      <th>age</th>\n",
       "      <th>city</th>\n",
       "      <th>reg_date</th>\n",
       "      <th>plan</th>\n",
       "      <th>churn_date</th>\n",
       "      <th>is_cancelled</th>\n",
       "      <th>month</th>\n",
       "      <th>calls</th>\n",
       "      <th>billable_time</th>\n",
       "      <th>texts</th>\n",
       "      <th>mb_used</th>\n",
       "    </tr>\n",
       "  </thead>\n",
       "  <tbody>\n",
       "    <tr>\n",
       "      <th>0</th>\n",
       "      <td>1000</td>\n",
       "      <td>Anamaria</td>\n",
       "      <td>Bauer</td>\n",
       "      <td>45</td>\n",
       "      <td>Atlanta-Sandy Springs-Roswell, GA MSA</td>\n",
       "      <td>2018-12-24</td>\n",
       "      <td>ultimate</td>\n",
       "      <td>1900-01-01</td>\n",
       "      <td>False</td>\n",
       "      <td>12.0</td>\n",
       "      <td>16.0</td>\n",
       "      <td>124.0</td>\n",
       "      <td>11.0</td>\n",
       "      <td>1901.47</td>\n",
       "    </tr>\n",
       "    <tr>\n",
       "      <th>1</th>\n",
       "      <td>1001</td>\n",
       "      <td>Mickey</td>\n",
       "      <td>Wilkerson</td>\n",
       "      <td>28</td>\n",
       "      <td>Seattle-Tacoma-Bellevue, WA MSA</td>\n",
       "      <td>2018-08-13</td>\n",
       "      <td>surf</td>\n",
       "      <td>1900-01-01</td>\n",
       "      <td>False</td>\n",
       "      <td>8.0</td>\n",
       "      <td>27.0</td>\n",
       "      <td>182.0</td>\n",
       "      <td>30.0</td>\n",
       "      <td>6919.15</td>\n",
       "    </tr>\n",
       "    <tr>\n",
       "      <th>2</th>\n",
       "      <td>1001</td>\n",
       "      <td>Mickey</td>\n",
       "      <td>Wilkerson</td>\n",
       "      <td>28</td>\n",
       "      <td>Seattle-Tacoma-Bellevue, WA MSA</td>\n",
       "      <td>2018-08-13</td>\n",
       "      <td>surf</td>\n",
       "      <td>1900-01-01</td>\n",
       "      <td>False</td>\n",
       "      <td>9.0</td>\n",
       "      <td>49.0</td>\n",
       "      <td>315.0</td>\n",
       "      <td>44.0</td>\n",
       "      <td>13314.82</td>\n",
       "    </tr>\n",
       "    <tr>\n",
       "      <th>3</th>\n",
       "      <td>1001</td>\n",
       "      <td>Mickey</td>\n",
       "      <td>Wilkerson</td>\n",
       "      <td>28</td>\n",
       "      <td>Seattle-Tacoma-Bellevue, WA MSA</td>\n",
       "      <td>2018-08-13</td>\n",
       "      <td>surf</td>\n",
       "      <td>1900-01-01</td>\n",
       "      <td>False</td>\n",
       "      <td>10.0</td>\n",
       "      <td>65.0</td>\n",
       "      <td>393.0</td>\n",
       "      <td>53.0</td>\n",
       "      <td>22330.49</td>\n",
       "    </tr>\n",
       "    <tr>\n",
       "      <th>4</th>\n",
       "      <td>1001</td>\n",
       "      <td>Mickey</td>\n",
       "      <td>Wilkerson</td>\n",
       "      <td>28</td>\n",
       "      <td>Seattle-Tacoma-Bellevue, WA MSA</td>\n",
       "      <td>2018-08-13</td>\n",
       "      <td>surf</td>\n",
       "      <td>1900-01-01</td>\n",
       "      <td>False</td>\n",
       "      <td>11.0</td>\n",
       "      <td>64.0</td>\n",
       "      <td>426.0</td>\n",
       "      <td>36.0</td>\n",
       "      <td>18504.30</td>\n",
       "    </tr>\n",
       "    <tr>\n",
       "      <th>...</th>\n",
       "      <td>...</td>\n",
       "      <td>...</td>\n",
       "      <td>...</td>\n",
       "      <td>...</td>\n",
       "      <td>...</td>\n",
       "      <td>...</td>\n",
       "      <td>...</td>\n",
       "      <td>...</td>\n",
       "      <td>...</td>\n",
       "      <td>...</td>\n",
       "      <td>...</td>\n",
       "      <td>...</td>\n",
       "      <td>...</td>\n",
       "      <td>...</td>\n",
       "    </tr>\n",
       "    <tr>\n",
       "      <th>2272</th>\n",
       "      <td>1498</td>\n",
       "      <td>Scot</td>\n",
       "      <td>Williamson</td>\n",
       "      <td>51</td>\n",
       "      <td>New York-Newark-Jersey City, NY-NJ-PA MSA</td>\n",
       "      <td>2018-02-04</td>\n",
       "      <td>surf</td>\n",
       "      <td>1900-01-01</td>\n",
       "      <td>False</td>\n",
       "      <td>12.0</td>\n",
       "      <td>39.0</td>\n",
       "      <td>339.0</td>\n",
       "      <td>NaN</td>\n",
       "      <td>23137.69</td>\n",
       "    </tr>\n",
       "    <tr>\n",
       "      <th>2273</th>\n",
       "      <td>1499</td>\n",
       "      <td>Shena</td>\n",
       "      <td>Dickson</td>\n",
       "      <td>37</td>\n",
       "      <td>Orlando-Kissimmee-Sanford, FL MSA</td>\n",
       "      <td>2018-05-06</td>\n",
       "      <td>surf</td>\n",
       "      <td>1900-01-01</td>\n",
       "      <td>False</td>\n",
       "      <td>9.0</td>\n",
       "      <td>41.0</td>\n",
       "      <td>346.0</td>\n",
       "      <td>NaN</td>\n",
       "      <td>12984.76</td>\n",
       "    </tr>\n",
       "    <tr>\n",
       "      <th>2274</th>\n",
       "      <td>1499</td>\n",
       "      <td>Shena</td>\n",
       "      <td>Dickson</td>\n",
       "      <td>37</td>\n",
       "      <td>Orlando-Kissimmee-Sanford, FL MSA</td>\n",
       "      <td>2018-05-06</td>\n",
       "      <td>surf</td>\n",
       "      <td>1900-01-01</td>\n",
       "      <td>False</td>\n",
       "      <td>10.0</td>\n",
       "      <td>53.0</td>\n",
       "      <td>385.0</td>\n",
       "      <td>NaN</td>\n",
       "      <td>19492.43</td>\n",
       "    </tr>\n",
       "    <tr>\n",
       "      <th>2275</th>\n",
       "      <td>1499</td>\n",
       "      <td>Shena</td>\n",
       "      <td>Dickson</td>\n",
       "      <td>37</td>\n",
       "      <td>Orlando-Kissimmee-Sanford, FL MSA</td>\n",
       "      <td>2018-05-06</td>\n",
       "      <td>surf</td>\n",
       "      <td>1900-01-01</td>\n",
       "      <td>False</td>\n",
       "      <td>11.0</td>\n",
       "      <td>45.0</td>\n",
       "      <td>308.0</td>\n",
       "      <td>NaN</td>\n",
       "      <td>16813.83</td>\n",
       "    </tr>\n",
       "    <tr>\n",
       "      <th>2276</th>\n",
       "      <td>1499</td>\n",
       "      <td>Shena</td>\n",
       "      <td>Dickson</td>\n",
       "      <td>37</td>\n",
       "      <td>Orlando-Kissimmee-Sanford, FL MSA</td>\n",
       "      <td>2018-05-06</td>\n",
       "      <td>surf</td>\n",
       "      <td>1900-01-01</td>\n",
       "      <td>False</td>\n",
       "      <td>12.0</td>\n",
       "      <td>65.0</td>\n",
       "      <td>496.0</td>\n",
       "      <td>NaN</td>\n",
       "      <td>22059.21</td>\n",
       "    </tr>\n",
       "  </tbody>\n",
       "</table>\n",
       "<p>2277 rows × 14 columns</p>\n",
       "</div>"
      ],
      "text/plain": [
       "      user_id first_name   last_name  age  \\\n",
       "0        1000   Anamaria       Bauer   45   \n",
       "1        1001     Mickey   Wilkerson   28   \n",
       "2        1001     Mickey   Wilkerson   28   \n",
       "3        1001     Mickey   Wilkerson   28   \n",
       "4        1001     Mickey   Wilkerson   28   \n",
       "...       ...        ...         ...  ...   \n",
       "2272     1498       Scot  Williamson   51   \n",
       "2273     1499      Shena     Dickson   37   \n",
       "2274     1499      Shena     Dickson   37   \n",
       "2275     1499      Shena     Dickson   37   \n",
       "2276     1499      Shena     Dickson   37   \n",
       "\n",
       "                                           city   reg_date      plan  \\\n",
       "0         Atlanta-Sandy Springs-Roswell, GA MSA 2018-12-24  ultimate   \n",
       "1               Seattle-Tacoma-Bellevue, WA MSA 2018-08-13      surf   \n",
       "2               Seattle-Tacoma-Bellevue, WA MSA 2018-08-13      surf   \n",
       "3               Seattle-Tacoma-Bellevue, WA MSA 2018-08-13      surf   \n",
       "4               Seattle-Tacoma-Bellevue, WA MSA 2018-08-13      surf   \n",
       "...                                         ...        ...       ...   \n",
       "2272  New York-Newark-Jersey City, NY-NJ-PA MSA 2018-02-04      surf   \n",
       "2273          Orlando-Kissimmee-Sanford, FL MSA 2018-05-06      surf   \n",
       "2274          Orlando-Kissimmee-Sanford, FL MSA 2018-05-06      surf   \n",
       "2275          Orlando-Kissimmee-Sanford, FL MSA 2018-05-06      surf   \n",
       "2276          Orlando-Kissimmee-Sanford, FL MSA 2018-05-06      surf   \n",
       "\n",
       "     churn_date  is_cancelled  month  calls  billable_time  texts   mb_used  \n",
       "0    1900-01-01         False   12.0   16.0          124.0   11.0   1901.47  \n",
       "1    1900-01-01         False    8.0   27.0          182.0   30.0   6919.15  \n",
       "2    1900-01-01         False    9.0   49.0          315.0   44.0  13314.82  \n",
       "3    1900-01-01         False   10.0   65.0          393.0   53.0  22330.49  \n",
       "4    1900-01-01         False   11.0   64.0          426.0   36.0  18504.30  \n",
       "...         ...           ...    ...    ...            ...    ...       ...  \n",
       "2272 1900-01-01         False   12.0   39.0          339.0    NaN  23137.69  \n",
       "2273 1900-01-01         False    9.0   41.0          346.0    NaN  12984.76  \n",
       "2274 1900-01-01         False   10.0   53.0          385.0    NaN  19492.43  \n",
       "2275 1900-01-01         False   11.0   45.0          308.0    NaN  16813.83  \n",
       "2276 1900-01-01         False   12.0   65.0          496.0    NaN  22059.21  \n",
       "\n",
       "[2277 rows x 14 columns]"
      ]
     },
     "execution_count": 56,
     "metadata": {},
     "output_type": "execute_result"
    }
   ],
   "source": [
    "# merge data into data frame\n",
    "\n",
    "users_data = users_data.merge(internet_per_month, on= ['user_id', 'month'], how = 'left')\n",
    "users_data"
   ]
  },
  {
   "cell_type": "code",
   "execution_count": 57,
   "metadata": {},
   "outputs": [
    {
     "data": {
      "text/html": [
       "<div>\n",
       "<style scoped>\n",
       "    .dataframe tbody tr th:only-of-type {\n",
       "        vertical-align: middle;\n",
       "    }\n",
       "\n",
       "    .dataframe tbody tr th {\n",
       "        vertical-align: top;\n",
       "    }\n",
       "\n",
       "    .dataframe thead th {\n",
       "        text-align: right;\n",
       "    }\n",
       "</style>\n",
       "<table border=\"1\" class=\"dataframe\">\n",
       "  <thead>\n",
       "    <tr style=\"text-align: right;\">\n",
       "      <th></th>\n",
       "      <th>user_id</th>\n",
       "      <th>first_name</th>\n",
       "      <th>last_name</th>\n",
       "      <th>age</th>\n",
       "      <th>city</th>\n",
       "      <th>reg_date</th>\n",
       "      <th>plan</th>\n",
       "      <th>churn_date</th>\n",
       "      <th>is_cancelled</th>\n",
       "      <th>month</th>\n",
       "      <th>calls</th>\n",
       "      <th>billable_time</th>\n",
       "      <th>texts</th>\n",
       "      <th>mb_used</th>\n",
       "      <th>gb_used</th>\n",
       "    </tr>\n",
       "  </thead>\n",
       "  <tbody>\n",
       "    <tr>\n",
       "      <th>0</th>\n",
       "      <td>1000</td>\n",
       "      <td>Anamaria</td>\n",
       "      <td>Bauer</td>\n",
       "      <td>45</td>\n",
       "      <td>Atlanta-Sandy Springs-Roswell, GA MSA</td>\n",
       "      <td>2018-12-24</td>\n",
       "      <td>ultimate</td>\n",
       "      <td>1900-01-01</td>\n",
       "      <td>False</td>\n",
       "      <td>12.0</td>\n",
       "      <td>16.0</td>\n",
       "      <td>124.0</td>\n",
       "      <td>11.0</td>\n",
       "      <td>1901.47</td>\n",
       "      <td>2.0</td>\n",
       "    </tr>\n",
       "    <tr>\n",
       "      <th>1</th>\n",
       "      <td>1001</td>\n",
       "      <td>Mickey</td>\n",
       "      <td>Wilkerson</td>\n",
       "      <td>28</td>\n",
       "      <td>Seattle-Tacoma-Bellevue, WA MSA</td>\n",
       "      <td>2018-08-13</td>\n",
       "      <td>surf</td>\n",
       "      <td>1900-01-01</td>\n",
       "      <td>False</td>\n",
       "      <td>8.0</td>\n",
       "      <td>27.0</td>\n",
       "      <td>182.0</td>\n",
       "      <td>30.0</td>\n",
       "      <td>6919.15</td>\n",
       "      <td>7.0</td>\n",
       "    </tr>\n",
       "    <tr>\n",
       "      <th>2</th>\n",
       "      <td>1001</td>\n",
       "      <td>Mickey</td>\n",
       "      <td>Wilkerson</td>\n",
       "      <td>28</td>\n",
       "      <td>Seattle-Tacoma-Bellevue, WA MSA</td>\n",
       "      <td>2018-08-13</td>\n",
       "      <td>surf</td>\n",
       "      <td>1900-01-01</td>\n",
       "      <td>False</td>\n",
       "      <td>9.0</td>\n",
       "      <td>49.0</td>\n",
       "      <td>315.0</td>\n",
       "      <td>44.0</td>\n",
       "      <td>13314.82</td>\n",
       "      <td>14.0</td>\n",
       "    </tr>\n",
       "    <tr>\n",
       "      <th>3</th>\n",
       "      <td>1001</td>\n",
       "      <td>Mickey</td>\n",
       "      <td>Wilkerson</td>\n",
       "      <td>28</td>\n",
       "      <td>Seattle-Tacoma-Bellevue, WA MSA</td>\n",
       "      <td>2018-08-13</td>\n",
       "      <td>surf</td>\n",
       "      <td>1900-01-01</td>\n",
       "      <td>False</td>\n",
       "      <td>10.0</td>\n",
       "      <td>65.0</td>\n",
       "      <td>393.0</td>\n",
       "      <td>53.0</td>\n",
       "      <td>22330.49</td>\n",
       "      <td>23.0</td>\n",
       "    </tr>\n",
       "    <tr>\n",
       "      <th>4</th>\n",
       "      <td>1001</td>\n",
       "      <td>Mickey</td>\n",
       "      <td>Wilkerson</td>\n",
       "      <td>28</td>\n",
       "      <td>Seattle-Tacoma-Bellevue, WA MSA</td>\n",
       "      <td>2018-08-13</td>\n",
       "      <td>surf</td>\n",
       "      <td>1900-01-01</td>\n",
       "      <td>False</td>\n",
       "      <td>11.0</td>\n",
       "      <td>64.0</td>\n",
       "      <td>426.0</td>\n",
       "      <td>36.0</td>\n",
       "      <td>18504.30</td>\n",
       "      <td>19.0</td>\n",
       "    </tr>\n",
       "    <tr>\n",
       "      <th>...</th>\n",
       "      <td>...</td>\n",
       "      <td>...</td>\n",
       "      <td>...</td>\n",
       "      <td>...</td>\n",
       "      <td>...</td>\n",
       "      <td>...</td>\n",
       "      <td>...</td>\n",
       "      <td>...</td>\n",
       "      <td>...</td>\n",
       "      <td>...</td>\n",
       "      <td>...</td>\n",
       "      <td>...</td>\n",
       "      <td>...</td>\n",
       "      <td>...</td>\n",
       "      <td>...</td>\n",
       "    </tr>\n",
       "    <tr>\n",
       "      <th>2272</th>\n",
       "      <td>1498</td>\n",
       "      <td>Scot</td>\n",
       "      <td>Williamson</td>\n",
       "      <td>51</td>\n",
       "      <td>New York-Newark-Jersey City, NY-NJ-PA MSA</td>\n",
       "      <td>2018-02-04</td>\n",
       "      <td>surf</td>\n",
       "      <td>1900-01-01</td>\n",
       "      <td>False</td>\n",
       "      <td>12.0</td>\n",
       "      <td>39.0</td>\n",
       "      <td>339.0</td>\n",
       "      <td>NaN</td>\n",
       "      <td>23137.69</td>\n",
       "      <td>24.0</td>\n",
       "    </tr>\n",
       "    <tr>\n",
       "      <th>2273</th>\n",
       "      <td>1499</td>\n",
       "      <td>Shena</td>\n",
       "      <td>Dickson</td>\n",
       "      <td>37</td>\n",
       "      <td>Orlando-Kissimmee-Sanford, FL MSA</td>\n",
       "      <td>2018-05-06</td>\n",
       "      <td>surf</td>\n",
       "      <td>1900-01-01</td>\n",
       "      <td>False</td>\n",
       "      <td>9.0</td>\n",
       "      <td>41.0</td>\n",
       "      <td>346.0</td>\n",
       "      <td>NaN</td>\n",
       "      <td>12984.76</td>\n",
       "      <td>13.0</td>\n",
       "    </tr>\n",
       "    <tr>\n",
       "      <th>2274</th>\n",
       "      <td>1499</td>\n",
       "      <td>Shena</td>\n",
       "      <td>Dickson</td>\n",
       "      <td>37</td>\n",
       "      <td>Orlando-Kissimmee-Sanford, FL MSA</td>\n",
       "      <td>2018-05-06</td>\n",
       "      <td>surf</td>\n",
       "      <td>1900-01-01</td>\n",
       "      <td>False</td>\n",
       "      <td>10.0</td>\n",
       "      <td>53.0</td>\n",
       "      <td>385.0</td>\n",
       "      <td>NaN</td>\n",
       "      <td>19492.43</td>\n",
       "      <td>20.0</td>\n",
       "    </tr>\n",
       "    <tr>\n",
       "      <th>2275</th>\n",
       "      <td>1499</td>\n",
       "      <td>Shena</td>\n",
       "      <td>Dickson</td>\n",
       "      <td>37</td>\n",
       "      <td>Orlando-Kissimmee-Sanford, FL MSA</td>\n",
       "      <td>2018-05-06</td>\n",
       "      <td>surf</td>\n",
       "      <td>1900-01-01</td>\n",
       "      <td>False</td>\n",
       "      <td>11.0</td>\n",
       "      <td>45.0</td>\n",
       "      <td>308.0</td>\n",
       "      <td>NaN</td>\n",
       "      <td>16813.83</td>\n",
       "      <td>17.0</td>\n",
       "    </tr>\n",
       "    <tr>\n",
       "      <th>2276</th>\n",
       "      <td>1499</td>\n",
       "      <td>Shena</td>\n",
       "      <td>Dickson</td>\n",
       "      <td>37</td>\n",
       "      <td>Orlando-Kissimmee-Sanford, FL MSA</td>\n",
       "      <td>2018-05-06</td>\n",
       "      <td>surf</td>\n",
       "      <td>1900-01-01</td>\n",
       "      <td>False</td>\n",
       "      <td>12.0</td>\n",
       "      <td>65.0</td>\n",
       "      <td>496.0</td>\n",
       "      <td>NaN</td>\n",
       "      <td>22059.21</td>\n",
       "      <td>23.0</td>\n",
       "    </tr>\n",
       "  </tbody>\n",
       "</table>\n",
       "<p>2277 rows × 15 columns</p>\n",
       "</div>"
      ],
      "text/plain": [
       "      user_id first_name   last_name  age  \\\n",
       "0        1000   Anamaria       Bauer   45   \n",
       "1        1001     Mickey   Wilkerson   28   \n",
       "2        1001     Mickey   Wilkerson   28   \n",
       "3        1001     Mickey   Wilkerson   28   \n",
       "4        1001     Mickey   Wilkerson   28   \n",
       "...       ...        ...         ...  ...   \n",
       "2272     1498       Scot  Williamson   51   \n",
       "2273     1499      Shena     Dickson   37   \n",
       "2274     1499      Shena     Dickson   37   \n",
       "2275     1499      Shena     Dickson   37   \n",
       "2276     1499      Shena     Dickson   37   \n",
       "\n",
       "                                           city   reg_date      plan  \\\n",
       "0         Atlanta-Sandy Springs-Roswell, GA MSA 2018-12-24  ultimate   \n",
       "1               Seattle-Tacoma-Bellevue, WA MSA 2018-08-13      surf   \n",
       "2               Seattle-Tacoma-Bellevue, WA MSA 2018-08-13      surf   \n",
       "3               Seattle-Tacoma-Bellevue, WA MSA 2018-08-13      surf   \n",
       "4               Seattle-Tacoma-Bellevue, WA MSA 2018-08-13      surf   \n",
       "...                                         ...        ...       ...   \n",
       "2272  New York-Newark-Jersey City, NY-NJ-PA MSA 2018-02-04      surf   \n",
       "2273          Orlando-Kissimmee-Sanford, FL MSA 2018-05-06      surf   \n",
       "2274          Orlando-Kissimmee-Sanford, FL MSA 2018-05-06      surf   \n",
       "2275          Orlando-Kissimmee-Sanford, FL MSA 2018-05-06      surf   \n",
       "2276          Orlando-Kissimmee-Sanford, FL MSA 2018-05-06      surf   \n",
       "\n",
       "     churn_date  is_cancelled  month  calls  billable_time  texts   mb_used  \\\n",
       "0    1900-01-01         False   12.0   16.0          124.0   11.0   1901.47   \n",
       "1    1900-01-01         False    8.0   27.0          182.0   30.0   6919.15   \n",
       "2    1900-01-01         False    9.0   49.0          315.0   44.0  13314.82   \n",
       "3    1900-01-01         False   10.0   65.0          393.0   53.0  22330.49   \n",
       "4    1900-01-01         False   11.0   64.0          426.0   36.0  18504.30   \n",
       "...         ...           ...    ...    ...            ...    ...       ...   \n",
       "2272 1900-01-01         False   12.0   39.0          339.0    NaN  23137.69   \n",
       "2273 1900-01-01         False    9.0   41.0          346.0    NaN  12984.76   \n",
       "2274 1900-01-01         False   10.0   53.0          385.0    NaN  19492.43   \n",
       "2275 1900-01-01         False   11.0   45.0          308.0    NaN  16813.83   \n",
       "2276 1900-01-01         False   12.0   65.0          496.0    NaN  22059.21   \n",
       "\n",
       "      gb_used  \n",
       "0         2.0  \n",
       "1         7.0  \n",
       "2        14.0  \n",
       "3        23.0  \n",
       "4        19.0  \n",
       "...       ...  \n",
       "2272     24.0  \n",
       "2273     13.0  \n",
       "2274     20.0  \n",
       "2275     17.0  \n",
       "2276     23.0  \n",
       "\n",
       "[2277 rows x 15 columns]"
      ]
     },
     "execution_count": 57,
     "metadata": {},
     "output_type": "execute_result"
    }
   ],
   "source": [
    "# convert to gb_used\n",
    "\n",
    "users_data['gb_used'] = (users_data['mb_used'] / 1000).apply(np.ceil)\n",
    "users_data"
   ]
  },
  {
   "cell_type": "markdown",
   "metadata": {},
   "source": [
    "<div class=\"alert alert-block alert-danger\">\n",
    "<b>Senior Reviewer's comment</b> <a class=\"tocSkip\"></a>\n",
    "    \n",
    "Please check the formula converting Mb to Gb. Is it correct?\n",
    "</div>"
   ]
  },
  {
   "cell_type": "markdown",
   "metadata": {},
   "source": [
    "### Check data frame"
   ]
  },
  {
   "cell_type": "markdown",
   "metadata": {},
   "source": [
    "With this, we have a full data frame to reference everything that we need. The process of building this data frame, however, has some values that we should clean up. Before we do some cleaning, let's double check to make sure that the data is accurate. User 1001 has been using every service fairly consistently, let's check to make sure the original data sets line up for him."
   ]
  },
  {
   "cell_type": "markdown",
   "metadata": {},
   "source": [
    "#### Check a specific user"
   ]
  },
  {
   "cell_type": "code",
   "execution_count": 58,
   "metadata": {},
   "outputs": [
    {
     "name": "stdout",
     "output_type": "stream",
     "text": [
      "Full Data:\n",
      "    user_id first_name  last_name  age                             city  \\\n",
      "1     1001     Mickey  Wilkerson   28  Seattle-Tacoma-Bellevue, WA MSA   \n",
      "2     1001     Mickey  Wilkerson   28  Seattle-Tacoma-Bellevue, WA MSA   \n",
      "3     1001     Mickey  Wilkerson   28  Seattle-Tacoma-Bellevue, WA MSA   \n",
      "4     1001     Mickey  Wilkerson   28  Seattle-Tacoma-Bellevue, WA MSA   \n",
      "5     1001     Mickey  Wilkerson   28  Seattle-Tacoma-Bellevue, WA MSA   \n",
      "\n",
      "    reg_date  plan churn_date  is_cancelled  month  calls  billable_time  \\\n",
      "1 2018-08-13  surf 1900-01-01         False    8.0   27.0          182.0   \n",
      "2 2018-08-13  surf 1900-01-01         False    9.0   49.0          315.0   \n",
      "3 2018-08-13  surf 1900-01-01         False   10.0   65.0          393.0   \n",
      "4 2018-08-13  surf 1900-01-01         False   11.0   64.0          426.0   \n",
      "5 2018-08-13  surf 1900-01-01         False   12.0   56.0          412.0   \n",
      "\n",
      "   texts   mb_used  gb_used  \n",
      "1   30.0   6919.15      7.0  \n",
      "2   44.0  13314.82     14.0  \n",
      "3   53.0  22330.49     23.0  \n",
      "4   36.0  18504.30     19.0  \n",
      "5   44.0  19369.18     20.0   \n",
      "\n",
      "\n",
      "Calls per month:\n",
      "    user_id  month  id\n",
      "1     1001      8  27\n",
      "2     1001      9  49\n",
      "3     1001     10  65\n",
      "4     1001     11  64\n",
      "5     1001     12  56 \n",
      "\n",
      "\n",
      "Minutes per month:\n",
      "    user_id  month  billable_time\n",
      "1     1001      8          182.0\n",
      "2     1001      9          315.0\n",
      "3     1001     10          393.0\n",
      "4     1001     11          426.0\n",
      "5     1001     12          412.0 \n",
      "\n",
      "\n",
      "Texts per month:\n",
      "    user_id  month  id\n",
      "1     1001      8  30\n",
      "2     1001      9  44\n",
      "3     1001     10  53\n",
      "4     1001     11  36\n",
      "5     1001     12  44 \n",
      "\n",
      "\n",
      "Internet per month:\n",
      "    user_id  month   mb_used\n",
      "1     1001      8   6919.15\n",
      "2     1001      9  13314.82\n",
      "3     1001     10  22330.49\n",
      "4     1001     11  18504.30\n",
      "5     1001     12  19369.18\n"
     ]
    }
   ],
   "source": [
    "# check a specific user to ensure data is imported accurately\n",
    "\n",
    "print(\"Full Data:\\n\", users_data[users_data['user_id'] == 1001], '\\n\\n')\n",
    "print(\"Calls per month:\\n\", calls_per_month[calls_per_month['user_id'] == 1001], '\\n\\n')\n",
    "print(\"Minutes per month:\\n\", minutes_per_month[minutes_per_month['user_id'] == 1001], '\\n\\n')\n",
    "print(\"Texts per month:\\n\", texts_per_month[texts_per_month['user_id'] == 1001], '\\n\\n')\n",
    "print(\"Internet per month:\\n\", internet_per_month[internet_per_month['user_id'] == 1001])"
   ]
  },
  {
   "cell_type": "markdown",
   "metadata": {},
   "source": [
    "This does confirm that for active users that the data has been filled in correctly. However, we still have rows that are missing data."
   ]
  },
  {
   "cell_type": "code",
   "execution_count": 59,
   "metadata": {},
   "outputs": [
    {
     "name": "stdout",
     "output_type": "stream",
     "text": [
      "<class 'pandas.core.frame.DataFrame'>\n",
      "Int64Index: 2277 entries, 0 to 2276\n",
      "Data columns (total 15 columns):\n",
      " #   Column         Non-Null Count  Dtype         \n",
      "---  ------         --------------  -----         \n",
      " 0   user_id        2277 non-null   int64         \n",
      " 1   first_name     2277 non-null   object        \n",
      " 2   last_name      2277 non-null   object        \n",
      " 3   age            2277 non-null   int64         \n",
      " 4   city           2277 non-null   object        \n",
      " 5   reg_date       2277 non-null   datetime64[ns]\n",
      " 6   plan           2277 non-null   object        \n",
      " 7   churn_date     2277 non-null   datetime64[ns]\n",
      " 8   is_cancelled   2277 non-null   bool          \n",
      " 9   month          2258 non-null   float64       \n",
      " 10  calls          2258 non-null   float64       \n",
      " 11  billable_time  2258 non-null   float64       \n",
      " 12  texts          1773 non-null   float64       \n",
      " 13  mb_used        2243 non-null   float64       \n",
      " 14  gb_used        2243 non-null   float64       \n",
      "dtypes: bool(1), datetime64[ns](2), float64(6), int64(2), object(4)\n",
      "memory usage: 269.1+ KB\n"
     ]
    }
   ],
   "source": [
    "# check rows for missing data\n",
    "\n",
    "users_data.info()"
   ]
  },
  {
   "cell_type": "markdown",
   "metadata": {},
   "source": [
    "We can see that there are 19 rows that are missing month values - implying that they have not appeared once in any of these merges. For these rows, since there are so few, we could create a function that scans over the three data sets of 'calls', 'messages', and 'internet' to see if they actually are missing from all three data sets."
   ]
  },
  {
   "cell_type": "markdown",
   "metadata": {},
   "source": [
    "#### Check missing calls"
   ]
  },
  {
   "cell_type": "code",
   "execution_count": 60,
   "metadata": {},
   "outputs": [
    {
     "name": "stdout",
     "output_type": "stream",
     "text": [
      "User ID: 1025\n",
      "Empty DataFrame\n",
      "Columns: [id, user_id, call_date, duration, year, month, billable_time]\n",
      "Index: [] \n",
      "\n",
      "\n",
      "User ID: 1080\n",
      "Empty DataFrame\n",
      "Columns: [id, user_id, call_date, duration, year, month, billable_time]\n",
      "Index: [] \n",
      "\n",
      "\n",
      "User ID: 1089\n",
      "Empty DataFrame\n",
      "Columns: [id, user_id, call_date, duration, year, month, billable_time]\n",
      "Index: [] \n",
      "\n",
      "\n",
      "User ID: 1108\n",
      "Empty DataFrame\n",
      "Columns: [id, user_id, call_date, duration, year, month, billable_time]\n",
      "Index: [] \n",
      "\n",
      "\n",
      "User ID: 1121\n",
      "Empty DataFrame\n",
      "Columns: [id, user_id, call_date, duration, year, month, billable_time]\n",
      "Index: [] \n",
      "\n",
      "\n",
      "User ID: 1129\n",
      "Empty DataFrame\n",
      "Columns: [id, user_id, call_date, duration, year, month, billable_time]\n",
      "Index: [] \n",
      "\n",
      "\n",
      "User ID: 1131\n",
      "Empty DataFrame\n",
      "Columns: [id, user_id, call_date, duration, year, month, billable_time]\n",
      "Index: [] \n",
      "\n",
      "\n",
      "User ID: 1137\n",
      "Empty DataFrame\n",
      "Columns: [id, user_id, call_date, duration, year, month, billable_time]\n",
      "Index: [] \n",
      "\n",
      "\n",
      "User ID: 1143\n",
      "Empty DataFrame\n",
      "Columns: [id, user_id, call_date, duration, year, month, billable_time]\n",
      "Index: [] \n",
      "\n",
      "\n",
      "User ID: 1194\n",
      "Empty DataFrame\n",
      "Columns: [id, user_id, call_date, duration, year, month, billable_time]\n",
      "Index: [] \n",
      "\n",
      "\n",
      "User ID: 1204\n",
      "Empty DataFrame\n",
      "Columns: [id, user_id, call_date, duration, year, month, billable_time]\n",
      "Index: [] \n",
      "\n",
      "\n",
      "User ID: 1269\n",
      "Empty DataFrame\n",
      "Columns: [id, user_id, call_date, duration, year, month, billable_time]\n",
      "Index: [] \n",
      "\n",
      "\n",
      "User ID: 1275\n",
      "Empty DataFrame\n",
      "Columns: [id, user_id, call_date, duration, year, month, billable_time]\n",
      "Index: [] \n",
      "\n",
      "\n",
      "User ID: 1307\n",
      "Empty DataFrame\n",
      "Columns: [id, user_id, call_date, duration, year, month, billable_time]\n",
      "Index: [] \n",
      "\n",
      "\n",
      "User ID: 1319\n",
      "Empty DataFrame\n",
      "Columns: [id, user_id, call_date, duration, year, month, billable_time]\n",
      "Index: [] \n",
      "\n",
      "\n",
      "User ID: 1349\n",
      "Empty DataFrame\n",
      "Columns: [id, user_id, call_date, duration, year, month, billable_time]\n",
      "Index: [] \n",
      "\n",
      "\n",
      "User ID: 1378\n",
      "Empty DataFrame\n",
      "Columns: [id, user_id, call_date, duration, year, month, billable_time]\n",
      "Index: [] \n",
      "\n",
      "\n",
      "User ID: 1463\n",
      "Empty DataFrame\n",
      "Columns: [id, user_id, call_date, duration, year, month, billable_time]\n",
      "Index: [] \n",
      "\n",
      "\n",
      "User ID: 1473\n",
      "Empty DataFrame\n",
      "Columns: [id, user_id, call_date, duration, year, month, billable_time]\n",
      "Index: [] \n",
      "\n",
      "\n"
     ]
    }
   ],
   "source": [
    "# check rows where users have no calls\n",
    "\n",
    "missing_calls = users_data[users_data['calls'].isna()]['user_id']\n",
    "\n",
    "for i in missing_calls:\n",
    "    print('User ID:', i)\n",
    "    print(calls[calls['user_id'] == i], '\\n\\n')"
   ]
  },
  {
   "cell_type": "markdown",
   "metadata": {},
   "source": [
    "This loop shows that for all of the rows that had a missing \"calls\" value, that those users did not make any phone calls. Thus, they can be filled with 0. The minutes per month were linked to the number of calls made, so it goes without saying that they also are filled with 0 values."
   ]
  },
  {
   "cell_type": "code",
   "execution_count": 61,
   "metadata": {},
   "outputs": [
    {
     "name": "stdout",
     "output_type": "stream",
     "text": [
      "<class 'pandas.core.frame.DataFrame'>\n",
      "Int64Index: 2277 entries, 0 to 2276\n",
      "Data columns (total 15 columns):\n",
      " #   Column         Non-Null Count  Dtype         \n",
      "---  ------         --------------  -----         \n",
      " 0   user_id        2277 non-null   int64         \n",
      " 1   first_name     2277 non-null   object        \n",
      " 2   last_name      2277 non-null   object        \n",
      " 3   age            2277 non-null   int64         \n",
      " 4   city           2277 non-null   object        \n",
      " 5   reg_date       2277 non-null   datetime64[ns]\n",
      " 6   plan           2277 non-null   object        \n",
      " 7   churn_date     2277 non-null   datetime64[ns]\n",
      " 8   is_cancelled   2277 non-null   bool          \n",
      " 9   month          2258 non-null   float64       \n",
      " 10  calls          2277 non-null   float64       \n",
      " 11  billable_time  2277 non-null   float64       \n",
      " 12  texts          1773 non-null   float64       \n",
      " 13  mb_used        2243 non-null   float64       \n",
      " 14  gb_used        2243 non-null   float64       \n",
      "dtypes: bool(1), datetime64[ns](2), float64(6), int64(2), object(4)\n",
      "memory usage: 269.1+ KB\n"
     ]
    }
   ],
   "source": [
    "# fill missing phone call data\n",
    "\n",
    "users_data['calls'] = users_data['calls'].fillna(0)\n",
    "users_data['billable_time'] = users_data['billable_time'].fillna(0)\n",
    "users_data.info()"
   ]
  },
  {
   "cell_type": "markdown",
   "metadata": {},
   "source": [
    "For the values missing from the other data sets, there are certainly too many to scan over, even with a loop. We would need to scan over hundreds of missing text values, both based on the ID and the month. There should be a way to work smarter. Most likely, after all, it simply is that there are users who have a few months where they did not text.\n",
    "\n",
    "So, instead of looping over the entire data set, it would probably be better to identify some of the IDs on this missing text value and see what it looks like, both in our merged data set and in our 'messages' data set, to see if they line up. If so, we can safely conclude that the function worked properly."
   ]
  },
  {
   "cell_type": "markdown",
   "metadata": {},
   "source": [
    "### Check missing texts"
   ]
  },
  {
   "cell_type": "code",
   "execution_count": 62,
   "metadata": {
    "scrolled": true
   },
   "outputs": [
    {
     "data": {
      "text/html": [
       "<div>\n",
       "<style scoped>\n",
       "    .dataframe tbody tr th:only-of-type {\n",
       "        vertical-align: middle;\n",
       "    }\n",
       "\n",
       "    .dataframe tbody tr th {\n",
       "        vertical-align: top;\n",
       "    }\n",
       "\n",
       "    .dataframe thead th {\n",
       "        text-align: right;\n",
       "    }\n",
       "</style>\n",
       "<table border=\"1\" class=\"dataframe\">\n",
       "  <thead>\n",
       "    <tr style=\"text-align: right;\">\n",
       "      <th></th>\n",
       "      <th>index</th>\n",
       "      <th>user_id</th>\n",
       "    </tr>\n",
       "  </thead>\n",
       "  <tbody>\n",
       "    <tr>\n",
       "      <th>0</th>\n",
       "      <td>1042</td>\n",
       "      <td>12</td>\n",
       "    </tr>\n",
       "    <tr>\n",
       "      <th>1</th>\n",
       "      <td>1185</td>\n",
       "      <td>12</td>\n",
       "    </tr>\n",
       "    <tr>\n",
       "      <th>2</th>\n",
       "      <td>1498</td>\n",
       "      <td>11</td>\n",
       "    </tr>\n",
       "    <tr>\n",
       "      <th>3</th>\n",
       "      <td>1171</td>\n",
       "      <td>11</td>\n",
       "    </tr>\n",
       "    <tr>\n",
       "      <th>4</th>\n",
       "      <td>1359</td>\n",
       "      <td>11</td>\n",
       "    </tr>\n",
       "    <tr>\n",
       "      <th>...</th>\n",
       "      <td>...</td>\n",
       "      <td>...</td>\n",
       "    </tr>\n",
       "    <tr>\n",
       "      <th>118</th>\n",
       "      <td>1204</td>\n",
       "      <td>1</td>\n",
       "    </tr>\n",
       "    <tr>\n",
       "      <th>119</th>\n",
       "      <td>1194</td>\n",
       "      <td>1</td>\n",
       "    </tr>\n",
       "    <tr>\n",
       "      <th>120</th>\n",
       "      <td>1161</td>\n",
       "      <td>1</td>\n",
       "    </tr>\n",
       "    <tr>\n",
       "      <th>121</th>\n",
       "      <td>1414</td>\n",
       "      <td>1</td>\n",
       "    </tr>\n",
       "    <tr>\n",
       "      <th>122</th>\n",
       "      <td>1024</td>\n",
       "      <td>1</td>\n",
       "    </tr>\n",
       "  </tbody>\n",
       "</table>\n",
       "<p>123 rows × 2 columns</p>\n",
       "</div>"
      ],
      "text/plain": [
       "     index  user_id\n",
       "0     1042       12\n",
       "1     1185       12\n",
       "2     1498       11\n",
       "3     1171       11\n",
       "4     1359       11\n",
       "..     ...      ...\n",
       "118   1204        1\n",
       "119   1194        1\n",
       "120   1161        1\n",
       "121   1414        1\n",
       "122   1024        1\n",
       "\n",
       "[123 rows x 2 columns]"
      ]
     },
     "execution_count": 62,
     "metadata": {},
     "output_type": "execute_result"
    }
   ],
   "source": [
    "# check missing text ids\n",
    "\n",
    "texts_isna = users_data[users_data['texts'].isna()]['user_id'].value_counts().reset_index()\n",
    "texts_isna"
   ]
  },
  {
   "cell_type": "markdown",
   "metadata": {},
   "source": [
    "Here we see that there are 123 users who did not text for at least 1 month out of the year, and some did not text at all. It would be better to check by finding a user who used the phone for some of the months and making sure that their values match. Ideally, we would want someone who has both null and not null values in the text message setting, but does such a user exist?"
   ]
  },
  {
   "cell_type": "code",
   "execution_count": 63,
   "metadata": {},
   "outputs": [
    {
     "data": {
      "text/html": [
       "<div>\n",
       "<style scoped>\n",
       "    .dataframe tbody tr th:only-of-type {\n",
       "        vertical-align: middle;\n",
       "    }\n",
       "\n",
       "    .dataframe tbody tr th {\n",
       "        vertical-align: top;\n",
       "    }\n",
       "\n",
       "    .dataframe thead th {\n",
       "        text-align: right;\n",
       "    }\n",
       "</style>\n",
       "<table border=\"1\" class=\"dataframe\">\n",
       "  <thead>\n",
       "    <tr style=\"text-align: right;\">\n",
       "      <th></th>\n",
       "      <th>index</th>\n",
       "      <th>user_id</th>\n",
       "    </tr>\n",
       "  </thead>\n",
       "  <tbody>\n",
       "    <tr>\n",
       "      <th>0</th>\n",
       "      <td>1196</td>\n",
       "      <td>12</td>\n",
       "    </tr>\n",
       "    <tr>\n",
       "      <th>1</th>\n",
       "      <td>1214</td>\n",
       "      <td>12</td>\n",
       "    </tr>\n",
       "    <tr>\n",
       "      <th>2</th>\n",
       "      <td>1077</td>\n",
       "      <td>12</td>\n",
       "    </tr>\n",
       "    <tr>\n",
       "      <th>3</th>\n",
       "      <td>1362</td>\n",
       "      <td>12</td>\n",
       "    </tr>\n",
       "    <tr>\n",
       "      <th>4</th>\n",
       "      <td>1099</td>\n",
       "      <td>11</td>\n",
       "    </tr>\n",
       "    <tr>\n",
       "      <th>...</th>\n",
       "      <td>...</td>\n",
       "      <td>...</td>\n",
       "    </tr>\n",
       "    <tr>\n",
       "      <th>389</th>\n",
       "      <td>1229</td>\n",
       "      <td>1</td>\n",
       "    </tr>\n",
       "    <tr>\n",
       "      <th>390</th>\n",
       "      <td>1227</td>\n",
       "      <td>1</td>\n",
       "    </tr>\n",
       "    <tr>\n",
       "      <th>391</th>\n",
       "      <td>1221</td>\n",
       "      <td>1</td>\n",
       "    </tr>\n",
       "    <tr>\n",
       "      <th>392</th>\n",
       "      <td>1218</td>\n",
       "      <td>1</td>\n",
       "    </tr>\n",
       "    <tr>\n",
       "      <th>393</th>\n",
       "      <td>1497</td>\n",
       "      <td>1</td>\n",
       "    </tr>\n",
       "  </tbody>\n",
       "</table>\n",
       "<p>394 rows × 2 columns</p>\n",
       "</div>"
      ],
      "text/plain": [
       "     index  user_id\n",
       "0     1196       12\n",
       "1     1214       12\n",
       "2     1077       12\n",
       "3     1362       12\n",
       "4     1099       11\n",
       "..     ...      ...\n",
       "389   1229        1\n",
       "390   1227        1\n",
       "391   1221        1\n",
       "392   1218        1\n",
       "393   1497        1\n",
       "\n",
       "[394 rows x 2 columns]"
      ]
     },
     "execution_count": 63,
     "metadata": {},
     "output_type": "execute_result"
    }
   ],
   "source": [
    "# create a data frame of users with text usage\n",
    "\n",
    "texts_notna = users_data[users_data['texts'].notna()]['user_id'].value_counts().reset_index()\n",
    "texts_notna"
   ]
  },
  {
   "cell_type": "markdown",
   "metadata": {},
   "source": [
    "There are 394 distinct users who have used texting at least one month, and 123 distinct users who have not used texting at least one month. This is over 500, our number of users, so there is are a few users who have used texting some months but not others. These users will help us get a great "
   ]
  },
  {
   "cell_type": "code",
   "execution_count": 64,
   "metadata": {},
   "outputs": [
    {
     "data": {
      "text/html": [
       "<div>\n",
       "<style scoped>\n",
       "    .dataframe tbody tr th:only-of-type {\n",
       "        vertical-align: middle;\n",
       "    }\n",
       "\n",
       "    .dataframe tbody tr th {\n",
       "        vertical-align: top;\n",
       "    }\n",
       "\n",
       "    .dataframe thead th {\n",
       "        text-align: right;\n",
       "    }\n",
       "</style>\n",
       "<table border=\"1\" class=\"dataframe\">\n",
       "  <thead>\n",
       "    <tr style=\"text-align: right;\">\n",
       "      <th></th>\n",
       "      <th>index</th>\n",
       "      <th>user_id_x</th>\n",
       "      <th>user_id_y</th>\n",
       "    </tr>\n",
       "  </thead>\n",
       "  <tbody>\n",
       "    <tr>\n",
       "      <th>0</th>\n",
       "      <td>1062</td>\n",
       "      <td>9</td>\n",
       "      <td>1</td>\n",
       "    </tr>\n",
       "    <tr>\n",
       "      <th>1</th>\n",
       "      <td>1358</td>\n",
       "      <td>8</td>\n",
       "      <td>1</td>\n",
       "    </tr>\n",
       "    <tr>\n",
       "      <th>2</th>\n",
       "      <td>1232</td>\n",
       "      <td>7</td>\n",
       "      <td>2</td>\n",
       "    </tr>\n",
       "    <tr>\n",
       "      <th>3</th>\n",
       "      <td>1483</td>\n",
       "      <td>7</td>\n",
       "      <td>1</td>\n",
       "    </tr>\n",
       "    <tr>\n",
       "      <th>4</th>\n",
       "      <td>1420</td>\n",
       "      <td>5</td>\n",
       "      <td>1</td>\n",
       "    </tr>\n",
       "    <tr>\n",
       "      <th>5</th>\n",
       "      <td>1377</td>\n",
       "      <td>5</td>\n",
       "      <td>1</td>\n",
       "    </tr>\n",
       "    <tr>\n",
       "      <th>6</th>\n",
       "      <td>1182</td>\n",
       "      <td>5</td>\n",
       "      <td>3</td>\n",
       "    </tr>\n",
       "    <tr>\n",
       "      <th>7</th>\n",
       "      <td>1053</td>\n",
       "      <td>5</td>\n",
       "      <td>1</td>\n",
       "    </tr>\n",
       "    <tr>\n",
       "      <th>8</th>\n",
       "      <td>1044</td>\n",
       "      <td>4</td>\n",
       "      <td>1</td>\n",
       "    </tr>\n",
       "    <tr>\n",
       "      <th>9</th>\n",
       "      <td>1414</td>\n",
       "      <td>4</td>\n",
       "      <td>1</td>\n",
       "    </tr>\n",
       "    <tr>\n",
       "      <th>10</th>\n",
       "      <td>1332</td>\n",
       "      <td>3</td>\n",
       "      <td>2</td>\n",
       "    </tr>\n",
       "    <tr>\n",
       "      <th>11</th>\n",
       "      <td>1477</td>\n",
       "      <td>2</td>\n",
       "      <td>1</td>\n",
       "    </tr>\n",
       "    <tr>\n",
       "      <th>12</th>\n",
       "      <td>1094</td>\n",
       "      <td>2</td>\n",
       "      <td>1</td>\n",
       "    </tr>\n",
       "    <tr>\n",
       "      <th>13</th>\n",
       "      <td>1228</td>\n",
       "      <td>2</td>\n",
       "      <td>1</td>\n",
       "    </tr>\n",
       "    <tr>\n",
       "      <th>14</th>\n",
       "      <td>1479</td>\n",
       "      <td>1</td>\n",
       "      <td>1</td>\n",
       "    </tr>\n",
       "    <tr>\n",
       "      <th>15</th>\n",
       "      <td>1161</td>\n",
       "      <td>1</td>\n",
       "      <td>1</td>\n",
       "    </tr>\n",
       "    <tr>\n",
       "      <th>16</th>\n",
       "      <td>1333</td>\n",
       "      <td>1</td>\n",
       "      <td>1</td>\n",
       "    </tr>\n",
       "  </tbody>\n",
       "</table>\n",
       "</div>"
      ],
      "text/plain": [
       "    index  user_id_x  user_id_y\n",
       "0    1062          9          1\n",
       "1    1358          8          1\n",
       "2    1232          7          2\n",
       "3    1483          7          1\n",
       "4    1420          5          1\n",
       "5    1377          5          1\n",
       "6    1182          5          3\n",
       "7    1053          5          1\n",
       "8    1044          4          1\n",
       "9    1414          4          1\n",
       "10   1332          3          2\n",
       "11   1477          2          1\n",
       "12   1094          2          1\n",
       "13   1228          2          1\n",
       "14   1479          1          1\n",
       "15   1161          1          1\n",
       "16   1333          1          1"
      ]
     },
     "execution_count": 64,
     "metadata": {},
     "output_type": "execute_result"
    }
   ],
   "source": [
    "# create data frame for a user with missing and nonmissing text values\n",
    "\n",
    "pd.merge(texts_notna, texts_isna, how='inner', on='index')"
   ]
  },
  {
   "cell_type": "markdown",
   "metadata": {},
   "source": [
    "We can see that, for instance, user 1182 has had 5 months where they texted and 3 where they did not. Let's see if this is accurate."
   ]
  },
  {
   "cell_type": "code",
   "execution_count": 65,
   "metadata": {},
   "outputs": [
    {
     "data": {
      "text/html": [
       "<div>\n",
       "<style scoped>\n",
       "    .dataframe tbody tr th:only-of-type {\n",
       "        vertical-align: middle;\n",
       "    }\n",
       "\n",
       "    .dataframe tbody tr th {\n",
       "        vertical-align: top;\n",
       "    }\n",
       "\n",
       "    .dataframe thead th {\n",
       "        text-align: right;\n",
       "    }\n",
       "</style>\n",
       "<table border=\"1\" class=\"dataframe\">\n",
       "  <thead>\n",
       "    <tr style=\"text-align: right;\">\n",
       "      <th></th>\n",
       "      <th>id</th>\n",
       "      <th>user_id</th>\n",
       "      <th>message_date</th>\n",
       "      <th>year</th>\n",
       "      <th>month</th>\n",
       "    </tr>\n",
       "  </thead>\n",
       "  <tbody>\n",
       "    <tr>\n",
       "      <th>29592</th>\n",
       "      <td>1182_2</td>\n",
       "      <td>1182</td>\n",
       "      <td>2018-06-20</td>\n",
       "      <td>2018</td>\n",
       "      <td>6</td>\n",
       "    </tr>\n",
       "    <tr>\n",
       "      <th>29595</th>\n",
       "      <td>1182_5</td>\n",
       "      <td>1182</td>\n",
       "      <td>2018-06-01</td>\n",
       "      <td>2018</td>\n",
       "      <td>6</td>\n",
       "    </tr>\n",
       "    <tr>\n",
       "      <th>29602</th>\n",
       "      <td>1182_17</td>\n",
       "      <td>1182</td>\n",
       "      <td>2018-06-12</td>\n",
       "      <td>2018</td>\n",
       "      <td>6</td>\n",
       "    </tr>\n",
       "    <tr>\n",
       "      <th>29603</th>\n",
       "      <td>1182_18</td>\n",
       "      <td>1182</td>\n",
       "      <td>2018-06-02</td>\n",
       "      <td>2018</td>\n",
       "      <td>6</td>\n",
       "    </tr>\n",
       "    <tr>\n",
       "      <th>29596</th>\n",
       "      <td>1182_6</td>\n",
       "      <td>1182</td>\n",
       "      <td>2018-08-16</td>\n",
       "      <td>2018</td>\n",
       "      <td>8</td>\n",
       "    </tr>\n",
       "    <tr>\n",
       "      <th>29600</th>\n",
       "      <td>1182_14</td>\n",
       "      <td>1182</td>\n",
       "      <td>2018-08-12</td>\n",
       "      <td>2018</td>\n",
       "      <td>8</td>\n",
       "    </tr>\n",
       "    <tr>\n",
       "      <th>29594</th>\n",
       "      <td>1182_4</td>\n",
       "      <td>1182</td>\n",
       "      <td>2018-09-03</td>\n",
       "      <td>2018</td>\n",
       "      <td>9</td>\n",
       "    </tr>\n",
       "    <tr>\n",
       "      <th>29597</th>\n",
       "      <td>1182_8</td>\n",
       "      <td>1182</td>\n",
       "      <td>2018-09-19</td>\n",
       "      <td>2018</td>\n",
       "      <td>9</td>\n",
       "    </tr>\n",
       "    <tr>\n",
       "      <th>29599</th>\n",
       "      <td>1182_11</td>\n",
       "      <td>1182</td>\n",
       "      <td>2018-09-14</td>\n",
       "      <td>2018</td>\n",
       "      <td>9</td>\n",
       "    </tr>\n",
       "    <tr>\n",
       "      <th>29604</th>\n",
       "      <td>1182_19</td>\n",
       "      <td>1182</td>\n",
       "      <td>2018-09-20</td>\n",
       "      <td>2018</td>\n",
       "      <td>9</td>\n",
       "    </tr>\n",
       "    <tr>\n",
       "      <th>29598</th>\n",
       "      <td>1182_10</td>\n",
       "      <td>1182</td>\n",
       "      <td>2018-10-08</td>\n",
       "      <td>2018</td>\n",
       "      <td>10</td>\n",
       "    </tr>\n",
       "    <tr>\n",
       "      <th>29601</th>\n",
       "      <td>1182_16</td>\n",
       "      <td>1182</td>\n",
       "      <td>2018-10-20</td>\n",
       "      <td>2018</td>\n",
       "      <td>10</td>\n",
       "    </tr>\n",
       "    <tr>\n",
       "      <th>29591</th>\n",
       "      <td>1182_1</td>\n",
       "      <td>1182</td>\n",
       "      <td>2018-12-07</td>\n",
       "      <td>2018</td>\n",
       "      <td>12</td>\n",
       "    </tr>\n",
       "    <tr>\n",
       "      <th>29593</th>\n",
       "      <td>1182_3</td>\n",
       "      <td>1182</td>\n",
       "      <td>2018-12-28</td>\n",
       "      <td>2018</td>\n",
       "      <td>12</td>\n",
       "    </tr>\n",
       "  </tbody>\n",
       "</table>\n",
       "</div>"
      ],
      "text/plain": [
       "            id  user_id message_date  year  month\n",
       "29592   1182_2     1182   2018-06-20  2018      6\n",
       "29595   1182_5     1182   2018-06-01  2018      6\n",
       "29602  1182_17     1182   2018-06-12  2018      6\n",
       "29603  1182_18     1182   2018-06-02  2018      6\n",
       "29596   1182_6     1182   2018-08-16  2018      8\n",
       "29600  1182_14     1182   2018-08-12  2018      8\n",
       "29594   1182_4     1182   2018-09-03  2018      9\n",
       "29597   1182_8     1182   2018-09-19  2018      9\n",
       "29599  1182_11     1182   2018-09-14  2018      9\n",
       "29604  1182_19     1182   2018-09-20  2018      9\n",
       "29598  1182_10     1182   2018-10-08  2018     10\n",
       "29601  1182_16     1182   2018-10-20  2018     10\n",
       "29591   1182_1     1182   2018-12-07  2018     12\n",
       "29593   1182_3     1182   2018-12-28  2018     12"
      ]
     },
     "execution_count": 65,
     "metadata": {},
     "output_type": "execute_result"
    }
   ],
   "source": [
    "# check original data frame\n",
    "\n",
    "messages[messages['user_id'] == 1182].sort_values(by = 'month')"
   ]
  },
  {
   "cell_type": "code",
   "execution_count": 66,
   "metadata": {},
   "outputs": [
    {
     "data": {
      "text/html": [
       "<div>\n",
       "<style scoped>\n",
       "    .dataframe tbody tr th:only-of-type {\n",
       "        vertical-align: middle;\n",
       "    }\n",
       "\n",
       "    .dataframe tbody tr th {\n",
       "        vertical-align: top;\n",
       "    }\n",
       "\n",
       "    .dataframe thead th {\n",
       "        text-align: right;\n",
       "    }\n",
       "</style>\n",
       "<table border=\"1\" class=\"dataframe\">\n",
       "  <thead>\n",
       "    <tr style=\"text-align: right;\">\n",
       "      <th></th>\n",
       "      <th>user_id</th>\n",
       "      <th>first_name</th>\n",
       "      <th>last_name</th>\n",
       "      <th>age</th>\n",
       "      <th>city</th>\n",
       "      <th>reg_date</th>\n",
       "      <th>plan</th>\n",
       "      <th>churn_date</th>\n",
       "      <th>is_cancelled</th>\n",
       "      <th>month</th>\n",
       "      <th>calls</th>\n",
       "      <th>billable_time</th>\n",
       "      <th>texts</th>\n",
       "      <th>mb_used</th>\n",
       "      <th>gb_used</th>\n",
       "    </tr>\n",
       "  </thead>\n",
       "  <tbody>\n",
       "    <tr>\n",
       "      <th>858</th>\n",
       "      <td>1182</td>\n",
       "      <td>Jeff</td>\n",
       "      <td>Burt</td>\n",
       "      <td>39</td>\n",
       "      <td>Charlotte-Concord-Gastonia, NC-SC MSA</td>\n",
       "      <td>2018-05-29</td>\n",
       "      <td>surf</td>\n",
       "      <td>1900-01-01</td>\n",
       "      <td>False</td>\n",
       "      <td>5.0</td>\n",
       "      <td>4.0</td>\n",
       "      <td>23.0</td>\n",
       "      <td>NaN</td>\n",
       "      <td>129.84</td>\n",
       "      <td>1.0</td>\n",
       "    </tr>\n",
       "    <tr>\n",
       "      <th>859</th>\n",
       "      <td>1182</td>\n",
       "      <td>Jeff</td>\n",
       "      <td>Burt</td>\n",
       "      <td>39</td>\n",
       "      <td>Charlotte-Concord-Gastonia, NC-SC MSA</td>\n",
       "      <td>2018-05-29</td>\n",
       "      <td>surf</td>\n",
       "      <td>1900-01-01</td>\n",
       "      <td>False</td>\n",
       "      <td>6.0</td>\n",
       "      <td>33.0</td>\n",
       "      <td>301.0</td>\n",
       "      <td>4.0</td>\n",
       "      <td>18311.61</td>\n",
       "      <td>19.0</td>\n",
       "    </tr>\n",
       "    <tr>\n",
       "      <th>860</th>\n",
       "      <td>1182</td>\n",
       "      <td>Jeff</td>\n",
       "      <td>Burt</td>\n",
       "      <td>39</td>\n",
       "      <td>Charlotte-Concord-Gastonia, NC-SC MSA</td>\n",
       "      <td>2018-05-29</td>\n",
       "      <td>surf</td>\n",
       "      <td>1900-01-01</td>\n",
       "      <td>False</td>\n",
       "      <td>7.0</td>\n",
       "      <td>37.0</td>\n",
       "      <td>256.0</td>\n",
       "      <td>NaN</td>\n",
       "      <td>21181.50</td>\n",
       "      <td>22.0</td>\n",
       "    </tr>\n",
       "    <tr>\n",
       "      <th>861</th>\n",
       "      <td>1182</td>\n",
       "      <td>Jeff</td>\n",
       "      <td>Burt</td>\n",
       "      <td>39</td>\n",
       "      <td>Charlotte-Concord-Gastonia, NC-SC MSA</td>\n",
       "      <td>2018-05-29</td>\n",
       "      <td>surf</td>\n",
       "      <td>1900-01-01</td>\n",
       "      <td>False</td>\n",
       "      <td>8.0</td>\n",
       "      <td>27.0</td>\n",
       "      <td>203.0</td>\n",
       "      <td>2.0</td>\n",
       "      <td>19038.13</td>\n",
       "      <td>20.0</td>\n",
       "    </tr>\n",
       "    <tr>\n",
       "      <th>862</th>\n",
       "      <td>1182</td>\n",
       "      <td>Jeff</td>\n",
       "      <td>Burt</td>\n",
       "      <td>39</td>\n",
       "      <td>Charlotte-Concord-Gastonia, NC-SC MSA</td>\n",
       "      <td>2018-05-29</td>\n",
       "      <td>surf</td>\n",
       "      <td>1900-01-01</td>\n",
       "      <td>False</td>\n",
       "      <td>9.0</td>\n",
       "      <td>23.0</td>\n",
       "      <td>214.0</td>\n",
       "      <td>4.0</td>\n",
       "      <td>17325.10</td>\n",
       "      <td>18.0</td>\n",
       "    </tr>\n",
       "    <tr>\n",
       "      <th>863</th>\n",
       "      <td>1182</td>\n",
       "      <td>Jeff</td>\n",
       "      <td>Burt</td>\n",
       "      <td>39</td>\n",
       "      <td>Charlotte-Concord-Gastonia, NC-SC MSA</td>\n",
       "      <td>2018-05-29</td>\n",
       "      <td>surf</td>\n",
       "      <td>1900-01-01</td>\n",
       "      <td>False</td>\n",
       "      <td>10.0</td>\n",
       "      <td>22.0</td>\n",
       "      <td>158.0</td>\n",
       "      <td>2.0</td>\n",
       "      <td>20959.70</td>\n",
       "      <td>21.0</td>\n",
       "    </tr>\n",
       "    <tr>\n",
       "      <th>864</th>\n",
       "      <td>1182</td>\n",
       "      <td>Jeff</td>\n",
       "      <td>Burt</td>\n",
       "      <td>39</td>\n",
       "      <td>Charlotte-Concord-Gastonia, NC-SC MSA</td>\n",
       "      <td>2018-05-29</td>\n",
       "      <td>surf</td>\n",
       "      <td>1900-01-01</td>\n",
       "      <td>False</td>\n",
       "      <td>11.0</td>\n",
       "      <td>30.0</td>\n",
       "      <td>229.0</td>\n",
       "      <td>NaN</td>\n",
       "      <td>21903.66</td>\n",
       "      <td>22.0</td>\n",
       "    </tr>\n",
       "    <tr>\n",
       "      <th>865</th>\n",
       "      <td>1182</td>\n",
       "      <td>Jeff</td>\n",
       "      <td>Burt</td>\n",
       "      <td>39</td>\n",
       "      <td>Charlotte-Concord-Gastonia, NC-SC MSA</td>\n",
       "      <td>2018-05-29</td>\n",
       "      <td>surf</td>\n",
       "      <td>1900-01-01</td>\n",
       "      <td>False</td>\n",
       "      <td>12.0</td>\n",
       "      <td>33.0</td>\n",
       "      <td>242.0</td>\n",
       "      <td>2.0</td>\n",
       "      <td>17659.89</td>\n",
       "      <td>18.0</td>\n",
       "    </tr>\n",
       "  </tbody>\n",
       "</table>\n",
       "</div>"
      ],
      "text/plain": [
       "     user_id first_name last_name  age                                   city  \\\n",
       "858     1182       Jeff      Burt   39  Charlotte-Concord-Gastonia, NC-SC MSA   \n",
       "859     1182       Jeff      Burt   39  Charlotte-Concord-Gastonia, NC-SC MSA   \n",
       "860     1182       Jeff      Burt   39  Charlotte-Concord-Gastonia, NC-SC MSA   \n",
       "861     1182       Jeff      Burt   39  Charlotte-Concord-Gastonia, NC-SC MSA   \n",
       "862     1182       Jeff      Burt   39  Charlotte-Concord-Gastonia, NC-SC MSA   \n",
       "863     1182       Jeff      Burt   39  Charlotte-Concord-Gastonia, NC-SC MSA   \n",
       "864     1182       Jeff      Burt   39  Charlotte-Concord-Gastonia, NC-SC MSA   \n",
       "865     1182       Jeff      Burt   39  Charlotte-Concord-Gastonia, NC-SC MSA   \n",
       "\n",
       "      reg_date  plan churn_date  is_cancelled  month  calls  billable_time  \\\n",
       "858 2018-05-29  surf 1900-01-01         False    5.0    4.0           23.0   \n",
       "859 2018-05-29  surf 1900-01-01         False    6.0   33.0          301.0   \n",
       "860 2018-05-29  surf 1900-01-01         False    7.0   37.0          256.0   \n",
       "861 2018-05-29  surf 1900-01-01         False    8.0   27.0          203.0   \n",
       "862 2018-05-29  surf 1900-01-01         False    9.0   23.0          214.0   \n",
       "863 2018-05-29  surf 1900-01-01         False   10.0   22.0          158.0   \n",
       "864 2018-05-29  surf 1900-01-01         False   11.0   30.0          229.0   \n",
       "865 2018-05-29  surf 1900-01-01         False   12.0   33.0          242.0   \n",
       "\n",
       "     texts   mb_used  gb_used  \n",
       "858    NaN    129.84      1.0  \n",
       "859    4.0  18311.61     19.0  \n",
       "860    NaN  21181.50     22.0  \n",
       "861    2.0  19038.13     20.0  \n",
       "862    4.0  17325.10     18.0  \n",
       "863    2.0  20959.70     21.0  \n",
       "864    NaN  21903.66     22.0  \n",
       "865    2.0  17659.89     18.0  "
      ]
     },
     "execution_count": 66,
     "metadata": {},
     "output_type": "execute_result"
    }
   ],
   "source": [
    "# check users_data frame\n",
    "\n",
    "users_data[users_data['user_id'] == 1182].sort_values(by = 'month')"
   ]
  },
  {
   "cell_type": "markdown",
   "metadata": {},
   "source": [
    "What we see here is that user 1182 had texted in June (6), August (8), September (9), October (10) and December (12). This would remain to follow that the user must have not texted in three months: May (5), July (7) and November (11). As we see in the users_data column, this is accurate. Thus, it is sufficient to conclude that this data frame has been filled accurately.\n",
    "\n",
    "With this in mind, the first couple of things we will do to clean up this data frame are as follows: fill out the billable columns with 0 values where they are null, and drop any of the rows where month is null. This will give us a full data set of everyone who used the service across 2018.\n",
    "\n",
    "The rows where month is null are people who have the service, but for one reason or another did not use it to make calls, send texts, or go online throughout the year. If necessary, we could forward this list of users to a different department to investigate the cause."
   ]
  },
  {
   "cell_type": "markdown",
   "metadata": {},
   "source": [
    "<div class=\"alert alert-warning\">\n",
    "<h2> Reviewer's comment</h2>\n",
    "\n",
    "Awesome Work! You demonstrated an impressive understanding of data aggregation and dataset merging, and a very good thought process to ensure data preservation. Everything was well done, and I want to suggest that you use at least one more user ID to prove that your process is correct. Find another user (just like you did with `users_data['user_id'] == 1182`) and show that your data frame has been filled accurately. \n",
    "    \n",
    "This part of the project is crucial because is going to lead to awesome results. It'd be great it we can double check that everything is OK. Great work!\n",
    "    \n",
    "\n",
    "</div>"
   ]
  },
  {
   "cell_type": "markdown",
   "metadata": {},
   "source": [
    "<div class=\"alert alert-block alert-success\">\n",
    "<b>Senior Reviewer's comment</b> <a class=\"tocSkip\"></a>\n",
    "    \n",
    "Good job\n",
    "</div>"
   ]
  },
  {
   "cell_type": "markdown",
   "metadata": {},
   "source": [
    "### Deal with missing values"
   ]
  },
  {
   "cell_type": "code",
   "execution_count": 67,
   "metadata": {},
   "outputs": [
    {
     "name": "stdout",
     "output_type": "stream",
     "text": [
      "<class 'pandas.core.frame.DataFrame'>\n",
      "Int64Index: 2277 entries, 0 to 2276\n",
      "Data columns (total 15 columns):\n",
      " #   Column         Non-Null Count  Dtype         \n",
      "---  ------         --------------  -----         \n",
      " 0   user_id        2277 non-null   int64         \n",
      " 1   first_name     2277 non-null   object        \n",
      " 2   last_name      2277 non-null   object        \n",
      " 3   age            2277 non-null   int64         \n",
      " 4   city           2277 non-null   object        \n",
      " 5   reg_date       2277 non-null   datetime64[ns]\n",
      " 6   plan           2277 non-null   object        \n",
      " 7   churn_date     2277 non-null   datetime64[ns]\n",
      " 8   is_cancelled   2277 non-null   bool          \n",
      " 9   month          2258 non-null   float64       \n",
      " 10  calls          2277 non-null   float64       \n",
      " 11  billable_time  2277 non-null   float64       \n",
      " 12  texts          2277 non-null   float64       \n",
      " 13  mb_used        2277 non-null   float64       \n",
      " 14  gb_used        2277 non-null   float64       \n",
      "dtypes: bool(1), datetime64[ns](2), float64(6), int64(2), object(4)\n",
      "memory usage: 269.1+ KB\n"
     ]
    }
   ],
   "source": [
    "# fill in na values in calls, billable_time, texts, mb_used and gb_used\n",
    "\n",
    "cols_to_fill = ['calls', 'billable_time', 'texts', 'mb_used', 'gb_used']\n",
    "\n",
    "for i in cols_to_fill:\n",
    "    users_data[i] = users_data[i].fillna(0)\n",
    "\n",
    "users_data.info()"
   ]
  },
  {
   "cell_type": "code",
   "execution_count": 68,
   "metadata": {},
   "outputs": [
    {
     "name": "stdout",
     "output_type": "stream",
     "text": [
      "<class 'pandas.core.frame.DataFrame'>\n",
      "Int64Index: 2258 entries, 0 to 2276\n",
      "Data columns (total 15 columns):\n",
      " #   Column         Non-Null Count  Dtype         \n",
      "---  ------         --------------  -----         \n",
      " 0   user_id        2258 non-null   int64         \n",
      " 1   first_name     2258 non-null   object        \n",
      " 2   last_name      2258 non-null   object        \n",
      " 3   age            2258 non-null   int64         \n",
      " 4   city           2258 non-null   object        \n",
      " 5   reg_date       2258 non-null   datetime64[ns]\n",
      " 6   plan           2258 non-null   object        \n",
      " 7   churn_date     2258 non-null   datetime64[ns]\n",
      " 8   is_cancelled   2258 non-null   bool          \n",
      " 9   month          2258 non-null   float64       \n",
      " 10  calls          2258 non-null   float64       \n",
      " 11  billable_time  2258 non-null   float64       \n",
      " 12  texts          2258 non-null   float64       \n",
      " 13  mb_used        2258 non-null   float64       \n",
      " 14  gb_used        2258 non-null   float64       \n",
      "dtypes: bool(1), datetime64[ns](2), float64(6), int64(2), object(4)\n",
      "memory usage: 266.8+ KB\n"
     ]
    }
   ],
   "source": [
    "# drop empty months\n",
    "\n",
    "users_data = users_data.dropna()\n",
    "users_data.info()"
   ]
  },
  {
   "cell_type": "markdown",
   "metadata": {},
   "source": [
    "Now we can calculate the revenue from each user that we get each month. The easiest, though decidedly messiest, way to do this will be directly in our native data frame. We can create new columns for the base rate, the billable minutes, texts and internet usage and then add those columns together.\n",
    "\n",
    "Using np.where will provide us a simple way to check for the plan and apply the respective rates to it."
   ]
  },
  {
   "cell_type": "markdown",
   "metadata": {},
   "source": [
    "<div class=\"alert alert-success\">\n",
    "<h2> Reviewer's comment</h2>\n",
    "\n",
    "Nice work!    \n",
    "    \n",
    "\n",
    "</div>"
   ]
  },
  {
   "cell_type": "markdown",
   "metadata": {},
   "source": [
    "### Add prices"
   ]
  },
  {
   "cell_type": "code",
   "execution_count": 69,
   "metadata": {},
   "outputs": [
    {
     "name": "stderr",
     "output_type": "stream",
     "text": [
      "<ipython-input-69-cd42059cfdfe>:3: SettingWithCopyWarning: \n",
      "A value is trying to be set on a copy of a slice from a DataFrame.\n",
      "Try using .loc[row_indexer,col_indexer] = value instead\n",
      "\n",
      "See the caveats in the documentation: https://pandas.pydata.org/pandas-docs/stable/user_guide/indexing.html#returning-a-view-versus-a-copy\n",
      "  users_data['base_rate'] = np.where(users_data['plan'] == 'surf', 20, 70)\n"
     ]
    }
   ],
   "source": [
    "# insert base rate ($20 for surf plans, $70 for ultimate plans)\n",
    "\n",
    "users_data['base_rate'] = np.where(users_data['plan'] == 'surf', 20, 70)"
   ]
  },
  {
   "cell_type": "markdown",
   "metadata": {},
   "source": [
    "For the remaining calculations for price, things get more complicated. We need to check each row, the row's plan, and its usage of our services, then account for whether or not the value is above the package limits. This could be done very easily, but doing it right will be rather complicated. So the code is readable, making it simple is generally a good idea.\n",
    "\n",
    "We also will be able to make it something we could use with different situations. For instance, if we were to focus on a different year, then the package might have a different amount of internet usage included, with a different rate of each GB past the internet rate."
   ]
  },
  {
   "cell_type": "code",
   "execution_count": 70,
   "metadata": {},
   "outputs": [],
   "source": [
    "# make max values for 'surf' plans\n",
    "\n",
    "surf_phone_max = plans['minutes_included'].loc[0]\n",
    "surf_text_max = plans['messages_included'].loc[0]\n",
    "surf_internet_max = plans['gb_per_month_included'].loc[0]\n",
    "\n",
    "# make rates for 'surf' plans\n",
    "\n",
    "surf_phone_rate = plans['usd_per_minute'].loc[0]\n",
    "surf_text_rate = plans['usd_per_message'].loc[0]\n",
    "surf_internet_rate = plans['usd_per_gb'].loc[0]\n",
    "\n",
    "# make max values for 'ultimate' plans\n",
    "\n",
    "ult_phone_max = plans['minutes_included'].loc[1]\n",
    "ult_text_max = plans['messages_included'].loc[1]\n",
    "ult_internet_max = plans['gb_per_month_included'].loc[1]\n",
    "\n",
    "# make rates for 'ultimate' plans\n",
    "\n",
    "ult_phone_rate = plans['usd_per_minute'].loc[1]\n",
    "ult_text_rate = plans['usd_per_message'].loc[1]\n",
    "ult_internet_rate = plans['usd_per_gb'].loc[1]"
   ]
  },
  {
   "cell_type": "markdown",
   "metadata": {},
   "source": [
    "This code could be turned into a for loop that accounts for the possibility of adding new plans in the future, but this is fine, and unless we add multiple plans in a single year, then this code will be simple enough to expand. We can use it to expand over our users_data to calculate the price using an if, else loop.\n",
    "\n",
    "We will also initialize the three columns into our data frame for the phone, text, and internet bills. These will be filled with 0, which will make our loop a little less messy since we can ignore the condition for rows where the bill would be 0 (i.e. where the usage is less than what is included in the package)."
   ]
  },
  {
   "cell_type": "code",
   "execution_count": 71,
   "metadata": {
    "scrolled": false
   },
   "outputs": [
    {
     "name": "stderr",
     "output_type": "stream",
     "text": [
      "<ipython-input-71-3ab45c071544>:3: SettingWithCopyWarning: \n",
      "A value is trying to be set on a copy of a slice from a DataFrame.\n",
      "Try using .loc[row_indexer,col_indexer] = value instead\n",
      "\n",
      "See the caveats in the documentation: https://pandas.pydata.org/pandas-docs/stable/user_guide/indexing.html#returning-a-view-versus-a-copy\n",
      "  users_data['phone_bill'] = 0\n",
      "<ipython-input-71-3ab45c071544>:4: SettingWithCopyWarning: \n",
      "A value is trying to be set on a copy of a slice from a DataFrame.\n",
      "Try using .loc[row_indexer,col_indexer] = value instead\n",
      "\n",
      "See the caveats in the documentation: https://pandas.pydata.org/pandas-docs/stable/user_guide/indexing.html#returning-a-view-versus-a-copy\n",
      "  users_data['text_bill'] = 0\n",
      "<ipython-input-71-3ab45c071544>:5: SettingWithCopyWarning: \n",
      "A value is trying to be set on a copy of a slice from a DataFrame.\n",
      "Try using .loc[row_indexer,col_indexer] = value instead\n",
      "\n",
      "See the caveats in the documentation: https://pandas.pydata.org/pandas-docs/stable/user_guide/indexing.html#returning-a-view-versus-a-copy\n",
      "  users_data['internet_bill'] = 0\n"
     ]
    }
   ],
   "source": [
    "# set initial prices of 0\n",
    "\n",
    "users_data['phone_bill'] = 0\n",
    "users_data['text_bill'] = 0\n",
    "users_data['internet_bill'] = 0"
   ]
  },
  {
   "cell_type": "code",
   "execution_count": 72,
   "metadata": {
    "scrolled": true
   },
   "outputs": [
    {
     "name": "stderr",
     "output_type": "stream",
     "text": [
      "C:\\Users\\manyv\\anaconda3\\lib\\site-packages\\pandas\\core\\indexing.py:1637: SettingWithCopyWarning: \n",
      "A value is trying to be set on a copy of a slice from a DataFrame\n",
      "\n",
      "See the caveats in the documentation: https://pandas.pydata.org/pandas-docs/stable/user_guide/indexing.html#returning-a-view-versus-a-copy\n",
      "  self._setitem_single_block(indexer, value, name)\n",
      "C:\\Users\\manyv\\anaconda3\\lib\\site-packages\\pandas\\core\\indexing.py:692: SettingWithCopyWarning: \n",
      "A value is trying to be set on a copy of a slice from a DataFrame\n",
      "\n",
      "See the caveats in the documentation: https://pandas.pydata.org/pandas-docs/stable/user_guide/indexing.html#returning-a-view-versus-a-copy\n",
      "  iloc._setitem_with_indexer(indexer, value, self.name)\n"
     ]
    },
    {
     "data": {
      "text/html": [
       "<div>\n",
       "<style scoped>\n",
       "    .dataframe tbody tr th:only-of-type {\n",
       "        vertical-align: middle;\n",
       "    }\n",
       "\n",
       "    .dataframe tbody tr th {\n",
       "        vertical-align: top;\n",
       "    }\n",
       "\n",
       "    .dataframe thead th {\n",
       "        text-align: right;\n",
       "    }\n",
       "</style>\n",
       "<table border=\"1\" class=\"dataframe\">\n",
       "  <thead>\n",
       "    <tr style=\"text-align: right;\">\n",
       "      <th></th>\n",
       "      <th>user_id</th>\n",
       "      <th>first_name</th>\n",
       "      <th>last_name</th>\n",
       "      <th>age</th>\n",
       "      <th>city</th>\n",
       "      <th>reg_date</th>\n",
       "      <th>plan</th>\n",
       "      <th>churn_date</th>\n",
       "      <th>is_cancelled</th>\n",
       "      <th>month</th>\n",
       "      <th>calls</th>\n",
       "      <th>billable_time</th>\n",
       "      <th>texts</th>\n",
       "      <th>mb_used</th>\n",
       "      <th>gb_used</th>\n",
       "      <th>base_rate</th>\n",
       "      <th>phone_bill</th>\n",
       "      <th>text_bill</th>\n",
       "      <th>internet_bill</th>\n",
       "    </tr>\n",
       "  </thead>\n",
       "  <tbody>\n",
       "    <tr>\n",
       "      <th>0</th>\n",
       "      <td>1000</td>\n",
       "      <td>Anamaria</td>\n",
       "      <td>Bauer</td>\n",
       "      <td>45</td>\n",
       "      <td>Atlanta-Sandy Springs-Roswell, GA MSA</td>\n",
       "      <td>2018-12-24</td>\n",
       "      <td>ultimate</td>\n",
       "      <td>1900-01-01</td>\n",
       "      <td>False</td>\n",
       "      <td>12.0</td>\n",
       "      <td>16.0</td>\n",
       "      <td>124.0</td>\n",
       "      <td>11.0</td>\n",
       "      <td>1901.47</td>\n",
       "      <td>2.0</td>\n",
       "      <td>70</td>\n",
       "      <td>0.00</td>\n",
       "      <td>0.00</td>\n",
       "      <td>0.0</td>\n",
       "    </tr>\n",
       "    <tr>\n",
       "      <th>1</th>\n",
       "      <td>1001</td>\n",
       "      <td>Mickey</td>\n",
       "      <td>Wilkerson</td>\n",
       "      <td>28</td>\n",
       "      <td>Seattle-Tacoma-Bellevue, WA MSA</td>\n",
       "      <td>2018-08-13</td>\n",
       "      <td>surf</td>\n",
       "      <td>1900-01-01</td>\n",
       "      <td>False</td>\n",
       "      <td>8.0</td>\n",
       "      <td>27.0</td>\n",
       "      <td>182.0</td>\n",
       "      <td>30.0</td>\n",
       "      <td>6919.15</td>\n",
       "      <td>7.0</td>\n",
       "      <td>20</td>\n",
       "      <td>0.00</td>\n",
       "      <td>0.00</td>\n",
       "      <td>0.0</td>\n",
       "    </tr>\n",
       "    <tr>\n",
       "      <th>2</th>\n",
       "      <td>1001</td>\n",
       "      <td>Mickey</td>\n",
       "      <td>Wilkerson</td>\n",
       "      <td>28</td>\n",
       "      <td>Seattle-Tacoma-Bellevue, WA MSA</td>\n",
       "      <td>2018-08-13</td>\n",
       "      <td>surf</td>\n",
       "      <td>1900-01-01</td>\n",
       "      <td>False</td>\n",
       "      <td>9.0</td>\n",
       "      <td>49.0</td>\n",
       "      <td>315.0</td>\n",
       "      <td>44.0</td>\n",
       "      <td>13314.82</td>\n",
       "      <td>14.0</td>\n",
       "      <td>20</td>\n",
       "      <td>0.00</td>\n",
       "      <td>0.00</td>\n",
       "      <td>0.0</td>\n",
       "    </tr>\n",
       "    <tr>\n",
       "      <th>3</th>\n",
       "      <td>1001</td>\n",
       "      <td>Mickey</td>\n",
       "      <td>Wilkerson</td>\n",
       "      <td>28</td>\n",
       "      <td>Seattle-Tacoma-Bellevue, WA MSA</td>\n",
       "      <td>2018-08-13</td>\n",
       "      <td>surf</td>\n",
       "      <td>1900-01-01</td>\n",
       "      <td>False</td>\n",
       "      <td>10.0</td>\n",
       "      <td>65.0</td>\n",
       "      <td>393.0</td>\n",
       "      <td>53.0</td>\n",
       "      <td>22330.49</td>\n",
       "      <td>23.0</td>\n",
       "      <td>20</td>\n",
       "      <td>0.00</td>\n",
       "      <td>0.09</td>\n",
       "      <td>76.4</td>\n",
       "    </tr>\n",
       "    <tr>\n",
       "      <th>4</th>\n",
       "      <td>1001</td>\n",
       "      <td>Mickey</td>\n",
       "      <td>Wilkerson</td>\n",
       "      <td>28</td>\n",
       "      <td>Seattle-Tacoma-Bellevue, WA MSA</td>\n",
       "      <td>2018-08-13</td>\n",
       "      <td>surf</td>\n",
       "      <td>1900-01-01</td>\n",
       "      <td>False</td>\n",
       "      <td>11.0</td>\n",
       "      <td>64.0</td>\n",
       "      <td>426.0</td>\n",
       "      <td>36.0</td>\n",
       "      <td>18504.30</td>\n",
       "      <td>19.0</td>\n",
       "      <td>20</td>\n",
       "      <td>0.00</td>\n",
       "      <td>0.00</td>\n",
       "      <td>36.4</td>\n",
       "    </tr>\n",
       "    <tr>\n",
       "      <th>5</th>\n",
       "      <td>1001</td>\n",
       "      <td>Mickey</td>\n",
       "      <td>Wilkerson</td>\n",
       "      <td>28</td>\n",
       "      <td>Seattle-Tacoma-Bellevue, WA MSA</td>\n",
       "      <td>2018-08-13</td>\n",
       "      <td>surf</td>\n",
       "      <td>1900-01-01</td>\n",
       "      <td>False</td>\n",
       "      <td>12.0</td>\n",
       "      <td>56.0</td>\n",
       "      <td>412.0</td>\n",
       "      <td>44.0</td>\n",
       "      <td>19369.18</td>\n",
       "      <td>20.0</td>\n",
       "      <td>20</td>\n",
       "      <td>0.00</td>\n",
       "      <td>0.00</td>\n",
       "      <td>46.4</td>\n",
       "    </tr>\n",
       "    <tr>\n",
       "      <th>6</th>\n",
       "      <td>1002</td>\n",
       "      <td>Carlee</td>\n",
       "      <td>Hoffman</td>\n",
       "      <td>36</td>\n",
       "      <td>Las Vegas-Henderson-Paradise, NV MSA</td>\n",
       "      <td>2018-10-21</td>\n",
       "      <td>surf</td>\n",
       "      <td>1900-01-01</td>\n",
       "      <td>False</td>\n",
       "      <td>10.0</td>\n",
       "      <td>11.0</td>\n",
       "      <td>59.0</td>\n",
       "      <td>15.0</td>\n",
       "      <td>6552.01</td>\n",
       "      <td>7.0</td>\n",
       "      <td>20</td>\n",
       "      <td>0.00</td>\n",
       "      <td>0.00</td>\n",
       "      <td>0.0</td>\n",
       "    </tr>\n",
       "    <tr>\n",
       "      <th>7</th>\n",
       "      <td>1002</td>\n",
       "      <td>Carlee</td>\n",
       "      <td>Hoffman</td>\n",
       "      <td>36</td>\n",
       "      <td>Las Vegas-Henderson-Paradise, NV MSA</td>\n",
       "      <td>2018-10-21</td>\n",
       "      <td>surf</td>\n",
       "      <td>1900-01-01</td>\n",
       "      <td>False</td>\n",
       "      <td>11.0</td>\n",
       "      <td>55.0</td>\n",
       "      <td>386.0</td>\n",
       "      <td>32.0</td>\n",
       "      <td>19345.08</td>\n",
       "      <td>20.0</td>\n",
       "      <td>20</td>\n",
       "      <td>0.00</td>\n",
       "      <td>0.00</td>\n",
       "      <td>46.4</td>\n",
       "    </tr>\n",
       "    <tr>\n",
       "      <th>8</th>\n",
       "      <td>1002</td>\n",
       "      <td>Carlee</td>\n",
       "      <td>Hoffman</td>\n",
       "      <td>36</td>\n",
       "      <td>Las Vegas-Henderson-Paradise, NV MSA</td>\n",
       "      <td>2018-10-21</td>\n",
       "      <td>surf</td>\n",
       "      <td>1900-01-01</td>\n",
       "      <td>False</td>\n",
       "      <td>12.0</td>\n",
       "      <td>47.0</td>\n",
       "      <td>384.0</td>\n",
       "      <td>41.0</td>\n",
       "      <td>14396.24</td>\n",
       "      <td>15.0</td>\n",
       "      <td>20</td>\n",
       "      <td>0.00</td>\n",
       "      <td>0.00</td>\n",
       "      <td>0.0</td>\n",
       "    </tr>\n",
       "    <tr>\n",
       "      <th>9</th>\n",
       "      <td>1003</td>\n",
       "      <td>Reynaldo</td>\n",
       "      <td>Jenkins</td>\n",
       "      <td>52</td>\n",
       "      <td>Tulsa, OK MSA</td>\n",
       "      <td>2018-01-28</td>\n",
       "      <td>surf</td>\n",
       "      <td>1900-01-01</td>\n",
       "      <td>False</td>\n",
       "      <td>12.0</td>\n",
       "      <td>149.0</td>\n",
       "      <td>1104.0</td>\n",
       "      <td>50.0</td>\n",
       "      <td>27044.14</td>\n",
       "      <td>28.0</td>\n",
       "      <td>20</td>\n",
       "      <td>18.12</td>\n",
       "      <td>0.00</td>\n",
       "      <td>126.4</td>\n",
       "    </tr>\n",
       "  </tbody>\n",
       "</table>\n",
       "</div>"
      ],
      "text/plain": [
       "   user_id first_name  last_name  age                                   city  \\\n",
       "0     1000   Anamaria      Bauer   45  Atlanta-Sandy Springs-Roswell, GA MSA   \n",
       "1     1001     Mickey  Wilkerson   28        Seattle-Tacoma-Bellevue, WA MSA   \n",
       "2     1001     Mickey  Wilkerson   28        Seattle-Tacoma-Bellevue, WA MSA   \n",
       "3     1001     Mickey  Wilkerson   28        Seattle-Tacoma-Bellevue, WA MSA   \n",
       "4     1001     Mickey  Wilkerson   28        Seattle-Tacoma-Bellevue, WA MSA   \n",
       "5     1001     Mickey  Wilkerson   28        Seattle-Tacoma-Bellevue, WA MSA   \n",
       "6     1002     Carlee    Hoffman   36   Las Vegas-Henderson-Paradise, NV MSA   \n",
       "7     1002     Carlee    Hoffman   36   Las Vegas-Henderson-Paradise, NV MSA   \n",
       "8     1002     Carlee    Hoffman   36   Las Vegas-Henderson-Paradise, NV MSA   \n",
       "9     1003   Reynaldo    Jenkins   52                          Tulsa, OK MSA   \n",
       "\n",
       "    reg_date      plan churn_date  is_cancelled  month  calls  billable_time  \\\n",
       "0 2018-12-24  ultimate 1900-01-01         False   12.0   16.0          124.0   \n",
       "1 2018-08-13      surf 1900-01-01         False    8.0   27.0          182.0   \n",
       "2 2018-08-13      surf 1900-01-01         False    9.0   49.0          315.0   \n",
       "3 2018-08-13      surf 1900-01-01         False   10.0   65.0          393.0   \n",
       "4 2018-08-13      surf 1900-01-01         False   11.0   64.0          426.0   \n",
       "5 2018-08-13      surf 1900-01-01         False   12.0   56.0          412.0   \n",
       "6 2018-10-21      surf 1900-01-01         False   10.0   11.0           59.0   \n",
       "7 2018-10-21      surf 1900-01-01         False   11.0   55.0          386.0   \n",
       "8 2018-10-21      surf 1900-01-01         False   12.0   47.0          384.0   \n",
       "9 2018-01-28      surf 1900-01-01         False   12.0  149.0         1104.0   \n",
       "\n",
       "   texts   mb_used  gb_used  base_rate  phone_bill  text_bill  internet_bill  \n",
       "0   11.0   1901.47      2.0         70        0.00       0.00            0.0  \n",
       "1   30.0   6919.15      7.0         20        0.00       0.00            0.0  \n",
       "2   44.0  13314.82     14.0         20        0.00       0.00            0.0  \n",
       "3   53.0  22330.49     23.0         20        0.00       0.09           76.4  \n",
       "4   36.0  18504.30     19.0         20        0.00       0.00           36.4  \n",
       "5   44.0  19369.18     20.0         20        0.00       0.00           46.4  \n",
       "6   15.0   6552.01      7.0         20        0.00       0.00            0.0  \n",
       "7   32.0  19345.08     20.0         20        0.00       0.00           46.4  \n",
       "8   41.0  14396.24     15.0         20        0.00       0.00            0.0  \n",
       "9   50.0  27044.14     28.0         20       18.12       0.00          126.4  "
      ]
     },
     "execution_count": 72,
     "metadata": {},
     "output_type": "execute_result"
    }
   ],
   "source": [
    "# fill in prices for phone, text, internet bills\n",
    "\n",
    "for row, index in users_data.iterrows():\n",
    "    \n",
    "    # calculate bills for 'ultimate' plans\n",
    "    if users_data['plan'].loc[row] == 'ultimate':\n",
    "        \n",
    "        # phone\n",
    "        if users_data['billable_time'].loc[row] > ult_phone_max:\n",
    "            users_data['phone_bill'].loc[row] = (users_data['billable_time'].loc[row] \n",
    "                                                 - ult_phone_max) * ult_phone_rate\n",
    "            \n",
    "        # text\n",
    "        if users_data['texts'].loc[row] > ult_text_max:\n",
    "            users_data['text_bill'].loc[row] = (users_data['texts'].loc[row] \n",
    "                                                - ult_text_max) * ult_text_rate\n",
    "            \n",
    "        # internet\n",
    "        if users_data['gb_used'].loc[row] > ult_internet_max:\n",
    "            users_data['internet_bill'].loc[row] = (users_data['gb_used'].loc[row] \n",
    "                                                    - ult_internet_max) * ult_internet_rate\n",
    "    \n",
    "    # calculate bills for 'surf' plans\n",
    "    if users_data['plan'].loc[row] == 'surf':\n",
    "        \n",
    "        # phone\n",
    "        if users_data['billable_time'].loc[row] > surf_phone_max:\n",
    "            users_data['phone_bill'].loc[row] = (users_data['billable_time'].loc[row] \n",
    "                                                 - surf_phone_max) * surf_phone_rate\n",
    "            \n",
    "        # text\n",
    "        if users_data['texts'].loc[row] > surf_text_max:\n",
    "            users_data['text_bill'].loc[row] = (users_data['texts'].loc[row] \n",
    "                                                - surf_text_max) * surf_text_rate\n",
    "            \n",
    "        # internet\n",
    "        if users_data['gb_used'].loc[row] > surf_internet_max:\n",
    "            users_data['internet_bill'].loc[row] = (users_data['gb_used'].loc[row] \n",
    "                                                    - surf_internet_max) * surf_internet_rate\n",
    "\n",
    "users_data.head(10)"
   ]
  },
  {
   "cell_type": "markdown",
   "metadata": {},
   "source": [
    "<div class=\"alert alert-success\">\n",
    "<h2> Reviewer's comment</h2>\n",
    "\n",
    "Perfectly done, just keep in mind that pandas recomends the use of method `.loc`\n",
    "   \n",
    "\n",
    "</div>"
   ]
  },
  {
   "cell_type": "markdown",
   "metadata": {},
   "source": [
    "<div class=\"alert alert-block alert-success\">\n",
    "<b>Senior Reviewer's comment</b> <a class=\"tocSkip\"></a>\n",
    "    \n",
    "Nice tip\n",
    "</div>"
   ]
  },
  {
   "cell_type": "markdown",
   "metadata": {},
   "source": [
    "Because this code was rather complicated, let's take a look at some select rows to see if it worked."
   ]
  },
  {
   "cell_type": "code",
   "execution_count": 73,
   "metadata": {},
   "outputs": [
    {
     "data": {
      "text/html": [
       "<div>\n",
       "<style scoped>\n",
       "    .dataframe tbody tr th:only-of-type {\n",
       "        vertical-align: middle;\n",
       "    }\n",
       "\n",
       "    .dataframe tbody tr th {\n",
       "        vertical-align: top;\n",
       "    }\n",
       "\n",
       "    .dataframe thead th {\n",
       "        text-align: right;\n",
       "    }\n",
       "</style>\n",
       "<table border=\"1\" class=\"dataframe\">\n",
       "  <thead>\n",
       "    <tr style=\"text-align: right;\">\n",
       "      <th></th>\n",
       "      <th>user_id</th>\n",
       "      <th>first_name</th>\n",
       "      <th>last_name</th>\n",
       "      <th>age</th>\n",
       "      <th>city</th>\n",
       "      <th>reg_date</th>\n",
       "      <th>plan</th>\n",
       "      <th>churn_date</th>\n",
       "      <th>is_cancelled</th>\n",
       "      <th>month</th>\n",
       "      <th>calls</th>\n",
       "      <th>billable_time</th>\n",
       "      <th>texts</th>\n",
       "      <th>mb_used</th>\n",
       "      <th>gb_used</th>\n",
       "      <th>base_rate</th>\n",
       "      <th>phone_bill</th>\n",
       "      <th>text_bill</th>\n",
       "      <th>internet_bill</th>\n",
       "    </tr>\n",
       "  </thead>\n",
       "  <tbody>\n",
       "    <tr>\n",
       "      <th>9</th>\n",
       "      <td>1003</td>\n",
       "      <td>Reynaldo</td>\n",
       "      <td>Jenkins</td>\n",
       "      <td>52</td>\n",
       "      <td>Tulsa, OK MSA</td>\n",
       "      <td>2018-01-28</td>\n",
       "      <td>surf</td>\n",
       "      <td>1900-01-01</td>\n",
       "      <td>False</td>\n",
       "      <td>12.0</td>\n",
       "      <td>149.0</td>\n",
       "      <td>1104.0</td>\n",
       "      <td>50.0</td>\n",
       "      <td>27044.14</td>\n",
       "      <td>28.0</td>\n",
       "      <td>20</td>\n",
       "      <td>18.12</td>\n",
       "      <td>0.00</td>\n",
       "      <td>126.40</td>\n",
       "    </tr>\n",
       "    <tr>\n",
       "      <th>57</th>\n",
       "      <td>1014</td>\n",
       "      <td>Edmundo</td>\n",
       "      <td>Simon</td>\n",
       "      <td>61</td>\n",
       "      <td>New York-Newark-Jersey City, NY-NJ-PA MSA</td>\n",
       "      <td>2018-11-25</td>\n",
       "      <td>surf</td>\n",
       "      <td>1900-01-01</td>\n",
       "      <td>False</td>\n",
       "      <td>12.0</td>\n",
       "      <td>150.0</td>\n",
       "      <td>1114.0</td>\n",
       "      <td>64.0</td>\n",
       "      <td>7792.41</td>\n",
       "      <td>8.0</td>\n",
       "      <td>20</td>\n",
       "      <td>18.42</td>\n",
       "      <td>0.42</td>\n",
       "      <td>0.00</td>\n",
       "    </tr>\n",
       "    <tr>\n",
       "      <th>217</th>\n",
       "      <td>1052</td>\n",
       "      <td>Edmond</td>\n",
       "      <td>Hopkins</td>\n",
       "      <td>47</td>\n",
       "      <td>Houston-The Woodlands-Sugar Land, TX MSA</td>\n",
       "      <td>2018-03-05</td>\n",
       "      <td>surf</td>\n",
       "      <td>1900-01-01</td>\n",
       "      <td>False</td>\n",
       "      <td>12.0</td>\n",
       "      <td>177.0</td>\n",
       "      <td>1200.0</td>\n",
       "      <td>266.0</td>\n",
       "      <td>26633.75</td>\n",
       "      <td>27.0</td>\n",
       "      <td>20</td>\n",
       "      <td>21.00</td>\n",
       "      <td>6.48</td>\n",
       "      <td>116.40</td>\n",
       "    </tr>\n",
       "    <tr>\n",
       "      <th>248</th>\n",
       "      <td>1057</td>\n",
       "      <td>Theo</td>\n",
       "      <td>Sargent</td>\n",
       "      <td>18</td>\n",
       "      <td>Atlanta-Sandy Springs-Roswell, GA MSA</td>\n",
       "      <td>2018-08-07</td>\n",
       "      <td>ultimate</td>\n",
       "      <td>1900-01-01</td>\n",
       "      <td>False</td>\n",
       "      <td>10.0</td>\n",
       "      <td>162.0</td>\n",
       "      <td>1117.0</td>\n",
       "      <td>131.0</td>\n",
       "      <td>28474.23</td>\n",
       "      <td>29.0</td>\n",
       "      <td>70</td>\n",
       "      <td>0.00</td>\n",
       "      <td>0.00</td>\n",
       "      <td>0.00</td>\n",
       "    </tr>\n",
       "    <tr>\n",
       "      <th>249</th>\n",
       "      <td>1057</td>\n",
       "      <td>Theo</td>\n",
       "      <td>Sargent</td>\n",
       "      <td>18</td>\n",
       "      <td>Atlanta-Sandy Springs-Roswell, GA MSA</td>\n",
       "      <td>2018-08-07</td>\n",
       "      <td>ultimate</td>\n",
       "      <td>1900-01-01</td>\n",
       "      <td>False</td>\n",
       "      <td>11.0</td>\n",
       "      <td>159.0</td>\n",
       "      <td>1027.0</td>\n",
       "      <td>111.0</td>\n",
       "      <td>35090.02</td>\n",
       "      <td>36.0</td>\n",
       "      <td>70</td>\n",
       "      <td>0.00</td>\n",
       "      <td>0.00</td>\n",
       "      <td>36.96</td>\n",
       "    </tr>\n",
       "    <tr>\n",
       "      <th>250</th>\n",
       "      <td>1057</td>\n",
       "      <td>Theo</td>\n",
       "      <td>Sargent</td>\n",
       "      <td>18</td>\n",
       "      <td>Atlanta-Sandy Springs-Roswell, GA MSA</td>\n",
       "      <td>2018-08-07</td>\n",
       "      <td>ultimate</td>\n",
       "      <td>1900-01-01</td>\n",
       "      <td>False</td>\n",
       "      <td>12.0</td>\n",
       "      <td>158.0</td>\n",
       "      <td>1173.0</td>\n",
       "      <td>137.0</td>\n",
       "      <td>24450.06</td>\n",
       "      <td>25.0</td>\n",
       "      <td>70</td>\n",
       "      <td>0.00</td>\n",
       "      <td>0.00</td>\n",
       "      <td>0.00</td>\n",
       "    </tr>\n",
       "    <tr>\n",
       "      <th>590</th>\n",
       "      <td>1126</td>\n",
       "      <td>Jermaine</td>\n",
       "      <td>Mcguire</td>\n",
       "      <td>68</td>\n",
       "      <td>Chicago-Naperville-Elgin, IL-IN-WI MSA</td>\n",
       "      <td>2018-06-02</td>\n",
       "      <td>ultimate</td>\n",
       "      <td>1900-01-01</td>\n",
       "      <td>False</td>\n",
       "      <td>11.0</td>\n",
       "      <td>147.0</td>\n",
       "      <td>1037.0</td>\n",
       "      <td>72.0</td>\n",
       "      <td>20906.16</td>\n",
       "      <td>21.0</td>\n",
       "      <td>70</td>\n",
       "      <td>0.00</td>\n",
       "      <td>0.00</td>\n",
       "      <td>0.00</td>\n",
       "    </tr>\n",
       "    <tr>\n",
       "      <th>659</th>\n",
       "      <td>1141</td>\n",
       "      <td>Kirstie</td>\n",
       "      <td>Hodges</td>\n",
       "      <td>46</td>\n",
       "      <td>New York-Newark-Jersey City, NY-NJ-PA MSA</td>\n",
       "      <td>2018-06-26</td>\n",
       "      <td>surf</td>\n",
       "      <td>1900-01-01</td>\n",
       "      <td>False</td>\n",
       "      <td>10.0</td>\n",
       "      <td>141.0</td>\n",
       "      <td>1069.0</td>\n",
       "      <td>21.0</td>\n",
       "      <td>15702.70</td>\n",
       "      <td>16.0</td>\n",
       "      <td>20</td>\n",
       "      <td>17.07</td>\n",
       "      <td>0.00</td>\n",
       "      <td>6.40</td>\n",
       "    </tr>\n",
       "    <tr>\n",
       "      <th>753</th>\n",
       "      <td>1159</td>\n",
       "      <td>Dierdre</td>\n",
       "      <td>Baker</td>\n",
       "      <td>58</td>\n",
       "      <td>Miami-Fort Lauderdale-West Palm Beach, FL MSA</td>\n",
       "      <td>2018-07-21</td>\n",
       "      <td>ultimate</td>\n",
       "      <td>1900-01-01</td>\n",
       "      <td>False</td>\n",
       "      <td>12.0</td>\n",
       "      <td>138.0</td>\n",
       "      <td>1071.0</td>\n",
       "      <td>110.0</td>\n",
       "      <td>13966.21</td>\n",
       "      <td>14.0</td>\n",
       "      <td>70</td>\n",
       "      <td>0.00</td>\n",
       "      <td>0.00</td>\n",
       "      <td>0.00</td>\n",
       "    </tr>\n",
       "    <tr>\n",
       "      <th>1017</th>\n",
       "      <td>1215</td>\n",
       "      <td>Adelle</td>\n",
       "      <td>Knapp</td>\n",
       "      <td>70</td>\n",
       "      <td>New York-Newark-Jersey City, NY-NJ-PA MSA</td>\n",
       "      <td>2018-07-01</td>\n",
       "      <td>surf</td>\n",
       "      <td>1900-01-01</td>\n",
       "      <td>False</td>\n",
       "      <td>12.0</td>\n",
       "      <td>129.0</td>\n",
       "      <td>1167.0</td>\n",
       "      <td>98.0</td>\n",
       "      <td>34298.28</td>\n",
       "      <td>35.0</td>\n",
       "      <td>20</td>\n",
       "      <td>20.01</td>\n",
       "      <td>1.44</td>\n",
       "      <td>196.40</td>\n",
       "    </tr>\n",
       "  </tbody>\n",
       "</table>\n",
       "</div>"
      ],
      "text/plain": [
       "      user_id first_name last_name  age  \\\n",
       "9        1003   Reynaldo   Jenkins   52   \n",
       "57       1014    Edmundo     Simon   61   \n",
       "217      1052     Edmond   Hopkins   47   \n",
       "248      1057       Theo   Sargent   18   \n",
       "249      1057       Theo   Sargent   18   \n",
       "250      1057       Theo   Sargent   18   \n",
       "590      1126   Jermaine   Mcguire   68   \n",
       "659      1141    Kirstie    Hodges   46   \n",
       "753      1159    Dierdre     Baker   58   \n",
       "1017     1215     Adelle     Knapp   70   \n",
       "\n",
       "                                               city   reg_date      plan  \\\n",
       "9                                     Tulsa, OK MSA 2018-01-28      surf   \n",
       "57        New York-Newark-Jersey City, NY-NJ-PA MSA 2018-11-25      surf   \n",
       "217        Houston-The Woodlands-Sugar Land, TX MSA 2018-03-05      surf   \n",
       "248           Atlanta-Sandy Springs-Roswell, GA MSA 2018-08-07  ultimate   \n",
       "249           Atlanta-Sandy Springs-Roswell, GA MSA 2018-08-07  ultimate   \n",
       "250           Atlanta-Sandy Springs-Roswell, GA MSA 2018-08-07  ultimate   \n",
       "590          Chicago-Naperville-Elgin, IL-IN-WI MSA 2018-06-02  ultimate   \n",
       "659       New York-Newark-Jersey City, NY-NJ-PA MSA 2018-06-26      surf   \n",
       "753   Miami-Fort Lauderdale-West Palm Beach, FL MSA 2018-07-21  ultimate   \n",
       "1017      New York-Newark-Jersey City, NY-NJ-PA MSA 2018-07-01      surf   \n",
       "\n",
       "     churn_date  is_cancelled  month  calls  billable_time  texts   mb_used  \\\n",
       "9    1900-01-01         False   12.0  149.0         1104.0   50.0  27044.14   \n",
       "57   1900-01-01         False   12.0  150.0         1114.0   64.0   7792.41   \n",
       "217  1900-01-01         False   12.0  177.0         1200.0  266.0  26633.75   \n",
       "248  1900-01-01         False   10.0  162.0         1117.0  131.0  28474.23   \n",
       "249  1900-01-01         False   11.0  159.0         1027.0  111.0  35090.02   \n",
       "250  1900-01-01         False   12.0  158.0         1173.0  137.0  24450.06   \n",
       "590  1900-01-01         False   11.0  147.0         1037.0   72.0  20906.16   \n",
       "659  1900-01-01         False   10.0  141.0         1069.0   21.0  15702.70   \n",
       "753  1900-01-01         False   12.0  138.0         1071.0  110.0  13966.21   \n",
       "1017 1900-01-01         False   12.0  129.0         1167.0   98.0  34298.28   \n",
       "\n",
       "      gb_used  base_rate  phone_bill  text_bill  internet_bill  \n",
       "9        28.0         20       18.12       0.00         126.40  \n",
       "57        8.0         20       18.42       0.42           0.00  \n",
       "217      27.0         20       21.00       6.48         116.40  \n",
       "248      29.0         70        0.00       0.00           0.00  \n",
       "249      36.0         70        0.00       0.00          36.96  \n",
       "250      25.0         70        0.00       0.00           0.00  \n",
       "590      21.0         70        0.00       0.00           0.00  \n",
       "659      16.0         20       17.07       0.00           6.40  \n",
       "753      14.0         70        0.00       0.00           0.00  \n",
       "1017     35.0         20       20.01       1.44         196.40  "
      ]
     },
     "execution_count": 73,
     "metadata": {},
     "output_type": "execute_result"
    }
   ],
   "source": [
    "# check to ensure operation worked\n",
    "\n",
    "users_data[users_data['billable_time'] > 1000].head(10)"
   ]
  },
  {
   "cell_type": "markdown",
   "metadata": {},
   "source": [
    "This segment shows a few different users with over 1000 minutes on their phone for a given month. User 1003 had a Surf plan, so his 1104 minutes should mean he has a 604 * 0.03 = \\\\$18.12 phone bill, which is shown to be correct. He has exactly 50 texts, so his text bill should be 0, again correct; and his 27gb is 12gb over the 15gb limit, or at his rate, \\\\$120.\n",
    "\n",
    "We can also see user 1057, with an Ultimate plan. Since he has fewer than 3000 minutes, his phone bll should be \\\\$0, with only 111 texts he should have \\\\$0 on his text bill, but his 35gb of internet usage is 5 over the package's included rate, so he should pay 7 * 5 = \\\\$35. All correct again. And in comparison, in the prior month, user 1057 only used 28gb so his internet bill was also \\\\$0.\n",
    "\n",
    "It is safe to conclude that the function worked properly. While we only explained two observations, we do not see any odd values in this sample. Now, we should also make a column for the total bill."
   ]
  },
  {
   "cell_type": "code",
   "execution_count": 74,
   "metadata": {},
   "outputs": [
    {
     "name": "stderr",
     "output_type": "stream",
     "text": [
      "<ipython-input-74-fad58024eaeb>:3: SettingWithCopyWarning: \n",
      "A value is trying to be set on a copy of a slice from a DataFrame.\n",
      "Try using .loc[row_indexer,col_indexer] = value instead\n",
      "\n",
      "See the caveats in the documentation: https://pandas.pydata.org/pandas-docs/stable/user_guide/indexing.html#returning-a-view-versus-a-copy\n",
      "  users_data['monthly_charge'] = users_data['base_rate'] + users_data['phone_bill'] + users_data['text_bill'] + users_data['internet_bill']\n"
     ]
    },
    {
     "data": {
      "text/html": [
       "<div>\n",
       "<style scoped>\n",
       "    .dataframe tbody tr th:only-of-type {\n",
       "        vertical-align: middle;\n",
       "    }\n",
       "\n",
       "    .dataframe tbody tr th {\n",
       "        vertical-align: top;\n",
       "    }\n",
       "\n",
       "    .dataframe thead th {\n",
       "        text-align: right;\n",
       "    }\n",
       "</style>\n",
       "<table border=\"1\" class=\"dataframe\">\n",
       "  <thead>\n",
       "    <tr style=\"text-align: right;\">\n",
       "      <th></th>\n",
       "      <th>user_id</th>\n",
       "      <th>first_name</th>\n",
       "      <th>last_name</th>\n",
       "      <th>age</th>\n",
       "      <th>city</th>\n",
       "      <th>reg_date</th>\n",
       "      <th>plan</th>\n",
       "      <th>churn_date</th>\n",
       "      <th>is_cancelled</th>\n",
       "      <th>month</th>\n",
       "      <th>calls</th>\n",
       "      <th>billable_time</th>\n",
       "      <th>texts</th>\n",
       "      <th>mb_used</th>\n",
       "      <th>gb_used</th>\n",
       "      <th>base_rate</th>\n",
       "      <th>phone_bill</th>\n",
       "      <th>text_bill</th>\n",
       "      <th>internet_bill</th>\n",
       "      <th>monthly_charge</th>\n",
       "    </tr>\n",
       "  </thead>\n",
       "  <tbody>\n",
       "    <tr>\n",
       "      <th>0</th>\n",
       "      <td>1000</td>\n",
       "      <td>Anamaria</td>\n",
       "      <td>Bauer</td>\n",
       "      <td>45</td>\n",
       "      <td>Atlanta-Sandy Springs-Roswell, GA MSA</td>\n",
       "      <td>2018-12-24</td>\n",
       "      <td>ultimate</td>\n",
       "      <td>1900-01-01</td>\n",
       "      <td>False</td>\n",
       "      <td>12.0</td>\n",
       "      <td>16.0</td>\n",
       "      <td>124.0</td>\n",
       "      <td>11.0</td>\n",
       "      <td>1901.47</td>\n",
       "      <td>2.0</td>\n",
       "      <td>70</td>\n",
       "      <td>0.00</td>\n",
       "      <td>0.00</td>\n",
       "      <td>0.0</td>\n",
       "      <td>70.00</td>\n",
       "    </tr>\n",
       "    <tr>\n",
       "      <th>1</th>\n",
       "      <td>1001</td>\n",
       "      <td>Mickey</td>\n",
       "      <td>Wilkerson</td>\n",
       "      <td>28</td>\n",
       "      <td>Seattle-Tacoma-Bellevue, WA MSA</td>\n",
       "      <td>2018-08-13</td>\n",
       "      <td>surf</td>\n",
       "      <td>1900-01-01</td>\n",
       "      <td>False</td>\n",
       "      <td>8.0</td>\n",
       "      <td>27.0</td>\n",
       "      <td>182.0</td>\n",
       "      <td>30.0</td>\n",
       "      <td>6919.15</td>\n",
       "      <td>7.0</td>\n",
       "      <td>20</td>\n",
       "      <td>0.00</td>\n",
       "      <td>0.00</td>\n",
       "      <td>0.0</td>\n",
       "      <td>20.00</td>\n",
       "    </tr>\n",
       "    <tr>\n",
       "      <th>2</th>\n",
       "      <td>1001</td>\n",
       "      <td>Mickey</td>\n",
       "      <td>Wilkerson</td>\n",
       "      <td>28</td>\n",
       "      <td>Seattle-Tacoma-Bellevue, WA MSA</td>\n",
       "      <td>2018-08-13</td>\n",
       "      <td>surf</td>\n",
       "      <td>1900-01-01</td>\n",
       "      <td>False</td>\n",
       "      <td>9.0</td>\n",
       "      <td>49.0</td>\n",
       "      <td>315.0</td>\n",
       "      <td>44.0</td>\n",
       "      <td>13314.82</td>\n",
       "      <td>14.0</td>\n",
       "      <td>20</td>\n",
       "      <td>0.00</td>\n",
       "      <td>0.00</td>\n",
       "      <td>0.0</td>\n",
       "      <td>20.00</td>\n",
       "    </tr>\n",
       "    <tr>\n",
       "      <th>3</th>\n",
       "      <td>1001</td>\n",
       "      <td>Mickey</td>\n",
       "      <td>Wilkerson</td>\n",
       "      <td>28</td>\n",
       "      <td>Seattle-Tacoma-Bellevue, WA MSA</td>\n",
       "      <td>2018-08-13</td>\n",
       "      <td>surf</td>\n",
       "      <td>1900-01-01</td>\n",
       "      <td>False</td>\n",
       "      <td>10.0</td>\n",
       "      <td>65.0</td>\n",
       "      <td>393.0</td>\n",
       "      <td>53.0</td>\n",
       "      <td>22330.49</td>\n",
       "      <td>23.0</td>\n",
       "      <td>20</td>\n",
       "      <td>0.00</td>\n",
       "      <td>0.09</td>\n",
       "      <td>76.4</td>\n",
       "      <td>96.49</td>\n",
       "    </tr>\n",
       "    <tr>\n",
       "      <th>4</th>\n",
       "      <td>1001</td>\n",
       "      <td>Mickey</td>\n",
       "      <td>Wilkerson</td>\n",
       "      <td>28</td>\n",
       "      <td>Seattle-Tacoma-Bellevue, WA MSA</td>\n",
       "      <td>2018-08-13</td>\n",
       "      <td>surf</td>\n",
       "      <td>1900-01-01</td>\n",
       "      <td>False</td>\n",
       "      <td>11.0</td>\n",
       "      <td>64.0</td>\n",
       "      <td>426.0</td>\n",
       "      <td>36.0</td>\n",
       "      <td>18504.30</td>\n",
       "      <td>19.0</td>\n",
       "      <td>20</td>\n",
       "      <td>0.00</td>\n",
       "      <td>0.00</td>\n",
       "      <td>36.4</td>\n",
       "      <td>56.40</td>\n",
       "    </tr>\n",
       "    <tr>\n",
       "      <th>5</th>\n",
       "      <td>1001</td>\n",
       "      <td>Mickey</td>\n",
       "      <td>Wilkerson</td>\n",
       "      <td>28</td>\n",
       "      <td>Seattle-Tacoma-Bellevue, WA MSA</td>\n",
       "      <td>2018-08-13</td>\n",
       "      <td>surf</td>\n",
       "      <td>1900-01-01</td>\n",
       "      <td>False</td>\n",
       "      <td>12.0</td>\n",
       "      <td>56.0</td>\n",
       "      <td>412.0</td>\n",
       "      <td>44.0</td>\n",
       "      <td>19369.18</td>\n",
       "      <td>20.0</td>\n",
       "      <td>20</td>\n",
       "      <td>0.00</td>\n",
       "      <td>0.00</td>\n",
       "      <td>46.4</td>\n",
       "      <td>66.40</td>\n",
       "    </tr>\n",
       "    <tr>\n",
       "      <th>6</th>\n",
       "      <td>1002</td>\n",
       "      <td>Carlee</td>\n",
       "      <td>Hoffman</td>\n",
       "      <td>36</td>\n",
       "      <td>Las Vegas-Henderson-Paradise, NV MSA</td>\n",
       "      <td>2018-10-21</td>\n",
       "      <td>surf</td>\n",
       "      <td>1900-01-01</td>\n",
       "      <td>False</td>\n",
       "      <td>10.0</td>\n",
       "      <td>11.0</td>\n",
       "      <td>59.0</td>\n",
       "      <td>15.0</td>\n",
       "      <td>6552.01</td>\n",
       "      <td>7.0</td>\n",
       "      <td>20</td>\n",
       "      <td>0.00</td>\n",
       "      <td>0.00</td>\n",
       "      <td>0.0</td>\n",
       "      <td>20.00</td>\n",
       "    </tr>\n",
       "    <tr>\n",
       "      <th>7</th>\n",
       "      <td>1002</td>\n",
       "      <td>Carlee</td>\n",
       "      <td>Hoffman</td>\n",
       "      <td>36</td>\n",
       "      <td>Las Vegas-Henderson-Paradise, NV MSA</td>\n",
       "      <td>2018-10-21</td>\n",
       "      <td>surf</td>\n",
       "      <td>1900-01-01</td>\n",
       "      <td>False</td>\n",
       "      <td>11.0</td>\n",
       "      <td>55.0</td>\n",
       "      <td>386.0</td>\n",
       "      <td>32.0</td>\n",
       "      <td>19345.08</td>\n",
       "      <td>20.0</td>\n",
       "      <td>20</td>\n",
       "      <td>0.00</td>\n",
       "      <td>0.00</td>\n",
       "      <td>46.4</td>\n",
       "      <td>66.40</td>\n",
       "    </tr>\n",
       "    <tr>\n",
       "      <th>8</th>\n",
       "      <td>1002</td>\n",
       "      <td>Carlee</td>\n",
       "      <td>Hoffman</td>\n",
       "      <td>36</td>\n",
       "      <td>Las Vegas-Henderson-Paradise, NV MSA</td>\n",
       "      <td>2018-10-21</td>\n",
       "      <td>surf</td>\n",
       "      <td>1900-01-01</td>\n",
       "      <td>False</td>\n",
       "      <td>12.0</td>\n",
       "      <td>47.0</td>\n",
       "      <td>384.0</td>\n",
       "      <td>41.0</td>\n",
       "      <td>14396.24</td>\n",
       "      <td>15.0</td>\n",
       "      <td>20</td>\n",
       "      <td>0.00</td>\n",
       "      <td>0.00</td>\n",
       "      <td>0.0</td>\n",
       "      <td>20.00</td>\n",
       "    </tr>\n",
       "    <tr>\n",
       "      <th>9</th>\n",
       "      <td>1003</td>\n",
       "      <td>Reynaldo</td>\n",
       "      <td>Jenkins</td>\n",
       "      <td>52</td>\n",
       "      <td>Tulsa, OK MSA</td>\n",
       "      <td>2018-01-28</td>\n",
       "      <td>surf</td>\n",
       "      <td>1900-01-01</td>\n",
       "      <td>False</td>\n",
       "      <td>12.0</td>\n",
       "      <td>149.0</td>\n",
       "      <td>1104.0</td>\n",
       "      <td>50.0</td>\n",
       "      <td>27044.14</td>\n",
       "      <td>28.0</td>\n",
       "      <td>20</td>\n",
       "      <td>18.12</td>\n",
       "      <td>0.00</td>\n",
       "      <td>126.4</td>\n",
       "      <td>164.52</td>\n",
       "    </tr>\n",
       "  </tbody>\n",
       "</table>\n",
       "</div>"
      ],
      "text/plain": [
       "   user_id first_name  last_name  age                                   city  \\\n",
       "0     1000   Anamaria      Bauer   45  Atlanta-Sandy Springs-Roswell, GA MSA   \n",
       "1     1001     Mickey  Wilkerson   28        Seattle-Tacoma-Bellevue, WA MSA   \n",
       "2     1001     Mickey  Wilkerson   28        Seattle-Tacoma-Bellevue, WA MSA   \n",
       "3     1001     Mickey  Wilkerson   28        Seattle-Tacoma-Bellevue, WA MSA   \n",
       "4     1001     Mickey  Wilkerson   28        Seattle-Tacoma-Bellevue, WA MSA   \n",
       "5     1001     Mickey  Wilkerson   28        Seattle-Tacoma-Bellevue, WA MSA   \n",
       "6     1002     Carlee    Hoffman   36   Las Vegas-Henderson-Paradise, NV MSA   \n",
       "7     1002     Carlee    Hoffman   36   Las Vegas-Henderson-Paradise, NV MSA   \n",
       "8     1002     Carlee    Hoffman   36   Las Vegas-Henderson-Paradise, NV MSA   \n",
       "9     1003   Reynaldo    Jenkins   52                          Tulsa, OK MSA   \n",
       "\n",
       "    reg_date      plan churn_date  is_cancelled  month  calls  billable_time  \\\n",
       "0 2018-12-24  ultimate 1900-01-01         False   12.0   16.0          124.0   \n",
       "1 2018-08-13      surf 1900-01-01         False    8.0   27.0          182.0   \n",
       "2 2018-08-13      surf 1900-01-01         False    9.0   49.0          315.0   \n",
       "3 2018-08-13      surf 1900-01-01         False   10.0   65.0          393.0   \n",
       "4 2018-08-13      surf 1900-01-01         False   11.0   64.0          426.0   \n",
       "5 2018-08-13      surf 1900-01-01         False   12.0   56.0          412.0   \n",
       "6 2018-10-21      surf 1900-01-01         False   10.0   11.0           59.0   \n",
       "7 2018-10-21      surf 1900-01-01         False   11.0   55.0          386.0   \n",
       "8 2018-10-21      surf 1900-01-01         False   12.0   47.0          384.0   \n",
       "9 2018-01-28      surf 1900-01-01         False   12.0  149.0         1104.0   \n",
       "\n",
       "   texts   mb_used  gb_used  base_rate  phone_bill  text_bill  internet_bill  \\\n",
       "0   11.0   1901.47      2.0         70        0.00       0.00            0.0   \n",
       "1   30.0   6919.15      7.0         20        0.00       0.00            0.0   \n",
       "2   44.0  13314.82     14.0         20        0.00       0.00            0.0   \n",
       "3   53.0  22330.49     23.0         20        0.00       0.09           76.4   \n",
       "4   36.0  18504.30     19.0         20        0.00       0.00           36.4   \n",
       "5   44.0  19369.18     20.0         20        0.00       0.00           46.4   \n",
       "6   15.0   6552.01      7.0         20        0.00       0.00            0.0   \n",
       "7   32.0  19345.08     20.0         20        0.00       0.00           46.4   \n",
       "8   41.0  14396.24     15.0         20        0.00       0.00            0.0   \n",
       "9   50.0  27044.14     28.0         20       18.12       0.00          126.4   \n",
       "\n",
       "   monthly_charge  \n",
       "0           70.00  \n",
       "1           20.00  \n",
       "2           20.00  \n",
       "3           96.49  \n",
       "4           56.40  \n",
       "5           66.40  \n",
       "6           20.00  \n",
       "7           66.40  \n",
       "8           20.00  \n",
       "9          164.52  "
      ]
     },
     "execution_count": 74,
     "metadata": {},
     "output_type": "execute_result"
    }
   ],
   "source": [
    "# Calculate the monthly revenue for each user\n",
    "\n",
    "users_data['monthly_charge'] = users_data['base_rate'] + users_data['phone_bill'] + users_data['text_bill'] + users_data['internet_bill']\n",
    "users_data.head(10)"
   ]
  },
  {
   "cell_type": "markdown",
   "metadata": {},
   "source": [
    "<div class=\"alert alert-success\">\n",
    "<h2> Reviewer's comment</h2>\n",
    "\n",
    "Great work! Now dont sweat it. As you correctly stated, readability counts! Your code is good, it works nice and the demostration that you showed is enough. You could have used a custom function to avoid the iteration, but that could also be hard to read. Your solution is ok.\n",
    "   \n",
    "\n",
    "</div>"
   ]
  },
  {
   "cell_type": "markdown",
   "metadata": {},
   "source": [
    "<div class=\"alert alert-block alert-success\">\n",
    "<b>Senior Reviewer's comment</b> <a class=\"tocSkip\"></a>\n",
    "    \n",
    "Agree\n",
    "</div>"
   ]
  },
  {
   "cell_type": "markdown",
   "metadata": {},
   "source": [
    "### Finalize data frame"
   ]
  },
  {
   "cell_type": "markdown",
   "metadata": {},
   "source": [
    "We have a number of columns here that are ultimately not relevant for our analysis. We do not need to know the name, age, registration date or cancellation status of our users for any of our project's goals. We can drop those columns. We also can drop the mb_used column, since it has been converted into the more relevant gb_used.\n",
    "\n",
    "We can drop the columns, but it also could be easier if we made a new data frame out of users_data. We also will move the 'city' column to the last one, since it will make the main data we are interested in fit closer together. We will call this data frame 'user' - similar to our other data frames, but since this is most likely the final state of the data frame that we will be working with, giving it the shortest, simplest name will make performing operations with it faster."
   ]
  },
  {
   "cell_type": "code",
   "execution_count": 75,
   "metadata": {},
   "outputs": [
    {
     "data": {
      "text/html": [
       "<div>\n",
       "<style scoped>\n",
       "    .dataframe tbody tr th:only-of-type {\n",
       "        vertical-align: middle;\n",
       "    }\n",
       "\n",
       "    .dataframe tbody tr th {\n",
       "        vertical-align: top;\n",
       "    }\n",
       "\n",
       "    .dataframe thead th {\n",
       "        text-align: right;\n",
       "    }\n",
       "</style>\n",
       "<table border=\"1\" class=\"dataframe\">\n",
       "  <thead>\n",
       "    <tr style=\"text-align: right;\">\n",
       "      <th></th>\n",
       "      <th>user_id</th>\n",
       "      <th>plan</th>\n",
       "      <th>month</th>\n",
       "      <th>monthly_charge</th>\n",
       "      <th>calls</th>\n",
       "      <th>billable_time</th>\n",
       "      <th>phone_bill</th>\n",
       "      <th>texts</th>\n",
       "      <th>text_bill</th>\n",
       "      <th>gb_used</th>\n",
       "      <th>internet_bill</th>\n",
       "      <th>city</th>\n",
       "    </tr>\n",
       "  </thead>\n",
       "  <tbody>\n",
       "    <tr>\n",
       "      <th>0</th>\n",
       "      <td>1000</td>\n",
       "      <td>ultimate</td>\n",
       "      <td>12.0</td>\n",
       "      <td>70.00</td>\n",
       "      <td>16.0</td>\n",
       "      <td>124.0</td>\n",
       "      <td>0.0</td>\n",
       "      <td>11.0</td>\n",
       "      <td>0.00</td>\n",
       "      <td>2.0</td>\n",
       "      <td>0.0</td>\n",
       "      <td>Atlanta-Sandy Springs-Roswell, GA MSA</td>\n",
       "    </tr>\n",
       "    <tr>\n",
       "      <th>1</th>\n",
       "      <td>1001</td>\n",
       "      <td>surf</td>\n",
       "      <td>8.0</td>\n",
       "      <td>20.00</td>\n",
       "      <td>27.0</td>\n",
       "      <td>182.0</td>\n",
       "      <td>0.0</td>\n",
       "      <td>30.0</td>\n",
       "      <td>0.00</td>\n",
       "      <td>7.0</td>\n",
       "      <td>0.0</td>\n",
       "      <td>Seattle-Tacoma-Bellevue, WA MSA</td>\n",
       "    </tr>\n",
       "    <tr>\n",
       "      <th>2</th>\n",
       "      <td>1001</td>\n",
       "      <td>surf</td>\n",
       "      <td>9.0</td>\n",
       "      <td>20.00</td>\n",
       "      <td>49.0</td>\n",
       "      <td>315.0</td>\n",
       "      <td>0.0</td>\n",
       "      <td>44.0</td>\n",
       "      <td>0.00</td>\n",
       "      <td>14.0</td>\n",
       "      <td>0.0</td>\n",
       "      <td>Seattle-Tacoma-Bellevue, WA MSA</td>\n",
       "    </tr>\n",
       "    <tr>\n",
       "      <th>3</th>\n",
       "      <td>1001</td>\n",
       "      <td>surf</td>\n",
       "      <td>10.0</td>\n",
       "      <td>96.49</td>\n",
       "      <td>65.0</td>\n",
       "      <td>393.0</td>\n",
       "      <td>0.0</td>\n",
       "      <td>53.0</td>\n",
       "      <td>0.09</td>\n",
       "      <td>23.0</td>\n",
       "      <td>76.4</td>\n",
       "      <td>Seattle-Tacoma-Bellevue, WA MSA</td>\n",
       "    </tr>\n",
       "    <tr>\n",
       "      <th>4</th>\n",
       "      <td>1001</td>\n",
       "      <td>surf</td>\n",
       "      <td>11.0</td>\n",
       "      <td>56.40</td>\n",
       "      <td>64.0</td>\n",
       "      <td>426.0</td>\n",
       "      <td>0.0</td>\n",
       "      <td>36.0</td>\n",
       "      <td>0.00</td>\n",
       "      <td>19.0</td>\n",
       "      <td>36.4</td>\n",
       "      <td>Seattle-Tacoma-Bellevue, WA MSA</td>\n",
       "    </tr>\n",
       "  </tbody>\n",
       "</table>\n",
       "</div>"
      ],
      "text/plain": [
       "   user_id      plan  month  monthly_charge  calls  billable_time  phone_bill  \\\n",
       "0     1000  ultimate   12.0           70.00   16.0          124.0         0.0   \n",
       "1     1001      surf    8.0           20.00   27.0          182.0         0.0   \n",
       "2     1001      surf    9.0           20.00   49.0          315.0         0.0   \n",
       "3     1001      surf   10.0           96.49   65.0          393.0         0.0   \n",
       "4     1001      surf   11.0           56.40   64.0          426.0         0.0   \n",
       "\n",
       "   texts  text_bill  gb_used  internet_bill  \\\n",
       "0   11.0       0.00      2.0            0.0   \n",
       "1   30.0       0.00      7.0            0.0   \n",
       "2   44.0       0.00     14.0            0.0   \n",
       "3   53.0       0.09     23.0           76.4   \n",
       "4   36.0       0.00     19.0           36.4   \n",
       "\n",
       "                                    city  \n",
       "0  Atlanta-Sandy Springs-Roswell, GA MSA  \n",
       "1        Seattle-Tacoma-Bellevue, WA MSA  \n",
       "2        Seattle-Tacoma-Bellevue, WA MSA  \n",
       "3        Seattle-Tacoma-Bellevue, WA MSA  \n",
       "4        Seattle-Tacoma-Bellevue, WA MSA  "
      ]
     },
     "execution_count": 75,
     "metadata": {},
     "output_type": "execute_result"
    }
   ],
   "source": [
    "# drop columns\n",
    "\n",
    "user = pd.DataFrame(users_data, columns = ['user_id', 'plan', 'month', 'monthly_charge', 'calls', 'billable_time', \n",
    "                                           'phone_bill', 'texts', 'text_bill', 'gb_used', 'internet_bill', 'city'])\n",
    "user.head()"
   ]
  },
  {
   "cell_type": "markdown",
   "metadata": {},
   "source": [
    "As we will be measuring across two different categories of users, it may also be useful to create two separate data frames based on what the user's specific plans are."
   ]
  },
  {
   "cell_type": "code",
   "execution_count": 76,
   "metadata": {},
   "outputs": [],
   "source": [
    "surf_users = user[user['plan'] == 'surf']\n",
    "ult_users = user[user['plan'] == 'ultimate']"
   ]
  },
  {
   "cell_type": "markdown",
   "metadata": {},
   "source": [
    "<div class=\"alert alert-success\">\n",
    "<h2> Reviewer's comment</h2>\n",
    "\n",
    "Good decision.   \n",
    "\n",
    "</div>"
   ]
  },
  {
   "cell_type": "markdown",
   "metadata": {},
   "source": [
    "## Study user behaviour"
   ]
  },
  {
   "cell_type": "markdown",
   "metadata": {},
   "source": [
    "To help get a view of what we can expect from our analysis, we can try and link some of this data by factors that may effect it. For instance, the average duration of calls compared to the number of calls made.\n",
    "\n",
    "More relevant, however, would be finding metrics that help us determine if there are patterns to the average amount of calls, texts, and internet usage based on the specific month (do people use the internet more in cold winter months than warm summer months?) or, based on the specific plan that they have (do people actually go out of their way to be mindful of their plan's monthly service?)"
   ]
  },
  {
   "cell_type": "markdown",
   "metadata": {},
   "source": [
    "### Calls"
   ]
  },
  {
   "cell_type": "markdown",
   "metadata": {},
   "source": [
    "We will use a bar plot to visualize duration of calls, for each plan. Storing these values in new data frames will make them simpler to plot."
   ]
  },
  {
   "cell_type": "markdown",
   "metadata": {},
   "source": [
    "#### Bar charts"
   ]
  },
  {
   "cell_type": "code",
   "execution_count": 77,
   "metadata": {},
   "outputs": [
    {
     "data": {
      "image/png": "[encoded data removed]",
      "text/plain": [
       "<Figure size 576x360 with 1 Axes>"
      ]
     },
     "metadata": {
      "needs_background": "light"
     },
     "output_type": "display_data"
    },
    {
     "data": {
      "image/png": "[encoded data removed]",
      "text/plain": [
       "<Figure size 576x360 with 1 Axes>"
      ]
     },
     "metadata": {
      "needs_background": "light"
     },
     "output_type": "display_data"
    }
   ],
   "source": [
    "# average duration of calls per each plan per each distinct month.\n",
    "\n",
    "# calculate the average duration of calls\n",
    "\n",
    "pt_surf_time = surf_users.pivot_table(index = 'month', values = ['calls', 'billable_time'], aggfunc = 'sum')\n",
    "pt_surf_time['avg_duration'] = pt_surf_time['billable_time'] / pt_surf_time['calls']\n",
    "\n",
    "pt_ult_time = ult_users.pivot_table(index = 'month', values = ['calls', 'billable_time'], aggfunc = 'sum')\n",
    "pt_ult_time['avg_duration'] = pt_ult_time['billable_time'] / pt_ult_time['calls']\n",
    "\n",
    "pt_surf_time.plot(y = 'avg_duration', kind = 'bar', title = 'avg call time for surf users in minutes', \n",
    "                  ylim = (0,10), grid = True, figsize = (8,5));\n",
    "pt_ult_time.plot(y = 'avg_duration', kind = 'bar', title = 'avg call time for ultimate users in minutes', \n",
    "                 ylim = (0,10), grid = True, figsize = (8,5));"
   ]
  },
  {
   "cell_type": "markdown",
   "metadata": {},
   "source": [
    "Here we see that regardless of the month, or the plan, the average length of a given phone call is around 7 minutes long. The length of calls are uniformly distributed, but what about the number of calls? We will check the total number of calls and call time per month, next."
   ]
  },
  {
   "cell_type": "code",
   "execution_count": 78,
   "metadata": {},
   "outputs": [
    {
     "data": {
      "image/png": "[encoded data removed]",
      "text/plain": [
       "<Figure size 576x360 with 1 Axes>"
      ]
     },
     "metadata": {
      "needs_background": "light"
     },
     "output_type": "display_data"
    },
    {
     "data": {
      "image/png": "[encoded data removed]",
      "text/plain": [
       "<Figure size 576x360 with 1 Axes>"
      ]
     },
     "metadata": {
      "needs_background": "light"
     },
     "output_type": "display_data"
    }
   ],
   "source": [
    "# total number of calls\n",
    "\n",
    "pt_surf_time.plot(y = 'calls', kind = 'bar', title = 'total number of calls for surf users', \n",
    "                   grid = True, figsize = (8,5));\n",
    "pt_ult_time.plot(y = 'calls', kind = 'bar', title = 'total number of calls for ultimate users s', \n",
    "                  grid = True, figsize = (8,5));"
   ]
  },
  {
   "cell_type": "code",
   "execution_count": 79,
   "metadata": {},
   "outputs": [
    {
     "data": {
      "image/png": "[encoded data removed]",
      "text/plain": [
       "<Figure size 576x360 with 1 Axes>"
      ]
     },
     "metadata": {
      "needs_background": "light"
     },
     "output_type": "display_data"
    },
    {
     "data": {
      "image/png": "[encoded data removed]",
      "text/plain": [
       "<Figure size 576x360 with 1 Axes>"
      ]
     },
     "metadata": {
      "needs_background": "light"
     },
     "output_type": "display_data"
    }
   ],
   "source": [
    "# total call time per month\n",
    "\n",
    "pt_surf_time.plot(y = 'billable_time', kind = 'bar', title = 'total call time for surf users in minutes', \n",
    "                   grid = True, figsize = (8,5));\n",
    "pt_ult_time.plot(y = 'billable_time', kind = 'bar', title = 'total call time for ultimate users in minutes', \n",
    "                  grid = True, figsize = (8,5));"
   ]
  },
  {
   "cell_type": "markdown",
   "metadata": {},
   "source": [
    "We get many users who were signing up to the service in 2018 in our data set, so it makes sense that we see a steady increase in the total call time. It would appear, since the data shows a smooth curve upwards, that the only reason for this increase is because of a higher number of users. We should make a quick plot to see the number of users we got throughout the year. If it is also a smooth curve upwards like this one, we can conclude that to be the case."
   ]
  },
  {
   "cell_type": "code",
   "execution_count": 80,
   "metadata": {},
   "outputs": [
    {
     "data": {
      "image/png": "[encoded data removed]",
      "text/plain": [
       "<Figure size 360x360 with 1 Axes>"
      ]
     },
     "metadata": {
      "needs_background": "light"
     },
     "output_type": "display_data"
    }
   ],
   "source": [
    "user.groupby('month').count().plot(figsize=(5,5));"
   ]
  },
  {
   "cell_type": "markdown",
   "metadata": {},
   "source": [
    "<div class=\"alert alert-block alert-danger\">\n",
    "<b>Senior Reviewer's comment</b> <a class=\"tocSkip\"></a>\n",
    "    \n",
    "Please don't forget that it is the must to design charts correctly:\n",
    "    \n",
    "- Title charts\n",
    "- Name axes\n",
    "</div>"
   ]
  },
  {
   "cell_type": "markdown",
   "metadata": {},
   "source": [
    "With that in mind, we can hypothesize that the average call duration is most likely not connected to the month or the type of subscription. It could still be the case, but it likely is not."
   ]
  },
  {
   "cell_type": "markdown",
   "metadata": {},
   "source": [
    "#### Histograms\n",
    "\n",
    "We will now make a histogram showing how many minutes a user generally will require each month."
   ]
  },
  {
   "cell_type": "code",
   "execution_count": 81,
   "metadata": {},
   "outputs": [
    {
     "name": "stdout",
     "output_type": "stream",
     "text": [
      "Both plans:\n"
     ]
    },
    {
     "data": {
      "image/png": "[encoded data removed]",
      "text/plain": [
       "<Figure size 432x288 with 2 Axes>"
      ]
     },
     "metadata": {
      "needs_background": "light"
     },
     "output_type": "display_data"
    }
   ],
   "source": [
    "# Compare the number of minutes users of each plan require each month. Plot a histogram.\n",
    "\n",
    "pt_time = user.pivot_table(\n",
    "    index=['user_id', 'month'], values='billable_time', aggfunc=['mean', 'median']\n",
    ")\n",
    "print('Both plans:')\n",
    "pt_time.hist(bins = 25);"
   ]
  },
  {
   "cell_type": "code",
   "execution_count": 82,
   "metadata": {},
   "outputs": [
    {
     "name": "stdout",
     "output_type": "stream",
     "text": [
      "Surf users:\n"
     ]
    },
    {
     "data": {
      "image/png": "[encoded data removed]",
      "text/plain": [
       "<Figure size 432x288 with 2 Axes>"
      ]
     },
     "metadata": {
      "needs_background": "light"
     },
     "output_type": "display_data"
    },
    {
     "name": "stdout",
     "output_type": "stream",
     "text": [
      "Ultimate users:\n"
     ]
    },
    {
     "data": {
      "image/png": "[encoded data removed]",
      "text/plain": [
       "<Figure size 432x288 with 2 Axes>"
      ]
     },
     "metadata": {
      "needs_background": "light"
     },
     "output_type": "display_data"
    }
   ],
   "source": [
    "pt_surf_time = user[user['plan'] == 'surf'].pivot_table(\n",
    "    index=['user_id', 'month'], values='billable_time', aggfunc=['mean', 'median']\n",
    ")\n",
    "\n",
    "pt_ult_time = user[user['plan'] == 'ultimate'].pivot_table(\n",
    "    index=['user_id', 'month'], values='billable_time', aggfunc=['mean', 'median']\n",
    ")\n",
    "print('Surf users:')\n",
    "pt_surf_time.hist(bins = 25);\n",
    "plt.show()\n",
    "print('Ultimate users:')\n",
    "pt_ult_time.hist(bins=25);"
   ]
  },
  {
   "cell_type": "markdown",
   "metadata": {},
   "source": [
    "<div class=\"alert alert-block alert-danger\">\n",
    "<b>Senior Reviewer's comment</b> <a class=\"tocSkip\"></a>\n",
    "    \n",
    "Charts design\n",
    "</div>"
   ]
  },
  {
   "cell_type": "markdown",
   "metadata": {},
   "source": [
    "Since the mean and median both have their peaks a little before 500 minutes of billable time, it thus means that a little over half of the users will not use more than 500 minutes on a monthly basis. That also means that almost half of them will use more than 500 minutes.\n",
    "\n",
    "It does appear that there are more Surf users who use fewer than 500 minutes, however, and a few more Ultimate users who use more than 500. There also are far fewer Ultimate users who don't use any of their minutes.\n",
    "\n",
    "Regardless, there are no instances of an Ultimate user passing the threshold for their 3000 monthly minutes (and we should hope not - that would average out to around an hour and a half of phone time every single day). However, it also means that in no instance do we make more money from our Ultimate users based on phone usage alone. There are a few users who are extremely high in their phone usage, where they will be spending an extra \\\\$15-30 per month on their phone, but unless they also are going over their text messages (or more likely, their internet) having them on the Ultimate plan is still better for our profits."
   ]
  },
  {
   "cell_type": "markdown",
   "metadata": {},
   "source": [
    "#### Descriptive statistics\n",
    "\n",
    "We will use a check of averages (mean and median) as well as the variance to check if the behavior is different based on the type of account."
   ]
  },
  {
   "cell_type": "code",
   "execution_count": 83,
   "metadata": {
    "scrolled": false
   },
   "outputs": [
    {
     "name": "stdout",
     "output_type": "stream",
     "text": [
      "Surf Users:\n",
      "                mean        median\n",
      "      billable_time billable_time\n",
      "count   1545.000000   1545.000000\n",
      "mean     436.519741    436.519741\n",
      "std      229.283805    229.283805\n",
      "min        0.000000      0.000000\n",
      "25%      279.000000    279.000000\n",
      "50%      430.000000    430.000000\n",
      "75%      579.000000    579.000000\n",
      "max     1510.000000   1510.000000 \n",
      "Variance: 52537.036665305 \n",
      "\n",
      "Ultimate Users:\n",
      "                mean        median\n",
      "      billable_time billable_time\n",
      "count    713.000000    713.000000\n",
      "mean     434.676017    434.676017\n",
      "std      237.852123    237.852123\n",
      "min        0.000000      0.000000\n",
      "25%      263.000000    263.000000\n",
      "50%      425.000000    425.000000\n",
      "75%      566.000000    566.000000\n",
      "max     1369.000000   1369.000000 \n",
      "Variance: 56494.2863392536 \n",
      "\n",
      "All Users:\n",
      " count    2258.000000\n",
      "mean      435.937555\n",
      "std       231.972343\n",
      "min         0.000000\n",
      "25%       275.000000\n",
      "50%       429.000000\n",
      "75%       574.750000\n",
      "max      1510.000000\n",
      "Name: billable_time, dtype: float64 \n",
      "Variance: 53787.33666754009\n"
     ]
    }
   ],
   "source": [
    "# Calculate the mean and the variance of the monthly call duration\n",
    "\n",
    "print('Surf Users:\\n', pt_surf_time.describe(), \n",
    "      '\\nVariance:', np.var(user[user['plan'] == 'surf']['billable_time']), '\\n')\n",
    "print('Ultimate Users:\\n', pt_ult_time.describe(), \n",
    "      '\\nVariance:', np.var(user[user['plan'] == 'ultimate']['billable_time']),'\\n')\n",
    "print('All Users:\\n', user['billable_time'].describe(),\n",
    "     '\\nVariance:', np.var(user['billable_time']))"
   ]
  },
  {
   "cell_type": "markdown",
   "metadata": {},
   "source": [
    "Based on these descriptive statistics, the mean, standard deviation, median, and maximum are all fairly similar across both sets of users. The standard deviation (and, as a result, the variance) is slightly higher for the Ultimate users. This could simply be because we have fewer Ultimate users, but with over 700 data points we have plenty to work with. There is an extremely large variance across all users, which tells us that there are many users who have immense amount of time on their phones and others who have a very low amount of time.\n",
    "\n",
    "The variance is also higher for Ultimate users. What this tells us is that the data is more spread out over the Ultimate users. There are more extreme values - that is to say, more users with low and high minutes used per month. This could be random, but it also indicates the possibility that, put simply, Ultimate users more commonly use their phones more. It seems to agree with our analysis so far.\n",
    "\n",
    "This would certainly not be illogical. Someone who knows they spent a vast amount of time on the phone probably would be more likely to sign up for the Ultimate plan. Is this accurate, however? The quartiles may not necessarily support it. It is something we should save for more robust analysis. We can, however, make some more box plots to get a better view of our outliers."
   ]
  },
  {
   "cell_type": "markdown",
   "metadata": {},
   "source": [
    "#### Box plot"
   ]
  },
  {
   "cell_type": "code",
   "execution_count": 84,
   "metadata": {},
   "outputs": [
    {
     "data": {
      "image/png": "[encoded data removed]",
      "text/plain": [
       "<Figure size 432x288 with 1 Axes>"
      ]
     },
     "metadata": {
      "needs_background": "light"
     },
     "output_type": "display_data"
    }
   ],
   "source": [
    "# Plot a boxplot to visualize the distribution of the monthly call duration\n",
    "\n",
    "user.boxplot(column = 'billable_time', by = 'plan',  widths = 0.7);"
   ]
  },
  {
   "cell_type": "markdown",
   "metadata": {},
   "source": [
    "<div class=\"alert alert-block alert-danger\">\n",
    "<b>Senior Reviewer's comment</b> <a class=\"tocSkip\"></a>\n",
    "    \n",
    "Charts design\n",
    "</div>"
   ]
  },
  {
   "cell_type": "markdown",
   "metadata": {},
   "source": [
    "The box plots show an interesting result that goes against some of our analysis. They seem to suggest that there is not a significant difference in the minutes used between the plans. If anything, Surf users seem more likely to go past 500 minutes - they have more outliers, and a higher third quartile. For our bar charts, histograms, and numerical analysis it seemed like the Ultimate users have more tendency to extreme values.\n",
    "\n",
    "However, it must be reiterated that those could simply be a result of more data points. Because Surf users have more observations, they will both have and be less impacted by the high values and outliers. Most likely, the amount of time a user spends on the phone is not a deciding factor in their choice of plan, and at a rate of \\\\$0.03 per minute, it most likely will not be where we make or break our profits as less than a quarter of our values will even make us more than \\\\$3 from their used minutes.\n",
    "\n",
    "Next, we will perform similar analysis on the number of text messages per month."
   ]
  },
  {
   "cell_type": "markdown",
   "metadata": {},
   "source": [
    "<div class=\"alert alert-success\">\n",
    "<h2> Reviewer's comment</h2>\n",
    "\n",
    "Very good. It was really good that you look out for an answer about the steady increase in the total call time. Keep in mind that, even tought your reading about mean, median, variance and box plots is nicely done, we still need to wait for statistical test to verify that there is not a significant difference in the minutes used between the plans\n",
    "</div>"
   ]
  },
  {
   "cell_type": "markdown",
   "metadata": {},
   "source": [
    "<div class=\"alert alert-block alert-success\">\n",
    "<b>Senior Reviewer's comment</b> <a class=\"tocSkip\"></a>\n",
    "    \n",
    "Your comments are inspiring\n",
    "</div>"
   ]
  },
  {
   "cell_type": "markdown",
   "metadata": {},
   "source": [
    "### Messages"
   ]
  },
  {
   "cell_type": "markdown",
   "metadata": {},
   "source": [
    "#### Bar charts"
   ]
  },
  {
   "cell_type": "code",
   "execution_count": 85,
   "metadata": {
    "scrolled": false
   },
   "outputs": [
    {
     "data": {
      "image/png": "[encoded data removed]",
      "text/plain": [
       "<Figure size 576x360 with 1 Axes>"
      ]
     },
     "metadata": {
      "needs_background": "light"
     },
     "output_type": "display_data"
    },
    {
     "data": {
      "image/png": "[encoded data removed]",
      "text/plain": [
       "<Figure size 576x360 with 1 Axes>"
      ]
     },
     "metadata": {
      "needs_background": "light"
     },
     "output_type": "display_data"
    }
   ],
   "source": [
    "# bar charts of average texts per month\n",
    "\n",
    "pt_surf_text = surf_users.pivot_table(index = 'month', values = 'texts', aggfunc = ['mean', 'median'])\n",
    "\n",
    "pt_ult_text = ult_users.pivot_table(index = 'month', values = 'texts', aggfunc = ['mean', 'median'])\n",
    "\n",
    "pt_surf_text.plot(kind = 'bar', title = 'avg number of texts for surf users by month', grid = True, figsize = (8,5));\n",
    "pt_ult_text.plot(kind = 'bar', title = 'avg number of texts for ultimate users by month', grid = True, figsize = (8,5));"
   ]
  },
  {
   "cell_type": "markdown",
   "metadata": {},
   "source": [
    "These bar charts show some interesting results. We can see that the mean number of texts do seem to not change as significantly  between plans as the median number of texts. The results are not uniformly distributed, but are increasing in a roughly linear fashion."
   ]
  },
  {
   "cell_type": "markdown",
   "metadata": {},
   "source": [
    "#### Descriptive Statistics\n",
    "\n",
    "The amount appears to be mostly tied to the number of users, but there does seem to be more Ultimate users sending more texts. Let's take a look at the numbers."
   ]
  },
  {
   "cell_type": "code",
   "execution_count": 86,
   "metadata": {},
   "outputs": [
    {
     "name": "stdout",
     "output_type": "stream",
     "text": [
      "Surf Users:\n",
      "Variance: 1131.216726259677\n"
     ]
    },
    {
     "data": {
      "text/html": [
       "<div>\n",
       "<style scoped>\n",
       "    .dataframe tbody tr th:only-of-type {\n",
       "        vertical-align: middle;\n",
       "    }\n",
       "\n",
       "    .dataframe tbody tr th {\n",
       "        vertical-align: top;\n",
       "    }\n",
       "\n",
       "    .dataframe thead th {\n",
       "        text-align: right;\n",
       "    }\n",
       "</style>\n",
       "<table border=\"1\" class=\"dataframe\">\n",
       "  <thead>\n",
       "    <tr style=\"text-align: right;\">\n",
       "      <th></th>\n",
       "      <th>count</th>\n",
       "      <th>mean</th>\n",
       "      <th>std</th>\n",
       "      <th>min</th>\n",
       "      <th>25%</th>\n",
       "      <th>50%</th>\n",
       "      <th>75%</th>\n",
       "      <th>max</th>\n",
       "    </tr>\n",
       "    <tr>\n",
       "      <th>month</th>\n",
       "      <th></th>\n",
       "      <th></th>\n",
       "      <th></th>\n",
       "      <th></th>\n",
       "      <th></th>\n",
       "      <th></th>\n",
       "      <th></th>\n",
       "      <th></th>\n",
       "    </tr>\n",
       "  </thead>\n",
       "  <tbody>\n",
       "    <tr>\n",
       "      <th>1.0</th>\n",
       "      <td>2.0</td>\n",
       "      <td>10.500000</td>\n",
       "      <td>14.849242</td>\n",
       "      <td>0.0</td>\n",
       "      <td>5.25</td>\n",
       "      <td>10.5</td>\n",
       "      <td>15.75</td>\n",
       "      <td>21.0</td>\n",
       "    </tr>\n",
       "    <tr>\n",
       "      <th>2.0</th>\n",
       "      <td>9.0</td>\n",
       "      <td>12.000000</td>\n",
       "      <td>19.646883</td>\n",
       "      <td>0.0</td>\n",
       "      <td>0.00</td>\n",
       "      <td>3.0</td>\n",
       "      <td>11.00</td>\n",
       "      <td>58.0</td>\n",
       "    </tr>\n",
       "    <tr>\n",
       "      <th>3.0</th>\n",
       "      <td>23.0</td>\n",
       "      <td>15.260870</td>\n",
       "      <td>18.616262</td>\n",
       "      <td>0.0</td>\n",
       "      <td>0.00</td>\n",
       "      <td>7.0</td>\n",
       "      <td>25.00</td>\n",
       "      <td>59.0</td>\n",
       "    </tr>\n",
       "    <tr>\n",
       "      <th>4.0</th>\n",
       "      <td>50.0</td>\n",
       "      <td>17.400000</td>\n",
       "      <td>22.396246</td>\n",
       "      <td>0.0</td>\n",
       "      <td>0.00</td>\n",
       "      <td>10.0</td>\n",
       "      <td>27.75</td>\n",
       "      <td>120.0</td>\n",
       "    </tr>\n",
       "    <tr>\n",
       "      <th>5.0</th>\n",
       "      <td>75.0</td>\n",
       "      <td>24.386667</td>\n",
       "      <td>29.375433</td>\n",
       "      <td>0.0</td>\n",
       "      <td>0.00</td>\n",
       "      <td>15.0</td>\n",
       "      <td>37.50</td>\n",
       "      <td>149.0</td>\n",
       "    </tr>\n",
       "    <tr>\n",
       "      <th>6.0</th>\n",
       "      <td>96.0</td>\n",
       "      <td>25.281250</td>\n",
       "      <td>30.405922</td>\n",
       "      <td>0.0</td>\n",
       "      <td>0.75</td>\n",
       "      <td>14.0</td>\n",
       "      <td>36.50</td>\n",
       "      <td>133.0</td>\n",
       "    </tr>\n",
       "    <tr>\n",
       "      <th>7.0</th>\n",
       "      <td>120.0</td>\n",
       "      <td>27.025000</td>\n",
       "      <td>30.523297</td>\n",
       "      <td>0.0</td>\n",
       "      <td>0.75</td>\n",
       "      <td>19.5</td>\n",
       "      <td>41.25</td>\n",
       "      <td>164.0</td>\n",
       "    </tr>\n",
       "    <tr>\n",
       "      <th>8.0</th>\n",
       "      <td>159.0</td>\n",
       "      <td>28.855346</td>\n",
       "      <td>32.352457</td>\n",
       "      <td>0.0</td>\n",
       "      <td>2.00</td>\n",
       "      <td>20.0</td>\n",
       "      <td>43.00</td>\n",
       "      <td>156.0</td>\n",
       "    </tr>\n",
       "    <tr>\n",
       "      <th>9.0</th>\n",
       "      <td>191.0</td>\n",
       "      <td>30.376963</td>\n",
       "      <td>31.667421</td>\n",
       "      <td>0.0</td>\n",
       "      <td>4.00</td>\n",
       "      <td>21.0</td>\n",
       "      <td>47.50</td>\n",
       "      <td>153.0</td>\n",
       "    </tr>\n",
       "    <tr>\n",
       "      <th>10.0</th>\n",
       "      <td>232.0</td>\n",
       "      <td>33.267241</td>\n",
       "      <td>35.759020</td>\n",
       "      <td>0.0</td>\n",
       "      <td>4.00</td>\n",
       "      <td>24.5</td>\n",
       "      <td>48.00</td>\n",
       "      <td>224.0</td>\n",
       "    </tr>\n",
       "    <tr>\n",
       "      <th>11.0</th>\n",
       "      <td>277.0</td>\n",
       "      <td>32.115523</td>\n",
       "      <td>32.721503</td>\n",
       "      <td>0.0</td>\n",
       "      <td>4.00</td>\n",
       "      <td>27.0</td>\n",
       "      <td>46.00</td>\n",
       "      <td>180.0</td>\n",
       "    </tr>\n",
       "    <tr>\n",
       "      <th>12.0</th>\n",
       "      <td>311.0</td>\n",
       "      <td>38.212219</td>\n",
       "      <td>38.395396</td>\n",
       "      <td>0.0</td>\n",
       "      <td>8.00</td>\n",
       "      <td>30.0</td>\n",
       "      <td>56.50</td>\n",
       "      <td>266.0</td>\n",
       "    </tr>\n",
       "  </tbody>\n",
       "</table>\n",
       "</div>"
      ],
      "text/plain": [
       "       count       mean        std  min   25%   50%    75%    max\n",
       "month                                                            \n",
       "1.0      2.0  10.500000  14.849242  0.0  5.25  10.5  15.75   21.0\n",
       "2.0      9.0  12.000000  19.646883  0.0  0.00   3.0  11.00   58.0\n",
       "3.0     23.0  15.260870  18.616262  0.0  0.00   7.0  25.00   59.0\n",
       "4.0     50.0  17.400000  22.396246  0.0  0.00  10.0  27.75  120.0\n",
       "5.0     75.0  24.386667  29.375433  0.0  0.00  15.0  37.50  149.0\n",
       "6.0     96.0  25.281250  30.405922  0.0  0.75  14.0  36.50  133.0\n",
       "7.0    120.0  27.025000  30.523297  0.0  0.75  19.5  41.25  164.0\n",
       "8.0    159.0  28.855346  32.352457  0.0  2.00  20.0  43.00  156.0\n",
       "9.0    191.0  30.376963  31.667421  0.0  4.00  21.0  47.50  153.0\n",
       "10.0   232.0  33.267241  35.759020  0.0  4.00  24.5  48.00  224.0\n",
       "11.0   277.0  32.115523  32.721503  0.0  4.00  27.0  46.00  180.0\n",
       "12.0   311.0  38.212219  38.395396  0.0  8.00  30.0  56.50  266.0"
      ]
     },
     "execution_count": 86,
     "metadata": {},
     "output_type": "execute_result"
    }
   ],
   "source": [
    "# descriptive statistics\n",
    "\n",
    "print('Surf Users:')\n",
    "print('Variance:', np.var(user[user['plan'] == 'surf']['texts']))\n",
    "user[user['plan'] == 'surf'].groupby('month')['texts'].describe()"
   ]
  },
  {
   "cell_type": "code",
   "execution_count": 87,
   "metadata": {
    "scrolled": false
   },
   "outputs": [
    {
     "name": "stdout",
     "output_type": "stream",
     "text": [
      "Ultimate Users:\n",
      "Variance: 1208.4461719735089\n"
     ]
    },
    {
     "data": {
      "text/html": [
       "<div>\n",
       "<style scoped>\n",
       "    .dataframe tbody tr th:only-of-type {\n",
       "        vertical-align: middle;\n",
       "    }\n",
       "\n",
       "    .dataframe tbody tr th {\n",
       "        vertical-align: top;\n",
       "    }\n",
       "\n",
       "    .dataframe thead th {\n",
       "        text-align: right;\n",
       "    }\n",
       "</style>\n",
       "<table border=\"1\" class=\"dataframe\">\n",
       "  <thead>\n",
       "    <tr style=\"text-align: right;\">\n",
       "      <th></th>\n",
       "      <th>count</th>\n",
       "      <th>mean</th>\n",
       "      <th>std</th>\n",
       "      <th>min</th>\n",
       "      <th>25%</th>\n",
       "      <th>50%</th>\n",
       "      <th>75%</th>\n",
       "      <th>max</th>\n",
       "    </tr>\n",
       "    <tr>\n",
       "      <th>month</th>\n",
       "      <th></th>\n",
       "      <th></th>\n",
       "      <th></th>\n",
       "      <th></th>\n",
       "      <th></th>\n",
       "      <th></th>\n",
       "      <th></th>\n",
       "      <th></th>\n",
       "    </tr>\n",
       "  </thead>\n",
       "  <tbody>\n",
       "    <tr>\n",
       "      <th>1.0</th>\n",
       "      <td>4.0</td>\n",
       "      <td>15.500000</td>\n",
       "      <td>17.710637</td>\n",
       "      <td>0.0</td>\n",
       "      <td>1.50</td>\n",
       "      <td>12.5</td>\n",
       "      <td>26.50</td>\n",
       "      <td>37.0</td>\n",
       "    </tr>\n",
       "    <tr>\n",
       "      <th>2.0</th>\n",
       "      <td>6.0</td>\n",
       "      <td>23.166667</td>\n",
       "      <td>23.506737</td>\n",
       "      <td>0.0</td>\n",
       "      <td>9.75</td>\n",
       "      <td>19.0</td>\n",
       "      <td>25.25</td>\n",
       "      <td>67.0</td>\n",
       "    </tr>\n",
       "    <tr>\n",
       "      <th>3.0</th>\n",
       "      <td>12.0</td>\n",
       "      <td>20.250000</td>\n",
       "      <td>25.580977</td>\n",
       "      <td>0.0</td>\n",
       "      <td>0.00</td>\n",
       "      <td>12.0</td>\n",
       "      <td>28.00</td>\n",
       "      <td>72.0</td>\n",
       "    </tr>\n",
       "    <tr>\n",
       "      <th>4.0</th>\n",
       "      <td>21.0</td>\n",
       "      <td>22.047619</td>\n",
       "      <td>23.326972</td>\n",
       "      <td>0.0</td>\n",
       "      <td>5.00</td>\n",
       "      <td>17.0</td>\n",
       "      <td>28.00</td>\n",
       "      <td>77.0</td>\n",
       "    </tr>\n",
       "    <tr>\n",
       "      <th>5.0</th>\n",
       "      <td>29.0</td>\n",
       "      <td>32.103448</td>\n",
       "      <td>36.018195</td>\n",
       "      <td>0.0</td>\n",
       "      <td>0.00</td>\n",
       "      <td>19.0</td>\n",
       "      <td>60.00</td>\n",
       "      <td>149.0</td>\n",
       "    </tr>\n",
       "    <tr>\n",
       "      <th>6.0</th>\n",
       "      <td>45.0</td>\n",
       "      <td>30.533333</td>\n",
       "      <td>29.361849</td>\n",
       "      <td>0.0</td>\n",
       "      <td>8.00</td>\n",
       "      <td>24.0</td>\n",
       "      <td>49.00</td>\n",
       "      <td>143.0</td>\n",
       "    </tr>\n",
       "    <tr>\n",
       "      <th>7.0</th>\n",
       "      <td>59.0</td>\n",
       "      <td>32.830508</td>\n",
       "      <td>30.991741</td>\n",
       "      <td>0.0</td>\n",
       "      <td>4.50</td>\n",
       "      <td>28.0</td>\n",
       "      <td>52.50</td>\n",
       "      <td>149.0</td>\n",
       "    </tr>\n",
       "    <tr>\n",
       "      <th>8.0</th>\n",
       "      <td>71.0</td>\n",
       "      <td>38.478873</td>\n",
       "      <td>34.588544</td>\n",
       "      <td>0.0</td>\n",
       "      <td>6.00</td>\n",
       "      <td>36.0</td>\n",
       "      <td>64.50</td>\n",
       "      <td>151.0</td>\n",
       "    </tr>\n",
       "    <tr>\n",
       "      <th>9.0</th>\n",
       "      <td>86.0</td>\n",
       "      <td>37.895349</td>\n",
       "      <td>32.417871</td>\n",
       "      <td>0.0</td>\n",
       "      <td>7.25</td>\n",
       "      <td>31.5</td>\n",
       "      <td>61.00</td>\n",
       "      <td>155.0</td>\n",
       "    </tr>\n",
       "    <tr>\n",
       "      <th>10.0</th>\n",
       "      <td>105.0</td>\n",
       "      <td>39.800000</td>\n",
       "      <td>34.917595</td>\n",
       "      <td>0.0</td>\n",
       "      <td>8.00</td>\n",
       "      <td>35.0</td>\n",
       "      <td>58.00</td>\n",
       "      <td>153.0</td>\n",
       "    </tr>\n",
       "    <tr>\n",
       "      <th>11.0</th>\n",
       "      <td>126.0</td>\n",
       "      <td>38.579365</td>\n",
       "      <td>35.248229</td>\n",
       "      <td>0.0</td>\n",
       "      <td>7.75</td>\n",
       "      <td>31.5</td>\n",
       "      <td>64.00</td>\n",
       "      <td>166.0</td>\n",
       "    </tr>\n",
       "    <tr>\n",
       "      <th>12.0</th>\n",
       "      <td>149.0</td>\n",
       "      <td>45.087248</td>\n",
       "      <td>39.361274</td>\n",
       "      <td>0.0</td>\n",
       "      <td>10.00</td>\n",
       "      <td>41.0</td>\n",
       "      <td>71.00</td>\n",
       "      <td>150.0</td>\n",
       "    </tr>\n",
       "  </tbody>\n",
       "</table>\n",
       "</div>"
      ],
      "text/plain": [
       "       count       mean        std  min    25%   50%    75%    max\n",
       "month                                                             \n",
       "1.0      4.0  15.500000  17.710637  0.0   1.50  12.5  26.50   37.0\n",
       "2.0      6.0  23.166667  23.506737  0.0   9.75  19.0  25.25   67.0\n",
       "3.0     12.0  20.250000  25.580977  0.0   0.00  12.0  28.00   72.0\n",
       "4.0     21.0  22.047619  23.326972  0.0   5.00  17.0  28.00   77.0\n",
       "5.0     29.0  32.103448  36.018195  0.0   0.00  19.0  60.00  149.0\n",
       "6.0     45.0  30.533333  29.361849  0.0   8.00  24.0  49.00  143.0\n",
       "7.0     59.0  32.830508  30.991741  0.0   4.50  28.0  52.50  149.0\n",
       "8.0     71.0  38.478873  34.588544  0.0   6.00  36.0  64.50  151.0\n",
       "9.0     86.0  37.895349  32.417871  0.0   7.25  31.5  61.00  155.0\n",
       "10.0   105.0  39.800000  34.917595  0.0   8.00  35.0  58.00  153.0\n",
       "11.0   126.0  38.579365  35.248229  0.0   7.75  31.5  64.00  166.0\n",
       "12.0   149.0  45.087248  39.361274  0.0  10.00  41.0  71.00  150.0"
      ]
     },
     "execution_count": 87,
     "metadata": {},
     "output_type": "execute_result"
    }
   ],
   "source": [
    "print('Ultimate Users:')\n",
    "print('Variance:', np.var(user[user['plan'] == 'ultimate']['texts']))\n",
    "user[user['plan'] == 'ultimate'].groupby('month')['texts'].describe()"
   ]
  },
  {
   "cell_type": "code",
   "execution_count": 88,
   "metadata": {},
   "outputs": [
    {
     "name": "stdout",
     "output_type": "stream",
     "text": [
      "All Users:\n",
      "Variance: 1165.6742763256455\n"
     ]
    },
    {
     "data": {
      "text/html": [
       "<div>\n",
       "<style scoped>\n",
       "    .dataframe tbody tr th:only-of-type {\n",
       "        vertical-align: middle;\n",
       "    }\n",
       "\n",
       "    .dataframe tbody tr th {\n",
       "        vertical-align: top;\n",
       "    }\n",
       "\n",
       "    .dataframe thead th {\n",
       "        text-align: right;\n",
       "    }\n",
       "</style>\n",
       "<table border=\"1\" class=\"dataframe\">\n",
       "  <thead>\n",
       "    <tr style=\"text-align: right;\">\n",
       "      <th></th>\n",
       "      <th>count</th>\n",
       "      <th>mean</th>\n",
       "      <th>std</th>\n",
       "      <th>min</th>\n",
       "      <th>25%</th>\n",
       "      <th>50%</th>\n",
       "      <th>75%</th>\n",
       "      <th>max</th>\n",
       "    </tr>\n",
       "    <tr>\n",
       "      <th>month</th>\n",
       "      <th></th>\n",
       "      <th></th>\n",
       "      <th></th>\n",
       "      <th></th>\n",
       "      <th></th>\n",
       "      <th></th>\n",
       "      <th></th>\n",
       "      <th></th>\n",
       "    </tr>\n",
       "  </thead>\n",
       "  <tbody>\n",
       "    <tr>\n",
       "      <th>1.0</th>\n",
       "      <td>6.0</td>\n",
       "      <td>13.833333</td>\n",
       "      <td>15.458547</td>\n",
       "      <td>0.0</td>\n",
       "      <td>0.5</td>\n",
       "      <td>11.5</td>\n",
       "      <td>22.5</td>\n",
       "      <td>37.0</td>\n",
       "    </tr>\n",
       "    <tr>\n",
       "      <th>2.0</th>\n",
       "      <td>15.0</td>\n",
       "      <td>16.466667</td>\n",
       "      <td>21.212754</td>\n",
       "      <td>0.0</td>\n",
       "      <td>0.0</td>\n",
       "      <td>8.0</td>\n",
       "      <td>24.5</td>\n",
       "      <td>67.0</td>\n",
       "    </tr>\n",
       "    <tr>\n",
       "      <th>3.0</th>\n",
       "      <td>35.0</td>\n",
       "      <td>16.971429</td>\n",
       "      <td>21.017480</td>\n",
       "      <td>0.0</td>\n",
       "      <td>0.0</td>\n",
       "      <td>9.0</td>\n",
       "      <td>27.0</td>\n",
       "      <td>72.0</td>\n",
       "    </tr>\n",
       "    <tr>\n",
       "      <th>4.0</th>\n",
       "      <td>71.0</td>\n",
       "      <td>18.774648</td>\n",
       "      <td>22.608593</td>\n",
       "      <td>0.0</td>\n",
       "      <td>0.0</td>\n",
       "      <td>11.0</td>\n",
       "      <td>28.0</td>\n",
       "      <td>120.0</td>\n",
       "    </tr>\n",
       "    <tr>\n",
       "      <th>5.0</th>\n",
       "      <td>104.0</td>\n",
       "      <td>26.538462</td>\n",
       "      <td>31.380200</td>\n",
       "      <td>0.0</td>\n",
       "      <td>0.0</td>\n",
       "      <td>15.5</td>\n",
       "      <td>39.5</td>\n",
       "      <td>149.0</td>\n",
       "    </tr>\n",
       "    <tr>\n",
       "      <th>6.0</th>\n",
       "      <td>141.0</td>\n",
       "      <td>26.957447</td>\n",
       "      <td>30.072264</td>\n",
       "      <td>0.0</td>\n",
       "      <td>2.0</td>\n",
       "      <td>19.0</td>\n",
       "      <td>42.0</td>\n",
       "      <td>143.0</td>\n",
       "    </tr>\n",
       "    <tr>\n",
       "      <th>7.0</th>\n",
       "      <td>179.0</td>\n",
       "      <td>28.938547</td>\n",
       "      <td>30.713457</td>\n",
       "      <td>0.0</td>\n",
       "      <td>1.5</td>\n",
       "      <td>23.0</td>\n",
       "      <td>46.0</td>\n",
       "      <td>164.0</td>\n",
       "    </tr>\n",
       "    <tr>\n",
       "      <th>8.0</th>\n",
       "      <td>230.0</td>\n",
       "      <td>31.826087</td>\n",
       "      <td>33.282373</td>\n",
       "      <td>0.0</td>\n",
       "      <td>2.5</td>\n",
       "      <td>22.5</td>\n",
       "      <td>50.0</td>\n",
       "      <td>156.0</td>\n",
       "    </tr>\n",
       "    <tr>\n",
       "      <th>9.0</th>\n",
       "      <td>277.0</td>\n",
       "      <td>32.711191</td>\n",
       "      <td>32.033548</td>\n",
       "      <td>0.0</td>\n",
       "      <td>4.0</td>\n",
       "      <td>26.0</td>\n",
       "      <td>50.0</td>\n",
       "      <td>155.0</td>\n",
       "    </tr>\n",
       "    <tr>\n",
       "      <th>10.0</th>\n",
       "      <td>337.0</td>\n",
       "      <td>35.302671</td>\n",
       "      <td>35.576340</td>\n",
       "      <td>0.0</td>\n",
       "      <td>6.0</td>\n",
       "      <td>28.0</td>\n",
       "      <td>53.0</td>\n",
       "      <td>224.0</td>\n",
       "    </tr>\n",
       "    <tr>\n",
       "      <th>11.0</th>\n",
       "      <td>403.0</td>\n",
       "      <td>34.136476</td>\n",
       "      <td>33.621965</td>\n",
       "      <td>0.0</td>\n",
       "      <td>4.0</td>\n",
       "      <td>29.0</td>\n",
       "      <td>49.5</td>\n",
       "      <td>180.0</td>\n",
       "    </tr>\n",
       "    <tr>\n",
       "      <th>12.0</th>\n",
       "      <td>460.0</td>\n",
       "      <td>40.439130</td>\n",
       "      <td>38.801862</td>\n",
       "      <td>0.0</td>\n",
       "      <td>9.0</td>\n",
       "      <td>31.0</td>\n",
       "      <td>62.0</td>\n",
       "      <td>266.0</td>\n",
       "    </tr>\n",
       "  </tbody>\n",
       "</table>\n",
       "</div>"
      ],
      "text/plain": [
       "       count       mean        std  min  25%   50%   75%    max\n",
       "month                                                          \n",
       "1.0      6.0  13.833333  15.458547  0.0  0.5  11.5  22.5   37.0\n",
       "2.0     15.0  16.466667  21.212754  0.0  0.0   8.0  24.5   67.0\n",
       "3.0     35.0  16.971429  21.017480  0.0  0.0   9.0  27.0   72.0\n",
       "4.0     71.0  18.774648  22.608593  0.0  0.0  11.0  28.0  120.0\n",
       "5.0    104.0  26.538462  31.380200  0.0  0.0  15.5  39.5  149.0\n",
       "6.0    141.0  26.957447  30.072264  0.0  2.0  19.0  42.0  143.0\n",
       "7.0    179.0  28.938547  30.713457  0.0  1.5  23.0  46.0  164.0\n",
       "8.0    230.0  31.826087  33.282373  0.0  2.5  22.5  50.0  156.0\n",
       "9.0    277.0  32.711191  32.033548  0.0  4.0  26.0  50.0  155.0\n",
       "10.0   337.0  35.302671  35.576340  0.0  6.0  28.0  53.0  224.0\n",
       "11.0   403.0  34.136476  33.621965  0.0  4.0  29.0  49.5  180.0\n",
       "12.0   460.0  40.439130  38.801862  0.0  9.0  31.0  62.0  266.0"
      ]
     },
     "execution_count": 88,
     "metadata": {},
     "output_type": "execute_result"
    }
   ],
   "source": [
    "print('All Users:')\n",
    "print('Variance:', np.var(user['texts']))\n",
    "user.groupby('month')['texts'].describe()"
   ]
  },
  {
   "cell_type": "markdown",
   "metadata": {},
   "source": [
    "As we might have expected, the mean and median are both higher for the Ultimate users. This is the case even though the people who text the most are Surf users - though it makes sense, the Ultimate users have a smaller pool, so their outliers will raise their Mean higher, and they already have a higher Median.\n",
    "\n",
    "The variance gives us a clear indication of just what is going on, which we can confirm by looking at the quartiles. People text in very different ways. In all of the data sets, the first quartile contains many observations with low text counts, often under 5 texts. So a quarter of our observations have under 5 texts. On the other hand, a quarter have high amount of texts, usually over 25. With maximums in the triple digits, that makes sense for us to have high variance.\n",
    "\n",
    "Most likely, the texting part of the plan does not hold any importance when it comes to making our revenue (notwithstanding that offering the texting plan would bring in more users). The average user, going through both Mean and Median, for both plans remains below the Surf limit of 50 texts a month.\n",
    "\n",
    "Comparing both to the full data, the slight difference seems to perhaps be something that could have occurred through random chance. It's possible that Ultimate users are more text-happy, since they do text more on average, but it probably isn't a significant difference. We will analyze this later, to determine if that is the case."
   ]
  },
  {
   "cell_type": "markdown",
   "metadata": {},
   "source": [
    "#### Box plot"
   ]
  },
  {
   "cell_type": "code",
   "execution_count": 89,
   "metadata": {},
   "outputs": [
    {
     "data": {
      "image/png": "[encoded data removed]",
      "text/plain": [
       "<Figure size 432x288 with 1 Axes>"
      ]
     },
     "metadata": {
      "needs_background": "light"
     },
     "output_type": "display_data"
    }
   ],
   "source": [
    "# box plot\n",
    "\n",
    "user.boxplot(column = 'texts', by = 'plan',  widths = 0.7);"
   ]
  },
  {
   "cell_type": "markdown",
   "metadata": {},
   "source": [
    "<div class=\"alert alert-block alert-danger\">\n",
    "<b>Senior Reviewer's comment</b> <a class=\"tocSkip\"></a>\n",
    "    \n",
    "Please don't forget chart design\n",
    "</div>"
   ]
  },
  {
   "cell_type": "markdown",
   "metadata": {},
   "source": [
    "These box plots show a rather clear indication that Ultimate users tend to text more than Surf users. The median is higher but also the box above the median is larger for Ultimate users, meaning there are more users who go into those higher fields. Most of the data points for our Surf users are also below the whiskers for the Ultimate users, and there appear to be only 3 users whose monthly texts pass the highest Ultimate user. The rates are, however, still incredibly similar.\n",
    "\n",
    "Similar to the phone plan, not a single user engaging in the Ultimate plan came close to hitting the text limit. At the absolute highest, the company charged \\\\$6.48 for the Surf user who made 266 texts in a single month.\n",
    "\n",
    "With this in mind, we can say that most likely if there is any point that will provide a significant difference between our plans based on user activity, it will be on the internet traffic. On average, users won't pass their monthly minutes or their number of texts for the Surf plan, and if they do, they still are not likely to spend enough to make upgrading to the Ultimate plan worth it for them.\n",
    "\n",
    "However, the internet plan is a very big deal. The data limits are both fairly low. With a little bit of video streaming, music, downloads, etc., reaching 15 or even 30GB is very easy, and the cost per GB after that is fairly significant for both plans. We should be very attentive to the analysis we do for the internet section of our plans."
   ]
  },
  {
   "cell_type": "markdown",
   "metadata": {},
   "source": [
    "<div class=\"alert alert-success\">\n",
    "<h2> Reviewer's comment</h2>\n",
    "\n",
    "Very interesting read and really nice work\n",
    "</div>"
   ]
  },
  {
   "cell_type": "markdown",
   "metadata": {},
   "source": [
    "<div class=\"alert alert-block alert-success\">\n",
    "<b>Senior Reviewer's comment</b> <a class=\"tocSkip\"></a>\n",
    "    \n",
    "Agree\n",
    "</div>"
   ]
  },
  {
   "cell_type": "markdown",
   "metadata": {},
   "source": [
    "### Internet"
   ]
  },
  {
   "cell_type": "markdown",
   "metadata": {},
   "source": [
    "First things first, we should make similar bar charts to get an overview of the data usage."
   ]
  },
  {
   "cell_type": "markdown",
   "metadata": {},
   "source": [
    "#### Bar charts"
   ]
  },
  {
   "cell_type": "code",
   "execution_count": 90,
   "metadata": {},
   "outputs": [
    {
     "data": {
      "image/png": "[encoded data removed]",
      "text/plain": [
       "<Figure size 576x360 with 1 Axes>"
      ]
     },
     "metadata": {
      "needs_background": "light"
     },
     "output_type": "display_data"
    },
    {
     "data": {
      "image/png": "[encoded data removed]",
      "text/plain": [
       "<Figure size 576x360 with 1 Axes>"
      ]
     },
     "metadata": {
      "needs_background": "light"
     },
     "output_type": "display_data"
    }
   ],
   "source": [
    "# average gb used per month bar charts\n",
    "\n",
    "pt_surf_net = surf_users.pivot_table(index = 'month', values = 'gb_used', aggfunc = ['mean', 'median'])\n",
    "\n",
    "pt_ult_net = ult_users.pivot_table(index = 'month', values = 'gb_used', aggfunc = ['mean', 'median'])\n",
    "\n",
    "pt_surf_net.plot(kind = 'bar', title = 'avg gb used by surf users by month', grid = True, figsize = (8,5));\n",
    "pt_ult_net.plot(kind = 'bar', title = 'avg gb used by ultimate users by month', grid = True, figsize = (8,5));"
   ]
  },
  {
   "cell_type": "markdown",
   "metadata": {},
   "source": [
    "<div class=\"alert alert-block alert-danger\">\n",
    "<b>Senior Reviewer's comment</b> <a class=\"tocSkip\"></a>\n",
    "    \n",
    "Charts design\n",
    "</div>"
   ]
  },
  {
   "cell_type": "markdown",
   "metadata": {},
   "source": [
    "\n",
    "\n",
    "Here, we see something that does show a fairly clear indication that there is a difference in the internet usage based on the type of plan a user has. The absolute highest it gets for a Surf user - around 17.5GB on average, is a rate that Ultimate users tended to reach, often surpassing that data usage. This makes sense, as the Surf user will need to spend \\\\$10 extra if they pass 15GB. While they might not pay attention to their phone usage or text useage since the price is far more negligible."
   ]
  },
  {
   "cell_type": "markdown",
   "metadata": {},
   "source": [
    "#### Descriptive statistics\n",
    "\n",
    "We will take a closer look at the descriptive statistics."
   ]
  },
  {
   "cell_type": "code",
   "execution_count": 91,
   "metadata": {},
   "outputs": [
    {
     "name": "stdout",
     "output_type": "stream",
     "text": [
      "Surf Users:\n",
      "        count       mean       std  min    25%   50%   75%   max\n",
      "month                                                          \n",
      "1.0      2.0   5.000000  4.242641  2.0   3.50   5.0   6.5   8.0\n",
      "2.0      9.0  12.666667  6.652067  1.0   8.00  12.0  17.0  21.0\n",
      "3.0     23.0  13.782609  8.218364  2.0   6.50  14.0  19.0  31.0\n",
      "4.0     50.0  12.420000  7.688024  0.0   6.25  12.0  18.5  29.0\n",
      "5.0     75.0  14.720000  7.776541  0.0   8.00  15.0  21.0  37.0\n",
      "6.0     96.0  15.770833  7.058372  0.0  13.00  16.0  19.0  38.0\n",
      "7.0    120.0  17.300000  8.083181  0.0  13.00  17.5  22.0  39.0\n",
      "8.0    159.0  17.327044  8.673761  0.0  12.00  17.0  22.0  52.0\n",
      "9.0    191.0  16.921466  7.028447  0.0  13.00  17.0  21.0  36.0\n",
      "10.0   232.0  17.693966  7.857296  0.0  13.00  18.0  22.0  47.0\n",
      "11.0   277.0  16.787004  7.319428  0.0  13.00  17.0  21.0  41.0\n",
      "12.0   311.0  18.459807  8.044483  0.0  14.00  18.0  22.0  71.0 \n",
      "Variance: 61.62690126831501\n",
      "Ultimate Users:\n",
      "        count       mean        std  min    25%   50%    75%   max\n",
      "month                                                            \n",
      "1.0      4.0   7.250000   3.862210  2.0   5.75   8.0   9.50  11.0\n",
      "2.0      6.0  18.333333   6.562520  5.0  20.25  21.0  21.00  22.0\n",
      "3.0     12.0  18.833333  11.869237  2.0   8.25  21.0  28.75  37.0\n",
      "4.0     21.0  16.476190   9.416045  3.0   9.00  16.0  21.00  38.0\n",
      "5.0     29.0  17.068966   7.454294  3.0  14.00  17.0  21.00  33.0\n",
      "6.0     45.0  16.422222   8.181156  2.0  12.00  16.0  21.00  38.0\n",
      "7.0     59.0  16.813559   8.213686  1.0  12.50  16.0  21.50  39.0\n",
      "8.0     71.0  18.380282   7.748486  1.0  15.00  18.0  21.50  41.0\n",
      "9.0     86.0  17.534884   7.017118  4.0  13.25  17.0  20.75  38.0\n",
      "10.0   105.0  18.257143   7.388958  4.0  13.00  17.0  22.00  47.0\n",
      "11.0   126.0  17.507937   7.638582  1.0  13.00  17.5  21.00  43.0\n",
      "12.0   149.0  18.838926   7.698778  1.0  14.00  18.0  23.00  47.0 \n",
      "Variance: 60.31800522848558\n",
      "All Users:\n",
      "        count       mean       std  min    25%   50%    75%   max\n",
      "month                                                           \n",
      "1.0      6.0   6.500000  3.728270  2.0   3.25   7.5   8.75  11.0\n",
      "2.0     15.0  14.933333  6.994556  1.0   9.50  17.0  21.00  22.0\n",
      "3.0     35.0  15.514286  9.756963  2.0   7.00  17.0  21.00  37.0\n",
      "4.0     71.0  13.619718  8.377463  0.0   7.00  14.0  19.50  38.0\n",
      "5.0    104.0  15.375000  7.724865  0.0  10.00  15.0  21.00  37.0\n",
      "6.0    141.0  15.978723  7.411832  0.0  13.00  16.0  19.00  38.0\n",
      "7.0    179.0  17.139665  8.106561  0.0  13.00  17.0  22.00  39.0\n",
      "8.0    230.0  17.652174  8.396343  0.0  13.00  18.0  22.00  52.0\n",
      "9.0    277.0  17.111913  7.017971  0.0  13.00  17.0  21.00  38.0\n",
      "10.0   337.0  17.869436  7.707884  0.0  13.00  18.0  22.00  47.0\n",
      "11.0   403.0  17.012407  7.418703  0.0  13.00  17.0  21.00  43.0\n",
      "12.0   460.0  18.582609  7.927759  0.0  14.00  18.0  22.00  71.0 \n",
      "Variance: 61.35216366804433\n"
     ]
    }
   ],
   "source": [
    "# descriptive statistics\n",
    "\n",
    "print('Surf Users:\\n', user[user['plan'] == 'surf'].groupby('month')['gb_used'].describe(),\n",
    "     '\\nVariance:', np.var(user[user['plan'] == 'surf']['gb_used']))\n",
    "\n",
    "print('Ultimate Users:\\n', user[user['plan'] == 'ultimate'].groupby('month')['gb_used'].describe(),\n",
    "     '\\nVariance:', np.var(user[user['plan'] == 'ultimate']['gb_used']))\n",
    "\n",
    "print('All Users:\\n', user.groupby('month')['gb_used'].describe(),\n",
    "     '\\nVariance:', np.var(user['gb_used']))"
   ]
  },
  {
   "cell_type": "markdown",
   "metadata": {},
   "source": [
    "The mean and median both rise as we see more observations. This could indicate a few things. It could be as simple as assuming that there generally are few people who don't use the internet as much - given the data is from 2018, this makes sense. It also would go to follow that it suggests that there are an infrequent amount of users who have high internet useage.\n",
    "\n",
    "It appears that the real average is somewhere around 16-18gb per month. The variances are all incredibly similar, which suggests that all three groups have a similar spread around the average. We can expect a fairly consistent internet useage.\n",
    "\n",
    "Next, something that seems odd is that steady increase. Is it likely to be simply due to having more users sign up throughout the year, or is it perhaps more impacted by certain outliers? If we plot another bar chart of the total data usage by month, this might clue us into the answer. If we see a significant jump or something else strange, that would suggest that it might be related to outlier activity."
   ]
  },
  {
   "cell_type": "code",
   "execution_count": 92,
   "metadata": {},
   "outputs": [
    {
     "data": {
      "image/png": "[encoded data removed]",
      "text/plain": [
       "<Figure size 576x360 with 1 Axes>"
      ]
     },
     "metadata": {
      "needs_background": "light"
     },
     "output_type": "display_data"
    },
    {
     "data": {
      "image/png": "[encoded data removed]",
      "text/plain": [
       "<Figure size 576x360 with 1 Axes>"
      ]
     },
     "metadata": {
      "needs_background": "light"
     },
     "output_type": "display_data"
    }
   ],
   "source": [
    "# plot total gb used\n",
    "\n",
    "surf_users.pivot_table(\n",
    "    index = 'month', values = 'gb_used', aggfunc = 'sum').plot(\n",
    "    y = 'gb_used', kind = 'bar', title = 'total gb used by surf users', grid = True, figsize = (8,5));\n",
    "ult_users.pivot_table(\n",
    "    index = 'month', values = 'gb_used', aggfunc = 'sum').plot(\n",
    "    y = 'gb_used', kind = 'bar', title = 'total gb used by ultimate users s', grid = True, figsize = (8,5));"
   ]
  },
  {
   "cell_type": "markdown",
   "metadata": {},
   "source": [
    "These bar charts show quadratic growth, which is in line with the total growth of the users. There is a fairly large jump between September and October, which might be useful to note, but it does not appear that outliers are significantly impacting the data useage."
   ]
  },
  {
   "cell_type": "markdown",
   "metadata": {},
   "source": [
    "#### Histograms\n",
    "\n",
    "We can take a quick look at some histograms to get a view of the data by user."
   ]
  },
  {
   "cell_type": "code",
   "execution_count": 93,
   "metadata": {},
   "outputs": [
    {
     "name": "stdout",
     "output_type": "stream",
     "text": [
      "Both plans:\n"
     ]
    },
    {
     "data": {
      "image/png": "[encoded data removed]",
      "text/plain": [
       "<Figure size 720x216 with 2 Axes>"
      ]
     },
     "metadata": {
      "needs_background": "light"
     },
     "output_type": "display_data"
    }
   ],
   "source": [
    "# histograms\n",
    "\n",
    "pt_net = user.pivot_table(\n",
    "    index=['user_id', 'month'], values='gb_used', aggfunc=['mean', 'median']\n",
    ")\n",
    "print('Both plans:')\n",
    "pt_net.hist(bins = 25, figsize = (10,3));"
   ]
  },
  {
   "cell_type": "code",
   "execution_count": 94,
   "metadata": {},
   "outputs": [
    {
     "name": "stdout",
     "output_type": "stream",
     "text": [
      "Surf users:\n"
     ]
    },
    {
     "data": {
      "image/png": "[encoded data removed]",
      "text/plain": [
       "<Figure size 720x216 with 2 Axes>"
      ]
     },
     "metadata": {
      "needs_background": "light"
     },
     "output_type": "display_data"
    },
    {
     "name": "stdout",
     "output_type": "stream",
     "text": [
      "Ultimate users:\n"
     ]
    },
    {
     "data": {
      "image/png": "[encoded data removed]",
      "text/plain": [
       "<Figure size 720x216 with 2 Axes>"
      ]
     },
     "metadata": {
      "needs_background": "light"
     },
     "output_type": "display_data"
    }
   ],
   "source": [
    "pt_surf_net = user[user['plan'] == 'surf'].pivot_table(\n",
    "    index=['user_id', 'month'], values='gb_used', aggfunc=['mean', 'median']\n",
    ")\n",
    "\n",
    "pt_ult_net = user[user['plan'] == 'ultimate'].pivot_table(\n",
    "    index=['user_id', 'month'], values='gb_used', aggfunc=['mean', 'median']\n",
    ")\n",
    "\n",
    "print('Surf users:')\n",
    "pt_surf_net.hist(bins = 25, figsize = (10,3));\n",
    "plt.show()\n",
    "print('Ultimate users:')\n",
    "pt_ult_net.hist(bins=25, figsize = (10,3));"
   ]
  },
  {
   "cell_type": "markdown",
   "metadata": {},
   "source": [
    "These histograms show a normal distribution with median peaks that appear to be higher than the mean peaks for both sets of users. The shape of the histograms, however, seem to suggest that there is not a significant difference in the average of the internet useage between users.\n",
    "\n",
    "Since the average is below 20 gb, it also tells us that we might not expect to make more money off Surf users. We will get some surf users who have extremely high rates of data use, but to grant us a better profit than an Ultimate user, they need to reach 20gb. There also are some Ultimate users who reach their data limits, but they are near the edge of their normal distribution."
   ]
  },
  {
   "cell_type": "markdown",
   "metadata": {},
   "source": [
    "#### Box plot"
   ]
  },
  {
   "cell_type": "code",
   "execution_count": 95,
   "metadata": {},
   "outputs": [
    {
     "data": {
      "image/png": "[encoded data removed]",
      "text/plain": [
       "<Figure size 432x288 with 1 Axes>"
      ]
     },
     "metadata": {
      "needs_background": "light"
     },
     "output_type": "display_data"
    }
   ],
   "source": [
    "# box plot\n",
    "\n",
    "user.boxplot(column = 'gb_used', by = 'plan', widths = 0.7);"
   ]
  },
  {
   "cell_type": "markdown",
   "metadata": {},
   "source": [
    "<div class=\"alert alert-block alert-danger\">\n",
    "<b>Senior Reviewer's comment</b> <a class=\"tocSkip\"></a>\n",
    "    \n",
    "Charts design\n",
    "</div>"
   ]
  },
  {
   "cell_type": "markdown",
   "metadata": {},
   "source": [
    "These box plots show a very strong reason to believe that there is no significant difference in the internet traffic between people's data plans. The boxes are approximately the same size, their whiskers as well, and even their outliers are rather similar in number and range. The 'Surf' box is slightly larger on the lower half, which suggests that there are a few more people in that area who have a lower internet useage - which makes sense, as we should expect to see more Surf users with under 15gb."
   ]
  },
  {
   "cell_type": "markdown",
   "metadata": {},
   "source": [
    "<div class=\"alert alert-success\">\n",
    "<h2> Reviewer's comment</h2>\n",
    "\n",
    "Good work !\n",
    "</div>"
   ]
  },
  {
   "cell_type": "markdown",
   "metadata": {},
   "source": [
    "<div class=\"alert alert-block alert-success\">\n",
    "<b>Senior Reviewer's comment</b> <a class=\"tocSkip\"></a>\n",
    "    \n",
    "Agree\n",
    "</div>"
   ]
  },
  {
   "cell_type": "markdown",
   "metadata": {},
   "source": [
    "## Revenue"
   ]
  },
  {
   "cell_type": "markdown",
   "metadata": {},
   "source": [
    "Now, we will analyze the difference in our revenue based on the plans. Most likely, we will observe that on average we see better revenue on the Ultimate plan, but that the most profitable users will be through the Surf plan.\n",
    "\n",
    "Before that, however, we will create some box plots to get a view of just how significant (or insignificant) each type of service is in terms of revenue."
   ]
  },
  {
   "cell_type": "code",
   "execution_count": 96,
   "metadata": {},
   "outputs": [
    {
     "data": {
      "image/png": "[encoded data removed]",
      "text/plain": [
       "<Figure size 432x288 with 1 Axes>"
      ]
     },
     "metadata": {
      "needs_background": "light"
     },
     "output_type": "display_data"
    }
   ],
   "source": [
    "user.boxplot(column = ['phone_bill', 'text_bill', 'internet_bill'], widths = 0.7);"
   ]
  },
  {
   "cell_type": "markdown",
   "metadata": {},
   "source": [
    "This box plot is relevant because it shows us that even having to spend money from going over the limit on phone or text usage is so uncommon it is an outlier, whereas internet bill outliers are only rates where they surpass \\\\$100. This is something that could have been picked up by analyzing the user behavior, but it's good to have it visualized here. If we want to focus on revenue, it would be generally better to not think so much about phone or text. The internet usage being more or less indentical across plans is much more useful for statistics.\n",
    "\n",
    "Anyway, with that in mind, we can move onto analysis of our total revenue."
   ]
  },
  {
   "cell_type": "markdown",
   "metadata": {},
   "source": [
    "#### Bar charts"
   ]
  },
  {
   "cell_type": "code",
   "execution_count": 97,
   "metadata": {},
   "outputs": [
    {
     "data": {
      "image/png": "[encoded data removed]",
      "text/plain": [
       "<Figure size 576x360 with 1 Axes>"
      ]
     },
     "metadata": {
      "needs_background": "light"
     },
     "output_type": "display_data"
    },
    {
     "data": {
      "image/png": "[encoded data removed]",
      "text/plain": [
       "<Figure size 576x360 with 1 Axes>"
      ]
     },
     "metadata": {
      "needs_background": "light"
     },
     "output_type": "display_data"
    }
   ],
   "source": [
    "# average revenue bar charts\n",
    "\n",
    "pt_surf_rev = surf_users.pivot_table(index = 'month', values = 'monthly_charge', aggfunc = ['mean', 'median'])\n",
    "\n",
    "pt_ult_rev = ult_users.pivot_table(index = 'month', values = 'monthly_charge', aggfunc = ['mean', 'median'])\n",
    "\n",
    "pt_surf_rev.plot(kind = 'bar', title = 'avg revenue for surf users by month', grid = True, figsize = (8,5));\n",
    "pt_ult_rev.plot(kind = 'bar', title = 'avg revenue for ultimate users by month', grid = True, figsize = (8,5));"
   ]
  },
  {
   "cell_type": "markdown",
   "metadata": {},
   "source": [
    "Based on these initial bar charts, we see something that is fairly expected. The revenue for Surf users fluctuates quite a bit, whereas the revenue for Ultimate users is rather consistent. That makes sense, considering in most cases the Ultimate users do not pass their limitations  On average, it appears that the Ultimate plan is more profitable, but there are very high outliers in the Surf users.\n",
    "\n",
    "Will these high-cost Surf users be a significant source of revenue, though? The averages could be weighted by a few extreme outliers."
   ]
  },
  {
   "cell_type": "markdown",
   "metadata": {},
   "source": [
    "#### Descriptive statistics"
   ]
  },
  {
   "cell_type": "code",
   "execution_count": 98,
   "metadata": {},
   "outputs": [
    {
     "name": "stdout",
     "output_type": "stream",
     "text": [
      "Surf Users:\n",
      "        count       mean        std   min     25%     50%     75%     max\n",
      "month                                                                   \n",
      "1.0      2.0  20.000000   0.000000  20.0  20.000  20.000  20.000   20.00\n",
      "2.0      9.0  36.130000  21.277432  20.0  20.000  29.570  36.400   76.40\n",
      "3.0     23.0  46.393478  39.829589  20.0  20.000  20.000  60.855  176.40\n",
      "4.0     50.0  40.886600  35.520561  20.0  20.000  20.000  53.495  156.40\n",
      "5.0     75.0  49.362267  46.166678  20.0  20.000  22.340  76.580  238.35\n",
      "6.0     96.0  49.714583  45.160351  20.0  20.000  30.940  57.375  246.40\n",
      "7.0    120.0  64.106333  55.578874  20.0  20.645  43.300  86.400  257.03\n",
      "8.0    159.0  65.366352  61.275198  20.0  20.000  42.790  89.595  386.40\n",
      "9.0    191.0  57.745916  46.670456  20.0  20.015  41.080  78.635  228.32\n",
      "10.0   232.0  65.187241  56.561468  20.0  20.000  46.445  87.510  336.40\n",
      "11.0   277.0  58.150794  48.564822  20.0  20.000  38.920  80.120  276.94\n",
      "12.0   311.0  69.721897  64.034278  20.0  24.275  50.690  89.595  596.77 \n",
      "Variance: 2964.511150067387\n",
      "Ultimate Users:\n",
      "        count       mean        std   min   25%   50%    75%     max\n",
      "month                                                              \n",
      "1.0      4.0  70.000000   0.000000  70.0  70.0  70.0  70.00   70.00\n",
      "2.0      6.0  70.000000   0.000000  70.0  70.0  70.0  70.00   70.00\n",
      "3.0     12.0  74.573333  12.669291  70.0  70.0  70.0  70.49  113.96\n",
      "4.0     21.0  73.186667  11.485625  70.0  70.0  70.0  70.00  120.96\n",
      "5.0     29.0  70.617931   2.973033  70.0  70.0  70.0  70.00   85.96\n",
      "6.0     45.0  71.642667   8.260884  70.0  70.0  70.0  70.00  120.96\n",
      "7.0     59.0  71.964746  10.578907  70.0  70.0  70.0  70.00  127.96\n",
      "8.0     71.0  73.024789  12.865350  70.0  70.0  70.0  70.00  141.96\n",
      "9.0     86.0  72.067442   8.865118  70.0  70.0  70.0  70.00  120.96\n",
      "10.0   105.0  72.378667  13.192332  70.0  70.0  70.0  70.00  183.96\n",
      "11.0   126.0  71.760000   9.806101  70.0  70.0  70.0  70.00  155.96\n",
      "12.0   149.0  73.198389  15.039280  70.0  70.0  70.0  70.00  183.96 \n",
      "Variance: 135.26490092039023\n",
      "All Users:\n",
      "        count       mean        std   min      25%     50%   75%     max\n",
      "month                                                                  \n",
      "1.0      6.0  53.333333  25.819889  20.0  32.5000  70.000  70.0   70.00\n",
      "2.0     15.0  49.678000  23.530633  20.0  24.7850  66.400  70.0   76.40\n",
      "3.0     35.0  56.055143  35.533089  20.0  20.0000  66.400  70.0  176.40\n",
      "4.0     71.0  50.440141  33.783173  20.0  20.0000  37.630  70.0  156.40\n",
      "5.0    104.0  55.289327  40.316354  20.0  20.0000  56.985  70.0  238.35\n",
      "6.0    141.0  56.712908  38.866369  20.0  20.6000  56.850  70.0  246.40\n",
      "7.0    179.0  66.696536  45.992543  20.0  26.4000  70.000  70.0  257.03\n",
      "8.0    230.0  67.730478  51.514176  20.0  26.4000  70.000  76.4  386.40\n",
      "9.0    277.0  62.192310  39.594313  20.0  26.4000  70.000  70.0  228.32\n",
      "10.0   337.0  67.427893  47.586180  20.0  27.2400  70.000  70.0  336.40\n",
      "11.0   403.0  62.405782  41.098648  20.0  23.6450  70.000  70.0  276.94\n",
      "12.0   460.0  70.847978  53.337677  20.0  36.5125  70.000  76.4  596.77 \n",
      "Variance: 2099.7693748548895\n"
     ]
    }
   ],
   "source": [
    "# descriptive statistics\n",
    "\n",
    "print('Surf Users:\\n', user[user['plan'] == 'surf'].groupby('month')['monthly_charge'].describe(),\n",
    "     '\\nVariance:', np.var(user[user['plan'] == 'surf']['monthly_charge']))\n",
    "\n",
    "print('Ultimate Users:\\n', user[user['plan'] == 'ultimate'].groupby('month')['monthly_charge'].describe(),\n",
    "     '\\nVariance:', np.var(user[user['plan'] == 'ultimate']['monthly_charge']))\n",
    "\n",
    "print('All Users:\\n', user.groupby('month')['monthly_charge'].describe(),\n",
    "     '\\nVariance:', np.var(user['monthly_charge']))"
   ]
  },
  {
   "cell_type": "markdown",
   "metadata": {},
   "source": [
    "The variance of the Surf users is extremely high, and their averages as the months go on show a shocking result. They have so many high-cost users that by December their mean price is \\\\$69.18, which is almost the same as the Ultimate plan's cost. Their median seems to stabilize at around \\\\$40-50, but their third quartile steadily increases. This is likely because we know that the Surf users have approximately the same rates of internet usage as Ultimate users. They only need to use 5GB past their 15GB limit to reach a \\\\$70 bill, after all.\n",
    "\n",
    "In comparison, the Ultimate users have quite a few high cost plans, often having averages that are higher than their \\\\$70 baseline, but in all months but March (12 observations, statistically irrelevant) they have their third quartile still at \\\\$70. Their mean values in all the months are still only a fraction of a standard deviation away from \\\\$70. They do have some users who are quite large price outliers, but their maximum values are nowhere near as expensive as the maximum prices of the Surf users, who usually are at least \\\\$100 larger.\n",
    "\n",
    "Since we have more Surf users in general, it is entirely possible that the Surf plan is more profitable for us. It cannot be said definitively, however. Since the average Surf user's plan is less expensive than the average Ultimate user, those extreme values might not be statistically significant.\n",
    "\n",
    "Is there a difference in the total revenue by month?"
   ]
  },
  {
   "cell_type": "markdown",
   "metadata": {},
   "source": [
    "#### Plot revenue by month"
   ]
  },
  {
   "cell_type": "code",
   "execution_count": 99,
   "metadata": {},
   "outputs": [
    {
     "data": {
      "image/png": "[encoded data removed]",
      "text/plain": [
       "<Figure size 432x288 with 1 Axes>"
      ]
     },
     "metadata": {
      "needs_background": "light"
     },
     "output_type": "display_data"
    }
   ],
   "source": [
    "# plot all data\n",
    "\n",
    "pt_user_charge = user.pivot_table(index = ['month', 'plan'], values = 'monthly_charge', aggfunc = ['sum', 'count'])\n",
    "pt_user_charge.columns = ['sum_charge', 'user_count']\n",
    "\n",
    "pt_user_charge.plot(\n",
    "    y = 'sum_charge', color = ('blue', 'lime'), kind = 'bar', \n",
    "    title = 'total revenue by month');"
   ]
  },
  {
   "cell_type": "markdown",
   "metadata": {},
   "source": [
    "Across all of our months we do see that our Surf users provide much larger revenue than our Ultimate users. However, we also should keep in mind that we have significantly more Surf users overall. It is possible that we could get higher returns if we convinced them to upgrade. "
   ]
  },
  {
   "cell_type": "code",
   "execution_count": 100,
   "metadata": {
    "scrolled": true
   },
   "outputs": [
    {
     "data": {
      "image/png": "[encoded data removed]",
      "text/plain": [
       "<Figure size 432x288 with 1 Axes>"
      ]
     },
     "metadata": {
      "needs_background": "light"
     },
     "output_type": "display_data"
    }
   ],
   "source": [
    "# plot average revenue\n",
    "\n",
    "pt_user_charge['avg_charge'] = pt_user_charge['sum_charge'] / pt_user_charge['user_count']\n",
    "pt_user_charge.plot(\n",
    "    y = 'avg_charge', color = ('blue', 'lime'), kind = 'bar', \n",
    "    title = 'average revenue by month', grid = True);"
   ]
  },
  {
   "cell_type": "markdown",
   "metadata": {},
   "source": [
    "The average revenue shows us a clear pattern, that aligns with what we can see above. More Surf users means that the average revenue will increase for them. They have a large enough variance in their internet usage that we can reliably assume that as the total number of Surf users increases, we will see them surpass the revenue gained through Ultimate users. However, the Ultimate users grant us more consistent revenue.\n",
    "\n",
    "By December, we have enough Surf users that there are many outlier values such that they will, on average, grant us better revenue. They have not been more profitable in 2018, but assuming we continue having Surf user growth in 2019 at a similar rate, they will, on average, get us better profits than the Ultimate users.\n",
    "\n",
    "There is a different situation that we may see, however. If we see these high-revenue Surf users upgrade to the Ultimate plan, then the average revenue gained by Surf users will start lowering. This could be seen as either good or bad, depending on the company goals. If we want the highest possible profits, it would probably be better if more people signed up to Surf plans. The pattern that we observe with the Surf users is that a moderate portion of them will spend more than \\\\$70 on their plan as a result of their data usage."
   ]
  },
  {
   "cell_type": "markdown",
   "metadata": {},
   "source": [
    "#### Box plot\n",
    "\n",
    "This is the data by month, but we can also get information by taking a box plot. Since we have observed that the calls, texts, and internet usage does not seem to change based purely on the month, aggregating all of the data together could give us more insight."
   ]
  },
  {
   "cell_type": "code",
   "execution_count": 101,
   "metadata": {},
   "outputs": [
    {
     "data": {
      "image/png": "[encoded data removed]",
      "text/plain": [
       "<Figure size 432x288 with 1 Axes>"
      ]
     },
     "metadata": {
      "needs_background": "light"
     },
     "output_type": "display_data"
    }
   ],
   "source": [
    "# box plot\n",
    "\n",
    "user.boxplot(column = 'monthly_charge', by = 'plan', widths = 0.7);\n",
    "plt.hlines(y=70, xmin=0.65, xmax=1.35, color='red')\n",
    "plt.text(1.35, 70, '$70', ha='left', va='center');"
   ]
  },
  {
   "cell_type": "markdown",
   "metadata": {},
   "source": [
    "<div class=\"alert alert-block alert-danger\">\n",
    "<b>Senior Reviewer's comment</b> <a class=\"tocSkip\"></a>\n",
    "    \n",
    "The Y axis is most unlucky\n",
    "</div>"
   ]
  },
  {
   "cell_type": "markdown",
   "metadata": {},
   "source": [
    "Based on the box plots as a whole, we see that any Ultimate user who isn't giving a result of \\\\$70 is considered an outlier, and of those users they seem fairly evenly distributed, but uncommon. The Surf users are mostly below \\\\$70, but there are quite a few, clearly over a quarter, who are spending over $70 on a month, with some going well over even the highest prices that Ultimate users are providing.\n",
    "\n",
    "Based on the analysis we did on the phone and text usage, we can determine that the overwhelming reason for this difference in profit is a result of internet use, which does not seem to have a significant difference based on the user. However, it is still useful for us to analyze all of our variables."
   ]
  },
  {
   "cell_type": "markdown",
   "metadata": {},
   "source": [
    " "
   ]
  },
  {
   "cell_type": "markdown",
   "metadata": {},
   "source": [
    "<div class=\"alert alert-success\">\n",
    "<h2> Reviewer's comment</h2>\n",
    "\n",
    "Great analysis and conclusion!\n",
    "</div>"
   ]
  },
  {
   "cell_type": "markdown",
   "metadata": {},
   "source": [
    "<div class=\"alert alert-block alert-success\">\n",
    "<b>Senior Reviewer's comment</b> <a class=\"tocSkip\"></a>\n",
    "    \n",
    "Agree\n",
    "</div>"
   ]
  },
  {
   "cell_type": "markdown",
   "metadata": {},
   "source": [
    "## Test statistical hypotheses"
   ]
  },
  {
   "cell_type": "markdown",
   "metadata": {},
   "source": [
    "We will make a null hypothesis that Surf users on average result in revenue that is more than or equal to the revenue of Ultimate users. The reason to choose this as a null hypothesis is that it can provide a very clear and logical plan for an upcoming business model of encouraging upgrading to Ultimate. Conversely, if we find that Surf users result in less revenue, then the focus should be on ensuring that we retain as many Surf users as possible.\n",
    "\n",
    "Firstly, we will perform an independent t-test. The reason we can perform an independent t-test is because the groups of \"Surf users\" and \"Ultimate users\" do not influence one another.\n",
    "\n",
    "We will use a standard 0.05 significance level."
   ]
  },
  {
   "cell_type": "markdown",
   "metadata": {},
   "source": [
    "<div class=\"alert alert-block alert-danger\">\n",
    "<b>Senior Reviewer's comment</b> <a class=\"tocSkip\"></a>\n",
    "    \n",
    "Please pay attention that there should be a statement about both hypotheses. And what about the null one, is it stated correctly? Please check it again\n",
    "</div>"
   ]
  },
  {
   "cell_type": "code",
   "execution_count": 102,
   "metadata": {},
   "outputs": [
    {
     "name": "stdout",
     "output_type": "stream",
     "text": [
      "Mean revenue for Surf users: 60.82946278317108 \n",
      "Mean revenue for Ultimate users: 72.3424964936886 \n",
      "\n",
      "One-sided P-Value: 1.953174011936708e-15\n",
      "We can't reject the null hypothesis\n"
     ]
    }
   ],
   "source": [
    "# test revenue difference\n",
    "\n",
    "alpha = 0.05\n",
    "\n",
    "test_one = st.ttest_ind(user[user['plan'] == 'surf']['monthly_charge'], \n",
    "                        user[user['plan'] == 'ultimate']['monthly_charge'], \n",
    "                        equal_var = False)\n",
    "\n",
    "print('Mean revenue for Surf users:', user[user['plan'] == 'surf']['monthly_charge'].mean(), \n",
    "      '\\nMean revenue for Ultimate users:', user[user['plan'] == 'ultimate']['monthly_charge'].mean(), '\\n')\n",
    "\n",
    "print(\"One-sided P-Value:\", test_one.pvalue/2)\n",
    "if test_one.pvalue < alpha and (user[user['plan'] == 'surf']['monthly_charge'].mean() \n",
    "                    > user[user['plan'] == 'ultimate']['monthly_charge'].mean()):\n",
    "    print(\"We reject the null hypothesis\")\n",
    "else:\n",
    "    print(\"We can't reject the null hypothesis\")"
   ]
  },
  {
   "cell_type": "markdown",
   "metadata": {},
   "source": [
    "What this hypothesis test tells us is that while we do have an extremely low p-value, indicating that the true means of both groups are different (and, as we see in printing said means, our observed means have Surf users overall having a lower mean than Ultimate users) that we cannot reject the null hypothesis. Thus, the test indicates that the revenue gained from Surf users is not greater than the revenue gained through Ultimate users.\n",
    "\n",
    "Even if some Surf users independently grant us extremely high revenue, as we could see in our box plot, most of the Surf users don't. Those outlier values are good for the company to have, but they aren't altering the overall Surf revenue to be significantly higher than Ultimate users.\n",
    "\n",
    "It we did a two-tailed test, it is worth noting that we would reject the null hypothesis. That is to say, the p-value is so incredibly low that we can be certain that not only are the means different, we also can say for certain in this case that the Surf users have a lower result.\n",
    "\n",
    "In brief: the guaranteed \\\\$70 Ultimate plan will, on average, earn the company more money than hoping for \\\\$20 Surf plan users going above their monthly limits. This can translate to a customer service policy. It would probably be for the best if we encouraged using the Ultimate plan. Most likely, someone using the Surf plan will not give our company greater revenue by going over their limits, and on a personal level they might get upset if they are blindsided by a bill as a result."
   ]
  },
  {
   "cell_type": "markdown",
   "metadata": {},
   "source": [
    "<div class=\"alert alert-success\">\n",
    "<h2> Reviewer's comment</h2>\n",
    "\n",
    "Great use of statistics\n",
    "</div>"
   ]
  },
  {
   "cell_type": "markdown",
   "metadata": {},
   "source": [
    "**Checking for difference in internet usage**\n",
    "\n",
    "Earlier, we sort of assumed based on our eyeballing that the internet use was the same regardless on the type of plan. We should do a second hypothesis test to prove it, though."
   ]
  },
  {
   "cell_type": "code",
   "execution_count": 103,
   "metadata": {},
   "outputs": [
    {
     "name": "stdout",
     "output_type": "stream",
     "text": [
      "Mean data for Surf users: 16.983171521035597 \n",
      "Mean data for Ultimate users: 17.784011220196355 \n",
      "\n",
      "P-value: 0.02345218288236901\n",
      "We reject the null hypothesis\n"
     ]
    }
   ],
   "source": [
    "# test internet usage difference\n",
    "\n",
    "test_two = st.ttest_ind(user[user['plan'] == 'surf']['gb_used'],\n",
    "                         user[user['plan'] == 'ultimate']['gb_used'],\n",
    "                         equal_var = False)\n",
    "\n",
    "print('Mean data for Surf users:', user[user['plan'] == 'surf']['gb_used'].mean(), \n",
    "      '\\nMean data for Ultimate users:', user[user['plan'] == 'ultimate']['gb_used'].mean(), '\\n')\n",
    "\n",
    "print('P-value:', test_two.pvalue)\n",
    "\n",
    "if (test_two.pvalue < alpha):\n",
    "    print(\"We reject the null hypothesis\")\n",
    "else:\n",
    "    print(\"We can't reject the null hypothesis\")"
   ]
  },
  {
   "cell_type": "markdown",
   "metadata": {},
   "source": [
    "<div class=\"alert alert-block alert-danger\">\n",
    "<b>Senior Reviewer's comment</b> <a class=\"tocSkip\"></a>\n",
    "    \n",
    "No hypotheses statement\n",
    "</div>"
   ]
  },
  {
   "cell_type": "markdown",
   "metadata": {},
   "source": [
    "Good thing we performed this test. It's just barely the case, but it does appear that there is a statistically significant difference in the mean internet data used between the two plans. If we used the other common alpha level of 0.01, we would have failed to reject, but it is wrong to change the alpha after performing analysis. This is just something that we are noting to point out that even as we reject our null hypothesis, the means are still rather similar.\n",
    "\n",
    "We won't be able to tell users that many people already would spend an extra \\\\$50 on internet in the first place, so upgrading is not a big deal. Or, we could tell them that, but it would be a lie."
   ]
  },
  {
   "cell_type": "markdown",
   "metadata": {},
   "source": [
    "<div class=\"alert alert-success\">\n",
    "<h2> Reviewer's comment</h2>\n",
    "\n",
    "Yes! Exactly this is why we must perform statistical tests\n",
    "</div>"
   ]
  },
  {
   "cell_type": "markdown",
   "metadata": {},
   "source": [
    "**NY-NJ Area**\n",
    "\n",
    "Another question posed in the report is if the revenue we average from users in the NY-NJ area is different from the users in other regions.\n"
   ]
  },
  {
   "cell_type": "code",
   "execution_count": 104,
   "metadata": {},
   "outputs": [
    {
     "name": "stdout",
     "output_type": "stream",
     "text": [
      "Mean revenue for NY-NJ area: 59.63366576819417 \n",
      "Mean revenue for other areas: 65.41474827768911 \n",
      "\n",
      "P-Value: 0.020584865918490406\n",
      "We reject the null hypothesis\n"
     ]
    }
   ],
   "source": [
    "# test the hypothesis\n",
    "\n",
    "test_three = st.ttest_ind(user[user['city'] == 'New York-Newark-Jersey City, NY-NJ-PA MSA']['monthly_charge'], \n",
    "                        user[user['city'] != 'New York-Newark-Jersey City, NY-NJ-PA MSA']['monthly_charge'], \n",
    "                        equal_var = False)\n",
    "\n",
    "print('Mean revenue for NY-NJ area:', user[user['city'] == 'New York-Newark-Jersey City, NY-NJ-PA MSA']['monthly_charge'].mean(), \n",
    "      '\\nMean revenue for other areas:', user[user['city'] != 'New York-Newark-Jersey City, NY-NJ-PA MSA']['monthly_charge'].mean(), '\\n')\n",
    "\n",
    "print(\"P-Value:\", test_three.pvalue)\n",
    "if test_three.pvalue < alpha:\n",
    "    print(\"We reject the null hypothesis\")\n",
    "else:\n",
    "    print(\"We can't reject the null hypothesis\")"
   ]
  },
  {
   "cell_type": "markdown",
   "metadata": {},
   "source": [
    "Rejecting the null hypothesis here, coupled with a look at the mean of the area being lower than the mean for other areas, tells us that our revenue per user in the NY-NJ area is significantly lower than it is in other areas."
   ]
  },
  {
   "cell_type": "markdown",
   "metadata": {},
   "source": [
    "<div class=\"alert alert-block alert-danger\">\n",
    "<b>Senior Reviewer's comment</b> <a class=\"tocSkip\"></a>\n",
    "    \n",
    "Same about hypotheses\n",
    "</div>"
   ]
  },
  {
   "cell_type": "markdown",
   "metadata": {},
   "source": [
    "<div class=\"alert alert-success\">\n",
    "<h2> Reviewer's comment</h2>\n",
    "\n",
    "Nice\n",
    "</div>"
   ]
  },
  {
   "cell_type": "markdown",
   "metadata": {},
   "source": [
    "## General conclusion\n",
    "\n",
    "To summarize the course of our analysis. First, we checked our data to ensure that everything was in order with no missing values or duplicated columns. We also added columns to the data set if they seemed to be areas we might need later. We aggregated the data from the 4 separate data sets of \"Users\", \"Calls\", \"Messages\" and \"Internet\" into a single data frame that showed the user's ID, plan, phone usage, text usage, and internet usage along with the prices associated with each of them, separated by month, and their city.\n",
    "\n",
    "We used this data set to create visualizations of the data to analyze if there was a difference in user's activity based on their data plan. This would give us potential places that might cause a difference in revenue. However, we found that for the categories observed, there was not a significant difference in their activity.\n",
    "\n",
    "Finally, we analyzed the two primary questions: What sort of impact a user's data plan has on our incoming revenue, and if the revenue for the NY-NJ area was different from that of other areas.\n",
    "\n",
    "We concluded that on average, Surf users do not provide a greater revenue than Ultimate users, in part because in terms of the greatest variable to impact price - the internet usage - they have a lower mean, and so an overall more profitable option would be to increase focus on gaining more Ultimate users. A good place to potentially start would be in the NY-NJ area, since in there we observe that revenue appears to be underperforming compared to the rest of the nation."
   ]
  },
  {
   "cell_type": "markdown",
   "metadata": {},
   "source": [
    "<div class=\"alert alert-success\">\n",
    "<h2> Reviewer's comment</h2>\n",
    "\n",
    "Overall, a very nice project.\n",
    "    \n",
    "I really enjoyed reading your code and project, everything was well documented and clear. It shows that you spent time and effort to submit the best version of your code. I really liked that you have used Markdown efficiently and that all the cells in your code are commented out to have a clear understanding of your goals with the code.\n",
    "    \n",
    "Your conclusions are supported and reasonable. Good use of statistical tests. Your explanation was clear and easy to follow. It is very helpful to have good documentation for your project, well done!\n",
    " \n",
    "You only had one warning comment (about double-checking other `user's id`) just for sanity.\n",
    "    \n",
    "Your project is accepted.\n",
    "   \n",
    "\n",
    "</div>"
   ]
  },
  {
   "cell_type": "markdown",
   "metadata": {},
   "source": [
    "<div class=\"alert alert-block alert-success\">\n",
    "<b>Senior Reviewer's Summary</b> <a class=\"tocSkip\"></a>\n",
    "    \n",
    "Well done job. Your comments are friendly, supportive and informative, your tips are detailed and useful. Your style is to be like a tutor and it is good style. Where might be points for improvement. Don't forget to pay more attention to details, many mistakes hide there. And good luck :)\n",
    "</div>"
   ]
  },
  {
   "cell_type": "code",
   "execution_count": null,
   "metadata": {},
   "outputs": [],
   "source": []
  }
 ],
 "metadata": {
  "ExecuteTimeLog": [
   {
    "duration": 828,
    "start_time": "2021-11-16T09:21:11.304Z"
   },
   {
    "duration": 893,
    "start_time": "2021-11-16T09:21:17.728Z"
   },
   {
    "duration": 1150,
    "start_time": "2021-11-16T09:21:29.568Z"
   },
   {
    "duration": 3,
    "start_time": "2021-11-16T09:24:14.495Z"
   },
   {
    "duration": 120,
    "start_time": "2021-11-16T09:24:46.630Z"
   },
   {
    "duration": 3,
    "start_time": "2021-11-16T09:28:27.882Z"
   },
   {
    "duration": 4,
    "start_time": "2021-11-16T09:29:54.281Z"
   },
   {
    "duration": 3,
    "start_time": "2021-11-16T09:30:45.936Z"
   },
   {
    "duration": 4,
    "start_time": "2021-11-16T09:31:06.300Z"
   },
   {
    "duration": 113,
    "start_time": "2021-11-16T09:31:37.208Z"
   },
   {
    "duration": 143,
    "start_time": "2021-11-16T09:31:48.656Z"
   },
   {
    "duration": 98,
    "start_time": "2021-11-16T09:31:55.678Z"
   },
   {
    "duration": 3,
    "start_time": "2021-11-16T09:32:08.535Z"
   },
   {
    "duration": 111,
    "start_time": "2021-11-16T09:32:10.120Z"
   },
   {
    "duration": 3,
    "start_time": "2021-11-16T09:32:15.732Z"
   },
   {
    "duration": 4,
    "start_time": "2021-11-16T09:32:29.423Z"
   },
   {
    "duration": 3,
    "start_time": "2021-11-16T10:03:03.074Z"
   },
   {
    "duration": 3,
    "start_time": "2021-11-16T10:10:01.288Z"
   },
   {
    "duration": 3,
    "start_time": "2021-11-16T10:10:46.923Z"
   },
   {
    "duration": 121,
    "start_time": "2021-11-16T10:37:46.494Z"
   },
   {
    "duration": 125,
    "start_time": "2021-11-16T10:38:20.632Z"
   },
   {
    "duration": 112,
    "start_time": "2021-11-16T10:46:53.001Z"
   },
   {
    "duration": 110,
    "start_time": "2021-11-16T10:48:25.775Z"
   },
   {
    "duration": 3,
    "start_time": "2021-11-16T10:50:18.720Z"
   },
   {
    "duration": 4,
    "start_time": "2021-11-16T10:50:37.649Z"
   },
   {
    "duration": 2,
    "start_time": "2021-11-16T10:50:51.884Z"
   },
   {
    "duration": 3,
    "start_time": "2021-11-16T10:51:56.237Z"
   },
   {
    "duration": 101,
    "start_time": "2021-11-16T10:53:13.791Z"
   },
   {
    "duration": 3,
    "start_time": "2021-11-16T10:55:59.186Z"
   },
   {
    "duration": 3,
    "start_time": "2021-11-16T10:56:10.751Z"
   },
   {
    "duration": 3,
    "start_time": "2021-11-16T10:56:49.038Z"
   },
   {
    "duration": 3,
    "start_time": "2021-11-16T10:56:49.174Z"
   },
   {
    "duration": 4,
    "start_time": "2021-11-16T10:56:49.414Z"
   },
   {
    "duration": 3,
    "start_time": "2021-11-16T10:56:49.680Z"
   },
   {
    "duration": 3,
    "start_time": "2021-11-16T10:56:50.370Z"
   },
   {
    "duration": 114,
    "start_time": "2021-11-16T10:59:34.518Z"
   },
   {
    "duration": 3,
    "start_time": "2021-11-16T11:01:41.201Z"
   },
   {
    "duration": 116,
    "start_time": "2021-11-16T11:01:48.754Z"
   },
   {
    "duration": 3,
    "start_time": "2021-11-16T11:02:16.685Z"
   },
   {
    "duration": 3,
    "start_time": "2021-11-16T11:02:19.479Z"
   },
   {
    "duration": 3,
    "start_time": "2021-11-16T11:02:47.067Z"
   },
   {
    "duration": 3,
    "start_time": "2021-11-16T11:02:49.353Z"
   },
   {
    "duration": 3,
    "start_time": "2021-11-16T11:03:07.835Z"
   },
   {
    "duration": 3,
    "start_time": "2021-11-16T11:03:07.953Z"
   },
   {
    "duration": 112,
    "start_time": "2021-11-16T11:07:52.072Z"
   },
   {
    "duration": 187,
    "start_time": "2021-11-16T11:09:23.468Z"
   },
   {
    "duration": 4,
    "start_time": "2021-11-16T11:10:01.455Z"
   },
   {
    "duration": 3,
    "start_time": "2021-11-16T11:10:05.069Z"
   },
   {
    "duration": 4,
    "start_time": "2021-11-16T11:10:13.376Z"
   },
   {
    "duration": 3,
    "start_time": "2021-11-16T11:10:14.434Z"
   },
   {
    "duration": 3,
    "start_time": "2021-11-16T11:10:22.853Z"
   },
   {
    "duration": 4,
    "start_time": "2021-11-16T11:27:29.279Z"
   },
   {
    "duration": 4,
    "start_time": "2021-11-16T11:29:08.919Z"
   },
   {
    "duration": 118,
    "start_time": "2021-11-16T11:29:46.703Z"
   },
   {
    "duration": 437,
    "start_time": "2021-11-16T11:36:02.181Z"
   },
   {
    "duration": 157,
    "start_time": "2021-11-16T11:36:14.388Z"
   },
   {
    "duration": 207,
    "start_time": "2021-11-16T11:47:15.898Z"
   },
   {
    "duration": 3,
    "start_time": "2021-11-16T11:53:52.092Z"
   },
   {
    "duration": 3,
    "start_time": "2021-11-16T11:53:52.236Z"
   },
   {
    "duration": 3,
    "start_time": "2021-11-16T11:59:12.005Z"
   },
   {
    "duration": 112,
    "start_time": "2021-11-16T12:00:33.446Z"
   },
   {
    "duration": 3,
    "start_time": "2021-11-16T12:02:14.453Z"
   },
   {
    "duration": 3,
    "start_time": "2021-11-16T12:02:39.512Z"
   },
   {
    "duration": 106,
    "start_time": "2021-11-16T12:03:03.460Z"
   },
   {
    "duration": 3,
    "start_time": "2021-11-17T20:37:21.139Z"
   },
   {
    "duration": 3,
    "start_time": "2021-11-17T20:37:22.229Z"
   },
   {
    "duration": 3,
    "start_time": "2021-11-17T20:38:38.806Z"
   },
   {
    "duration": 3,
    "start_time": "2021-11-17T20:38:41.958Z"
   },
   {
    "duration": 3,
    "start_time": "2021-11-17T20:43:46.551Z"
   },
   {
    "duration": 4,
    "start_time": "2021-11-17T20:58:21.835Z"
   },
   {
    "duration": 3,
    "start_time": "2021-11-17T20:59:21.872Z"
   },
   {
    "duration": 4,
    "start_time": "2021-11-17T20:59:45.352Z"
   },
   {
    "duration": 4,
    "start_time": "2021-11-17T20:59:49.646Z"
   },
   {
    "duration": 159,
    "start_time": "2021-11-17T21:02:26.949Z"
   },
   {
    "duration": 3,
    "start_time": "2021-11-17T21:03:53.461Z"
   },
   {
    "duration": 3,
    "start_time": "2021-11-17T21:03:53.694Z"
   },
   {
    "duration": 3,
    "start_time": "2021-11-17T21:05:28.145Z"
   },
   {
    "duration": 116,
    "start_time": "2021-11-17T21:05:57.787Z"
   },
   {
    "duration": 3,
    "start_time": "2021-11-17T21:06:37.993Z"
   },
   {
    "duration": 3,
    "start_time": "2021-11-17T21:06:38.261Z"
   },
   {
    "duration": 3,
    "start_time": "2021-11-17T21:11:54.358Z"
   },
   {
    "duration": 3,
    "start_time": "2021-11-17T21:12:43.846Z"
   },
   {
    "duration": 4,
    "start_time": "2021-11-17T21:13:08.773Z"
   },
   {
    "duration": 3,
    "start_time": "2021-11-17T21:14:44.441Z"
   },
   {
    "duration": 3,
    "start_time": "2021-11-17T21:15:42.059Z"
   },
   {
    "duration": 4,
    "start_time": "2021-11-17T21:15:51.995Z"
   },
   {
    "duration": 3,
    "start_time": "2021-11-17T21:15:53.923Z"
   },
   {
    "duration": 3,
    "start_time": "2021-11-17T21:15:55.282Z"
   },
   {
    "duration": 3,
    "start_time": "2021-11-17T21:16:28.492Z"
   },
   {
    "duration": 3,
    "start_time": "2021-11-17T21:16:32.603Z"
   },
   {
    "duration": 3,
    "start_time": "2021-11-17T21:17:06.941Z"
   },
   {
    "duration": 98,
    "start_time": "2021-11-17T21:18:05.733Z"
   },
   {
    "duration": 4,
    "start_time": "2021-11-17T21:21:35.255Z"
   },
   {
    "duration": 3,
    "start_time": "2021-11-17T21:21:37.804Z"
   },
   {
    "duration": 4,
    "start_time": "2021-11-17T21:23:06.071Z"
   },
   {
    "duration": 3,
    "start_time": "2021-11-17T21:23:24.799Z"
   },
   {
    "duration": 3,
    "start_time": "2021-11-17T21:23:32.591Z"
   },
   {
    "duration": 98,
    "start_time": "2021-11-17T21:28:31.559Z"
   },
   {
    "duration": 3,
    "start_time": "2021-11-17T21:28:45.448Z"
   },
   {
    "duration": 3,
    "start_time": "2021-11-17T21:29:17.303Z"
   },
   {
    "duration": 3,
    "start_time": "2021-11-17T21:29:29.617Z"
   },
   {
    "duration": 3,
    "start_time": "2021-11-17T21:29:32.681Z"
   },
   {
    "duration": 3,
    "start_time": "2021-11-17T21:36:11.474Z"
   },
   {
    "duration": 3,
    "start_time": "2021-11-17T21:36:14.791Z"
   },
   {
    "duration": 3,
    "start_time": "2021-11-17T21:36:53.943Z"
   },
   {
    "duration": 3,
    "start_time": "2021-11-17T21:36:56.165Z"
   },
   {
    "duration": 4,
    "start_time": "2021-11-17T21:37:16.590Z"
   },
   {
    "duration": 3,
    "start_time": "2021-11-17T21:37:22.702Z"
   },
   {
    "duration": 4,
    "start_time": "2021-11-17T21:38:03.479Z"
   },
   {
    "duration": 3,
    "start_time": "2021-11-17T21:38:08.601Z"
   },
   {
    "duration": 3,
    "start_time": "2021-11-17T21:38:12.928Z"
   },
   {
    "duration": 3,
    "start_time": "2021-11-17T21:38:48.896Z"
   },
   {
    "duration": 2,
    "start_time": "2021-11-17T21:38:49.171Z"
   },
   {
    "duration": 4,
    "start_time": "2021-11-17T21:39:57.889Z"
   },
   {
    "duration": 3,
    "start_time": "2021-11-17T21:39:58.057Z"
   },
   {
    "duration": 3,
    "start_time": "2021-11-17T21:41:20.108Z"
   },
   {
    "duration": 3,
    "start_time": "2021-11-17T21:41:20.629Z"
   },
   {
    "duration": 3,
    "start_time": "2021-11-17T21:42:49.136Z"
   },
   {
    "duration": 3,
    "start_time": "2021-11-17T21:43:15.137Z"
   },
   {
    "duration": 4,
    "start_time": "2021-11-17T21:43:16.766Z"
   },
   {
    "duration": 4,
    "start_time": "2021-11-17T21:43:31.711Z"
   },
   {
    "duration": 3,
    "start_time": "2021-11-17T21:43:36.312Z"
   },
   {
    "duration": 4,
    "start_time": "2021-11-17T21:45:08.825Z"
   },
   {
    "duration": 4,
    "start_time": "2021-11-17T21:45:10.119Z"
   },
   {
    "duration": 4,
    "start_time": "2021-11-17T21:45:13.748Z"
   },
   {
    "duration": 3,
    "start_time": "2021-11-17T21:45:22.219Z"
   },
   {
    "duration": 3,
    "start_time": "2021-11-17T21:45:33.412Z"
   },
   {
    "duration": 2,
    "start_time": "2021-11-17T21:46:01.885Z"
   },
   {
    "duration": 3,
    "start_time": "2021-11-17T21:46:03.628Z"
   },
   {
    "duration": 107,
    "start_time": "2021-11-17T21:47:32.512Z"
   },
   {
    "duration": 103,
    "start_time": "2021-11-17T21:50:36.243Z"
   },
   {
    "duration": 3,
    "start_time": "2021-11-18T06:28:31.440Z"
   },
   {
    "duration": 3,
    "start_time": "2021-11-18T06:29:00.168Z"
   },
   {
    "duration": 3,
    "start_time": "2021-11-18T06:31:27.008Z"
   },
   {
    "duration": 2,
    "start_time": "2021-11-18T06:35:34.288Z"
   },
   {
    "duration": 2,
    "start_time": "2021-11-18T06:38:04.527Z"
   },
   {
    "duration": 1831,
    "start_time": "2022-01-17T22:35:03.531Z"
   },
   {
    "duration": 1223,
    "start_time": "2022-01-17T22:35:09.119Z"
   },
   {
    "duration": 1018,
    "start_time": "2022-01-17T22:35:13.428Z"
   },
   {
    "duration": 15,
    "start_time": "2022-01-17T22:36:10.336Z"
   },
   {
    "duration": 13,
    "start_time": "2022-01-17T22:36:16.842Z"
   },
   {
    "duration": 18,
    "start_time": "2022-01-17T22:38:24.179Z"
   },
   {
    "duration": 7,
    "start_time": "2022-01-17T22:38:33.071Z"
   },
   {
    "duration": 10,
    "start_time": "2022-01-17T22:40:44.113Z"
   },
   {
    "duration": 7,
    "start_time": "2022-01-17T22:40:50.251Z"
   },
   {
    "duration": 5,
    "start_time": "2022-01-17T22:45:06.906Z"
   },
   {
    "duration": 8,
    "start_time": "2022-01-17T22:45:13.463Z"
   },
   {
    "duration": 6,
    "start_time": "2022-01-17T22:48:28.403Z"
   },
   {
    "duration": 10,
    "start_time": "2022-01-17T22:48:34.251Z"
   },
   {
    "duration": 6,
    "start_time": "2022-01-17T22:56:44.426Z"
   },
   {
    "duration": 7,
    "start_time": "2022-01-17T22:56:54.317Z"
   },
   {
    "duration": 9,
    "start_time": "2022-01-17T22:59:51.664Z"
   },
   {
    "duration": 6,
    "start_time": "2022-01-17T23:00:36.273Z"
   },
   {
    "duration": 9,
    "start_time": "2022-01-17T23:00:38.489Z"
   },
   {
    "duration": 8,
    "start_time": "2022-01-17T23:05:38.159Z"
   },
   {
    "duration": 3,
    "start_time": "2022-01-17T23:07:51.207Z"
   },
   {
    "duration": 343,
    "start_time": "2022-01-17T23:08:18.792Z"
   },
   {
    "duration": 374,
    "start_time": "2022-01-17T23:08:27.403Z"
   },
   {
    "duration": 353,
    "start_time": "2022-01-17T23:08:35.829Z"
   },
   {
    "duration": 315,
    "start_time": "2022-01-17T23:08:41.783Z"
   },
   {
    "duration": 461,
    "start_time": "2022-01-17T23:08:48.911Z"
   },
   {
    "duration": 336,
    "start_time": "2022-01-17T23:08:57.233Z"
   },
   {
    "duration": 545,
    "start_time": "2022-01-17T23:10:41.395Z"
   },
   {
    "duration": 396,
    "start_time": "2022-01-17T23:10:49.146Z"
   },
   {
    "duration": 337,
    "start_time": "2022-01-17T23:18:28.420Z"
   },
   {
    "duration": 8778,
    "start_time": "2022-01-17T23:18:38.444Z"
   },
   {
    "duration": 10,
    "start_time": "2022-01-17T23:18:53.767Z"
   },
   {
    "duration": 11,
    "start_time": "2022-01-17T23:19:04.142Z"
   },
   {
    "duration": 11,
    "start_time": "2022-01-17T23:19:22.667Z"
   },
   {
    "duration": 7,
    "start_time": "2022-01-17T23:19:47.039Z"
   },
   {
    "duration": 354,
    "start_time": "2022-01-17T23:19:52.312Z"
   },
   {
    "duration": 6,
    "start_time": "2022-01-17T23:19:59.882Z"
   },
   {
    "duration": 7,
    "start_time": "2022-01-17T23:21:02.066Z"
   },
   {
    "duration": 323,
    "start_time": "2022-01-17T23:21:14.476Z"
   },
   {
    "duration": 321,
    "start_time": "2022-01-17T23:21:19.748Z"
   },
   {
    "duration": 369,
    "start_time": "2022-01-17T23:21:23.799Z"
   },
   {
    "duration": 8,
    "start_time": "2022-01-17T23:21:28.639Z"
   },
   {
    "duration": 6,
    "start_time": "2022-01-17T23:21:50.475Z"
   },
   {
    "duration": 8,
    "start_time": "2022-01-17T23:22:03.028Z"
   },
   {
    "duration": 7,
    "start_time": "2022-01-17T23:22:14.591Z"
   },
   {
    "duration": 8,
    "start_time": "2022-01-17T23:22:29.266Z"
   },
   {
    "duration": 10,
    "start_time": "2022-01-17T23:24:10.250Z"
   },
   {
    "duration": 24,
    "start_time": "2022-01-17T23:27:06.772Z"
   },
   {
    "duration": 16,
    "start_time": "2022-01-17T23:27:10.053Z"
   },
   {
    "duration": 15,
    "start_time": "2022-01-17T23:27:30.860Z"
   },
   {
    "duration": 9,
    "start_time": "2022-01-17T23:27:31.649Z"
   },
   {
    "duration": 29,
    "start_time": "2022-01-17T23:28:53.782Z"
   },
   {
    "duration": 16,
    "start_time": "2022-01-17T23:30:26.532Z"
   },
   {
    "duration": 6,
    "start_time": "2022-01-17T23:32:08.940Z"
   },
   {
    "duration": 7,
    "start_time": "2022-01-17T23:32:21.743Z"
   },
   {
    "duration": 8,
    "start_time": "2022-01-17T23:32:34.977Z"
   },
   {
    "duration": 37,
    "start_time": "2022-01-17T23:32:52.437Z"
   },
   {
    "duration": 10,
    "start_time": "2022-01-17T23:33:54.567Z"
   },
   {
    "duration": 7,
    "start_time": "2022-01-17T23:34:13.743Z"
   },
   {
    "duration": 17,
    "start_time": "2022-01-17T23:36:46.800Z"
   },
   {
    "duration": 19,
    "start_time": "2022-01-17T23:37:23.080Z"
   },
   {
    "duration": 13,
    "start_time": "2022-01-17T23:38:43.294Z"
   },
   {
    "duration": 7,
    "start_time": "2022-01-17T23:38:47.653Z"
   },
   {
    "duration": 21,
    "start_time": "2022-01-17T23:41:39.511Z"
   },
   {
    "duration": 43,
    "start_time": "2022-01-17T23:43:14.437Z"
   },
   {
    "duration": 11,
    "start_time": "2022-01-17T23:44:00.501Z"
   },
   {
    "duration": 7,
    "start_time": "2022-01-17T23:44:22.623Z"
   },
   {
    "duration": 10,
    "start_time": "2022-01-17T23:44:37.754Z"
   },
   {
    "duration": 8,
    "start_time": "2022-01-17T23:44:42.508Z"
   },
   {
    "duration": 8,
    "start_time": "2022-01-17T23:44:51.077Z"
   },
   {
    "duration": 6,
    "start_time": "2022-01-17T23:44:57.768Z"
   },
   {
    "duration": 6,
    "start_time": "2022-01-17T23:45:13.890Z"
   },
   {
    "duration": 7,
    "start_time": "2022-01-17T23:45:17.665Z"
   },
   {
    "duration": 6,
    "start_time": "2022-01-17T23:45:28.379Z"
   },
   {
    "duration": 10,
    "start_time": "2022-01-17T23:45:34.222Z"
   },
   {
    "duration": 9,
    "start_time": "2022-01-17T23:46:46.753Z"
   },
   {
    "duration": 8,
    "start_time": "2022-01-17T23:47:26.846Z"
   },
   {
    "duration": 277,
    "start_time": "2022-01-17T23:47:34.591Z"
   },
   {
    "duration": 9,
    "start_time": "2022-01-17T23:47:46.418Z"
   },
   {
    "duration": 7,
    "start_time": "2022-01-17T23:47:52.730Z"
   },
   {
    "duration": 104,
    "start_time": "2022-01-17T23:48:02.379Z"
   },
   {
    "duration": 7,
    "start_time": "2022-01-17T23:48:22.515Z"
   },
   {
    "duration": 6,
    "start_time": "2022-01-17T23:48:44.537Z"
   },
   {
    "duration": 9,
    "start_time": "2022-01-17T23:49:02.518Z"
   },
   {
    "duration": 7,
    "start_time": "2022-01-17T23:49:13.437Z"
   },
   {
    "duration": 943,
    "start_time": "2022-01-17T23:49:52.113Z"
   },
   {
    "duration": 272,
    "start_time": "2022-01-17T23:49:53.058Z"
   },
   {
    "duration": 15,
    "start_time": "2022-01-17T23:49:53.332Z"
   },
   {
    "duration": 12,
    "start_time": "2022-01-17T23:49:53.348Z"
   },
   {
    "duration": 14,
    "start_time": "2022-01-17T23:49:53.361Z"
   },
   {
    "duration": 6,
    "start_time": "2022-01-17T23:49:53.377Z"
   },
   {
    "duration": 13,
    "start_time": "2022-01-17T23:49:53.384Z"
   },
   {
    "duration": 29,
    "start_time": "2022-01-17T23:49:53.399Z"
   },
   {
    "duration": 5,
    "start_time": "2022-01-17T23:49:53.429Z"
   },
   {
    "duration": 10,
    "start_time": "2022-01-17T23:49:53.436Z"
   },
   {
    "duration": 11,
    "start_time": "2022-01-17T23:49:53.447Z"
   },
   {
    "duration": 12,
    "start_time": "2022-01-17T23:49:53.460Z"
   },
   {
    "duration": 7,
    "start_time": "2022-01-17T23:49:53.473Z"
   },
   {
    "duration": 11,
    "start_time": "2022-01-17T23:49:53.481Z"
   },
   {
    "duration": 9,
    "start_time": "2022-01-17T23:49:53.493Z"
   },
   {
    "duration": 24,
    "start_time": "2022-01-17T23:49:53.503Z"
   },
   {
    "duration": 9,
    "start_time": "2022-01-17T23:49:53.528Z"
   },
   {
    "duration": 31,
    "start_time": "2022-01-17T23:49:53.538Z"
   },
   {
    "duration": 15,
    "start_time": "2022-01-17T23:49:53.570Z"
   },
   {
    "duration": 9,
    "start_time": "2022-01-17T23:49:53.586Z"
   },
   {
    "duration": 18,
    "start_time": "2022-01-17T23:49:53.596Z"
   },
   {
    "duration": 15,
    "start_time": "2022-01-17T23:49:53.615Z"
   },
   {
    "duration": 36,
    "start_time": "2022-01-17T23:49:53.633Z"
   },
   {
    "duration": 36,
    "start_time": "2022-01-17T23:49:53.670Z"
   },
   {
    "duration": 9,
    "start_time": "2022-01-17T23:49:53.707Z"
   },
   {
    "duration": 9,
    "start_time": "2022-01-17T23:49:53.718Z"
   },
   {
    "duration": 28,
    "start_time": "2022-01-17T23:49:53.729Z"
   },
   {
    "duration": 17,
    "start_time": "2022-01-17T23:49:53.759Z"
   },
   {
    "duration": 11,
    "start_time": "2022-01-17T23:49:53.777Z"
   },
   {
    "duration": 7,
    "start_time": "2022-01-17T23:49:53.789Z"
   },
   {
    "duration": 36,
    "start_time": "2022-01-17T23:49:53.797Z"
   },
   {
    "duration": 38,
    "start_time": "2022-01-17T23:49:53.835Z"
   },
   {
    "duration": 8,
    "start_time": "2022-01-17T23:50:57.906Z"
   },
   {
    "duration": 5,
    "start_time": "2022-01-17T23:57:35.053Z"
   },
   {
    "duration": 5,
    "start_time": "2022-01-17T23:57:40.468Z"
   },
   {
    "duration": 6,
    "start_time": "2022-01-17T23:57:47.815Z"
   },
   {
    "duration": 24,
    "start_time": "2022-01-18T00:15:15.052Z"
   },
   {
    "duration": 15,
    "start_time": "2022-01-18T00:15:50.029Z"
   },
   {
    "duration": 23,
    "start_time": "2022-01-18T00:15:57.576Z"
   },
   {
    "duration": 26,
    "start_time": "2022-01-18T00:18:00.413Z"
   },
   {
    "duration": 23,
    "start_time": "2022-01-18T00:18:11.815Z"
   },
   {
    "duration": 409,
    "start_time": "2022-01-18T00:18:22.399Z"
   },
   {
    "duration": 36,
    "start_time": "2022-01-18T00:18:28.722Z"
   },
   {
    "duration": 23,
    "start_time": "2022-01-18T00:18:51.798Z"
   },
   {
    "duration": 9,
    "start_time": "2022-01-18T00:19:03.950Z"
   },
   {
    "duration": 14,
    "start_time": "2022-01-18T00:20:55.891Z"
   },
   {
    "duration": 10,
    "start_time": "2022-01-18T00:21:15.882Z"
   },
   {
    "duration": 13,
    "start_time": "2022-01-18T00:21:19.245Z"
   },
   {
    "duration": 8,
    "start_time": "2022-01-18T00:22:15.276Z"
   },
   {
    "duration": 5,
    "start_time": "2022-01-18T00:25:07.054Z"
   },
   {
    "duration": 40,
    "start_time": "2022-01-18T00:25:22.843Z"
   },
   {
    "duration": 330,
    "start_time": "2022-01-18T00:27:16.430Z"
   },
   {
    "duration": 111,
    "start_time": "2022-01-18T00:27:31.560Z"
   },
   {
    "duration": 334,
    "start_time": "2022-01-18T00:27:34.743Z"
   },
   {
    "duration": 3,
    "start_time": "2022-01-18T00:27:56.641Z"
   },
   {
    "duration": 25834,
    "start_time": "2022-01-18T00:28:13.656Z"
   },
   {
    "duration": 1235,
    "start_time": "2022-01-18T00:28:38.258Z"
   },
   {
    "duration": 800,
    "start_time": "2022-01-18T00:28:52.299Z"
   },
   {
    "duration": 766,
    "start_time": "2022-01-18T00:29:04.375Z"
   },
   {
    "duration": 807,
    "start_time": "2022-01-18T00:29:13.982Z"
   },
   {
    "duration": 779,
    "start_time": "2022-01-18T00:29:21.911Z"
   },
   {
    "duration": 26791,
    "start_time": "2022-01-18T00:30:15.096Z"
   },
   {
    "duration": 87134,
    "start_time": "2022-01-18T00:30:41.889Z"
   },
   {
    "duration": 3,
    "start_time": "2022-01-18T00:34:56.220Z"
   },
   {
    "duration": 2682,
    "start_time": "2022-01-18T00:35:16.128Z"
   },
   {
    "duration": 4,
    "start_time": "2022-01-18T00:35:49.524Z"
   },
   {
    "duration": 11,
    "start_time": "2022-01-18T00:38:45.825Z"
   },
   {
    "duration": 18,
    "start_time": "2022-01-18T00:42:01.144Z"
   },
   {
    "duration": 869,
    "start_time": "2022-01-18T00:42:47.744Z"
   },
   {
    "duration": 24,
    "start_time": "2022-01-18T00:43:15.691Z"
   },
   {
    "duration": 81,
    "start_time": "2022-01-18T00:43:32.718Z"
   },
   {
    "duration": 11,
    "start_time": "2022-01-18T00:43:37.048Z"
   },
   {
    "duration": 19,
    "start_time": "2022-01-18T00:43:43.449Z"
   },
   {
    "duration": 16,
    "start_time": "2022-01-18T00:43:55.586Z"
   },
   {
    "duration": 19,
    "start_time": "2022-01-18T00:43:58.717Z"
   },
   {
    "duration": 319,
    "start_time": "2022-01-18T00:44:05.875Z"
   },
   {
    "duration": 22,
    "start_time": "2022-01-18T00:44:08.916Z"
   },
   {
    "duration": 16,
    "start_time": "2022-01-18T00:44:12.852Z"
   },
   {
    "duration": 345,
    "start_time": "2022-01-18T00:44:24.213Z"
   },
   {
    "duration": 19,
    "start_time": "2022-01-18T00:44:27.159Z"
   },
   {
    "duration": 426,
    "start_time": "2022-01-18T00:44:39.329Z"
   },
   {
    "duration": 321,
    "start_time": "2022-01-18T00:44:44.513Z"
   },
   {
    "duration": 321,
    "start_time": "2022-01-18T00:44:50.614Z"
   },
   {
    "duration": 6,
    "start_time": "2022-01-18T00:44:59.701Z"
   },
   {
    "duration": 19,
    "start_time": "2022-01-18T00:45:14.551Z"
   },
   {
    "duration": 329,
    "start_time": "2022-01-18T00:45:49.676Z"
   },
   {
    "duration": 19,
    "start_time": "2022-01-18T00:46:06.466Z"
   },
   {
    "duration": 18,
    "start_time": "2022-01-18T00:46:29.508Z"
   },
   {
    "duration": 6,
    "start_time": "2022-01-18T00:46:56.127Z"
   },
   {
    "duration": 340,
    "start_time": "2022-01-18T00:48:12.438Z"
   },
   {
    "duration": 8289,
    "start_time": "2022-01-18T00:49:53.860Z"
   },
   {
    "duration": 26,
    "start_time": "2022-01-18T00:50:50.876Z"
   },
   {
    "duration": 27,
    "start_time": "2022-01-18T00:51:11.301Z"
   },
   {
    "duration": 22,
    "start_time": "2022-01-18T00:51:14.631Z"
   },
   {
    "duration": 23,
    "start_time": "2022-01-18T00:51:29.820Z"
   },
   {
    "duration": 22,
    "start_time": "2022-01-18T00:51:34.524Z"
   },
   {
    "duration": 25,
    "start_time": "2022-01-18T00:51:45.094Z"
   },
   {
    "duration": 24,
    "start_time": "2022-01-18T00:51:55.519Z"
   },
   {
    "duration": 334,
    "start_time": "2022-01-18T00:52:43.607Z"
   },
   {
    "duration": 19,
    "start_time": "2022-01-18T00:52:57.122Z"
   },
   {
    "duration": 21,
    "start_time": "2022-01-18T00:53:09.459Z"
   },
   {
    "duration": 24,
    "start_time": "2022-01-18T00:53:13.573Z"
   },
   {
    "duration": 24,
    "start_time": "2022-01-18T00:53:21.374Z"
   },
   {
    "duration": 22,
    "start_time": "2022-01-18T00:53:26.662Z"
   },
   {
    "duration": 23,
    "start_time": "2022-01-18T00:53:30.366Z"
   },
   {
    "duration": 17,
    "start_time": "2022-01-18T00:53:39.295Z"
   },
   {
    "duration": 19,
    "start_time": "2022-01-18T00:53:46.096Z"
   },
   {
    "duration": 23,
    "start_time": "2022-01-18T00:54:01.594Z"
   },
   {
    "duration": 24,
    "start_time": "2022-01-18T00:54:06.644Z"
   },
   {
    "duration": 25,
    "start_time": "2022-01-18T00:54:11.254Z"
   },
   {
    "duration": 17,
    "start_time": "2022-01-18T00:54:17.476Z"
   },
   {
    "duration": 6,
    "start_time": "2022-01-18T00:55:37.740Z"
   },
   {
    "duration": 7,
    "start_time": "2022-01-18T00:56:22.834Z"
   },
   {
    "duration": 4919,
    "start_time": "2022-01-18T00:57:02.040Z"
   },
   {
    "duration": 914,
    "start_time": "2022-01-18T00:58:34.027Z"
   },
   {
    "duration": 8151,
    "start_time": "2022-01-18T00:58:48.808Z"
   },
   {
    "duration": 861,
    "start_time": "2022-01-18T00:59:02.738Z"
   },
   {
    "duration": 8267,
    "start_time": "2022-01-18T00:59:17.438Z"
   },
   {
    "duration": 19,
    "start_time": "2022-01-18T00:59:28.959Z"
   },
   {
    "duration": 18,
    "start_time": "2022-01-18T00:59:36.223Z"
   },
   {
    "duration": 328,
    "start_time": "2022-01-18T00:59:46.266Z"
   },
   {
    "duration": 18,
    "start_time": "2022-01-18T00:59:50.691Z"
   },
   {
    "duration": 20,
    "start_time": "2022-01-18T00:59:54.429Z"
   },
   {
    "duration": 17,
    "start_time": "2022-01-18T01:00:00.635Z"
   },
   {
    "duration": 9,
    "start_time": "2022-01-18T01:02:14.570Z"
   },
   {
    "duration": 7,
    "start_time": "2022-01-18T01:02:22.359Z"
   },
   {
    "duration": 203,
    "start_time": "2022-01-18T01:02:39.133Z"
   },
   {
    "duration": 21,
    "start_time": "2022-01-18T01:02:45.765Z"
   },
   {
    "duration": 19,
    "start_time": "2022-01-18T01:02:52.925Z"
   },
   {
    "duration": 8,
    "start_time": "2022-01-18T01:03:02.194Z"
   },
   {
    "duration": 11,
    "start_time": "2022-01-18T01:03:06.904Z"
   },
   {
    "duration": 4411,
    "start_time": "2022-01-18T01:03:28.475Z"
   },
   {
    "duration": 15,
    "start_time": "2022-01-18T01:03:40.897Z"
   },
   {
    "duration": 22,
    "start_time": "2022-01-18T01:04:10.924Z"
   },
   {
    "duration": 26,
    "start_time": "2022-01-18T01:04:15.500Z"
   },
   {
    "duration": 324,
    "start_time": "2022-01-18T01:04:31.727Z"
   },
   {
    "duration": 333,
    "start_time": "2022-01-18T01:04:35.448Z"
   },
   {
    "duration": 24,
    "start_time": "2022-01-18T01:04:53.362Z"
   },
   {
    "duration": 23,
    "start_time": "2022-01-18T01:04:58.148Z"
   },
   {
    "duration": 20,
    "start_time": "2022-01-18T01:05:48.858Z"
   },
   {
    "duration": 12,
    "start_time": "2022-01-18T01:06:03.365Z"
   },
   {
    "duration": 14,
    "start_time": "2022-01-18T01:06:07.252Z"
   },
   {
    "duration": 18,
    "start_time": "2022-01-18T01:06:09.543Z"
   },
   {
    "duration": 20,
    "start_time": "2022-01-18T01:06:26.394Z"
   },
   {
    "duration": 18,
    "start_time": "2022-01-18T01:06:36.883Z"
   },
   {
    "duration": 377,
    "start_time": "2022-01-18T01:06:43.747Z"
   },
   {
    "duration": 19,
    "start_time": "2022-01-18T01:06:46.532Z"
   },
   {
    "duration": 19,
    "start_time": "2022-01-18T01:06:50.999Z"
   },
   {
    "duration": 19,
    "start_time": "2022-01-18T01:07:11.592Z"
   },
   {
    "duration": 21,
    "start_time": "2022-01-18T01:07:20.360Z"
   },
   {
    "duration": 22,
    "start_time": "2022-01-18T01:07:24.241Z"
   },
   {
    "duration": 23,
    "start_time": "2022-01-18T01:07:40.332Z"
   },
   {
    "duration": 23,
    "start_time": "2022-01-18T01:07:49.549Z"
   },
   {
    "duration": 7,
    "start_time": "2022-01-18T01:09:09.547Z"
   },
   {
    "duration": 20,
    "start_time": "2022-01-18T01:09:15.611Z"
   },
   {
    "duration": 16,
    "start_time": "2022-01-18T01:10:19.846Z"
   },
   {
    "duration": 1049,
    "start_time": "2022-01-18T01:10:40.207Z"
   },
   {
    "duration": 287,
    "start_time": "2022-01-18T01:10:41.257Z"
   },
   {
    "duration": 14,
    "start_time": "2022-01-18T01:10:41.546Z"
   },
   {
    "duration": 12,
    "start_time": "2022-01-18T01:10:41.562Z"
   },
   {
    "duration": 11,
    "start_time": "2022-01-18T01:10:41.576Z"
   },
   {
    "duration": 6,
    "start_time": "2022-01-18T01:10:41.589Z"
   },
   {
    "duration": 12,
    "start_time": "2022-01-18T01:10:41.596Z"
   },
   {
    "duration": 18,
    "start_time": "2022-01-18T01:10:41.610Z"
   },
   {
    "duration": 5,
    "start_time": "2022-01-18T01:10:41.629Z"
   },
   {
    "duration": 10,
    "start_time": "2022-01-18T01:10:41.636Z"
   },
   {
    "duration": 7,
    "start_time": "2022-01-18T01:10:41.647Z"
   },
   {
    "duration": 9,
    "start_time": "2022-01-18T01:10:41.656Z"
   },
   {
    "duration": 5,
    "start_time": "2022-01-18T01:10:41.667Z"
   },
   {
    "duration": 9,
    "start_time": "2022-01-18T01:10:41.674Z"
   },
   {
    "duration": 6,
    "start_time": "2022-01-18T01:10:41.684Z"
   },
   {
    "duration": 9,
    "start_time": "2022-01-18T01:10:41.692Z"
   },
   {
    "duration": 6,
    "start_time": "2022-01-18T01:10:41.727Z"
   },
   {
    "duration": 7,
    "start_time": "2022-01-18T01:10:41.735Z"
   },
   {
    "duration": 9,
    "start_time": "2022-01-18T01:10:41.744Z"
   },
   {
    "duration": 7,
    "start_time": "2022-01-18T01:10:41.754Z"
   },
   {
    "duration": 5,
    "start_time": "2022-01-18T01:10:41.762Z"
   },
   {
    "duration": 15,
    "start_time": "2022-01-18T01:10:41.768Z"
   },
   {
    "duration": 7,
    "start_time": "2022-01-18T01:10:41.785Z"
   },
   {
    "duration": 58,
    "start_time": "2022-01-18T01:10:41.793Z"
   },
   {
    "duration": 36,
    "start_time": "2022-01-18T01:10:41.852Z"
   },
   {
    "duration": 9,
    "start_time": "2022-01-18T01:10:41.890Z"
   },
   {
    "duration": 30,
    "start_time": "2022-01-18T01:10:41.901Z"
   },
   {
    "duration": 16,
    "start_time": "2022-01-18T01:10:41.932Z"
   },
   {
    "duration": 17,
    "start_time": "2022-01-18T01:10:41.950Z"
   },
   {
    "duration": 11,
    "start_time": "2022-01-18T01:10:41.969Z"
   },
   {
    "duration": 9,
    "start_time": "2022-01-18T01:10:41.982Z"
   },
   {
    "duration": 43,
    "start_time": "2022-01-18T01:10:41.992Z"
   },
   {
    "duration": 44,
    "start_time": "2022-01-18T01:10:42.037Z"
   },
   {
    "duration": 7,
    "start_time": "2022-01-18T01:10:42.082Z"
   },
   {
    "duration": 37,
    "start_time": "2022-01-18T01:10:42.091Z"
   },
   {
    "duration": 10,
    "start_time": "2022-01-18T01:10:42.129Z"
   },
   {
    "duration": 16,
    "start_time": "2022-01-18T01:10:56.324Z"
   },
   {
    "duration": 7,
    "start_time": "2022-01-18T01:11:57.988Z"
   },
   {
    "duration": 15,
    "start_time": "2022-01-18T01:12:09.838Z"
   },
   {
    "duration": 16,
    "start_time": "2022-01-18T01:12:19.967Z"
   },
   {
    "duration": 16,
    "start_time": "2022-01-18T01:12:24.882Z"
   },
   {
    "duration": 7,
    "start_time": "2022-01-18T01:12:38.067Z"
   },
   {
    "duration": 17,
    "start_time": "2022-01-18T01:12:52.604Z"
   },
   {
    "duration": 16,
    "start_time": "2022-01-18T01:14:21.595Z"
   },
   {
    "duration": 14,
    "start_time": "2022-01-18T01:14:39.982Z"
   },
   {
    "duration": 17,
    "start_time": "2022-01-18T01:14:56.066Z"
   },
   {
    "duration": 19,
    "start_time": "2022-01-18T01:15:00.329Z"
   },
   {
    "duration": 17,
    "start_time": "2022-01-18T01:15:13.107Z"
   },
   {
    "duration": 12,
    "start_time": "2022-01-18T01:20:57.216Z"
   },
   {
    "duration": 11,
    "start_time": "2022-01-18T01:21:02.041Z"
   },
   {
    "duration": 10,
    "start_time": "2022-01-18T01:21:19.087Z"
   },
   {
    "duration": 12,
    "start_time": "2022-01-18T01:21:25.030Z"
   },
   {
    "duration": 9,
    "start_time": "2022-01-18T01:21:34.648Z"
   },
   {
    "duration": 395,
    "start_time": "2022-01-18T01:25:22.555Z"
   },
   {
    "duration": 333,
    "start_time": "2022-01-18T01:25:42.807Z"
   },
   {
    "duration": 3,
    "start_time": "2022-01-18T01:26:28.949Z"
   },
   {
    "duration": 391,
    "start_time": "2022-01-18T01:26:40.025Z"
   },
   {
    "duration": 339,
    "start_time": "2022-01-18T01:26:51.364Z"
   },
   {
    "duration": 358,
    "start_time": "2022-01-18T01:28:05.477Z"
   },
   {
    "duration": 323,
    "start_time": "2022-01-18T01:28:15.706Z"
   },
   {
    "duration": 319,
    "start_time": "2022-01-18T01:28:22.128Z"
   },
   {
    "duration": 12,
    "start_time": "2022-01-18T01:30:54.588Z"
   },
   {
    "duration": 13,
    "start_time": "2022-01-18T01:34:08.430Z"
   },
   {
    "duration": 355,
    "start_time": "2022-01-18T01:34:22.880Z"
   },
   {
    "duration": 337,
    "start_time": "2022-01-18T01:34:39.476Z"
   },
   {
    "duration": 1613,
    "start_time": "2022-01-18T01:35:07.673Z"
   },
   {
    "duration": 11,
    "start_time": "2022-01-18T01:35:50.358Z"
   },
   {
    "duration": 740,
    "start_time": "2022-01-18T01:35:57.488Z"
   },
   {
    "duration": 9,
    "start_time": "2022-01-18T01:36:03.434Z"
   },
   {
    "duration": 15,
    "start_time": "2022-01-18T01:37:14.841Z"
   },
   {
    "duration": 12,
    "start_time": "2022-01-18T01:37:18.037Z"
   },
   {
    "duration": 12,
    "start_time": "2022-01-18T01:37:30.022Z"
   },
   {
    "duration": 11,
    "start_time": "2022-01-18T01:42:40.128Z"
   },
   {
    "duration": 22,
    "start_time": "2022-01-18T01:44:11.151Z"
   },
   {
    "duration": 9163,
    "start_time": "2022-01-18T01:45:24.081Z"
   },
   {
    "duration": 27,
    "start_time": "2022-01-18T01:45:37.996Z"
   },
   {
    "duration": 16,
    "start_time": "2022-01-18T01:53:15.366Z"
   },
   {
    "duration": 12,
    "start_time": "2022-01-18T01:53:30.959Z"
   },
   {
    "duration": 11,
    "start_time": "2022-01-18T02:18:48.663Z"
   },
   {
    "duration": 24,
    "start_time": "2022-01-18T02:19:24.364Z"
   },
   {
    "duration": 19,
    "start_time": "2022-01-18T02:19:30.127Z"
   },
   {
    "duration": 27,
    "start_time": "2022-01-18T02:20:17.047Z"
   },
   {
    "duration": 22,
    "start_time": "2022-01-18T02:21:06.076Z"
   },
   {
    "duration": 29,
    "start_time": "2022-01-18T02:21:11.461Z"
   },
   {
    "duration": 13,
    "start_time": "2022-01-18T02:26:09.559Z"
   },
   {
    "duration": 20,
    "start_time": "2022-01-18T02:26:15.860Z"
   },
   {
    "duration": 33,
    "start_time": "2022-01-18T02:26:24.920Z"
   },
   {
    "duration": 11,
    "start_time": "2022-01-18T02:26:40.234Z"
   },
   {
    "duration": 358,
    "start_time": "2022-01-18T02:26:50.756Z"
   },
   {
    "duration": 10,
    "start_time": "2022-01-18T02:27:07.798Z"
   },
   {
    "duration": 11,
    "start_time": "2022-01-18T02:27:17.575Z"
   },
   {
    "duration": 10,
    "start_time": "2022-01-18T02:28:25.705Z"
   },
   {
    "duration": 11,
    "start_time": "2022-01-18T02:28:29.427Z"
   },
   {
    "duration": 27,
    "start_time": "2022-01-18T02:29:42.479Z"
   },
   {
    "duration": 24,
    "start_time": "2022-01-18T02:30:02.419Z"
   },
   {
    "duration": 21,
    "start_time": "2022-01-18T02:30:24.413Z"
   },
   {
    "duration": 17,
    "start_time": "2022-01-18T02:30:29.950Z"
   },
   {
    "duration": 16,
    "start_time": "2022-01-18T02:30:36.534Z"
   },
   {
    "duration": 10,
    "start_time": "2022-01-18T02:30:40.257Z"
   },
   {
    "duration": 23,
    "start_time": "2022-01-18T02:30:43.224Z"
   },
   {
    "duration": 11,
    "start_time": "2022-01-18T02:30:48.233Z"
   },
   {
    "duration": 19,
    "start_time": "2022-01-18T02:30:54.729Z"
   },
   {
    "duration": 22,
    "start_time": "2022-01-18T02:32:15.289Z"
   },
   {
    "duration": 23,
    "start_time": "2022-01-18T02:33:23.916Z"
   },
   {
    "duration": 18,
    "start_time": "2022-01-18T02:37:03.444Z"
   },
   {
    "duration": 12,
    "start_time": "2022-01-18T02:37:43.090Z"
   },
   {
    "duration": 10,
    "start_time": "2022-01-18T02:37:48.255Z"
   },
   {
    "duration": 17,
    "start_time": "2022-01-18T02:52:18.893Z"
   },
   {
    "duration": 12,
    "start_time": "2022-01-18T02:52:24.182Z"
   },
   {
    "duration": 15,
    "start_time": "2022-01-18T02:53:03.509Z"
   },
   {
    "duration": 10,
    "start_time": "2022-01-18T02:53:08.744Z"
   },
   {
    "duration": 34,
    "start_time": "2022-01-18T02:53:31.641Z"
   },
   {
    "duration": 9,
    "start_time": "2022-01-18T02:53:48.203Z"
   },
   {
    "duration": 28,
    "start_time": "2022-01-18T02:58:42.482Z"
   },
   {
    "duration": 43,
    "start_time": "2022-01-18T02:58:54.103Z"
   },
   {
    "duration": 18,
    "start_time": "2022-01-18T03:00:31.101Z"
   },
   {
    "duration": 22,
    "start_time": "2022-01-18T03:00:36.936Z"
   },
   {
    "duration": 22,
    "start_time": "2022-01-18T03:01:30.021Z"
   },
   {
    "duration": 31,
    "start_time": "2022-01-18T03:01:45.111Z"
   },
   {
    "duration": 23,
    "start_time": "2022-01-18T03:04:51.255Z"
   },
   {
    "duration": 11,
    "start_time": "2022-01-18T03:05:20.427Z"
   },
   {
    "duration": 17,
    "start_time": "2022-01-18T03:05:55.819Z"
   },
   {
    "duration": 17,
    "start_time": "2022-01-18T03:06:27.669Z"
   },
   {
    "duration": 16,
    "start_time": "2022-01-18T03:06:37.111Z"
   },
   {
    "duration": 327,
    "start_time": "2022-01-18T03:06:59.641Z"
   },
   {
    "duration": 20,
    "start_time": "2022-01-18T03:07:05.027Z"
   },
   {
    "duration": 18,
    "start_time": "2022-01-18T03:07:41.682Z"
   },
   {
    "duration": 14,
    "start_time": "2022-01-18T03:07:48.519Z"
   },
   {
    "duration": 21,
    "start_time": "2022-01-18T03:08:00.443Z"
   },
   {
    "duration": 352,
    "start_time": "2022-01-18T03:08:33.229Z"
   },
   {
    "duration": 52,
    "start_time": "2022-01-18T03:08:54.844Z"
   },
   {
    "duration": 53,
    "start_time": "2022-01-18T03:09:03.741Z"
   },
   {
    "duration": 13,
    "start_time": "2022-01-18T03:09:31.954Z"
   },
   {
    "duration": 394,
    "start_time": "2022-01-18T03:09:50.237Z"
   },
   {
    "duration": 328,
    "start_time": "2022-01-18T03:09:55.852Z"
   },
   {
    "duration": 331,
    "start_time": "2022-01-18T03:10:00.143Z"
   },
   {
    "duration": 1900,
    "start_time": "2022-01-18T03:10:05.447Z"
   },
   {
    "duration": 16,
    "start_time": "2022-01-18T03:10:11.384Z"
   },
   {
    "duration": 6,
    "start_time": "2022-01-18T03:10:26.636Z"
   },
   {
    "duration": 17,
    "start_time": "2022-01-18T03:10:33.377Z"
   },
   {
    "duration": 5,
    "start_time": "2022-01-18T03:11:51.096Z"
   },
   {
    "duration": 11,
    "start_time": "2022-01-18T03:11:54.191Z"
   },
   {
    "duration": 34,
    "start_time": "2022-01-18T03:12:11.371Z"
   },
   {
    "duration": 17,
    "start_time": "2022-01-18T03:12:21.116Z"
   },
   {
    "duration": 15,
    "start_time": "2022-01-18T03:12:32.767Z"
   },
   {
    "duration": 15,
    "start_time": "2022-01-18T03:12:52.104Z"
   },
   {
    "duration": 15,
    "start_time": "2022-01-18T03:12:56.985Z"
   },
   {
    "duration": 17,
    "start_time": "2022-01-18T03:13:08.174Z"
   },
   {
    "duration": 18,
    "start_time": "2022-01-18T03:13:22.870Z"
   },
   {
    "duration": 336,
    "start_time": "2022-01-18T03:14:50.907Z"
   },
   {
    "duration": 18,
    "start_time": "2022-01-18T03:14:53.318Z"
   },
   {
    "duration": 17,
    "start_time": "2022-01-18T03:15:28.242Z"
   },
   {
    "duration": 34,
    "start_time": "2022-01-18T03:16:34.940Z"
   },
   {
    "duration": 19,
    "start_time": "2022-01-18T03:16:43.439Z"
   },
   {
    "duration": 34,
    "start_time": "2022-01-18T03:18:30.440Z"
   },
   {
    "duration": 21,
    "start_time": "2022-01-18T03:18:35.040Z"
   },
   {
    "duration": 33,
    "start_time": "2022-01-18T03:19:07.301Z"
   },
   {
    "duration": 4,
    "start_time": "2022-01-18T03:19:33.024Z"
   },
   {
    "duration": 19,
    "start_time": "2022-01-18T03:19:59.343Z"
   },
   {
    "duration": 29,
    "start_time": "2022-01-18T03:22:26.941Z"
   },
   {
    "duration": 16,
    "start_time": "2022-01-18T03:24:15.797Z"
   },
   {
    "duration": 21,
    "start_time": "2022-01-18T03:25:18.096Z"
   },
   {
    "duration": 21,
    "start_time": "2022-01-18T03:26:03.406Z"
   },
   {
    "duration": 21,
    "start_time": "2022-01-18T03:26:40.903Z"
   },
   {
    "duration": 22,
    "start_time": "2022-01-18T03:26:51.846Z"
   },
   {
    "duration": 15,
    "start_time": "2022-01-18T03:27:51.059Z"
   },
   {
    "duration": 11,
    "start_time": "2022-01-18T03:28:30.312Z"
   },
   {
    "duration": 8,
    "start_time": "2022-01-18T03:28:40.801Z"
   },
   {
    "duration": 8,
    "start_time": "2022-01-18T03:28:49.570Z"
   },
   {
    "duration": 19,
    "start_time": "2022-01-18T03:29:04.876Z"
   },
   {
    "duration": 26,
    "start_time": "2022-01-18T03:29:12.349Z"
   },
   {
    "duration": 21,
    "start_time": "2022-01-18T03:29:16.023Z"
   },
   {
    "duration": 16,
    "start_time": "2022-01-18T03:29:34.496Z"
   },
   {
    "duration": 23,
    "start_time": "2022-01-18T03:30:01.589Z"
   },
   {
    "duration": 22,
    "start_time": "2022-01-18T03:31:16.552Z"
   },
   {
    "duration": 16,
    "start_time": "2022-01-18T03:31:21.096Z"
   },
   {
    "duration": 25,
    "start_time": "2022-01-18T03:33:06.994Z"
   },
   {
    "duration": 16,
    "start_time": "2022-01-18T03:33:13.100Z"
   },
   {
    "duration": 21,
    "start_time": "2022-01-18T03:34:32.793Z"
   },
   {
    "duration": 23,
    "start_time": "2022-01-18T03:34:40.921Z"
   },
   {
    "duration": 22,
    "start_time": "2022-01-18T03:37:08.753Z"
   },
   {
    "duration": 22,
    "start_time": "2022-01-18T03:38:59.082Z"
   },
   {
    "duration": 26,
    "start_time": "2022-01-18T03:39:04.059Z"
   },
   {
    "duration": 19,
    "start_time": "2022-01-18T03:39:24.128Z"
   },
   {
    "duration": 21,
    "start_time": "2022-01-18T03:39:32.647Z"
   },
   {
    "duration": 65,
    "start_time": "2022-01-18T03:40:23.991Z"
   },
   {
    "duration": 23,
    "start_time": "2022-01-18T03:40:26.401Z"
   },
   {
    "duration": 8428,
    "start_time": "2022-01-18T03:40:30.369Z"
   },
   {
    "duration": 23,
    "start_time": "2022-01-18T03:40:46.187Z"
   },
   {
    "duration": 24,
    "start_time": "2022-01-18T03:42:33.363Z"
   },
   {
    "duration": 24,
    "start_time": "2022-01-18T03:42:36.102Z"
   },
   {
    "duration": 24,
    "start_time": "2022-01-18T03:42:48.354Z"
   },
   {
    "duration": 602,
    "start_time": "2022-01-18T03:44:27.349Z"
   },
   {
    "duration": 22,
    "start_time": "2022-01-18T03:44:43.394Z"
   },
   {
    "duration": 26,
    "start_time": "2022-01-18T03:44:47.345Z"
   },
   {
    "duration": 26,
    "start_time": "2022-01-18T03:44:52.379Z"
   },
   {
    "duration": 27,
    "start_time": "2022-01-18T03:45:26.782Z"
   },
   {
    "duration": 21,
    "start_time": "2022-01-18T03:45:32.017Z"
   },
   {
    "duration": 106,
    "start_time": "2022-01-18T03:46:22.711Z"
   },
   {
    "duration": 32,
    "start_time": "2022-01-18T03:46:27.177Z"
   },
   {
    "duration": 27,
    "start_time": "2022-01-18T03:46:33.758Z"
   },
   {
    "duration": 25,
    "start_time": "2022-01-18T03:46:48.077Z"
   },
   {
    "duration": 36,
    "start_time": "2022-01-18T03:46:52.820Z"
   },
   {
    "duration": 24,
    "start_time": "2022-01-18T03:46:58.998Z"
   },
   {
    "duration": 20,
    "start_time": "2022-01-18T03:47:19.097Z"
   },
   {
    "duration": 20,
    "start_time": "2022-01-18T03:47:28.388Z"
   },
   {
    "duration": 20,
    "start_time": "2022-01-18T03:47:36.859Z"
   },
   {
    "duration": 26,
    "start_time": "2022-01-18T03:47:40.940Z"
   },
   {
    "duration": 21,
    "start_time": "2022-01-18T03:47:46.382Z"
   },
   {
    "duration": 20,
    "start_time": "2022-01-18T03:49:50.091Z"
   },
   {
    "duration": 465,
    "start_time": "2022-01-18T03:49:57.218Z"
   },
   {
    "duration": 19,
    "start_time": "2022-01-18T03:50:02.028Z"
   },
   {
    "duration": 23,
    "start_time": "2022-01-18T03:50:11.317Z"
   },
   {
    "duration": 18,
    "start_time": "2022-01-18T03:50:22.439Z"
   },
   {
    "duration": 21,
    "start_time": "2022-01-18T03:50:30.113Z"
   },
   {
    "duration": 22,
    "start_time": "2022-01-18T03:51:27.399Z"
   },
   {
    "duration": 26,
    "start_time": "2022-01-18T03:51:29.754Z"
   },
   {
    "duration": 18,
    "start_time": "2022-01-18T03:51:42.802Z"
   },
   {
    "duration": 21,
    "start_time": "2022-01-18T03:51:47.428Z"
   },
   {
    "duration": 19,
    "start_time": "2022-01-18T03:51:53.065Z"
   },
   {
    "duration": 23,
    "start_time": "2022-01-18T03:51:58.791Z"
   },
   {
    "duration": 26,
    "start_time": "2022-01-18T03:52:02.221Z"
   },
   {
    "duration": 18,
    "start_time": "2022-01-18T03:52:18.209Z"
   },
   {
    "duration": 24,
    "start_time": "2022-01-18T03:52:23.072Z"
   },
   {
    "duration": 21,
    "start_time": "2022-01-18T03:52:28.428Z"
   },
   {
    "duration": 23,
    "start_time": "2022-01-18T03:52:31.453Z"
   },
   {
    "duration": 23,
    "start_time": "2022-01-18T03:52:37.243Z"
   },
   {
    "duration": 333,
    "start_time": "2022-01-18T03:55:20.534Z"
   },
   {
    "duration": 30,
    "start_time": "2022-01-18T03:56:00.698Z"
   },
   {
    "duration": 25,
    "start_time": "2022-01-18T03:56:25.503Z"
   },
   {
    "duration": 16,
    "start_time": "2022-01-18T03:56:29.497Z"
   },
   {
    "duration": 25,
    "start_time": "2022-01-18T03:56:43.307Z"
   },
   {
    "duration": 22,
    "start_time": "2022-01-18T03:57:02.471Z"
   },
   {
    "duration": 28,
    "start_time": "2022-01-18T04:10:15.499Z"
   },
   {
    "duration": 18,
    "start_time": "2022-01-18T04:10:46.321Z"
   },
   {
    "duration": 18,
    "start_time": "2022-01-18T04:12:29.537Z"
   },
   {
    "duration": 20,
    "start_time": "2022-01-18T04:12:32.544Z"
   },
   {
    "duration": 8,
    "start_time": "2022-01-18T04:12:39.090Z"
   },
   {
    "duration": 21,
    "start_time": "2022-01-18T04:12:50.337Z"
   },
   {
    "duration": 18,
    "start_time": "2022-01-18T04:13:03.449Z"
   },
   {
    "duration": 20,
    "start_time": "2022-01-18T04:14:08.152Z"
   },
   {
    "duration": 21,
    "start_time": "2022-01-18T04:14:10.745Z"
   },
   {
    "duration": 21,
    "start_time": "2022-01-18T04:14:16.217Z"
   },
   {
    "duration": 25,
    "start_time": "2022-01-18T04:16:08.146Z"
   },
   {
    "duration": 30,
    "start_time": "2022-01-18T04:16:24.215Z"
   },
   {
    "duration": 327,
    "start_time": "2022-01-18T04:19:46.246Z"
   },
   {
    "duration": 27,
    "start_time": "2022-01-18T04:19:50.892Z"
   },
   {
    "duration": 34,
    "start_time": "2022-01-18T04:20:29.266Z"
   },
   {
    "duration": 43,
    "start_time": "2022-01-18T04:20:58.401Z"
   },
   {
    "duration": 323,
    "start_time": "2022-01-18T04:21:35.782Z"
   },
   {
    "duration": 321,
    "start_time": "2022-01-18T04:24:31.256Z"
   },
   {
    "duration": 23,
    "start_time": "2022-01-18T04:24:37.811Z"
   },
   {
    "duration": 31,
    "start_time": "2022-01-18T04:24:54.917Z"
   },
   {
    "duration": 27,
    "start_time": "2022-01-18T04:25:03.943Z"
   },
   {
    "duration": 32,
    "start_time": "2022-01-18T04:25:18.096Z"
   },
   {
    "duration": 32,
    "start_time": "2022-01-18T04:25:29.389Z"
   },
   {
    "duration": 45,
    "start_time": "2022-01-18T04:25:51.974Z"
   },
   {
    "duration": 47,
    "start_time": "2022-01-18T04:25:58.505Z"
   },
   {
    "duration": 59,
    "start_time": "2022-01-18T04:26:07.490Z"
   },
   {
    "duration": 136,
    "start_time": "2022-01-18T04:26:22.172Z"
   },
   {
    "duration": 61,
    "start_time": "2022-01-18T04:26:26.131Z"
   },
   {
    "duration": 63,
    "start_time": "2022-01-18T04:26:30.934Z"
   },
   {
    "duration": 40,
    "start_time": "2022-01-18T04:26:54.378Z"
   },
   {
    "duration": 18,
    "start_time": "2022-01-18T04:27:38.606Z"
   },
   {
    "duration": 17,
    "start_time": "2022-01-18T04:27:42.272Z"
   },
   {
    "duration": 21,
    "start_time": "2022-01-18T04:27:53.571Z"
   },
   {
    "duration": 20,
    "start_time": "2022-01-18T04:27:56.426Z"
   },
   {
    "duration": 15,
    "start_time": "2022-01-18T04:27:59.332Z"
   },
   {
    "duration": 19,
    "start_time": "2022-01-18T04:28:06.942Z"
   },
   {
    "duration": 23,
    "start_time": "2022-01-18T04:28:15.445Z"
   },
   {
    "duration": 16,
    "start_time": "2022-01-18T04:28:17.454Z"
   },
   {
    "duration": 15,
    "start_time": "2022-01-18T04:28:25.398Z"
   },
   {
    "duration": 7,
    "start_time": "2022-01-18T04:28:35.554Z"
   },
   {
    "duration": 6,
    "start_time": "2022-01-18T04:28:48.458Z"
   },
   {
    "duration": 359,
    "start_time": "2022-01-18T04:28:54.837Z"
   },
   {
    "duration": 319,
    "start_time": "2022-01-18T04:29:03.676Z"
   },
   {
    "duration": 7,
    "start_time": "2022-01-18T04:29:07.470Z"
   },
   {
    "duration": 10,
    "start_time": "2022-01-18T04:29:10.949Z"
   },
   {
    "duration": 15,
    "start_time": "2022-01-18T04:29:22.966Z"
   },
   {
    "duration": 25,
    "start_time": "2022-01-18T04:29:41.099Z"
   },
   {
    "duration": 22,
    "start_time": "2022-01-18T04:29:44.707Z"
   },
   {
    "duration": 5,
    "start_time": "2022-01-18T04:30:15.768Z"
   },
   {
    "duration": 6,
    "start_time": "2022-01-18T04:30:20.562Z"
   },
   {
    "duration": 18,
    "start_time": "2022-01-18T04:30:47.480Z"
   },
   {
    "duration": 14,
    "start_time": "2022-01-18T04:32:44.568Z"
   },
   {
    "duration": 12,
    "start_time": "2022-01-18T04:33:13.845Z"
   },
   {
    "duration": 12,
    "start_time": "2022-01-18T04:33:29.064Z"
   },
   {
    "duration": 11,
    "start_time": "2022-01-18T04:33:38.321Z"
   },
   {
    "duration": 12,
    "start_time": "2022-01-18T04:33:42.759Z"
   },
   {
    "duration": 11,
    "start_time": "2022-01-18T04:33:55.411Z"
   },
   {
    "duration": 11,
    "start_time": "2022-01-18T04:34:08.389Z"
   },
   {
    "duration": 14,
    "start_time": "2022-01-18T04:34:21.080Z"
   },
   {
    "duration": 14,
    "start_time": "2022-01-18T04:34:32.984Z"
   },
   {
    "duration": 19,
    "start_time": "2022-01-18T04:35:07.543Z"
   },
   {
    "duration": 7,
    "start_time": "2022-01-18T04:36:14.498Z"
   },
   {
    "duration": 17,
    "start_time": "2022-01-18T04:36:44.052Z"
   },
   {
    "duration": 6,
    "start_time": "2022-01-18T04:37:02.832Z"
   },
   {
    "duration": 6,
    "start_time": "2022-01-18T04:37:13.456Z"
   },
   {
    "duration": 6,
    "start_time": "2022-01-18T04:37:20.843Z"
   },
   {
    "duration": 6,
    "start_time": "2022-01-18T04:37:37.553Z"
   },
   {
    "duration": 5,
    "start_time": "2022-01-18T04:38:29.567Z"
   },
   {
    "duration": 4,
    "start_time": "2022-01-18T04:38:48.442Z"
   },
   {
    "duration": 10,
    "start_time": "2022-01-18T04:39:07.236Z"
   },
   {
    "duration": 6,
    "start_time": "2022-01-18T04:39:11.421Z"
   },
   {
    "duration": 318,
    "start_time": "2022-01-18T04:40:06.003Z"
   },
   {
    "duration": 317,
    "start_time": "2022-01-18T04:40:29.563Z"
   },
   {
    "duration": 345,
    "start_time": "2022-01-18T04:40:33.410Z"
   },
   {
    "duration": 5,
    "start_time": "2022-01-18T04:40:43.795Z"
   },
   {
    "duration": 17,
    "start_time": "2022-01-18T04:40:59.790Z"
   },
   {
    "duration": -93,
    "start_time": "2022-01-18T04:41:10.506Z"
   },
   {
    "duration": 17,
    "start_time": "2022-01-18T04:41:12.095Z"
   },
   {
    "duration": 438,
    "start_time": "2022-01-18T04:41:52.608Z"
   },
   {
    "duration": 16,
    "start_time": "2022-01-18T04:41:57.704Z"
   },
   {
    "duration": 6,
    "start_time": "2022-01-18T04:42:58.320Z"
   },
   {
    "duration": 17,
    "start_time": "2022-01-18T04:44:00.936Z"
   },
   {
    "duration": 18,
    "start_time": "2022-01-18T04:44:05.340Z"
   },
   {
    "duration": 7,
    "start_time": "2022-01-18T04:45:24.639Z"
   },
   {
    "duration": 17,
    "start_time": "2022-01-18T04:47:48.422Z"
   },
   {
    "duration": 5,
    "start_time": "2022-01-18T04:48:02.914Z"
   },
   {
    "duration": 4,
    "start_time": "2022-01-18T04:48:09.609Z"
   },
   {
    "duration": 350,
    "start_time": "2022-01-18T04:48:12.721Z"
   },
   {
    "duration": 5,
    "start_time": "2022-01-18T04:48:16.099Z"
   },
   {
    "duration": 110,
    "start_time": "2022-01-18T04:48:24.741Z"
   },
   {
    "duration": 7,
    "start_time": "2022-01-18T04:48:29.325Z"
   },
   {
    "duration": 10,
    "start_time": "2022-01-18T04:50:53.853Z"
   },
   {
    "duration": 10,
    "start_time": "2022-01-18T04:51:19.233Z"
   },
   {
    "duration": 104,
    "start_time": "2022-01-18T04:51:28.419Z"
   },
   {
    "duration": 11,
    "start_time": "2022-01-18T04:51:30.713Z"
   },
   {
    "duration": 371,
    "start_time": "2022-01-18T04:52:27.650Z"
   },
   {
    "duration": 31,
    "start_time": "2022-01-18T04:53:10.866Z"
   },
   {
    "duration": 121,
    "start_time": "2022-01-18T04:54:05.875Z"
   },
   {
    "duration": 23,
    "start_time": "2022-01-18T04:54:14.188Z"
   },
   {
    "duration": 21,
    "start_time": "2022-01-18T04:54:19.100Z"
   },
   {
    "duration": 30,
    "start_time": "2022-01-18T04:54:32.143Z"
   },
   {
    "duration": 28,
    "start_time": "2022-01-18T04:55:15.630Z"
   },
   {
    "duration": 22,
    "start_time": "2022-01-18T04:55:33.303Z"
   },
   {
    "duration": 21,
    "start_time": "2022-01-18T04:55:35.905Z"
   },
   {
    "duration": 21,
    "start_time": "2022-01-18T04:55:41.833Z"
   },
   {
    "duration": 22,
    "start_time": "2022-01-18T04:55:45.099Z"
   },
   {
    "duration": 380,
    "start_time": "2022-01-18T04:56:19.736Z"
   },
   {
    "duration": 364,
    "start_time": "2022-01-18T04:56:35.463Z"
   },
   {
    "duration": 360,
    "start_time": "2022-01-18T04:56:59.605Z"
   },
   {
    "duration": 428,
    "start_time": "2022-01-18T04:57:15.329Z"
   },
   {
    "duration": 447,
    "start_time": "2022-01-18T04:57:19.506Z"
   },
   {
    "duration": 561,
    "start_time": "2022-01-18T04:58:48.566Z"
   },
   {
    "duration": 395,
    "start_time": "2022-01-18T04:59:20.037Z"
   },
   {
    "duration": 920,
    "start_time": "2022-01-18T04:59:53.632Z"
   },
   {
    "duration": 315,
    "start_time": "2022-01-18T04:59:54.553Z"
   },
   {
    "duration": 22,
    "start_time": "2022-01-18T04:59:54.869Z"
   },
   {
    "duration": 14,
    "start_time": "2022-01-18T04:59:54.892Z"
   },
   {
    "duration": 15,
    "start_time": "2022-01-18T04:59:54.908Z"
   },
   {
    "duration": 8,
    "start_time": "2022-01-18T04:59:54.925Z"
   },
   {
    "duration": 13,
    "start_time": "2022-01-18T04:59:54.934Z"
   },
   {
    "duration": 7,
    "start_time": "2022-01-18T04:59:54.950Z"
   },
   {
    "duration": 6,
    "start_time": "2022-01-18T04:59:54.959Z"
   },
   {
    "duration": 10,
    "start_time": "2022-01-18T04:59:54.967Z"
   },
   {
    "duration": 9,
    "start_time": "2022-01-18T04:59:54.979Z"
   },
   {
    "duration": 38,
    "start_time": "2022-01-18T04:59:54.990Z"
   },
   {
    "duration": 11,
    "start_time": "2022-01-18T04:59:55.030Z"
   },
   {
    "duration": 13,
    "start_time": "2022-01-18T04:59:55.042Z"
   },
   {
    "duration": 14,
    "start_time": "2022-01-18T04:59:55.057Z"
   },
   {
    "duration": 4,
    "start_time": "2022-01-18T04:59:55.073Z"
   },
   {
    "duration": 18,
    "start_time": "2022-01-18T04:59:55.079Z"
   },
   {
    "duration": 11,
    "start_time": "2022-01-18T04:59:55.098Z"
   },
   {
    "duration": 20,
    "start_time": "2022-01-18T04:59:55.110Z"
   },
   {
    "duration": 12,
    "start_time": "2022-01-18T04:59:55.131Z"
   },
   {
    "duration": 9,
    "start_time": "2022-01-18T04:59:55.144Z"
   },
   {
    "duration": 7,
    "start_time": "2022-01-18T04:59:55.155Z"
   },
   {
    "duration": 15,
    "start_time": "2022-01-18T04:59:55.165Z"
   },
   {
    "duration": 7,
    "start_time": "2022-01-18T04:59:55.181Z"
   },
   {
    "duration": 49,
    "start_time": "2022-01-18T04:59:55.189Z"
   },
   {
    "duration": 27,
    "start_time": "2022-01-18T04:59:55.240Z"
   },
   {
    "duration": 36,
    "start_time": "2022-01-18T04:59:55.268Z"
   },
   {
    "duration": 26,
    "start_time": "2022-01-18T04:59:55.305Z"
   },
   {
    "duration": 43,
    "start_time": "2022-01-18T04:59:55.332Z"
   },
   {
    "duration": 10,
    "start_time": "2022-01-18T04:59:55.376Z"
   },
   {
    "duration": 10,
    "start_time": "2022-01-18T04:59:55.388Z"
   },
   {
    "duration": 39,
    "start_time": "2022-01-18T04:59:55.399Z"
   },
   {
    "duration": 16,
    "start_time": "2022-01-18T04:59:55.439Z"
   },
   {
    "duration": 19,
    "start_time": "2022-01-18T04:59:55.457Z"
   },
   {
    "duration": 20,
    "start_time": "2022-01-18T04:59:55.478Z"
   },
   {
    "duration": 32,
    "start_time": "2022-01-18T04:59:55.499Z"
   },
   {
    "duration": 8,
    "start_time": "2022-01-18T04:59:55.533Z"
   },
   {
    "duration": 22,
    "start_time": "2022-01-18T04:59:55.542Z"
   },
   {
    "duration": 24,
    "start_time": "2022-01-18T04:59:55.566Z"
   },
   {
    "duration": 53,
    "start_time": "2022-01-18T04:59:55.591Z"
   },
   {
    "duration": 42,
    "start_time": "2022-01-18T04:59:55.646Z"
   },
   {
    "duration": 7,
    "start_time": "2022-01-18T04:59:55.689Z"
   },
   {
    "duration": 55,
    "start_time": "2022-01-18T04:59:55.698Z"
   },
   {
    "duration": 14,
    "start_time": "2022-01-18T04:59:55.754Z"
   },
   {
    "duration": 19,
    "start_time": "2022-01-18T04:59:55.769Z"
   },
   {
    "duration": 43,
    "start_time": "2022-01-18T04:59:55.789Z"
   },
   {
    "duration": 8805,
    "start_time": "2022-01-18T04:59:55.834Z"
   },
   {
    "duration": -283,
    "start_time": "2022-01-18T05:00:04.924Z"
   },
   {
    "duration": -285,
    "start_time": "2022-01-18T05:00:04.927Z"
   },
   {
    "duration": -291,
    "start_time": "2022-01-18T05:00:04.934Z"
   },
   {
    "duration": -293,
    "start_time": "2022-01-18T05:00:04.937Z"
   },
   {
    "duration": -299,
    "start_time": "2022-01-18T05:00:04.944Z"
   },
   {
    "duration": -306,
    "start_time": "2022-01-18T05:00:04.951Z"
   },
   {
    "duration": -308,
    "start_time": "2022-01-18T05:00:04.954Z"
   },
   {
    "duration": -314,
    "start_time": "2022-01-18T05:00:04.961Z"
   },
   {
    "duration": -320,
    "start_time": "2022-01-18T05:00:04.968Z"
   },
   {
    "duration": -328,
    "start_time": "2022-01-18T05:00:04.976Z"
   },
   {
    "duration": -330,
    "start_time": "2022-01-18T05:00:04.979Z"
   },
   {
    "duration": -336,
    "start_time": "2022-01-18T05:00:04.986Z"
   },
   {
    "duration": -342,
    "start_time": "2022-01-18T05:00:04.993Z"
   },
   {
    "duration": -349,
    "start_time": "2022-01-18T05:00:05.000Z"
   },
   {
    "duration": -351,
    "start_time": "2022-01-18T05:00:05.003Z"
   },
   {
    "duration": -353,
    "start_time": "2022-01-18T05:00:05.006Z"
   },
   {
    "duration": -356,
    "start_time": "2022-01-18T05:00:05.009Z"
   },
   {
    "duration": 28,
    "start_time": "2022-01-18T05:00:19.318Z"
   },
   {
    "duration": 16,
    "start_time": "2022-01-18T05:00:22.183Z"
   },
   {
    "duration": 21,
    "start_time": "2022-01-18T05:00:23.158Z"
   },
   {
    "duration": 21,
    "start_time": "2022-01-18T05:00:27.776Z"
   },
   {
    "duration": 15,
    "start_time": "2022-01-18T05:00:29.434Z"
   },
   {
    "duration": 25,
    "start_time": "2022-01-18T05:00:36.746Z"
   },
   {
    "duration": 16,
    "start_time": "2022-01-18T05:00:39.736Z"
   },
   {
    "duration": 19,
    "start_time": "2022-01-18T05:00:39.928Z"
   },
   {
    "duration": 22,
    "start_time": "2022-01-18T05:00:42.571Z"
   },
   {
    "duration": 16,
    "start_time": "2022-01-18T05:00:44.035Z"
   },
   {
    "duration": 21,
    "start_time": "2022-01-18T05:00:47.571Z"
   },
   {
    "duration": 16,
    "start_time": "2022-01-18T05:00:49.941Z"
   },
   {
    "duration": 26,
    "start_time": "2022-01-18T05:00:51.012Z"
   },
   {
    "duration": 22,
    "start_time": "2022-01-18T05:00:51.866Z"
   },
   {
    "duration": 19,
    "start_time": "2022-01-18T05:00:55.860Z"
   },
   {
    "duration": 7,
    "start_time": "2022-01-18T05:00:58.845Z"
   },
   {
    "duration": 380,
    "start_time": "2022-01-18T05:01:00.582Z"
   },
   {
    "duration": 108,
    "start_time": "2022-01-18T05:03:24.965Z"
   },
   {
    "duration": 2656,
    "start_time": "2022-01-18T05:03:28.478Z"
   },
   {
    "duration": 4,
    "start_time": "2022-01-18T05:04:14.052Z"
   },
   {
    "duration": 17,
    "start_time": "2022-01-18T05:04:17.868Z"
   },
   {
    "duration": 22,
    "start_time": "2022-01-18T05:04:32.417Z"
   },
   {
    "duration": 969,
    "start_time": "2022-01-18T16:28:47.439Z"
   },
   {
    "duration": 316,
    "start_time": "2022-01-18T16:28:48.409Z"
   },
   {
    "duration": 15,
    "start_time": "2022-01-18T16:28:48.727Z"
   },
   {
    "duration": 12,
    "start_time": "2022-01-18T16:28:48.743Z"
   },
   {
    "duration": 12,
    "start_time": "2022-01-18T16:28:48.756Z"
   },
   {
    "duration": 6,
    "start_time": "2022-01-18T16:28:48.770Z"
   },
   {
    "duration": 11,
    "start_time": "2022-01-18T16:28:48.777Z"
   },
   {
    "duration": 5,
    "start_time": "2022-01-18T16:28:48.790Z"
   },
   {
    "duration": 6,
    "start_time": "2022-01-18T16:28:48.797Z"
   },
   {
    "duration": 8,
    "start_time": "2022-01-18T16:28:48.805Z"
   },
   {
    "duration": 6,
    "start_time": "2022-01-18T16:28:48.814Z"
   },
   {
    "duration": 13,
    "start_time": "2022-01-18T16:28:48.822Z"
   },
   {
    "duration": 37,
    "start_time": "2022-01-18T16:28:48.836Z"
   },
   {
    "duration": 9,
    "start_time": "2022-01-18T16:28:48.875Z"
   },
   {
    "duration": 14,
    "start_time": "2022-01-18T16:28:48.885Z"
   },
   {
    "duration": 5,
    "start_time": "2022-01-18T16:28:48.901Z"
   },
   {
    "duration": 11,
    "start_time": "2022-01-18T16:28:48.908Z"
   },
   {
    "duration": 10,
    "start_time": "2022-01-18T16:28:48.921Z"
   },
   {
    "duration": 9,
    "start_time": "2022-01-18T16:28:48.933Z"
   },
   {
    "duration": 34,
    "start_time": "2022-01-18T16:28:48.944Z"
   },
   {
    "duration": 8,
    "start_time": "2022-01-18T16:28:48.980Z"
   },
   {
    "duration": 5,
    "start_time": "2022-01-18T16:28:48.990Z"
   },
   {
    "duration": 18,
    "start_time": "2022-01-18T16:28:48.997Z"
   },
   {
    "duration": 8,
    "start_time": "2022-01-18T16:28:49.017Z"
   },
   {
    "duration": 59,
    "start_time": "2022-01-18T16:28:49.026Z"
   },
   {
    "duration": 30,
    "start_time": "2022-01-18T16:28:49.087Z"
   },
   {
    "duration": 54,
    "start_time": "2022-01-18T16:28:49.122Z"
   },
   {
    "duration": 10,
    "start_time": "2022-01-18T16:28:49.178Z"
   },
   {
    "duration": 43,
    "start_time": "2022-01-18T16:28:49.189Z"
   },
   {
    "duration": 10,
    "start_time": "2022-01-18T16:28:49.234Z"
   },
   {
    "duration": 30,
    "start_time": "2022-01-18T16:28:49.246Z"
   },
   {
    "duration": 15,
    "start_time": "2022-01-18T16:28:49.278Z"
   },
   {
    "duration": 16,
    "start_time": "2022-01-18T16:28:49.295Z"
   },
   {
    "duration": 18,
    "start_time": "2022-01-18T16:28:49.312Z"
   },
   {
    "duration": 40,
    "start_time": "2022-01-18T16:28:49.331Z"
   },
   {
    "duration": 13,
    "start_time": "2022-01-18T16:28:49.373Z"
   },
   {
    "duration": 6,
    "start_time": "2022-01-18T16:28:49.387Z"
   },
   {
    "duration": 20,
    "start_time": "2022-01-18T16:28:49.394Z"
   },
   {
    "duration": 22,
    "start_time": "2022-01-18T16:28:49.415Z"
   },
   {
    "duration": 59,
    "start_time": "2022-01-18T16:28:49.439Z"
   },
   {
    "duration": 43,
    "start_time": "2022-01-18T16:28:49.499Z"
   },
   {
    "duration": 8,
    "start_time": "2022-01-18T16:28:49.544Z"
   },
   {
    "duration": 55,
    "start_time": "2022-01-18T16:28:49.554Z"
   },
   {
    "duration": 15,
    "start_time": "2022-01-18T16:28:49.611Z"
   },
   {
    "duration": 18,
    "start_time": "2022-01-18T16:28:49.627Z"
   },
   {
    "duration": 38,
    "start_time": "2022-01-18T16:28:49.646Z"
   },
   {
    "duration": 26,
    "start_time": "2022-01-18T16:28:49.685Z"
   },
   {
    "duration": 14,
    "start_time": "2022-01-18T16:28:49.713Z"
   },
   {
    "duration": 44,
    "start_time": "2022-01-18T16:28:49.729Z"
   },
   {
    "duration": 19,
    "start_time": "2022-01-18T16:28:49.775Z"
   },
   {
    "duration": 13,
    "start_time": "2022-01-18T16:28:49.796Z"
   },
   {
    "duration": 23,
    "start_time": "2022-01-18T16:28:49.810Z"
   },
   {
    "duration": 39,
    "start_time": "2022-01-18T16:28:49.834Z"
   },
   {
    "duration": 18,
    "start_time": "2022-01-18T16:28:49.874Z"
   },
   {
    "duration": 21,
    "start_time": "2022-01-18T16:28:49.894Z"
   },
   {
    "duration": 15,
    "start_time": "2022-01-18T16:28:49.916Z"
   },
   {
    "duration": 47,
    "start_time": "2022-01-18T16:28:49.932Z"
   },
   {
    "duration": 15,
    "start_time": "2022-01-18T16:28:49.981Z"
   },
   {
    "duration": 25,
    "start_time": "2022-01-18T16:28:49.997Z"
   },
   {
    "duration": 22,
    "start_time": "2022-01-18T16:28:50.023Z"
   },
   {
    "duration": 40,
    "start_time": "2022-01-18T16:28:50.047Z"
   },
   {
    "duration": 8,
    "start_time": "2022-01-18T16:29:31.537Z"
   },
   {
    "duration": 7,
    "start_time": "2022-01-18T16:31:46.369Z"
   },
   {
    "duration": 6,
    "start_time": "2022-01-18T16:31:59.102Z"
   },
   {
    "duration": 20,
    "start_time": "2022-01-18T16:32:42.218Z"
   },
   {
    "duration": 29,
    "start_time": "2022-01-18T16:32:58.693Z"
   },
   {
    "duration": 191,
    "start_time": "2022-01-18T16:34:58.098Z"
   },
   {
    "duration": 37,
    "start_time": "2022-01-18T16:35:10.225Z"
   },
   {
    "duration": 40,
    "start_time": "2022-01-18T16:35:22.192Z"
   },
   {
    "duration": 8,
    "start_time": "2022-01-18T16:36:32.997Z"
   },
   {
    "duration": 475,
    "start_time": "2022-01-18T16:36:44.683Z"
   },
   {
    "duration": 8,
    "start_time": "2022-01-18T16:36:54.753Z"
   },
   {
    "duration": 10,
    "start_time": "2022-01-18T16:37:01.161Z"
   },
   {
    "duration": 105,
    "start_time": "2022-01-18T16:38:20.982Z"
   },
   {
    "duration": 8,
    "start_time": "2022-01-18T16:39:59.525Z"
   },
   {
    "duration": 23,
    "start_time": "2022-01-18T16:40:25.149Z"
   },
   {
    "duration": 1202,
    "start_time": "2022-01-18T16:40:36.316Z"
   },
   {
    "duration": 7,
    "start_time": "2022-01-18T16:40:46.931Z"
   },
   {
    "duration": 6,
    "start_time": "2022-01-18T16:40:56.358Z"
   },
   {
    "duration": 8,
    "start_time": "2022-01-18T16:41:00.976Z"
   },
   {
    "duration": 7,
    "start_time": "2022-01-18T16:41:17.466Z"
   },
   {
    "duration": 8,
    "start_time": "2022-01-18T16:41:22.034Z"
   },
   {
    "duration": 6,
    "start_time": "2022-01-18T16:41:28.723Z"
   },
   {
    "duration": 6,
    "start_time": "2022-01-18T16:41:37.878Z"
   },
   {
    "duration": 7,
    "start_time": "2022-01-18T16:41:53.919Z"
   },
   {
    "duration": 6,
    "start_time": "2022-01-18T16:43:27.646Z"
   },
   {
    "duration": 6,
    "start_time": "2022-01-18T16:43:36.599Z"
   },
   {
    "duration": 8,
    "start_time": "2022-01-18T16:43:48.417Z"
   },
   {
    "duration": 5004,
    "start_time": "2022-01-18T16:44:07.246Z"
   },
   {
    "duration": 6,
    "start_time": "2022-01-18T16:45:12.480Z"
   },
   {
    "duration": 312,
    "start_time": "2022-01-18T16:47:13.922Z"
   },
   {
    "duration": 7,
    "start_time": "2022-01-18T16:47:18.691Z"
   },
   {
    "duration": 299,
    "start_time": "2022-01-18T16:47:31.917Z"
   },
   {
    "duration": 312,
    "start_time": "2022-01-18T16:47:48.466Z"
   },
   {
    "duration": 9,
    "start_time": "2022-01-18T16:48:17.149Z"
   },
   {
    "duration": 6,
    "start_time": "2022-01-18T16:48:35.656Z"
   },
   {
    "duration": 15,
    "start_time": "2022-01-18T16:49:31.457Z"
   },
   {
    "duration": 16,
    "start_time": "2022-01-18T16:49:44.897Z"
   },
   {
    "duration": 17,
    "start_time": "2022-01-18T16:50:02.327Z"
   },
   {
    "duration": 390,
    "start_time": "2022-01-18T16:50:19.671Z"
   },
   {
    "duration": 9,
    "start_time": "2022-01-18T16:50:29.921Z"
   },
   {
    "duration": 16,
    "start_time": "2022-01-18T16:50:40.012Z"
   },
   {
    "duration": 366,
    "start_time": "2022-01-18T16:51:04.438Z"
   },
   {
    "duration": 16,
    "start_time": "2022-01-18T16:51:17.352Z"
   },
   {
    "duration": 17,
    "start_time": "2022-01-18T16:51:25.634Z"
   },
   {
    "duration": 17,
    "start_time": "2022-01-18T16:51:50.406Z"
   },
   {
    "duration": 16,
    "start_time": "2022-01-18T16:52:01.176Z"
   },
   {
    "duration": 9,
    "start_time": "2022-01-18T16:52:15.908Z"
   },
   {
    "duration": 17,
    "start_time": "2022-01-18T16:52:20.731Z"
   },
   {
    "duration": 7,
    "start_time": "2022-01-18T16:52:30.533Z"
   },
   {
    "duration": 14,
    "start_time": "2022-01-18T16:52:46.983Z"
   },
   {
    "duration": 15,
    "start_time": "2022-01-18T16:52:54.448Z"
   },
   {
    "duration": 8,
    "start_time": "2022-01-18T16:53:19.948Z"
   },
   {
    "duration": 5,
    "start_time": "2022-01-18T16:53:29.910Z"
   },
   {
    "duration": 7,
    "start_time": "2022-01-18T16:55:43.902Z"
   },
   {
    "duration": 7,
    "start_time": "2022-01-18T16:55:50.672Z"
   },
   {
    "duration": 9,
    "start_time": "2022-01-18T16:55:54.185Z"
   },
   {
    "duration": 7,
    "start_time": "2022-01-18T16:55:58.067Z"
   },
   {
    "duration": 15,
    "start_time": "2022-01-18T16:56:05.320Z"
   },
   {
    "duration": 15,
    "start_time": "2022-01-18T16:56:16.887Z"
   },
   {
    "duration": 16,
    "start_time": "2022-01-18T16:56:28.082Z"
   },
   {
    "duration": 7,
    "start_time": "2022-01-18T16:56:37.456Z"
   },
   {
    "duration": 15,
    "start_time": "2022-01-18T16:56:42.340Z"
   },
   {
    "duration": 15,
    "start_time": "2022-01-18T16:56:50.299Z"
   },
   {
    "duration": 14,
    "start_time": "2022-01-18T16:56:56.251Z"
   },
   {
    "duration": 15,
    "start_time": "2022-01-18T16:57:04.923Z"
   },
   {
    "duration": 6,
    "start_time": "2022-01-18T16:57:19.019Z"
   },
   {
    "duration": 9,
    "start_time": "2022-01-18T16:57:59.392Z"
   },
   {
    "duration": 3,
    "start_time": "2022-01-18T16:58:10.679Z"
   },
   {
    "duration": 8,
    "start_time": "2022-01-18T16:59:08.523Z"
   },
   {
    "duration": 7,
    "start_time": "2022-01-19T01:30:55.084Z"
   },
   {
    "duration": 7,
    "start_time": "2022-01-19T01:31:03.873Z"
   },
   {
    "duration": 303,
    "start_time": "2022-01-19T01:42:12.657Z"
   },
   {
    "duration": 13,
    "start_time": "2022-01-19T01:42:42.660Z"
   },
   {
    "duration": 11,
    "start_time": "2022-01-19T01:42:50.045Z"
   },
   {
    "duration": 348,
    "start_time": "2022-01-19T01:42:53.413Z"
   },
   {
    "duration": 10,
    "start_time": "2022-01-19T01:43:50.927Z"
   },
   {
    "duration": 9,
    "start_time": "2022-01-19T01:44:07.706Z"
   },
   {
    "duration": 331,
    "start_time": "2022-01-19T01:45:11.356Z"
   },
   {
    "duration": 10,
    "start_time": "2022-01-19T01:45:39.258Z"
   },
   {
    "duration": 16,
    "start_time": "2022-01-19T01:46:26.600Z"
   },
   {
    "duration": 8,
    "start_time": "2022-01-19T01:55:26.733Z"
   },
   {
    "duration": 10,
    "start_time": "2022-01-19T01:55:32.744Z"
   },
   {
    "duration": 10,
    "start_time": "2022-01-19T01:56:04.786Z"
   },
   {
    "duration": 13,
    "start_time": "2022-01-19T01:56:14.828Z"
   },
   {
    "duration": 10,
    "start_time": "2022-01-19T01:56:30.287Z"
   },
   {
    "duration": 857,
    "start_time": "2022-01-19T02:00:40.199Z"
   },
   {
    "duration": 12,
    "start_time": "2022-01-19T02:00:48.953Z"
   },
   {
    "duration": 12,
    "start_time": "2022-01-19T02:01:06.995Z"
   },
   {
    "duration": 345,
    "start_time": "2022-01-19T03:01:10.191Z"
   },
   {
    "duration": 319,
    "start_time": "2022-01-19T03:01:16.647Z"
   },
   {
    "duration": 311,
    "start_time": "2022-01-19T03:01:41.371Z"
   },
   {
    "duration": 330,
    "start_time": "2022-01-19T03:01:50.006Z"
   },
   {
    "duration": 5,
    "start_time": "2022-01-19T03:04:23.190Z"
   },
   {
    "duration": 23,
    "start_time": "2022-01-19T03:04:49.266Z"
   },
   {
    "duration": 25,
    "start_time": "2022-01-19T03:05:10.629Z"
   },
   {
    "duration": 352,
    "start_time": "2022-01-19T03:07:24.164Z"
   },
   {
    "duration": 7,
    "start_time": "2022-01-19T03:11:10.598Z"
   },
   {
    "duration": 294,
    "start_time": "2022-01-19T03:11:44.524Z"
   },
   {
    "duration": 501,
    "start_time": "2022-01-19T03:13:15.574Z"
   },
   {
    "duration": 552,
    "start_time": "2022-01-19T03:13:44.239Z"
   },
   {
    "duration": 5,
    "start_time": "2022-01-19T03:13:58.542Z"
   },
   {
    "duration": 7,
    "start_time": "2022-01-19T03:15:00.283Z"
   },
   {
    "duration": 31,
    "start_time": "2022-01-19T03:16:22.742Z"
   },
   {
    "duration": 308,
    "start_time": "2022-01-19T03:17:48.708Z"
   },
   {
    "duration": 339,
    "start_time": "2022-01-19T03:18:11.264Z"
   },
   {
    "duration": 1724,
    "start_time": "2022-01-19T03:19:16.070Z"
   },
   {
    "duration": 329,
    "start_time": "2022-01-19T03:19:26.998Z"
   },
   {
    "duration": 2257,
    "start_time": "2022-01-19T03:19:42.527Z"
   },
   {
    "duration": 855,
    "start_time": "2022-01-19T03:20:02.525Z"
   },
   {
    "duration": 1073,
    "start_time": "2022-01-19T03:20:11.828Z"
   },
   {
    "duration": 3785,
    "start_time": "2022-01-19T03:20:20.845Z"
   },
   {
    "duration": 97,
    "start_time": "2022-01-19T03:20:41.961Z"
   },
   {
    "duration": 372,
    "start_time": "2022-01-19T03:20:44.990Z"
   },
   {
    "duration": 337,
    "start_time": "2022-01-19T03:20:52.406Z"
   },
   {
    "duration": 4,
    "start_time": "2022-01-19T03:22:59.174Z"
   },
   {
    "duration": 6,
    "start_time": "2022-01-19T03:24:46.029Z"
   },
   {
    "duration": 5,
    "start_time": "2022-01-19T03:24:58.584Z"
   },
   {
    "duration": 28,
    "start_time": "2022-01-19T03:25:35.461Z"
   },
   {
    "duration": 5,
    "start_time": "2022-01-19T03:26:02.898Z"
   },
   {
    "duration": 8429,
    "start_time": "2022-01-19T03:26:24.460Z"
   },
   {
    "duration": 5,
    "start_time": "2022-01-19T03:26:35.175Z"
   },
   {
    "duration": 6,
    "start_time": "2022-01-19T03:26:46.097Z"
   },
   {
    "duration": 5,
    "start_time": "2022-01-19T03:26:57.876Z"
   },
   {
    "duration": 5,
    "start_time": "2022-01-19T03:27:11.196Z"
   },
   {
    "duration": 9,
    "start_time": "2022-01-19T03:27:26.952Z"
   },
   {
    "duration": 10,
    "start_time": "2022-01-19T03:28:13.726Z"
   },
   {
    "duration": 5,
    "start_time": "2022-01-19T03:28:24.273Z"
   },
   {
    "duration": 27,
    "start_time": "2022-01-19T03:28:32.801Z"
   },
   {
    "duration": 5,
    "start_time": "2022-01-19T03:28:52.629Z"
   },
   {
    "duration": 28,
    "start_time": "2022-01-19T03:29:09.160Z"
   },
   {
    "duration": 31,
    "start_time": "2022-01-19T03:31:03.794Z"
   },
   {
    "duration": 5,
    "start_time": "2022-01-19T03:32:34.300Z"
   },
   {
    "duration": 4,
    "start_time": "2022-01-19T03:32:44.649Z"
   },
   {
    "duration": 5937,
    "start_time": "2022-01-19T03:33:04.398Z"
   },
   {
    "duration": 7682,
    "start_time": "2022-01-19T03:33:35.519Z"
   },
   {
    "duration": 359,
    "start_time": "2022-01-19T03:33:51.709Z"
   },
   {
    "duration": 475,
    "start_time": "2022-01-19T03:34:11.025Z"
   },
   {
    "duration": 700,
    "start_time": "2022-01-19T03:34:21.500Z"
   },
   {
    "duration": 10,
    "start_time": "2022-01-19T03:40:17.451Z"
   },
   {
    "duration": 3,
    "start_time": "2022-01-19T03:41:22.771Z"
   },
   {
    "duration": 105,
    "start_time": "2022-01-19T03:41:36.710Z"
   },
   {
    "duration": 4,
    "start_time": "2022-01-19T03:41:47.295Z"
   },
   {
    "duration": 122,
    "start_time": "2022-01-19T03:44:46.909Z"
   },
   {
    "duration": 110,
    "start_time": "2022-01-19T03:45:04.823Z"
   },
   {
    "duration": 110,
    "start_time": "2022-01-19T03:47:02.832Z"
   },
   {
    "duration": 103,
    "start_time": "2022-01-19T03:47:07.522Z"
   },
   {
    "duration": 12,
    "start_time": "2022-01-19T03:51:39.317Z"
   },
   {
    "duration": 14,
    "start_time": "2022-01-19T03:52:21.332Z"
   },
   {
    "duration": 305,
    "start_time": "2022-01-19T03:54:11.923Z"
   },
   {
    "duration": 315,
    "start_time": "2022-01-19T03:54:23.788Z"
   },
   {
    "duration": 14,
    "start_time": "2022-01-19T03:54:30.543Z"
   },
   {
    "duration": 58,
    "start_time": "2022-01-19T03:56:16.282Z"
   },
   {
    "duration": 5,
    "start_time": "2022-01-19T03:56:50.662Z"
   },
   {
    "duration": 4,
    "start_time": "2022-01-19T03:56:58.626Z"
   },
   {
    "duration": 4,
    "start_time": "2022-01-19T03:57:27.603Z"
   },
   {
    "duration": 5,
    "start_time": "2022-01-19T03:57:31.971Z"
   },
   {
    "duration": 5,
    "start_time": "2022-01-19T03:57:48.895Z"
   },
   {
    "duration": 4879,
    "start_time": "2022-01-19T03:58:08.482Z"
   },
   {
    "duration": 4788,
    "start_time": "2022-01-19T03:58:45.864Z"
   },
   {
    "duration": 5,
    "start_time": "2022-01-19T03:59:05.827Z"
   },
   {
    "duration": 4,
    "start_time": "2022-01-19T03:59:16.543Z"
   },
   {
    "duration": 5237,
    "start_time": "2022-01-19T03:59:26.373Z"
   },
   {
    "duration": 6,
    "start_time": "2022-01-19T03:59:38.159Z"
   },
   {
    "duration": 6,
    "start_time": "2022-01-19T03:59:47.115Z"
   },
   {
    "duration": 5192,
    "start_time": "2022-01-19T03:59:56.692Z"
   },
   {
    "duration": 5068,
    "start_time": "2022-01-19T04:00:08.405Z"
   },
   {
    "duration": 5,
    "start_time": "2022-01-19T04:00:16.558Z"
   },
   {
    "duration": 5,
    "start_time": "2022-01-19T04:00:36.409Z"
   },
   {
    "duration": 4,
    "start_time": "2022-01-19T04:01:14.183Z"
   },
   {
    "duration": 5,
    "start_time": "2022-01-19T04:01:30.658Z"
   },
   {
    "duration": 7546,
    "start_time": "2022-01-19T04:05:36.427Z"
   },
   {
    "duration": 8608,
    "start_time": "2022-01-19T04:06:00.235Z"
   },
   {
    "duration": 4,
    "start_time": "2022-01-19T04:07:08.671Z"
   },
   {
    "duration": 27,
    "start_time": "2022-01-19T04:07:18.087Z"
   },
   {
    "duration": 570,
    "start_time": "2022-01-19T04:07:25.234Z"
   },
   {
    "duration": 262,
    "start_time": "2022-01-19T04:07:33.635Z"
   },
   {
    "duration": 378,
    "start_time": "2022-01-19T04:07:43.716Z"
   },
   {
    "duration": 695,
    "start_time": "2022-01-19T04:08:08.001Z"
   },
   {
    "duration": 369,
    "start_time": "2022-01-19T04:08:25.572Z"
   },
   {
    "duration": 717,
    "start_time": "2022-01-19T04:09:01.228Z"
   },
   {
    "duration": 469,
    "start_time": "2022-01-19T04:09:18.829Z"
   },
   {
    "duration": 381,
    "start_time": "2022-01-19T04:09:24.372Z"
   },
   {
    "duration": 744,
    "start_time": "2022-01-19T04:09:58.018Z"
   },
   {
    "duration": 577,
    "start_time": "2022-01-19T04:10:39.315Z"
   },
   {
    "duration": 3,
    "start_time": "2022-01-19T04:11:01.757Z"
   },
   {
    "duration": 3,
    "start_time": "2022-01-19T04:11:30.657Z"
   },
   {
    "duration": 4,
    "start_time": "2022-01-19T04:11:35.056Z"
   },
   {
    "duration": 4,
    "start_time": "2022-01-19T04:11:44.710Z"
   },
   {
    "duration": 425,
    "start_time": "2022-01-19T04:12:06.696Z"
   },
   {
    "duration": 4,
    "start_time": "2022-01-19T04:12:35.859Z"
   },
   {
    "duration": 496,
    "start_time": "2022-01-19T04:12:59.033Z"
   },
   {
    "duration": 5,
    "start_time": "2022-01-19T04:16:29.761Z"
   },
   {
    "duration": 7753,
    "start_time": "2022-01-19T04:19:33.286Z"
   },
   {
    "duration": 25,
    "start_time": "2022-01-19T04:19:59.568Z"
   },
   {
    "duration": 757,
    "start_time": "2022-01-19T04:20:27.577Z"
   },
   {
    "duration": 20,
    "start_time": "2022-01-19T04:22:02.974Z"
   },
   {
    "duration": 3,
    "start_time": "2022-01-19T04:23:28.970Z"
   },
   {
    "duration": 3,
    "start_time": "2022-01-19T04:23:34.411Z"
   },
   {
    "duration": 19,
    "start_time": "2022-01-19T04:28:47.781Z"
   },
   {
    "duration": 3,
    "start_time": "2022-01-19T04:29:19.418Z"
   },
   {
    "duration": 3,
    "start_time": "2022-01-19T04:29:29.468Z"
   },
   {
    "duration": 22,
    "start_time": "2022-01-19T04:51:48.072Z"
   },
   {
    "duration": 25,
    "start_time": "2022-01-19T04:52:06.281Z"
   },
   {
    "duration": 14,
    "start_time": "2022-01-19T04:53:20.035Z"
   },
   {
    "duration": 14,
    "start_time": "2022-01-19T04:53:27.918Z"
   },
   {
    "duration": 1165,
    "start_time": "2022-01-19T15:07:46.117Z"
   },
   {
    "duration": 377,
    "start_time": "2022-01-19T15:07:47.285Z"
   },
   {
    "duration": 21,
    "start_time": "2022-01-19T15:07:47.665Z"
   },
   {
    "duration": 46,
    "start_time": "2022-01-19T15:07:47.689Z"
   },
   {
    "duration": 28,
    "start_time": "2022-01-19T15:07:47.738Z"
   },
   {
    "duration": 24,
    "start_time": "2022-01-19T15:07:47.769Z"
   },
   {
    "duration": 24,
    "start_time": "2022-01-19T15:07:47.796Z"
   },
   {
    "duration": 32,
    "start_time": "2022-01-19T15:07:47.825Z"
   },
   {
    "duration": 32,
    "start_time": "2022-01-19T15:07:47.861Z"
   },
   {
    "duration": 40,
    "start_time": "2022-01-19T15:07:47.896Z"
   },
   {
    "duration": 36,
    "start_time": "2022-01-19T15:07:47.939Z"
   },
   {
    "duration": 53,
    "start_time": "2022-01-19T15:07:47.978Z"
   },
   {
    "duration": 30,
    "start_time": "2022-01-19T15:07:48.034Z"
   },
   {
    "duration": 41,
    "start_time": "2022-01-19T15:07:48.066Z"
   },
   {
    "duration": 35,
    "start_time": "2022-01-19T15:07:48.109Z"
   },
   {
    "duration": 25,
    "start_time": "2022-01-19T15:07:48.146Z"
   },
   {
    "duration": 36,
    "start_time": "2022-01-19T15:07:48.174Z"
   },
   {
    "duration": 46,
    "start_time": "2022-01-19T15:07:48.212Z"
   },
   {
    "duration": 32,
    "start_time": "2022-01-19T15:07:48.260Z"
   },
   {
    "duration": 43,
    "start_time": "2022-01-19T15:07:48.294Z"
   },
   {
    "duration": 24,
    "start_time": "2022-01-19T15:07:48.340Z"
   },
   {
    "duration": 21,
    "start_time": "2022-01-19T15:07:48.367Z"
   },
   {
    "duration": 30,
    "start_time": "2022-01-19T15:07:48.395Z"
   },
   {
    "duration": 15,
    "start_time": "2022-01-19T15:07:48.429Z"
   },
   {
    "duration": 62,
    "start_time": "2022-01-19T15:07:48.446Z"
   },
   {
    "duration": 40,
    "start_time": "2022-01-19T15:07:48.511Z"
   },
   {
    "duration": 57,
    "start_time": "2022-01-19T15:07:48.556Z"
   },
   {
    "duration": 17,
    "start_time": "2022-01-19T15:07:48.615Z"
   },
   {
    "duration": 90,
    "start_time": "2022-01-19T15:07:48.634Z"
   },
   {
    "duration": 14,
    "start_time": "2022-01-19T15:07:48.726Z"
   },
   {
    "duration": 35,
    "start_time": "2022-01-19T15:07:48.742Z"
   },
   {
    "duration": 51,
    "start_time": "2022-01-19T15:07:48.779Z"
   },
   {
    "duration": 26,
    "start_time": "2022-01-19T15:07:48.832Z"
   },
   {
    "duration": 41,
    "start_time": "2022-01-19T15:07:48.861Z"
   },
   {
    "duration": 45,
    "start_time": "2022-01-19T15:07:48.904Z"
   },
   {
    "duration": 39,
    "start_time": "2022-01-19T15:07:48.952Z"
   },
   {
    "duration": 11,
    "start_time": "2022-01-19T15:07:48.995Z"
   },
   {
    "duration": 33,
    "start_time": "2022-01-19T15:07:49.009Z"
   },
   {
    "duration": 48,
    "start_time": "2022-01-19T15:07:49.044Z"
   },
   {
    "duration": 42,
    "start_time": "2022-01-19T15:07:49.094Z"
   },
   {
    "duration": 81,
    "start_time": "2022-01-19T15:07:49.138Z"
   },
   {
    "duration": 14,
    "start_time": "2022-01-19T15:07:49.221Z"
   },
   {
    "duration": 56,
    "start_time": "2022-01-19T15:07:49.265Z"
   },
   {
    "duration": 51,
    "start_time": "2022-01-19T15:07:49.324Z"
   },
   {
    "duration": 31,
    "start_time": "2022-01-19T15:07:49.378Z"
   },
   {
    "duration": 64,
    "start_time": "2022-01-19T15:07:49.413Z"
   },
   {
    "duration": 42,
    "start_time": "2022-01-19T15:07:49.480Z"
   },
   {
    "duration": 48,
    "start_time": "2022-01-19T15:07:49.525Z"
   },
   {
    "duration": 34,
    "start_time": "2022-01-19T15:07:49.575Z"
   },
   {
    "duration": 64,
    "start_time": "2022-01-19T15:07:49.611Z"
   },
   {
    "duration": 24,
    "start_time": "2022-01-19T15:07:49.678Z"
   },
   {
    "duration": 59,
    "start_time": "2022-01-19T15:07:49.705Z"
   },
   {
    "duration": 26,
    "start_time": "2022-01-19T15:07:49.775Z"
   },
   {
    "duration": 30,
    "start_time": "2022-01-19T15:07:49.803Z"
   },
   {
    "duration": 59,
    "start_time": "2022-01-19T15:07:49.835Z"
   },
   {
    "duration": 25,
    "start_time": "2022-01-19T15:07:49.897Z"
   },
   {
    "duration": 59,
    "start_time": "2022-01-19T15:07:49.924Z"
   },
   {
    "duration": 27,
    "start_time": "2022-01-19T15:07:49.986Z"
   },
   {
    "duration": 68,
    "start_time": "2022-01-19T15:07:50.015Z"
   },
   {
    "duration": 41,
    "start_time": "2022-01-19T15:07:50.085Z"
   },
   {
    "duration": 57,
    "start_time": "2022-01-19T15:07:50.129Z"
   },
   {
    "duration": 12,
    "start_time": "2022-01-19T15:07:50.189Z"
   },
   {
    "duration": 101,
    "start_time": "2022-01-19T15:07:50.203Z"
   },
   {
    "duration": 13,
    "start_time": "2022-01-19T15:07:50.307Z"
   },
   {
    "duration": 56,
    "start_time": "2022-01-19T15:07:50.322Z"
   },
   {
    "duration": 31,
    "start_time": "2022-01-19T15:07:50.381Z"
   },
   {
    "duration": 30,
    "start_time": "2022-01-19T15:07:50.414Z"
   },
   {
    "duration": 36,
    "start_time": "2022-01-19T15:07:50.452Z"
   },
   {
    "duration": 43,
    "start_time": "2022-01-19T15:07:50.491Z"
   },
   {
    "duration": 34,
    "start_time": "2022-01-19T15:07:50.537Z"
   },
   {
    "duration": 21,
    "start_time": "2022-01-19T15:07:50.574Z"
   },
   {
    "duration": 32,
    "start_time": "2022-01-19T15:07:50.597Z"
   },
   {
    "duration": 38,
    "start_time": "2022-01-19T15:07:50.631Z"
   },
   {
    "duration": 34,
    "start_time": "2022-01-19T15:07:50.672Z"
   },
   {
    "duration": 1582,
    "start_time": "2022-01-19T15:07:50.708Z"
   },
   {
    "duration": 32,
    "start_time": "2022-01-19T15:07:52.292Z"
   },
   {
    "duration": 58,
    "start_time": "2022-01-19T15:07:52.327Z"
   },
   {
    "duration": 35,
    "start_time": "2022-01-19T15:08:00.924Z"
   },
   {
    "duration": 425,
    "start_time": "2022-01-20T02:32:33.364Z"
   },
   {
    "duration": 365,
    "start_time": "2022-01-20T02:32:51.284Z"
   },
   {
    "duration": 3400,
    "start_time": "2022-01-20T02:32:57.369Z"
   },
   {
    "duration": 97,
    "start_time": "2022-01-20T02:33:28.500Z"
   },
   {
    "duration": 3291,
    "start_time": "2022-01-20T02:33:38.445Z"
   },
   {
    "duration": 2608,
    "start_time": "2022-01-20T02:33:53.256Z"
   },
   {
    "duration": 2684,
    "start_time": "2022-01-20T02:34:04.578Z"
   },
   {
    "duration": 299,
    "start_time": "2022-01-20T02:34:29.359Z"
   },
   {
    "duration": 7633,
    "start_time": "2022-01-20T02:35:23.414Z"
   },
   {
    "duration": 2625,
    "start_time": "2022-01-20T02:35:37.306Z"
   },
   {
    "duration": 843,
    "start_time": "2022-01-20T02:36:01.346Z"
   },
   {
    "duration": 3040,
    "start_time": "2022-01-20T02:36:09.573Z"
   },
   {
    "duration": 351,
    "start_time": "2022-01-20T02:36:28.530Z"
   },
   {
    "duration": 2796,
    "start_time": "2022-01-20T02:36:33.403Z"
   },
   {
    "duration": 97,
    "start_time": "2022-01-20T02:37:31.938Z"
   },
   {
    "duration": 24272,
    "start_time": "2022-01-20T02:37:35.380Z"
   },
   {
    "duration": 30118,
    "start_time": "2022-01-20T02:39:25.006Z"
   },
   {
    "duration": 28506,
    "start_time": "2022-01-20T02:41:28.334Z"
   },
   {
    "duration": 9,
    "start_time": "2022-01-20T02:42:17.875Z"
   },
   {
    "duration": 310,
    "start_time": "2022-01-20T02:42:23.234Z"
   },
   {
    "duration": 385,
    "start_time": "2022-01-20T02:42:29.665Z"
   },
   {
    "duration": 302,
    "start_time": "2022-01-20T02:43:22.890Z"
   },
   {
    "duration": 288,
    "start_time": "2022-01-20T02:43:36.196Z"
   },
   {
    "duration": 7003,
    "start_time": "2022-01-20T02:43:53.033Z"
   },
   {
    "duration": 20,
    "start_time": "2022-01-20T02:44:06.745Z"
   },
   {
    "duration": 7,
    "start_time": "2022-01-20T02:45:05.581Z"
   },
   {
    "duration": 33,
    "start_time": "2022-01-20T02:45:11.182Z"
   },
   {
    "duration": 8,
    "start_time": "2022-01-20T02:45:24.387Z"
   },
   {
    "duration": 31,
    "start_time": "2022-01-20T02:45:29.818Z"
   },
   {
    "duration": 7833,
    "start_time": "2022-01-20T02:46:01.756Z"
   },
   {
    "duration": 25617,
    "start_time": "2022-01-20T02:47:08.475Z"
   },
   {
    "duration": 24677,
    "start_time": "2022-01-20T02:47:46.068Z"
   },
   {
    "duration": 10,
    "start_time": "2022-01-20T02:48:45.657Z"
   },
   {
    "duration": 28304,
    "start_time": "2022-01-20T02:49:01.985Z"
   },
   {
    "duration": 296,
    "start_time": "2022-01-20T02:50:02.794Z"
   },
   {
    "duration": 7,
    "start_time": "2022-01-20T02:50:12.436Z"
   },
   {
    "duration": 14,
    "start_time": "2022-01-20T02:50:16.999Z"
   },
   {
    "duration": -589,
    "start_time": "2022-01-20T02:50:53.071Z"
   },
   {
    "duration": 603,
    "start_time": "2022-01-20T02:51:12.955Z"
   },
   {
    "duration": 20,
    "start_time": "2022-01-20T02:52:31.883Z"
   },
   {
    "duration": 292,
    "start_time": "2022-01-20T02:52:56.503Z"
   },
   {
    "duration": 21,
    "start_time": "2022-01-20T02:53:03.182Z"
   },
   {
    "duration": 19,
    "start_time": "2022-01-20T02:53:42.116Z"
   },
   {
    "duration": 26,
    "start_time": "2022-01-20T02:54:30.285Z"
   },
   {
    "duration": 9749,
    "start_time": "2022-01-20T02:55:05.233Z"
   },
   {
    "duration": 318,
    "start_time": "2022-01-20T02:55:22.292Z"
   },
   {
    "duration": 102,
    "start_time": "2022-01-20T02:55:39.974Z"
   },
   {
    "duration": 331,
    "start_time": "2022-01-20T02:55:44.849Z"
   },
   {
    "duration": 368,
    "start_time": "2022-01-20T02:55:54.665Z"
   },
   {
    "duration": 333,
    "start_time": "2022-01-20T02:56:08.341Z"
   },
   {
    "duration": 382,
    "start_time": "2022-01-20T02:56:19.182Z"
   },
   {
    "duration": 653,
    "start_time": "2022-01-20T02:57:03.077Z"
   },
   {
    "duration": 645,
    "start_time": "2022-01-20T02:57:23.950Z"
   },
   {
    "duration": 841,
    "start_time": "2022-01-20T02:57:38.823Z"
   },
   {
    "duration": 684,
    "start_time": "2022-01-20T02:58:41.084Z"
   },
   {
    "duration": 685,
    "start_time": "2022-01-20T02:58:57.886Z"
   },
   {
    "duration": 1075,
    "start_time": "2022-01-20T02:59:03.310Z"
   },
   {
    "duration": 706,
    "start_time": "2022-01-20T02:59:29.648Z"
   },
   {
    "duration": 971,
    "start_time": "2022-01-20T03:39:12.284Z"
   },
   {
    "duration": 4,
    "start_time": "2022-01-20T03:39:40.095Z"
   },
   {
    "duration": 689,
    "start_time": "2022-01-20T03:39:44.520Z"
   },
   {
    "duration": 677,
    "start_time": "2022-01-20T03:39:48.242Z"
   },
   {
    "duration": 328,
    "start_time": "2022-01-20T03:40:14.727Z"
   },
   {
    "duration": 309,
    "start_time": "2022-01-20T03:40:20.577Z"
   },
   {
    "duration": 761,
    "start_time": "2022-01-20T03:40:25.336Z"
   },
   {
    "duration": 704,
    "start_time": "2022-01-20T03:44:30.046Z"
   },
   {
    "duration": 722,
    "start_time": "2022-01-20T03:44:39.278Z"
   },
   {
    "duration": 762,
    "start_time": "2022-01-20T03:44:55.065Z"
   },
   {
    "duration": 685,
    "start_time": "2022-01-20T03:45:48.250Z"
   },
   {
    "duration": 703,
    "start_time": "2022-01-20T03:45:51.483Z"
   },
   {
    "duration": 12,
    "start_time": "2022-01-20T03:46:22.607Z"
   },
   {
    "duration": 6,
    "start_time": "2022-01-20T03:46:53.308Z"
   },
   {
    "duration": 302,
    "start_time": "2022-01-20T03:46:57.886Z"
   },
   {
    "duration": 29,
    "start_time": "2022-01-20T03:47:12.766Z"
   },
   {
    "duration": 526,
    "start_time": "2022-01-20T03:47:30.259Z"
   },
   {
    "duration": 112,
    "start_time": "2022-01-20T03:48:02.743Z"
   },
   {
    "duration": 373,
    "start_time": "2022-01-20T03:48:07.400Z"
   },
   {
    "duration": 673,
    "start_time": "2022-01-20T03:50:50.466Z"
   },
   {
    "duration": 699,
    "start_time": "2022-01-20T03:51:05.604Z"
   },
   {
    "duration": 797,
    "start_time": "2022-01-20T03:53:06.921Z"
   },
   {
    "duration": 694,
    "start_time": "2022-01-20T03:53:27.243Z"
   },
   {
    "duration": 750,
    "start_time": "2022-01-20T03:53:50.416Z"
   },
   {
    "duration": 782,
    "start_time": "2022-01-20T03:53:59.375Z"
   },
   {
    "duration": 1083,
    "start_time": "2022-01-20T03:54:22.723Z"
   },
   {
    "duration": 834,
    "start_time": "2022-01-20T03:54:42.734Z"
   },
   {
    "duration": 828,
    "start_time": "2022-01-20T03:54:49.750Z"
   },
   {
    "duration": 859,
    "start_time": "2022-01-20T03:55:02.498Z"
   },
   {
    "duration": 8526,
    "start_time": "2022-01-20T03:55:29.925Z"
   },
   {
    "duration": 828,
    "start_time": "2022-01-20T03:55:57.666Z"
   },
   {
    "duration": 669,
    "start_time": "2022-01-20T03:56:39.672Z"
   },
   {
    "duration": 22,
    "start_time": "2022-01-20T03:57:52.344Z"
   },
   {
    "duration": 42,
    "start_time": "2022-01-20T03:58:04.413Z"
   },
   {
    "duration": 33,
    "start_time": "2022-01-20T03:58:13.199Z"
   },
   {
    "duration": 47,
    "start_time": "2022-01-20T03:58:25.729Z"
   },
   {
    "duration": 507,
    "start_time": "2022-01-20T03:58:32.931Z"
   },
   {
    "duration": 477,
    "start_time": "2022-01-20T03:58:46.860Z"
   },
   {
    "duration": 321,
    "start_time": "2022-01-20T03:59:03.129Z"
   },
   {
    "duration": 490,
    "start_time": "2022-01-20T03:59:08.776Z"
   },
   {
    "duration": 680,
    "start_time": "2022-01-20T03:59:27.955Z"
   },
   {
    "duration": 633,
    "start_time": "2022-01-20T04:01:14.059Z"
   },
   {
    "duration": 629,
    "start_time": "2022-01-20T04:02:03.122Z"
   },
   {
    "duration": 815,
    "start_time": "2022-01-20T04:02:30.136Z"
   },
   {
    "duration": 559,
    "start_time": "2022-01-20T04:02:36.276Z"
   },
   {
    "duration": 576,
    "start_time": "2022-01-20T04:02:43.993Z"
   },
   {
    "duration": 1294,
    "start_time": "2022-01-20T04:03:18.847Z"
   },
   {
    "duration": 1186,
    "start_time": "2022-01-20T04:03:27.840Z"
   },
   {
    "duration": 546,
    "start_time": "2022-01-20T04:03:50.356Z"
   },
   {
    "duration": 560,
    "start_time": "2022-01-20T04:04:06.382Z"
   },
   {
    "duration": 5,
    "start_time": "2022-01-20T04:05:42.614Z"
   },
   {
    "duration": 6,
    "start_time": "2022-01-20T04:06:17.340Z"
   },
   {
    "duration": 5,
    "start_time": "2022-01-20T04:06:26.173Z"
   },
   {
    "duration": 5,
    "start_time": "2022-01-20T04:22:34.646Z"
   },
   {
    "duration": 30,
    "start_time": "2022-01-20T04:24:08.420Z"
   },
   {
    "duration": 33,
    "start_time": "2022-01-20T04:24:22.757Z"
   },
   {
    "duration": 44,
    "start_time": "2022-01-20T04:24:33.471Z"
   },
   {
    "duration": 42,
    "start_time": "2022-01-20T04:24:44.891Z"
   },
   {
    "duration": 46,
    "start_time": "2022-01-20T04:25:07.132Z"
   },
   {
    "duration": 48,
    "start_time": "2022-01-20T04:25:15.013Z"
   },
   {
    "duration": 43,
    "start_time": "2022-01-20T04:25:26.192Z"
   },
   {
    "duration": 313,
    "start_time": "2022-01-20T04:26:48.853Z"
   },
   {
    "duration": 46,
    "start_time": "2022-01-20T04:27:47.318Z"
   },
   {
    "duration": 48,
    "start_time": "2022-01-20T04:28:02.712Z"
   },
   {
    "duration": 7464,
    "start_time": "2022-01-20T04:28:21.008Z"
   },
   {
    "duration": 47,
    "start_time": "2022-01-20T04:28:35.293Z"
   },
   {
    "duration": 47,
    "start_time": "2022-01-20T04:28:39.223Z"
   },
   {
    "duration": 48,
    "start_time": "2022-01-20T04:29:10.444Z"
   },
   {
    "duration": 47,
    "start_time": "2022-01-20T04:29:14.629Z"
   },
   {
    "duration": 48,
    "start_time": "2022-01-20T04:29:18.741Z"
   },
   {
    "duration": 142,
    "start_time": "2022-01-20T04:29:30.358Z"
   },
   {
    "duration": 99,
    "start_time": "2022-01-20T04:29:36.903Z"
   },
   {
    "duration": 48,
    "start_time": "2022-01-20T04:29:42.488Z"
   },
   {
    "duration": 42521,
    "start_time": "2022-01-20T04:36:28.128Z"
   },
   {
    "duration": 691,
    "start_time": "2022-01-20T04:38:44.782Z"
   },
   {
    "duration": 439,
    "start_time": "2022-01-20T04:39:10.720Z"
   },
   {
    "duration": 1044,
    "start_time": "2022-01-20T04:39:55.737Z"
   },
   {
    "duration": 670,
    "start_time": "2022-01-20T04:40:29.694Z"
   },
   {
    "duration": 42284,
    "start_time": "2022-01-20T04:40:39.880Z"
   },
   {
    "duration": 771,
    "start_time": "2022-01-20T04:41:45.442Z"
   },
   {
    "duration": 951,
    "start_time": "2022-01-20T04:42:05.198Z"
   },
   {
    "duration": 998,
    "start_time": "2022-01-20T04:42:54.100Z"
   },
   {
    "duration": 1132,
    "start_time": "2022-01-20T04:43:02.239Z"
   },
   {
    "duration": 473,
    "start_time": "2022-01-20T04:43:19.986Z"
   },
   {
    "duration": 482,
    "start_time": "2022-01-20T04:43:23.001Z"
   },
   {
    "duration": 5,
    "start_time": "2022-01-20T04:46:45.426Z"
   },
   {
    "duration": 1095,
    "start_time": "2022-01-20T16:25:54.136Z"
   },
   {
    "duration": 1058,
    "start_time": "2022-01-20T16:25:55.233Z"
   },
   {
    "duration": 17,
    "start_time": "2022-01-20T16:25:56.294Z"
   },
   {
    "duration": 11,
    "start_time": "2022-01-20T16:25:56.313Z"
   },
   {
    "duration": 14,
    "start_time": "2022-01-20T16:25:56.326Z"
   },
   {
    "duration": 8,
    "start_time": "2022-01-20T16:25:56.342Z"
   },
   {
    "duration": 12,
    "start_time": "2022-01-20T16:25:56.352Z"
   },
   {
    "duration": 39,
    "start_time": "2022-01-20T16:25:56.367Z"
   },
   {
    "duration": 13,
    "start_time": "2022-01-20T16:25:56.408Z"
   },
   {
    "duration": 15,
    "start_time": "2022-01-20T16:25:56.422Z"
   },
   {
    "duration": 15,
    "start_time": "2022-01-20T16:25:56.440Z"
   },
   {
    "duration": 12,
    "start_time": "2022-01-20T16:25:56.457Z"
   },
   {
    "duration": 9,
    "start_time": "2022-01-20T16:25:56.470Z"
   },
   {
    "duration": 10,
    "start_time": "2022-01-20T16:25:56.499Z"
   },
   {
    "duration": 16,
    "start_time": "2022-01-20T16:25:56.510Z"
   },
   {
    "duration": 6,
    "start_time": "2022-01-20T16:25:56.527Z"
   },
   {
    "duration": 12,
    "start_time": "2022-01-20T16:25:56.535Z"
   },
   {
    "duration": 10,
    "start_time": "2022-01-20T16:25:56.548Z"
   },
   {
    "duration": 40,
    "start_time": "2022-01-20T16:25:56.559Z"
   },
   {
    "duration": 11,
    "start_time": "2022-01-20T16:25:56.601Z"
   },
   {
    "duration": 11,
    "start_time": "2022-01-20T16:25:56.614Z"
   },
   {
    "duration": 6,
    "start_time": "2022-01-20T16:25:56.627Z"
   },
   {
    "duration": 16,
    "start_time": "2022-01-20T16:25:56.638Z"
   },
   {
    "duration": 8,
    "start_time": "2022-01-20T16:25:56.657Z"
   },
   {
    "duration": 58,
    "start_time": "2022-01-20T16:25:56.667Z"
   },
   {
    "duration": 33,
    "start_time": "2022-01-20T16:25:56.727Z"
   },
   {
    "duration": 72,
    "start_time": "2022-01-20T16:25:56.762Z"
   },
   {
    "duration": 12,
    "start_time": "2022-01-20T16:25:56.836Z"
   },
   {
    "duration": 60,
    "start_time": "2022-01-20T16:25:56.849Z"
   },
   {
    "duration": 11,
    "start_time": "2022-01-20T16:25:56.911Z"
   },
   {
    "duration": 12,
    "start_time": "2022-01-20T16:25:56.923Z"
   },
   {
    "duration": 22,
    "start_time": "2022-01-20T16:25:56.936Z"
   },
   {
    "duration": 41,
    "start_time": "2022-01-20T16:25:56.960Z"
   },
   {
    "duration": 25,
    "start_time": "2022-01-20T16:25:57.003Z"
   },
   {
    "duration": 23,
    "start_time": "2022-01-20T16:25:57.029Z"
   },
   {
    "duration": 19,
    "start_time": "2022-01-20T16:25:57.054Z"
   },
   {
    "duration": 9,
    "start_time": "2022-01-20T16:25:57.099Z"
   },
   {
    "duration": 24,
    "start_time": "2022-01-20T16:25:57.110Z"
   },
   {
    "duration": 26,
    "start_time": "2022-01-20T16:25:57.136Z"
   },
   {
    "duration": 61,
    "start_time": "2022-01-20T16:25:57.164Z"
   },
   {
    "duration": 50,
    "start_time": "2022-01-20T16:25:57.227Z"
   },
   {
    "duration": 23,
    "start_time": "2022-01-20T16:25:57.279Z"
   },
   {
    "duration": 42,
    "start_time": "2022-01-20T16:25:57.304Z"
   },
   {
    "duration": 18,
    "start_time": "2022-01-20T16:25:57.348Z"
   },
   {
    "duration": 42,
    "start_time": "2022-01-20T16:25:57.368Z"
   },
   {
    "duration": 21,
    "start_time": "2022-01-20T16:25:57.412Z"
   },
   {
    "duration": 28,
    "start_time": "2022-01-20T16:25:57.435Z"
   },
   {
    "duration": 47,
    "start_time": "2022-01-20T16:25:57.465Z"
   },
   {
    "duration": 23,
    "start_time": "2022-01-20T16:25:57.514Z"
   },
   {
    "duration": 24,
    "start_time": "2022-01-20T16:25:57.539Z"
   },
   {
    "duration": 38,
    "start_time": "2022-01-20T16:25:57.565Z"
   },
   {
    "duration": 28,
    "start_time": "2022-01-20T16:25:57.604Z"
   },
   {
    "duration": 17,
    "start_time": "2022-01-20T16:25:57.633Z"
   },
   {
    "duration": 48,
    "start_time": "2022-01-20T16:25:57.652Z"
   },
   {
    "duration": 27,
    "start_time": "2022-01-20T16:25:57.701Z"
   },
   {
    "duration": 18,
    "start_time": "2022-01-20T16:25:57.730Z"
   },
   {
    "duration": 53,
    "start_time": "2022-01-20T16:25:57.750Z"
   },
   {
    "duration": 20,
    "start_time": "2022-01-20T16:25:57.805Z"
   },
   {
    "duration": 31,
    "start_time": "2022-01-20T16:25:57.827Z"
   },
   {
    "duration": 61,
    "start_time": "2022-01-20T16:25:57.860Z"
   },
   {
    "duration": 24,
    "start_time": "2022-01-20T16:25:57.923Z"
   },
   {
    "duration": 9,
    "start_time": "2022-01-20T16:25:57.949Z"
   },
   {
    "duration": 72,
    "start_time": "2022-01-20T16:25:57.960Z"
   },
   {
    "duration": 10,
    "start_time": "2022-01-20T16:25:58.034Z"
   },
   {
    "duration": 20,
    "start_time": "2022-01-20T16:25:58.046Z"
   },
   {
    "duration": 35,
    "start_time": "2022-01-20T16:25:58.068Z"
   },
   {
    "duration": 12,
    "start_time": "2022-01-20T16:25:58.106Z"
   },
   {
    "duration": 12,
    "start_time": "2022-01-20T16:25:58.124Z"
   },
   {
    "duration": 22,
    "start_time": "2022-01-20T16:25:58.139Z"
   },
   {
    "duration": 42,
    "start_time": "2022-01-20T16:25:58.164Z"
   },
   {
    "duration": 12,
    "start_time": "2022-01-20T16:25:58.208Z"
   },
   {
    "duration": 5,
    "start_time": "2022-01-20T16:25:58.222Z"
   },
   {
    "duration": 8,
    "start_time": "2022-01-20T16:25:58.229Z"
   },
   {
    "duration": 7,
    "start_time": "2022-01-20T16:25:58.239Z"
   },
   {
    "duration": 966,
    "start_time": "2022-01-20T16:25:58.248Z"
   },
   {
    "duration": 22,
    "start_time": "2022-01-20T16:25:59.216Z"
   },
   {
    "duration": 26,
    "start_time": "2022-01-20T16:25:59.239Z"
   },
   {
    "duration": 41,
    "start_time": "2022-01-20T16:25:59.267Z"
   },
   {
    "duration": 8,
    "start_time": "2022-01-20T16:25:59.310Z"
   },
   {
    "duration": 512,
    "start_time": "2022-01-20T16:25:59.320Z"
   },
   {
    "duration": 523,
    "start_time": "2022-01-20T16:25:59.834Z"
   },
   {
    "duration": 530,
    "start_time": "2022-01-20T16:26:00.358Z"
   },
   {
    "duration": 275,
    "start_time": "2022-01-20T16:26:00.890Z"
   },
   {
    "duration": 507,
    "start_time": "2022-01-20T16:26:01.167Z"
   },
   {
    "duration": 911,
    "start_time": "2022-01-20T16:26:01.676Z"
   },
   {
    "duration": 40,
    "start_time": "2022-01-20T16:26:02.589Z"
   },
   {
    "duration": 336,
    "start_time": "2022-01-20T16:26:08.092Z"
   },
   {
    "duration": 502,
    "start_time": "2022-01-20T16:28:46.610Z"
   },
   {
    "duration": 517,
    "start_time": "2022-01-20T16:29:08.660Z"
   },
   {
    "duration": 342,
    "start_time": "2022-01-20T16:30:18.827Z"
   },
   {
    "duration": 8,
    "start_time": "2022-01-20T16:30:21.107Z"
   },
   {
    "duration": 8,
    "start_time": "2022-01-20T16:30:34.815Z"
   },
   {
    "duration": 597,
    "start_time": "2022-01-20T16:30:58.634Z"
   },
   {
    "duration": 7401,
    "start_time": "2022-01-20T16:31:22.300Z"
   },
   {
    "duration": 607,
    "start_time": "2022-01-20T16:31:58.187Z"
   },
   {
    "duration": 640,
    "start_time": "2022-01-20T16:32:20.942Z"
   },
   {
    "duration": 20,
    "start_time": "2022-01-21T03:13:04.247Z"
   },
   {
    "duration": 20,
    "start_time": "2022-01-21T03:13:13.219Z"
   },
   {
    "duration": 28,
    "start_time": "2022-01-21T03:13:56.369Z"
   },
   {
    "duration": 143,
    "start_time": "2022-01-21T03:14:22.784Z"
   },
   {
    "duration": 28,
    "start_time": "2022-01-21T03:14:41.115Z"
   },
   {
    "duration": 8,
    "start_time": "2022-01-21T03:16:05.090Z"
   },
   {
    "duration": 287,
    "start_time": "2022-01-21T03:17:29.086Z"
   },
   {
    "duration": 31,
    "start_time": "2022-01-21T03:23:04.810Z"
   },
   {
    "duration": 33,
    "start_time": "2022-01-21T03:23:35.237Z"
   },
   {
    "duration": 12,
    "start_time": "2022-01-21T03:25:17.551Z"
   },
   {
    "duration": 34,
    "start_time": "2022-01-21T03:25:21.942Z"
   },
   {
    "duration": 24,
    "start_time": "2022-01-21T03:25:56.627Z"
   },
   {
    "duration": 17,
    "start_time": "2022-01-21T03:26:15.655Z"
   },
   {
    "duration": 257,
    "start_time": "2022-01-21T03:26:58.144Z"
   },
   {
    "duration": 19,
    "start_time": "2022-01-21T03:27:05.714Z"
   },
   {
    "duration": 7,
    "start_time": "2022-01-21T03:28:04.171Z"
   },
   {
    "duration": 6,
    "start_time": "2022-01-21T03:28:17.491Z"
   },
   {
    "duration": 41,
    "start_time": "2022-01-21T03:28:21.076Z"
   },
   {
    "duration": 40,
    "start_time": "2022-01-21T03:28:35.342Z"
   },
   {
    "duration": 43,
    "start_time": "2022-01-21T03:29:05.965Z"
   },
   {
    "duration": 40,
    "start_time": "2022-01-21T03:29:20.767Z"
   },
   {
    "duration": 4,
    "start_time": "2022-01-21T03:33:12.899Z"
   },
   {
    "duration": 4,
    "start_time": "2022-01-21T03:33:48.434Z"
   },
   {
    "duration": 1346,
    "start_time": "2022-01-22T01:25:02.824Z"
   },
   {
    "duration": 994,
    "start_time": "2022-01-22T01:25:04.173Z"
   },
   {
    "duration": 21,
    "start_time": "2022-01-22T01:25:05.170Z"
   },
   {
    "duration": 15,
    "start_time": "2022-01-22T01:25:05.194Z"
   },
   {
    "duration": 18,
    "start_time": "2022-01-22T01:25:05.211Z"
   },
   {
    "duration": 11,
    "start_time": "2022-01-22T01:25:05.231Z"
   },
   {
    "duration": 19,
    "start_time": "2022-01-22T01:25:05.244Z"
   },
   {
    "duration": 22,
    "start_time": "2022-01-22T01:25:05.267Z"
   },
   {
    "duration": 17,
    "start_time": "2022-01-22T01:25:05.292Z"
   },
   {
    "duration": 26,
    "start_time": "2022-01-22T01:25:05.311Z"
   },
   {
    "duration": 10,
    "start_time": "2022-01-22T01:25:05.340Z"
   },
   {
    "duration": 15,
    "start_time": "2022-01-22T01:25:05.353Z"
   },
   {
    "duration": 11,
    "start_time": "2022-01-22T01:25:05.370Z"
   },
   {
    "duration": 55,
    "start_time": "2022-01-22T01:25:05.383Z"
   },
   {
    "duration": 21,
    "start_time": "2022-01-22T01:25:05.441Z"
   },
   {
    "duration": 7,
    "start_time": "2022-01-22T01:25:05.465Z"
   },
   {
    "duration": 17,
    "start_time": "2022-01-22T01:25:05.475Z"
   },
   {
    "duration": 44,
    "start_time": "2022-01-22T01:25:05.495Z"
   },
   {
    "duration": 11,
    "start_time": "2022-01-22T01:25:05.541Z"
   },
   {
    "duration": 20,
    "start_time": "2022-01-22T01:25:05.554Z"
   },
   {
    "duration": 11,
    "start_time": "2022-01-22T01:25:05.576Z"
   },
   {
    "duration": 7,
    "start_time": "2022-01-22T01:25:05.590Z"
   },
   {
    "duration": 21,
    "start_time": "2022-01-22T01:25:05.633Z"
   },
   {
    "duration": 11,
    "start_time": "2022-01-22T01:25:05.658Z"
   },
   {
    "duration": 75,
    "start_time": "2022-01-22T01:25:05.671Z"
   },
   {
    "duration": 42,
    "start_time": "2022-01-22T01:25:05.749Z"
   },
   {
    "duration": 71,
    "start_time": "2022-01-22T01:25:05.794Z"
   },
   {
    "duration": 15,
    "start_time": "2022-01-22T01:25:05.867Z"
   },
   {
    "duration": 86,
    "start_time": "2022-01-22T01:25:05.884Z"
   },
   {
    "duration": 14,
    "start_time": "2022-01-22T01:25:05.972Z"
   },
   {
    "duration": 9,
    "start_time": "2022-01-22T01:25:05.988Z"
   },
   {
    "duration": 48,
    "start_time": "2022-01-22T01:25:05.999Z"
   },
   {
    "duration": 24,
    "start_time": "2022-01-22T01:25:06.049Z"
   },
   {
    "duration": 30,
    "start_time": "2022-01-22T01:25:06.076Z"
   },
   {
    "duration": 51,
    "start_time": "2022-01-22T01:25:06.109Z"
   },
   {
    "duration": 20,
    "start_time": "2022-01-22T01:25:06.163Z"
   },
   {
    "duration": 48,
    "start_time": "2022-01-22T01:25:06.186Z"
   },
   {
    "duration": 35,
    "start_time": "2022-01-22T01:25:06.237Z"
   },
   {
    "duration": 59,
    "start_time": "2022-01-22T01:25:06.275Z"
   },
   {
    "duration": 46,
    "start_time": "2022-01-22T01:25:06.337Z"
   },
   {
    "duration": 91,
    "start_time": "2022-01-22T01:25:06.385Z"
   },
   {
    "duration": 13,
    "start_time": "2022-01-22T01:25:06.478Z"
   },
   {
    "duration": 72,
    "start_time": "2022-01-22T01:25:06.494Z"
   },
   {
    "duration": 24,
    "start_time": "2022-01-22T01:25:06.569Z"
   },
   {
    "duration": 50,
    "start_time": "2022-01-22T01:25:06.595Z"
   },
   {
    "duration": 28,
    "start_time": "2022-01-22T01:25:06.648Z"
   },
   {
    "duration": 66,
    "start_time": "2022-01-22T01:25:06.679Z"
   },
   {
    "duration": 24,
    "start_time": "2022-01-22T01:25:06.748Z"
   },
   {
    "duration": 61,
    "start_time": "2022-01-22T01:25:06.774Z"
   },
   {
    "duration": 34,
    "start_time": "2022-01-22T01:25:06.837Z"
   },
   {
    "duration": 24,
    "start_time": "2022-01-22T01:25:06.873Z"
   },
   {
    "duration": 60,
    "start_time": "2022-01-22T01:25:06.899Z"
   },
   {
    "duration": 24,
    "start_time": "2022-01-22T01:25:06.962Z"
   },
   {
    "duration": 59,
    "start_time": "2022-01-22T01:25:06.988Z"
   },
   {
    "duration": 39,
    "start_time": "2022-01-22T01:25:07.049Z"
   },
   {
    "duration": 43,
    "start_time": "2022-01-22T01:25:07.091Z"
   },
   {
    "duration": 35,
    "start_time": "2022-01-22T01:25:07.136Z"
   },
   {
    "duration": 24,
    "start_time": "2022-01-22T01:25:07.174Z"
   },
   {
    "duration": 44,
    "start_time": "2022-01-22T01:25:07.232Z"
   },
   {
    "duration": 58,
    "start_time": "2022-01-22T01:25:07.278Z"
   },
   {
    "duration": 31,
    "start_time": "2022-01-22T01:25:07.338Z"
   },
   {
    "duration": 9,
    "start_time": "2022-01-22T01:25:07.372Z"
   },
   {
    "duration": 89,
    "start_time": "2022-01-22T01:25:07.383Z"
   },
   {
    "duration": 11,
    "start_time": "2022-01-22T01:25:07.475Z"
   },
   {
    "duration": 15,
    "start_time": "2022-01-22T01:25:07.488Z"
   },
   {
    "duration": 18,
    "start_time": "2022-01-22T01:25:07.532Z"
   },
   {
    "duration": 15,
    "start_time": "2022-01-22T01:25:07.552Z"
   },
   {
    "duration": 15,
    "start_time": "2022-01-22T01:25:07.574Z"
   },
   {
    "duration": 61,
    "start_time": "2022-01-22T01:25:07.591Z"
   },
   {
    "duration": 14,
    "start_time": "2022-01-22T01:25:07.655Z"
   },
   {
    "duration": 15,
    "start_time": "2022-01-22T01:25:07.671Z"
   },
   {
    "duration": 6,
    "start_time": "2022-01-22T01:25:07.689Z"
   },
   {
    "duration": 9,
    "start_time": "2022-01-22T01:25:07.733Z"
   },
   {
    "duration": 17,
    "start_time": "2022-01-22T01:25:07.744Z"
   },
   {
    "duration": 1526,
    "start_time": "2022-01-22T01:25:07.764Z"
   },
   {
    "duration": 41,
    "start_time": "2022-01-22T01:25:09.293Z"
   },
   {
    "duration": 38,
    "start_time": "2022-01-22T01:25:09.336Z"
   },
   {
    "duration": 23,
    "start_time": "2022-01-22T01:25:09.377Z"
   },
   {
    "duration": 36,
    "start_time": "2022-01-22T01:25:09.402Z"
   },
   {
    "duration": 693,
    "start_time": "2022-01-22T01:25:09.441Z"
   },
   {
    "duration": 707,
    "start_time": "2022-01-22T01:25:10.137Z"
   },
   {
    "duration": 718,
    "start_time": "2022-01-22T01:25:10.847Z"
   },
   {
    "duration": 367,
    "start_time": "2022-01-22T01:25:11.568Z"
   },
   {
    "duration": 755,
    "start_time": "2022-01-22T01:25:11.937Z"
   },
   {
    "duration": 1175,
    "start_time": "2022-01-22T01:25:12.695Z"
   },
   {
    "duration": 66,
    "start_time": "2022-01-22T01:25:13.872Z"
   },
   {
    "duration": 478,
    "start_time": "2022-01-22T01:25:13.940Z"
   },
   {
    "duration": 841,
    "start_time": "2022-01-22T01:25:14.420Z"
   },
   {
    "duration": 72,
    "start_time": "2022-01-22T01:25:15.264Z"
   },
   {
    "duration": 63,
    "start_time": "2022-01-22T01:25:15.338Z"
   },
   {
    "duration": 86,
    "start_time": "2022-01-22T01:25:15.403Z"
   },
   {
    "duration": 3,
    "start_time": "2022-01-22T01:25:15.492Z"
   },
   {
    "duration": 6,
    "start_time": "2022-01-22T01:25:15.497Z"
   },
   {
    "duration": 7018,
    "start_time": "2022-01-22T01:30:23.417Z"
   },
   {
    "duration": 22,
    "start_time": "2022-01-22T01:30:43.661Z"
   },
   {
    "duration": 9,
    "start_time": "2022-01-22T01:31:03.625Z"
   },
   {
    "duration": 6349,
    "start_time": "2022-01-22T01:31:09.308Z"
   },
   {
    "duration": 7049,
    "start_time": "2022-01-22T01:31:39.896Z"
   },
   {
    "duration": 7138,
    "start_time": "2022-01-22T01:31:54.595Z"
   },
   {
    "duration": 48,
    "start_time": "2022-01-22T01:32:09.413Z"
   },
   {
    "duration": 875,
    "start_time": "2022-01-22T01:32:47.057Z"
   },
   {
    "duration": 62,
    "start_time": "2022-01-22T01:37:00.297Z"
   },
   {
    "duration": 988,
    "start_time": "2022-01-22T01:37:19.310Z"
   },
   {
    "duration": 875,
    "start_time": "2022-01-22T01:37:33.216Z"
   },
   {
    "duration": 968,
    "start_time": "2022-01-22T01:38:13.615Z"
   },
   {
    "duration": 1005,
    "start_time": "2022-01-22T01:38:35.962Z"
   },
   {
    "duration": 61,
    "start_time": "2022-01-22T02:55:28.829Z"
   },
   {
    "duration": 63,
    "start_time": "2022-01-22T02:55:33.476Z"
   },
   {
    "duration": 62,
    "start_time": "2022-01-22T02:55:47.271Z"
   },
   {
    "duration": 93,
    "start_time": "2022-01-22T03:01:49.024Z"
   },
   {
    "duration": 82,
    "start_time": "2022-01-22T03:01:59.786Z"
   },
   {
    "duration": 58,
    "start_time": "2022-01-22T03:02:05.771Z"
   },
   {
    "duration": 1002,
    "start_time": "2022-01-22T03:04:47.309Z"
   },
   {
    "duration": 93,
    "start_time": "2022-01-22T03:05:05.784Z"
   },
   {
    "duration": 994,
    "start_time": "2022-01-22T03:05:11.592Z"
   },
   {
    "duration": 10,
    "start_time": "2022-01-22T03:06:47.794Z"
   },
   {
    "duration": 6,
    "start_time": "2022-01-22T03:07:19.656Z"
   },
   {
    "duration": 14,
    "start_time": "2022-01-22T03:07:26.964Z"
   },
   {
    "duration": 254,
    "start_time": "2022-01-22T03:07:34.075Z"
   },
   {
    "duration": 6,
    "start_time": "2022-01-22T03:07:40.280Z"
   },
   {
    "duration": 241,
    "start_time": "2022-01-22T03:07:43.272Z"
   },
   {
    "duration": 8,
    "start_time": "2022-01-22T03:07:48.525Z"
   },
   {
    "duration": 6,
    "start_time": "2022-01-22T03:07:53.672Z"
   },
   {
    "duration": 91,
    "start_time": "2022-01-22T03:08:04.226Z"
   },
   {
    "duration": 8,
    "start_time": "2022-01-22T03:08:06.865Z"
   },
   {
    "duration": 10,
    "start_time": "2022-01-22T03:12:17.749Z"
   },
   {
    "duration": 14,
    "start_time": "2022-01-22T03:13:00.794Z"
   },
   {
    "duration": 170,
    "start_time": "2022-01-22T03:13:25.053Z"
   },
   {
    "duration": 61,
    "start_time": "2022-01-22T03:13:33.058Z"
   },
   {
    "duration": 6922,
    "start_time": "2022-01-22T03:16:07.399Z"
   },
   {
    "duration": 6,
    "start_time": "2022-01-22T03:16:17.197Z"
   },
   {
    "duration": 8,
    "start_time": "2022-01-22T03:16:48.894Z"
   },
   {
    "duration": 13,
    "start_time": "2022-01-22T03:17:10.914Z"
   },
   {
    "duration": 49,
    "start_time": "2022-01-22T03:17:29.261Z"
   },
   {
    "duration": 52,
    "start_time": "2022-01-22T03:17:59.780Z"
   },
   {
    "duration": 56,
    "start_time": "2022-01-22T03:20:00.148Z"
   },
   {
    "duration": 60,
    "start_time": "2022-01-22T03:21:23.643Z"
   },
   {
    "duration": 61,
    "start_time": "2022-01-22T03:22:33.632Z"
   },
   {
    "duration": 63,
    "start_time": "2022-01-22T03:22:35.428Z"
   },
   {
    "duration": 14,
    "start_time": "2022-01-22T03:23:00.799Z"
   },
   {
    "duration": 93,
    "start_time": "2022-01-22T03:23:15.941Z"
   },
   {
    "duration": 77,
    "start_time": "2022-01-22T03:23:20.923Z"
   },
   {
    "duration": 12,
    "start_time": "2022-01-22T03:23:24.564Z"
   },
   {
    "duration": 1047,
    "start_time": "2022-01-22T03:27:00.725Z"
   },
   {
    "duration": 644,
    "start_time": "2022-01-22T03:27:55.462Z"
   },
   {
    "duration": 1044,
    "start_time": "2022-01-22T03:28:00.536Z"
   },
   {
    "duration": 1111,
    "start_time": "2022-01-22T03:50:22.493Z"
   },
   {
    "duration": 473,
    "start_time": "2022-01-22T03:51:31.552Z"
   },
   {
    "duration": 488,
    "start_time": "2022-01-22T03:52:47.228Z"
   },
   {
    "duration": 1098,
    "start_time": "2022-01-22T03:54:14.738Z"
   },
   {
    "duration": 1178,
    "start_time": "2022-01-22T03:59:53.639Z"
   },
   {
    "duration": 1046,
    "start_time": "2022-01-22T04:00:00.079Z"
   },
   {
    "duration": 935,
    "start_time": "2022-01-22T04:01:36.343Z"
   },
   {
    "duration": 557,
    "start_time": "2022-01-22T04:03:02.534Z"
   },
   {
    "duration": 1173,
    "start_time": "2022-01-22T06:41:07.533Z"
   },
   {
    "duration": 1016,
    "start_time": "2022-01-22T07:16:01.265Z"
   },
   {
    "duration": 6,
    "start_time": "2022-01-22T07:16:50.647Z"
   },
   {
    "duration": 10,
    "start_time": "2022-01-22T07:16:56.663Z"
   },
   {
    "duration": 61,
    "start_time": "2022-01-22T07:18:03.027Z"
   },
   {
    "duration": 1129,
    "start_time": "2022-01-22T07:18:25.421Z"
   },
   {
    "duration": 1063,
    "start_time": "2022-01-22T18:21:56.026Z"
   },
   {
    "duration": 305,
    "start_time": "2022-01-22T18:21:57.091Z"
   },
   {
    "duration": 19,
    "start_time": "2022-01-22T18:21:57.399Z"
   },
   {
    "duration": 12,
    "start_time": "2022-01-22T18:21:57.420Z"
   },
   {
    "duration": 14,
    "start_time": "2022-01-22T18:21:57.434Z"
   },
   {
    "duration": 7,
    "start_time": "2022-01-22T18:21:57.451Z"
   },
   {
    "duration": 42,
    "start_time": "2022-01-22T18:21:57.460Z"
   },
   {
    "duration": 8,
    "start_time": "2022-01-22T18:21:57.505Z"
   },
   {
    "duration": 8,
    "start_time": "2022-01-22T18:21:57.515Z"
   },
   {
    "duration": 11,
    "start_time": "2022-01-22T18:21:57.525Z"
   },
   {
    "duration": 7,
    "start_time": "2022-01-22T18:21:57.538Z"
   },
   {
    "duration": 56,
    "start_time": "2022-01-22T18:21:57.547Z"
   },
   {
    "duration": 7,
    "start_time": "2022-01-22T18:21:57.606Z"
   },
   {
    "duration": 11,
    "start_time": "2022-01-22T18:21:57.615Z"
   },
   {
    "duration": 12,
    "start_time": "2022-01-22T18:21:57.627Z"
   },
   {
    "duration": 6,
    "start_time": "2022-01-22T18:21:57.641Z"
   },
   {
    "duration": 11,
    "start_time": "2022-01-22T18:21:57.649Z"
   },
   {
    "duration": 43,
    "start_time": "2022-01-22T18:21:57.662Z"
   },
   {
    "duration": 9,
    "start_time": "2022-01-22T18:21:57.707Z"
   },
   {
    "duration": 10,
    "start_time": "2022-01-22T18:21:57.717Z"
   },
   {
    "duration": 9,
    "start_time": "2022-01-22T18:21:57.729Z"
   },
   {
    "duration": 6,
    "start_time": "2022-01-22T18:21:57.740Z"
   },
   {
    "duration": 53,
    "start_time": "2022-01-22T18:21:57.749Z"
   },
   {
    "duration": 8,
    "start_time": "2022-01-22T18:21:57.805Z"
   },
   {
    "duration": 35,
    "start_time": "2022-01-22T18:21:57.814Z"
   },
   {
    "duration": 49,
    "start_time": "2022-01-22T18:21:57.850Z"
   },
   {
    "duration": 38,
    "start_time": "2022-01-22T18:21:57.901Z"
   },
   {
    "duration": 10,
    "start_time": "2022-01-22T18:21:57.941Z"
   },
   {
    "duration": 67,
    "start_time": "2022-01-22T18:21:57.953Z"
   },
   {
    "duration": 10,
    "start_time": "2022-01-22T18:21:58.022Z"
   },
   {
    "duration": 6,
    "start_time": "2022-01-22T18:21:58.034Z"
   },
   {
    "duration": 19,
    "start_time": "2022-01-22T18:21:58.041Z"
   },
   {
    "duration": 43,
    "start_time": "2022-01-22T18:21:58.062Z"
   },
   {
    "duration": 23,
    "start_time": "2022-01-22T18:21:58.107Z"
   },
   {
    "duration": 20,
    "start_time": "2022-01-22T18:21:58.132Z"
   },
   {
    "duration": 14,
    "start_time": "2022-01-22T18:21:58.154Z"
   },
   {
    "duration": 34,
    "start_time": "2022-01-22T18:21:58.170Z"
   },
   {
    "duration": 24,
    "start_time": "2022-01-22T18:21:58.206Z"
   },
   {
    "duration": 24,
    "start_time": "2022-01-22T18:21:58.232Z"
   },
   {
    "duration": 56,
    "start_time": "2022-01-22T18:21:58.258Z"
   },
   {
    "duration": 45,
    "start_time": "2022-01-22T18:21:58.316Z"
   },
   {
    "duration": 9,
    "start_time": "2022-01-22T18:21:58.363Z"
   },
   {
    "duration": 58,
    "start_time": "2022-01-22T18:21:58.373Z"
   },
   {
    "duration": 18,
    "start_time": "2022-01-22T18:21:58.433Z"
   },
   {
    "duration": 21,
    "start_time": "2022-01-22T18:21:58.452Z"
   },
   {
    "duration": 44,
    "start_time": "2022-01-22T18:21:58.474Z"
   },
   {
    "duration": 29,
    "start_time": "2022-01-22T18:21:58.520Z"
   },
   {
    "duration": 19,
    "start_time": "2022-01-22T18:21:58.551Z"
   },
   {
    "duration": 48,
    "start_time": "2022-01-22T18:21:58.571Z"
   },
   {
    "duration": 23,
    "start_time": "2022-01-22T18:21:58.621Z"
   },
   {
    "duration": 16,
    "start_time": "2022-01-22T18:21:58.646Z"
   },
   {
    "duration": 51,
    "start_time": "2022-01-22T18:21:58.663Z"
   },
   {
    "duration": 18,
    "start_time": "2022-01-22T18:21:58.715Z"
   },
   {
    "duration": 21,
    "start_time": "2022-01-22T18:21:58.735Z"
   },
   {
    "duration": 57,
    "start_time": "2022-01-22T18:21:58.758Z"
   },
   {
    "duration": 17,
    "start_time": "2022-01-22T18:21:58.817Z"
   },
   {
    "duration": 26,
    "start_time": "2022-01-22T18:21:58.836Z"
   },
   {
    "duration": 45,
    "start_time": "2022-01-22T18:21:58.864Z"
   },
   {
    "duration": 30,
    "start_time": "2022-01-22T18:21:58.911Z"
   },
   {
    "duration": 28,
    "start_time": "2022-01-22T18:21:58.943Z"
   },
   {
    "duration": 45,
    "start_time": "2022-01-22T18:21:58.973Z"
   },
   {
    "duration": 9,
    "start_time": "2022-01-22T18:21:59.020Z"
   },
   {
    "duration": 74,
    "start_time": "2022-01-22T18:21:59.031Z"
   },
   {
    "duration": 10,
    "start_time": "2022-01-22T18:21:59.107Z"
   },
   {
    "duration": 12,
    "start_time": "2022-01-22T18:21:59.118Z"
   },
   {
    "duration": 12,
    "start_time": "2022-01-22T18:21:59.132Z"
   },
   {
    "duration": 11,
    "start_time": "2022-01-22T18:21:59.146Z"
   },
   {
    "duration": 12,
    "start_time": "2022-01-22T18:21:59.200Z"
   },
   {
    "duration": 20,
    "start_time": "2022-01-22T18:21:59.214Z"
   },
   {
    "duration": 11,
    "start_time": "2022-01-22T18:21:59.236Z"
   },
   {
    "duration": 11,
    "start_time": "2022-01-22T18:21:59.249Z"
   },
   {
    "duration": 6,
    "start_time": "2022-01-22T18:21:59.299Z"
   },
   {
    "duration": 8,
    "start_time": "2022-01-22T18:21:59.306Z"
   },
   {
    "duration": 8,
    "start_time": "2022-01-22T18:21:59.315Z"
   },
   {
    "duration": 891,
    "start_time": "2022-01-22T18:21:59.325Z"
   },
   {
    "duration": 22,
    "start_time": "2022-01-22T18:22:00.218Z"
   },
   {
    "duration": 29,
    "start_time": "2022-01-22T18:22:00.242Z"
   },
   {
    "duration": 38,
    "start_time": "2022-01-22T18:22:00.273Z"
   },
   {
    "duration": 7,
    "start_time": "2022-01-22T18:22:00.313Z"
   },
   {
    "duration": 506,
    "start_time": "2022-01-22T18:22:00.321Z"
   },
   {
    "duration": 511,
    "start_time": "2022-01-22T18:22:00.830Z"
   },
   {
    "duration": 521,
    "start_time": "2022-01-22T18:22:01.343Z"
   },
   {
    "duration": 277,
    "start_time": "2022-01-22T18:22:01.866Z"
   },
   {
    "duration": 502,
    "start_time": "2022-01-22T18:22:02.145Z"
   },
   {
    "duration": 848,
    "start_time": "2022-01-22T18:22:02.650Z"
   },
   {
    "duration": 40,
    "start_time": "2022-01-22T18:22:03.500Z"
   },
   {
    "duration": 339,
    "start_time": "2022-01-22T18:22:03.542Z"
   },
   {
    "duration": 570,
    "start_time": "2022-01-22T18:22:03.884Z"
   },
   {
    "duration": 51,
    "start_time": "2022-01-22T18:22:04.456Z"
   },
   {
    "duration": 44,
    "start_time": "2022-01-22T18:22:04.509Z"
   },
   {
    "duration": 63,
    "start_time": "2022-01-22T18:22:04.555Z"
   },
   {
    "duration": 325,
    "start_time": "2022-01-22T18:22:04.619Z"
   },
   {
    "duration": 723,
    "start_time": "2022-01-22T18:22:04.946Z"
   },
   {
    "duration": 497,
    "start_time": "2022-01-22T18:22:05.671Z"
   },
   {
    "duration": 802,
    "start_time": "2022-01-22T18:22:06.170Z"
   },
   {
    "duration": 565,
    "start_time": "2022-01-22T18:36:49.316Z"
   },
   {
    "duration": 98,
    "start_time": "2022-01-22T18:37:38.626Z"
   },
   {
    "duration": 874,
    "start_time": "2022-01-22T18:40:41.520Z"
   },
   {
    "duration": 848,
    "start_time": "2022-01-22T18:40:51.489Z"
   },
   {
    "duration": 812,
    "start_time": "2022-01-22T18:41:08.750Z"
   },
   {
    "duration": 3,
    "start_time": "2022-01-22T18:46:10.953Z"
   },
   {
    "duration": 609,
    "start_time": "2022-01-22T18:49:26.702Z"
   },
   {
    "duration": 649,
    "start_time": "2022-01-22T18:52:57.561Z"
   },
   {
    "duration": 100,
    "start_time": "2022-01-22T18:57:31.612Z"
   },
   {
    "duration": 27890,
    "start_time": "2022-01-22T19:38:56.921Z"
   },
   {
    "duration": 359,
    "start_time": "2022-01-22T19:39:50.583Z"
   },
   {
    "duration": 20,
    "start_time": "2022-01-22T19:40:01.535Z"
   },
   {
    "duration": 6553,
    "start_time": "2022-01-22T19:40:28.637Z"
   },
   {
    "duration": 14,
    "start_time": "2022-01-22T19:40:54.674Z"
   },
   {
    "duration": 7058,
    "start_time": "2022-01-22T19:41:26.183Z"
   },
   {
    "duration": 560,
    "start_time": "2022-01-22T19:41:37.335Z"
   },
   {
    "duration": 536,
    "start_time": "2022-01-22T19:41:55.132Z"
   },
   {
    "duration": 18,
    "start_time": "2022-01-22T19:42:10.015Z"
   },
   {
    "duration": 7188,
    "start_time": "2022-01-22T19:48:03.252Z"
   },
   {
    "duration": 27292,
    "start_time": "2022-01-22T19:48:56.021Z"
   },
   {
    "duration": 26822,
    "start_time": "2022-01-22T19:49:54.147Z"
   },
   {
    "duration": 7864,
    "start_time": "2022-01-22T19:50:51.420Z"
   },
   {
    "duration": 32055,
    "start_time": "2022-01-22T19:51:18.060Z"
   },
   {
    "duration": 513,
    "start_time": "2022-01-22T19:53:05.493Z"
   },
   {
    "duration": 551,
    "start_time": "2022-01-22T19:55:44.406Z"
   },
   {
    "duration": 493,
    "start_time": "2022-01-22T19:55:57.366Z"
   },
   {
    "duration": 95,
    "start_time": "2022-01-22T20:05:39.058Z"
   },
   {
    "duration": 465,
    "start_time": "2022-01-22T20:05:43.420Z"
   },
   {
    "duration": 369,
    "start_time": "2022-01-22T20:10:16.179Z"
   },
   {
    "duration": 955,
    "start_time": "2022-01-22T20:11:18.922Z"
   },
   {
    "duration": 371,
    "start_time": "2022-01-22T20:11:29.874Z"
   },
   {
    "duration": 365,
    "start_time": "2022-01-22T20:12:51.185Z"
   },
   {
    "duration": 10,
    "start_time": "2022-01-22T20:14:42.384Z"
   },
   {
    "duration": 8,
    "start_time": "2022-01-22T20:15:49.050Z"
   },
   {
    "duration": 9,
    "start_time": "2022-01-22T20:16:00.308Z"
   },
   {
    "duration": 7,
    "start_time": "2022-01-22T20:16:06.454Z"
   },
   {
    "duration": 6,
    "start_time": "2022-01-22T20:16:11.019Z"
   },
   {
    "duration": 6743,
    "start_time": "2022-01-22T20:16:39.547Z"
   },
   {
    "duration": 11,
    "start_time": "2022-01-22T20:16:49.379Z"
   },
   {
    "duration": 7349,
    "start_time": "2022-01-22T20:17:00.911Z"
   },
   {
    "duration": 86,
    "start_time": "2022-01-22T20:17:18.303Z"
   },
   {
    "duration": 8048,
    "start_time": "2022-01-22T20:17:20.537Z"
   },
   {
    "duration": 11,
    "start_time": "2022-01-22T20:17:58.723Z"
   },
   {
    "duration": 664,
    "start_time": "2022-01-22T20:18:23.115Z"
   },
   {
    "duration": 250,
    "start_time": "2022-01-22T20:18:32.609Z"
   },
   {
    "duration": 283,
    "start_time": "2022-01-22T20:19:28.162Z"
   },
   {
    "duration": 1074,
    "start_time": "2022-01-22T20:20:30.991Z"
   },
   {
    "duration": 256,
    "start_time": "2022-01-22T20:20:54.898Z"
   },
   {
    "duration": 262,
    "start_time": "2022-01-22T20:21:01.686Z"
   },
   {
    "duration": 341,
    "start_time": "2022-01-22T20:21:09.512Z"
   },
   {
    "duration": 11,
    "start_time": "2022-01-22T20:21:15.718Z"
   },
   {
    "duration": 338,
    "start_time": "2022-01-22T20:21:58.766Z"
   },
   {
    "duration": 294,
    "start_time": "2022-01-22T20:46:40.178Z"
   },
   {
    "duration": 301,
    "start_time": "2022-01-22T20:49:28.530Z"
   },
   {
    "duration": 302,
    "start_time": "2022-01-22T20:49:42.876Z"
   },
   {
    "duration": 298,
    "start_time": "2022-01-22T20:49:54.135Z"
   },
   {
    "duration": 327,
    "start_time": "2022-01-22T20:50:01.387Z"
   },
   {
    "duration": 304,
    "start_time": "2022-01-22T20:50:13.670Z"
   },
   {
    "duration": 387,
    "start_time": "2022-01-22T20:50:34.494Z"
   },
   {
    "duration": 313,
    "start_time": "2022-01-22T20:50:39.077Z"
   },
   {
    "duration": 301,
    "start_time": "2022-01-22T20:50:42.342Z"
   },
   {
    "duration": 314,
    "start_time": "2022-01-22T20:50:46.563Z"
   },
   {
    "duration": 319,
    "start_time": "2022-01-22T20:50:50.968Z"
   },
   {
    "duration": 297,
    "start_time": "2022-01-22T20:50:54.519Z"
   },
   {
    "duration": 312,
    "start_time": "2022-01-22T20:51:06.107Z"
   },
   {
    "duration": 313,
    "start_time": "2022-01-22T20:52:45.311Z"
   },
   {
    "duration": 597,
    "start_time": "2022-01-22T20:59:38.489Z"
   },
   {
    "duration": 667,
    "start_time": "2022-01-22T21:00:09.685Z"
   },
   {
    "duration": 240,
    "start_time": "2022-01-22T21:00:14.710Z"
   },
   {
    "duration": 293,
    "start_time": "2022-01-22T23:13:49.825Z"
   },
   {
    "duration": 269,
    "start_time": "2022-01-22T23:14:45.772Z"
   },
   {
    "duration": 485,
    "start_time": "2022-01-22T23:15:58.382Z"
   },
   {
    "duration": 8,
    "start_time": "2022-01-22T23:16:20.681Z"
   },
   {
    "duration": 278,
    "start_time": "2022-01-22T23:16:31.955Z"
   },
   {
    "duration": 8,
    "start_time": "2022-01-22T23:16:35.461Z"
   },
   {
    "duration": 8,
    "start_time": "2022-01-22T23:20:24.217Z"
   },
   {
    "duration": 8,
    "start_time": "2022-01-22T23:21:05.695Z"
   },
   {
    "duration": 84,
    "start_time": "2022-01-22T23:22:43.006Z"
   },
   {
    "duration": 82,
    "start_time": "2022-01-22T23:22:46.585Z"
   },
   {
    "duration": 11,
    "start_time": "2022-01-22T23:22:51.719Z"
   },
   {
    "duration": 11,
    "start_time": "2022-01-22T23:23:02.241Z"
   },
   {
    "duration": 11,
    "start_time": "2022-01-22T23:23:05.984Z"
   },
   {
    "duration": 6,
    "start_time": "2022-01-22T23:23:17.155Z"
   },
   {
    "duration": 261,
    "start_time": "2022-01-22T23:25:24.619Z"
   },
   {
    "duration": 296,
    "start_time": "2022-01-22T23:26:32.242Z"
   },
   {
    "duration": 3,
    "start_time": "2022-01-22T23:26:47.387Z"
   },
   {
    "duration": 270,
    "start_time": "2022-01-22T23:26:53.341Z"
   },
   {
    "duration": 271,
    "start_time": "2022-01-22T23:27:48.629Z"
   },
   {
    "duration": 7,
    "start_time": "2022-01-22T23:27:57.145Z"
   },
   {
    "duration": 260,
    "start_time": "2022-01-22T23:28:19.228Z"
   },
   {
    "duration": 262,
    "start_time": "2022-01-22T23:28:21.867Z"
   },
   {
    "duration": 4,
    "start_time": "2022-01-22T23:28:56.090Z"
   },
   {
    "duration": 294,
    "start_time": "2022-01-22T23:29:01.842Z"
   },
   {
    "duration": 41,
    "start_time": "2022-01-22T23:29:07.752Z"
   },
   {
    "duration": 11,
    "start_time": "2022-01-22T23:32:17.792Z"
   },
   {
    "duration": 11,
    "start_time": "2022-01-22T23:32:31.083Z"
   },
   {
    "duration": 7,
    "start_time": "2022-01-22T23:34:06.538Z"
   },
   {
    "duration": 6,
    "start_time": "2022-01-22T23:34:10.976Z"
   },
   {
    "duration": 6,
    "start_time": "2022-01-22T23:34:26.011Z"
   },
   {
    "duration": 237,
    "start_time": "2022-01-22T23:35:55.633Z"
   },
   {
    "duration": 286,
    "start_time": "2022-01-22T23:36:18.900Z"
   },
   {
    "duration": 11,
    "start_time": "2022-01-22T23:36:28.967Z"
   },
   {
    "duration": 13,
    "start_time": "2022-01-22T23:39:53.902Z"
   },
   {
    "duration": 14,
    "start_time": "2022-01-22T23:40:05.137Z"
   },
   {
    "duration": 14,
    "start_time": "2022-01-22T23:40:14.251Z"
   },
   {
    "duration": 16,
    "start_time": "2022-01-22T23:41:04.673Z"
   },
   {
    "duration": 14,
    "start_time": "2022-01-22T23:41:12.579Z"
   },
   {
    "duration": 105095,
    "start_time": "2022-01-22T23:43:48.236Z"
   },
   {
    "duration": 264,
    "start_time": "2022-01-22T23:48:16.701Z"
   },
   {
    "duration": 276,
    "start_time": "2022-01-22T23:48:29.535Z"
   },
   {
    "duration": 277,
    "start_time": "2022-01-22T23:48:49.122Z"
   },
   {
    "duration": 274,
    "start_time": "2022-01-22T23:48:52.707Z"
   },
   {
    "duration": 6,
    "start_time": "2022-01-22T23:48:56.885Z"
   },
   {
    "duration": 7,
    "start_time": "2022-01-22T23:49:03.429Z"
   },
   {
    "duration": 312,
    "start_time": "2022-01-22T23:49:14.399Z"
   },
   {
    "duration": 7,
    "start_time": "2022-01-22T23:49:22.616Z"
   },
   {
    "duration": 5,
    "start_time": "2022-01-23T00:00:22.879Z"
   },
   {
    "duration": 4,
    "start_time": "2022-01-23T00:00:38.507Z"
   },
   {
    "duration": 83,
    "start_time": "2022-01-23T00:02:28.731Z"
   },
   {
    "duration": 261,
    "start_time": "2022-01-23T00:03:14.372Z"
   },
   {
    "duration": 6,
    "start_time": "2022-01-23T00:03:27.535Z"
   },
   {
    "duration": 7,
    "start_time": "2022-01-23T00:03:44.456Z"
   },
   {
    "duration": 6,
    "start_time": "2022-01-23T00:08:01.857Z"
   },
   {
    "duration": 6,
    "start_time": "2022-01-23T00:08:16.939Z"
   },
   {
    "duration": 15,
    "start_time": "2022-01-23T00:09:17.053Z"
   },
   {
    "duration": 14,
    "start_time": "2022-01-23T00:09:19.804Z"
   },
   {
    "duration": 6,
    "start_time": "2022-01-23T00:10:19.616Z"
   },
   {
    "duration": 6,
    "start_time": "2022-01-23T00:10:52.442Z"
   },
   {
    "duration": 6,
    "start_time": "2022-01-23T00:10:58.349Z"
   },
   {
    "duration": 6,
    "start_time": "2022-01-23T00:12:56.831Z"
   },
   {
    "duration": 6,
    "start_time": "2022-01-23T00:13:16.171Z"
   },
   {
    "duration": 5,
    "start_time": "2022-01-23T00:14:17.595Z"
   },
   {
    "duration": 5,
    "start_time": "2022-01-23T00:14:38.296Z"
   },
   {
    "duration": 6,
    "start_time": "2022-01-23T00:14:44.450Z"
   },
   {
    "duration": 6,
    "start_time": "2022-01-23T00:14:48.473Z"
   },
   {
    "duration": 7,
    "start_time": "2022-01-23T00:15:22.639Z"
   },
   {
    "duration": 5,
    "start_time": "2022-01-23T00:20:47.425Z"
   },
   {
    "duration": 88,
    "start_time": "2022-01-23T00:38:22.855Z"
   },
   {
    "duration": 92,
    "start_time": "2022-01-23T00:38:43.271Z"
   },
   {
    "duration": 11,
    "start_time": "2022-01-23T00:38:57.686Z"
   },
   {
    "duration": 12,
    "start_time": "2022-01-23T00:39:06.550Z"
   },
   {
    "duration": 5,
    "start_time": "2022-01-23T01:00:26.394Z"
   },
   {
    "duration": 5,
    "start_time": "2022-01-23T01:00:29.265Z"
   },
   {
    "duration": 40,
    "start_time": "2022-01-23T04:11:15.873Z"
   },
   {
    "duration": 24,
    "start_time": "2022-01-23T04:11:34.581Z"
   },
   {
    "duration": 294,
    "start_time": "2022-01-23T04:41:59.774Z"
   },
   {
    "duration": 338,
    "start_time": "2022-01-23T04:46:36.353Z"
   },
   {
    "duration": 307,
    "start_time": "2022-01-23T04:47:08.280Z"
   },
   {
    "duration": 91,
    "start_time": "2022-01-23T04:50:12.772Z"
   },
   {
    "duration": 308,
    "start_time": "2022-01-23T04:50:16.925Z"
   },
   {
    "duration": 9,
    "start_time": "2022-01-23T04:50:23.791Z"
   },
   {
    "duration": 8,
    "start_time": "2022-01-23T04:50:31.318Z"
   },
   {
    "duration": 8,
    "start_time": "2022-01-23T04:50:57.835Z"
   },
   {
    "duration": 12,
    "start_time": "2022-01-23T04:53:26.841Z"
   },
   {
    "duration": 1080,
    "start_time": "2022-01-23T05:15:21.305Z"
   },
   {
    "duration": 316,
    "start_time": "2022-01-23T05:15:22.387Z"
   },
   {
    "duration": 26,
    "start_time": "2022-01-23T05:15:22.706Z"
   },
   {
    "duration": 11,
    "start_time": "2022-01-23T05:15:22.735Z"
   },
   {
    "duration": 16,
    "start_time": "2022-01-23T05:15:22.748Z"
   },
   {
    "duration": 34,
    "start_time": "2022-01-23T05:15:22.765Z"
   },
   {
    "duration": 11,
    "start_time": "2022-01-23T05:15:22.801Z"
   },
   {
    "duration": 7,
    "start_time": "2022-01-23T05:15:22.814Z"
   },
   {
    "duration": 6,
    "start_time": "2022-01-23T05:15:22.823Z"
   },
   {
    "duration": 10,
    "start_time": "2022-01-23T05:15:22.831Z"
   },
   {
    "duration": 7,
    "start_time": "2022-01-23T05:15:22.843Z"
   },
   {
    "duration": 11,
    "start_time": "2022-01-23T05:15:22.852Z"
   },
   {
    "duration": 7,
    "start_time": "2022-01-23T05:15:22.898Z"
   },
   {
    "duration": 13,
    "start_time": "2022-01-23T05:15:22.906Z"
   },
   {
    "duration": 13,
    "start_time": "2022-01-23T05:15:22.920Z"
   },
   {
    "duration": 5,
    "start_time": "2022-01-23T05:15:22.934Z"
   },
   {
    "duration": 11,
    "start_time": "2022-01-23T05:15:22.941Z"
   },
   {
    "duration": 45,
    "start_time": "2022-01-23T05:15:22.954Z"
   },
   {
    "duration": 9,
    "start_time": "2022-01-23T05:15:23.000Z"
   },
   {
    "duration": 10,
    "start_time": "2022-01-23T05:15:23.011Z"
   },
   {
    "duration": 10,
    "start_time": "2022-01-23T05:15:23.023Z"
   },
   {
    "duration": 6,
    "start_time": "2022-01-23T05:15:23.035Z"
   },
   {
    "duration": 15,
    "start_time": "2022-01-23T05:15:23.045Z"
   },
   {
    "duration": 37,
    "start_time": "2022-01-23T05:15:23.063Z"
   },
   {
    "duration": 32,
    "start_time": "2022-01-23T05:15:23.102Z"
   },
   {
    "duration": 83,
    "start_time": "2022-01-23T05:15:23.135Z"
   },
   {
    "duration": 11,
    "start_time": "2022-01-23T05:15:23.219Z"
   },
   {
    "duration": 46,
    "start_time": "2022-01-23T05:15:23.232Z"
   },
   {
    "duration": 10,
    "start_time": "2022-01-23T05:15:23.299Z"
   },
   {
    "duration": 7,
    "start_time": "2022-01-23T05:15:23.311Z"
   },
   {
    "duration": 19,
    "start_time": "2022-01-23T05:15:23.319Z"
   },
   {
    "duration": 64,
    "start_time": "2022-01-23T05:15:23.339Z"
   },
   {
    "duration": 20,
    "start_time": "2022-01-23T05:15:23.404Z"
   },
   {
    "duration": 14,
    "start_time": "2022-01-23T05:15:23.425Z"
   },
   {
    "duration": 9,
    "start_time": "2022-01-23T05:15:23.441Z"
   },
   {
    "duration": 51,
    "start_time": "2022-01-23T05:15:23.452Z"
   },
   {
    "duration": 56,
    "start_time": "2022-01-23T05:15:23.505Z"
   },
   {
    "duration": 64,
    "start_time": "2022-01-23T05:15:23.563Z"
   },
   {
    "duration": 11,
    "start_time": "2022-01-23T05:15:23.629Z"
   },
   {
    "duration": 62,
    "start_time": "2022-01-23T05:15:23.642Z"
   },
   {
    "duration": 18,
    "start_time": "2022-01-23T05:15:23.706Z"
   },
   {
    "duration": 21,
    "start_time": "2022-01-23T05:15:23.725Z"
   },
   {
    "duration": 51,
    "start_time": "2022-01-23T05:15:23.748Z"
   },
   {
    "duration": 29,
    "start_time": "2022-01-23T05:15:23.801Z"
   },
   {
    "duration": 16,
    "start_time": "2022-01-23T05:15:23.831Z"
   },
   {
    "duration": 22,
    "start_time": "2022-01-23T05:15:23.849Z"
   },
   {
    "duration": 24,
    "start_time": "2022-01-23T05:15:23.898Z"
   },
   {
    "duration": 17,
    "start_time": "2022-01-23T05:15:23.923Z"
   },
   {
    "duration": 29,
    "start_time": "2022-01-23T05:15:23.942Z"
   },
   {
    "duration": 40,
    "start_time": "2022-01-23T05:15:23.972Z"
   },
   {
    "duration": 21,
    "start_time": "2022-01-23T05:15:24.014Z"
   },
   {
    "duration": 25,
    "start_time": "2022-01-23T05:15:24.037Z"
   },
   {
    "duration": 38,
    "start_time": "2022-01-23T05:15:24.063Z"
   },
   {
    "duration": 23,
    "start_time": "2022-01-23T05:15:24.103Z"
   },
   {
    "duration": 16,
    "start_time": "2022-01-23T05:15:24.127Z"
   },
   {
    "duration": 55,
    "start_time": "2022-01-23T05:15:24.145Z"
   },
   {
    "duration": 24,
    "start_time": "2022-01-23T05:15:24.201Z"
   },
   {
    "duration": 20,
    "start_time": "2022-01-23T05:15:24.227Z"
   },
   {
    "duration": 7,
    "start_time": "2022-01-23T05:15:24.248Z"
   },
   {
    "duration": 68,
    "start_time": "2022-01-23T05:15:24.256Z"
   },
   {
    "duration": 8,
    "start_time": "2022-01-23T05:15:24.326Z"
   },
   {
    "duration": 11,
    "start_time": "2022-01-23T05:15:24.336Z"
   },
   {
    "duration": 10,
    "start_time": "2022-01-23T05:15:24.349Z"
   },
   {
    "duration": 43,
    "start_time": "2022-01-23T05:15:24.361Z"
   },
   {
    "duration": 11,
    "start_time": "2022-01-23T05:15:24.405Z"
   },
   {
    "duration": 20,
    "start_time": "2022-01-23T05:15:24.417Z"
   },
   {
    "duration": 11,
    "start_time": "2022-01-23T05:15:24.438Z"
   },
   {
    "duration": 11,
    "start_time": "2022-01-23T05:15:24.454Z"
   },
   {
    "duration": 33,
    "start_time": "2022-01-23T05:15:24.467Z"
   },
   {
    "duration": 7,
    "start_time": "2022-01-23T05:15:24.502Z"
   },
   {
    "duration": 8,
    "start_time": "2022-01-23T05:15:24.510Z"
   },
   {
    "duration": 883,
    "start_time": "2022-01-23T05:15:24.519Z"
   },
   {
    "duration": 20,
    "start_time": "2022-01-23T05:15:25.404Z"
   },
   {
    "duration": 25,
    "start_time": "2022-01-23T05:15:25.426Z"
   },
   {
    "duration": 15,
    "start_time": "2022-01-23T05:15:25.453Z"
   },
   {
    "duration": 32,
    "start_time": "2022-01-23T05:15:25.469Z"
   },
   {
    "duration": 460,
    "start_time": "2022-01-23T05:15:25.503Z"
   },
   {
    "duration": 471,
    "start_time": "2022-01-23T05:15:25.965Z"
   },
   {
    "duration": 495,
    "start_time": "2022-01-23T05:15:26.438Z"
   },
   {
    "duration": 250,
    "start_time": "2022-01-23T05:15:26.935Z"
   },
   {
    "duration": 449,
    "start_time": "2022-01-23T05:15:27.187Z"
   },
   {
    "duration": 798,
    "start_time": "2022-01-23T05:15:27.638Z"
   },
   {
    "duration": 35,
    "start_time": "2022-01-23T05:15:28.438Z"
   },
   {
    "duration": 327,
    "start_time": "2022-01-23T05:15:28.475Z"
   },
   {
    "duration": 552,
    "start_time": "2022-01-23T05:15:28.803Z"
   },
   {
    "duration": 53,
    "start_time": "2022-01-23T05:15:29.357Z"
   },
   {
    "duration": 41,
    "start_time": "2022-01-23T05:15:29.412Z"
   },
   {
    "duration": 56,
    "start_time": "2022-01-23T05:15:29.455Z"
   },
   {
    "duration": 315,
    "start_time": "2022-01-23T05:15:29.513Z"
   },
   {
    "duration": 585,
    "start_time": "2022-01-23T05:15:29.830Z"
   },
   {
    "duration": 198,
    "start_time": "2022-01-23T05:15:30.417Z"
   },
   {
    "duration": 481,
    "start_time": "2022-01-23T05:15:30.617Z"
   },
   {
    "duration": 423,
    "start_time": "2022-01-23T05:15:31.100Z"
   },
   {
    "duration": 824,
    "start_time": "2022-01-23T05:15:31.525Z"
   },
   {
    "duration": 330,
    "start_time": "2022-01-23T05:15:32.350Z"
   },
   {
    "duration": 310,
    "start_time": "2022-01-23T05:15:32.682Z"
   },
   {
    "duration": 644,
    "start_time": "2022-01-23T05:15:32.998Z"
   },
   {
    "duration": 107,
    "start_time": "2022-01-23T05:15:33.644Z"
   },
   {
    "duration": 351,
    "start_time": "2022-01-23T05:15:33.753Z"
   },
   {
    "duration": 359,
    "start_time": "2022-01-23T05:15:34.106Z"
   },
   {
    "duration": 311,
    "start_time": "2022-01-23T05:15:34.467Z"
   },
   {
    "duration": 376,
    "start_time": "2022-01-23T05:15:34.781Z"
   },
   {
    "duration": 168,
    "start_time": "2022-01-23T05:15:34.991Z"
   },
   {
    "duration": 166,
    "start_time": "2022-01-23T05:15:34.995Z"
   },
   {
    "duration": 14,
    "start_time": "2022-01-23T05:16:01.505Z"
   },
   {
    "duration": 12,
    "start_time": "2022-01-23T05:16:04.935Z"
   },
   {
    "duration": 321,
    "start_time": "2022-01-23T05:16:07.484Z"
   },
   {
    "duration": 11,
    "start_time": "2022-01-23T05:16:18.898Z"
   },
   {
    "duration": 1514,
    "start_time": "2022-01-23T09:52:45.638Z"
   },
   {
    "duration": 390,
    "start_time": "2022-01-23T09:52:47.154Z"
   },
   {
    "duration": 22,
    "start_time": "2022-01-23T09:52:47.547Z"
   },
   {
    "duration": 14,
    "start_time": "2022-01-23T09:52:47.572Z"
   },
   {
    "duration": 18,
    "start_time": "2022-01-23T09:52:47.589Z"
   },
   {
    "duration": 10,
    "start_time": "2022-01-23T09:52:47.609Z"
   },
   {
    "duration": 21,
    "start_time": "2022-01-23T09:52:47.660Z"
   },
   {
    "duration": 12,
    "start_time": "2022-01-23T09:52:47.686Z"
   },
   {
    "duration": 13,
    "start_time": "2022-01-23T09:52:47.702Z"
   },
   {
    "duration": 47,
    "start_time": "2022-01-23T09:52:47.717Z"
   },
   {
    "duration": 8,
    "start_time": "2022-01-23T09:52:47.767Z"
   },
   {
    "duration": 16,
    "start_time": "2022-01-23T09:52:47.778Z"
   },
   {
    "duration": 11,
    "start_time": "2022-01-23T09:52:47.796Z"
   },
   {
    "duration": 51,
    "start_time": "2022-01-23T09:52:47.810Z"
   },
   {
    "duration": 28,
    "start_time": "2022-01-23T09:52:47.864Z"
   },
   {
    "duration": 10,
    "start_time": "2022-01-23T09:52:47.895Z"
   },
   {
    "duration": 16,
    "start_time": "2022-01-23T09:52:47.908Z"
   },
   {
    "duration": 12,
    "start_time": "2022-01-23T09:52:47.960Z"
   },
   {
    "duration": 14,
    "start_time": "2022-01-23T09:52:47.975Z"
   },
   {
    "duration": 17,
    "start_time": "2022-01-23T09:52:47.992Z"
   },
   {
    "duration": 51,
    "start_time": "2022-01-23T09:52:48.012Z"
   },
   {
    "duration": 9,
    "start_time": "2022-01-23T09:52:48.066Z"
   },
   {
    "duration": 21,
    "start_time": "2022-01-23T09:52:48.081Z"
   },
   {
    "duration": 11,
    "start_time": "2022-01-23T09:52:48.106Z"
   },
   {
    "duration": 49,
    "start_time": "2022-01-23T09:52:48.159Z"
   },
   {
    "duration": 115,
    "start_time": "2022-01-23T09:52:48.211Z"
   },
   {
    "duration": 16,
    "start_time": "2022-01-23T09:52:48.328Z"
   },
   {
    "duration": 67,
    "start_time": "2022-01-23T09:52:48.358Z"
   },
   {
    "duration": 36,
    "start_time": "2022-01-23T09:52:48.427Z"
   },
   {
    "duration": 10,
    "start_time": "2022-01-23T09:52:48.466Z"
   },
   {
    "duration": 32,
    "start_time": "2022-01-23T09:52:48.478Z"
   },
   {
    "duration": 96,
    "start_time": "2022-01-23T09:52:48.512Z"
   },
   {
    "duration": 34,
    "start_time": "2022-01-23T09:52:48.611Z"
   },
   {
    "duration": 21,
    "start_time": "2022-01-23T09:52:48.660Z"
   },
   {
    "duration": 12,
    "start_time": "2022-01-23T09:52:48.684Z"
   },
   {
    "duration": 69,
    "start_time": "2022-01-23T09:52:48.699Z"
   },
   {
    "duration": 72,
    "start_time": "2022-01-23T09:52:48.771Z"
   },
   {
    "duration": 74,
    "start_time": "2022-01-23T09:52:48.845Z"
   },
   {
    "duration": 13,
    "start_time": "2022-01-23T09:52:48.921Z"
   },
   {
    "duration": 78,
    "start_time": "2022-01-23T09:52:48.960Z"
   },
   {
    "duration": 40,
    "start_time": "2022-01-23T09:52:49.040Z"
   },
   {
    "duration": 32,
    "start_time": "2022-01-23T09:52:49.082Z"
   },
   {
    "duration": 60,
    "start_time": "2022-01-23T09:52:49.116Z"
   },
   {
    "duration": 41,
    "start_time": "2022-01-23T09:52:49.178Z"
   },
   {
    "duration": 51,
    "start_time": "2022-01-23T09:52:49.222Z"
   },
   {
    "duration": 49,
    "start_time": "2022-01-23T09:52:49.277Z"
   },
   {
    "duration": 62,
    "start_time": "2022-01-23T09:52:49.330Z"
   },
   {
    "duration": 37,
    "start_time": "2022-01-23T09:52:49.395Z"
   },
   {
    "duration": 44,
    "start_time": "2022-01-23T09:52:49.459Z"
   },
   {
    "duration": 25,
    "start_time": "2022-01-23T09:52:49.505Z"
   },
   {
    "duration": 33,
    "start_time": "2022-01-23T09:52:49.560Z"
   },
   {
    "duration": 65,
    "start_time": "2022-01-23T09:52:49.596Z"
   },
   {
    "duration": 28,
    "start_time": "2022-01-23T09:52:49.663Z"
   },
   {
    "duration": 36,
    "start_time": "2022-01-23T09:52:49.694Z"
   },
   {
    "duration": 25,
    "start_time": "2022-01-23T09:52:49.760Z"
   },
   {
    "duration": 43,
    "start_time": "2022-01-23T09:52:49.787Z"
   },
   {
    "duration": 64,
    "start_time": "2022-01-23T09:52:49.832Z"
   },
   {
    "duration": 63,
    "start_time": "2022-01-23T09:52:49.899Z"
   },
   {
    "duration": 12,
    "start_time": "2022-01-23T09:52:49.965Z"
   },
   {
    "duration": 90,
    "start_time": "2022-01-23T09:52:49.980Z"
   },
   {
    "duration": 15,
    "start_time": "2022-01-23T09:52:50.072Z"
   },
   {
    "duration": 20,
    "start_time": "2022-01-23T09:52:50.089Z"
   },
   {
    "duration": 55,
    "start_time": "2022-01-23T09:52:50.112Z"
   },
   {
    "duration": 15,
    "start_time": "2022-01-23T09:52:50.170Z"
   },
   {
    "duration": 16,
    "start_time": "2022-01-23T09:52:50.187Z"
   },
   {
    "duration": 70,
    "start_time": "2022-01-23T09:52:50.205Z"
   },
   {
    "duration": 14,
    "start_time": "2022-01-23T09:52:50.278Z"
   },
   {
    "duration": 14,
    "start_time": "2022-01-23T09:52:50.300Z"
   },
   {
    "duration": 6,
    "start_time": "2022-01-23T09:52:50.317Z"
   },
   {
    "duration": 41,
    "start_time": "2022-01-23T09:52:50.325Z"
   },
   {
    "duration": 12,
    "start_time": "2022-01-23T09:52:50.368Z"
   },
   {
    "duration": 1583,
    "start_time": "2022-01-23T09:52:50.382Z"
   },
   {
    "duration": 31,
    "start_time": "2022-01-23T09:52:51.967Z"
   },
   {
    "duration": 60,
    "start_time": "2022-01-23T09:52:52.001Z"
   },
   {
    "duration": 22,
    "start_time": "2022-01-23T09:52:52.064Z"
   },
   {
    "duration": 6,
    "start_time": "2022-01-23T09:52:52.089Z"
   },
   {
    "duration": 740,
    "start_time": "2022-01-23T09:52:52.098Z"
   },
   {
    "duration": 725,
    "start_time": "2022-01-23T09:52:52.841Z"
   },
   {
    "duration": 721,
    "start_time": "2022-01-23T09:52:53.568Z"
   },
   {
    "duration": 379,
    "start_time": "2022-01-23T09:52:54.291Z"
   },
   {
    "duration": 648,
    "start_time": "2022-01-23T09:52:54.672Z"
   },
   {
    "duration": 1219,
    "start_time": "2022-01-23T09:52:55.322Z"
   },
   {
    "duration": 60,
    "start_time": "2022-01-23T09:52:56.544Z"
   },
   {
    "duration": 507,
    "start_time": "2022-01-23T09:52:56.606Z"
   },
   {
    "duration": 839,
    "start_time": "2022-01-23T09:52:57.116Z"
   },
   {
    "duration": 64,
    "start_time": "2022-01-23T09:52:57.960Z"
   },
   {
    "duration": 83,
    "start_time": "2022-01-23T09:52:58.026Z"
   },
   {
    "duration": 85,
    "start_time": "2022-01-23T09:52:58.111Z"
   },
   {
    "duration": 499,
    "start_time": "2022-01-23T09:52:58.199Z"
   },
   {
    "duration": 919,
    "start_time": "2022-01-23T09:52:58.700Z"
   },
   {
    "duration": 267,
    "start_time": "2022-01-23T09:52:59.622Z"
   },
   {
    "duration": 735,
    "start_time": "2022-01-23T09:52:59.892Z"
   },
   {
    "duration": 652,
    "start_time": "2022-01-23T09:53:00.631Z"
   },
   {
    "duration": 1283,
    "start_time": "2022-01-23T09:53:01.286Z"
   },
   {
    "duration": 511,
    "start_time": "2022-01-23T09:53:02.572Z"
   },
   {
    "duration": 484,
    "start_time": "2022-01-23T09:53:03.086Z"
   },
   {
    "duration": 1048,
    "start_time": "2022-01-23T09:53:03.572Z"
   },
   {
    "duration": 162,
    "start_time": "2022-01-23T09:53:04.622Z"
   },
   {
    "duration": 516,
    "start_time": "2022-01-23T09:53:04.786Z"
   },
   {
    "duration": 554,
    "start_time": "2022-01-23T09:53:05.305Z"
   },
   {
    "duration": 603,
    "start_time": "2022-01-23T09:53:05.862Z"
   },
   {
    "duration": 19,
    "start_time": "2022-01-23T09:53:06.468Z"
   },
   {
    "duration": 15,
    "start_time": "2022-01-23T09:53:06.489Z"
   },
   {
    "duration": 14,
    "start_time": "2022-01-23T09:53:06.507Z"
   },
   {
    "duration": 1506,
    "start_time": "2022-01-23T14:04:09.819Z"
   },
   {
    "duration": 440,
    "start_time": "2022-01-23T14:04:11.328Z"
   },
   {
    "duration": 25,
    "start_time": "2022-01-23T14:04:11.771Z"
   },
   {
    "duration": 16,
    "start_time": "2022-01-23T14:04:11.799Z"
   },
   {
    "duration": 51,
    "start_time": "2022-01-23T14:04:11.817Z"
   },
   {
    "duration": 12,
    "start_time": "2022-01-23T14:04:11.870Z"
   },
   {
    "duration": 20,
    "start_time": "2022-01-23T14:04:11.885Z"
   },
   {
    "duration": 51,
    "start_time": "2022-01-23T14:04:11.911Z"
   },
   {
    "duration": 12,
    "start_time": "2022-01-23T14:04:11.966Z"
   },
   {
    "duration": 19,
    "start_time": "2022-01-23T14:04:11.981Z"
   },
   {
    "duration": 60,
    "start_time": "2022-01-23T14:04:12.003Z"
   },
   {
    "duration": 20,
    "start_time": "2022-01-23T14:04:12.066Z"
   },
   {
    "duration": 11,
    "start_time": "2022-01-23T14:04:12.090Z"
   },
   {
    "duration": 68,
    "start_time": "2022-01-23T14:04:12.104Z"
   },
   {
    "duration": 21,
    "start_time": "2022-01-23T14:04:12.175Z"
   },
   {
    "duration": 10,
    "start_time": "2022-01-23T14:04:12.199Z"
   },
   {
    "duration": 64,
    "start_time": "2022-01-23T14:04:12.211Z"
   },
   {
    "duration": 14,
    "start_time": "2022-01-23T14:04:12.278Z"
   },
   {
    "duration": 17,
    "start_time": "2022-01-23T14:04:12.295Z"
   },
   {
    "duration": 16,
    "start_time": "2022-01-23T14:04:12.361Z"
   },
   {
    "duration": 11,
    "start_time": "2022-01-23T14:04:12.380Z"
   },
   {
    "duration": 9,
    "start_time": "2022-01-23T14:04:12.394Z"
   },
   {
    "duration": 70,
    "start_time": "2022-01-23T14:04:12.409Z"
   },
   {
    "duration": 11,
    "start_time": "2022-01-23T14:04:12.483Z"
   },
   {
    "duration": 76,
    "start_time": "2022-01-23T14:04:12.496Z"
   },
   {
    "duration": 111,
    "start_time": "2022-01-23T14:04:12.575Z"
   },
   {
    "duration": 15,
    "start_time": "2022-01-23T14:04:12.689Z"
   },
   {
    "duration": 95,
    "start_time": "2022-01-23T14:04:12.707Z"
   },
   {
    "duration": 15,
    "start_time": "2022-01-23T14:04:12.805Z"
   },
   {
    "duration": 10,
    "start_time": "2022-01-23T14:04:12.823Z"
   },
   {
    "duration": 26,
    "start_time": "2022-01-23T14:04:12.860Z"
   },
   {
    "duration": 82,
    "start_time": "2022-01-23T14:04:12.888Z"
   },
   {
    "duration": 32,
    "start_time": "2022-01-23T14:04:12.972Z"
   },
   {
    "duration": 18,
    "start_time": "2022-01-23T14:04:13.006Z"
   },
   {
    "duration": 13,
    "start_time": "2022-01-23T14:04:13.059Z"
   },
   {
    "duration": 33,
    "start_time": "2022-01-23T14:04:13.074Z"
   },
   {
    "duration": 115,
    "start_time": "2022-01-23T14:04:13.110Z"
   },
   {
    "duration": 84,
    "start_time": "2022-01-23T14:04:13.228Z"
   },
   {
    "duration": 13,
    "start_time": "2022-01-23T14:04:13.316Z"
   },
   {
    "duration": 73,
    "start_time": "2022-01-23T14:04:13.331Z"
   },
   {
    "duration": 24,
    "start_time": "2022-01-23T14:04:13.407Z"
   },
   {
    "duration": 33,
    "start_time": "2022-01-23T14:04:13.458Z"
   },
   {
    "duration": 65,
    "start_time": "2022-01-23T14:04:13.494Z"
   },
   {
    "duration": 43,
    "start_time": "2022-01-23T14:04:13.562Z"
   },
   {
    "duration": 61,
    "start_time": "2022-01-23T14:04:13.607Z"
   },
   {
    "duration": 40,
    "start_time": "2022-01-23T14:04:13.672Z"
   },
   {
    "duration": 74,
    "start_time": "2022-01-23T14:04:13.715Z"
   },
   {
    "duration": 25,
    "start_time": "2022-01-23T14:04:13.792Z"
   },
   {
    "duration": 65,
    "start_time": "2022-01-23T14:04:13.819Z"
   },
   {
    "duration": 25,
    "start_time": "2022-01-23T14:04:13.886Z"
   },
   {
    "duration": 68,
    "start_time": "2022-01-23T14:04:13.913Z"
   },
   {
    "duration": 39,
    "start_time": "2022-01-23T14:04:13.983Z"
   },
   {
    "duration": 51,
    "start_time": "2022-01-23T14:04:14.024Z"
   },
   {
    "duration": 35,
    "start_time": "2022-01-23T14:04:14.078Z"
   },
   {
    "duration": 61,
    "start_time": "2022-01-23T14:04:14.115Z"
   },
   {
    "duration": 47,
    "start_time": "2022-01-23T14:04:14.178Z"
   },
   {
    "duration": 69,
    "start_time": "2022-01-23T14:04:14.228Z"
   },
   {
    "duration": 63,
    "start_time": "2022-01-23T14:04:14.299Z"
   },
   {
    "duration": 11,
    "start_time": "2022-01-23T14:04:14.364Z"
   },
   {
    "duration": 93,
    "start_time": "2022-01-23T14:04:14.378Z"
   },
   {
    "duration": 13,
    "start_time": "2022-01-23T14:04:14.474Z"
   },
   {
    "duration": 18,
    "start_time": "2022-01-23T14:04:14.489Z"
   },
   {
    "duration": 59,
    "start_time": "2022-01-23T14:04:14.510Z"
   },
   {
    "duration": 15,
    "start_time": "2022-01-23T14:04:14.572Z"
   },
   {
    "duration": 15,
    "start_time": "2022-01-23T14:04:14.589Z"
   },
   {
    "duration": 69,
    "start_time": "2022-01-23T14:04:14.607Z"
   },
   {
    "duration": 15,
    "start_time": "2022-01-23T14:04:14.678Z"
   },
   {
    "duration": 63,
    "start_time": "2022-01-23T14:04:14.701Z"
   },
   {
    "duration": 6,
    "start_time": "2022-01-23T14:04:14.768Z"
   },
   {
    "duration": 12,
    "start_time": "2022-01-23T14:04:14.776Z"
   },
   {
    "duration": 8,
    "start_time": "2022-01-23T14:04:14.791Z"
   },
   {
    "duration": 1870,
    "start_time": "2022-01-23T14:04:14.802Z"
   },
   {
    "duration": 45,
    "start_time": "2022-01-23T14:04:16.675Z"
   },
   {
    "duration": 69,
    "start_time": "2022-01-23T14:04:16.723Z"
   },
   {
    "duration": 70,
    "start_time": "2022-01-23T14:04:16.795Z"
   },
   {
    "duration": 10,
    "start_time": "2022-01-23T14:04:16.869Z"
   },
   {
    "duration": 756,
    "start_time": "2022-01-23T14:04:16.882Z"
   },
   {
    "duration": 738,
    "start_time": "2022-01-23T14:04:17.641Z"
   },
   {
    "duration": 761,
    "start_time": "2022-01-23T14:04:18.381Z"
   },
   {
    "duration": 403,
    "start_time": "2022-01-23T14:04:19.145Z"
   },
   {
    "duration": 697,
    "start_time": "2022-01-23T14:04:19.550Z"
   },
   {
    "duration": 1248,
    "start_time": "2022-01-23T14:04:20.250Z"
   },
   {
    "duration": 90,
    "start_time": "2022-01-23T14:04:21.500Z"
   },
   {
    "duration": 706,
    "start_time": "2022-01-23T14:04:21.593Z"
   },
   {
    "duration": 1284,
    "start_time": "2022-01-23T14:04:22.302Z"
   },
   {
    "duration": 110,
    "start_time": "2022-01-23T14:04:23.590Z"
   },
   {
    "duration": 88,
    "start_time": "2022-01-23T14:04:23.704Z"
   },
   {
    "duration": 96,
    "start_time": "2022-01-23T14:04:23.794Z"
   },
   {
    "duration": 511,
    "start_time": "2022-01-23T14:04:23.892Z"
   },
   {
    "duration": 937,
    "start_time": "2022-01-23T14:04:24.406Z"
   },
   {
    "duration": 270,
    "start_time": "2022-01-23T14:04:25.346Z"
   },
   {
    "duration": 879,
    "start_time": "2022-01-23T14:04:25.619Z"
   },
   {
    "duration": 658,
    "start_time": "2022-01-23T14:04:26.501Z"
   },
   {
    "duration": 1284,
    "start_time": "2022-01-23T14:04:27.162Z"
   },
   {
    "duration": 516,
    "start_time": "2022-01-23T14:04:28.449Z"
   },
   {
    "duration": 498,
    "start_time": "2022-01-23T14:04:28.968Z"
   },
   {
    "duration": 1016,
    "start_time": "2022-01-23T14:04:29.468Z"
   },
   {
    "duration": 180,
    "start_time": "2022-01-23T14:04:30.486Z"
   },
   {
    "duration": 563,
    "start_time": "2022-01-23T14:04:30.668Z"
   },
   {
    "duration": 571,
    "start_time": "2022-01-23T14:04:31.234Z"
   },
   {
    "duration": 545,
    "start_time": "2022-01-23T14:04:31.807Z"
   },
   {
    "duration": 21,
    "start_time": "2022-01-23T14:04:32.354Z"
   },
   {
    "duration": 17,
    "start_time": "2022-01-23T14:04:32.377Z"
   },
   {
    "duration": 70,
    "start_time": "2022-01-23T14:04:32.396Z"
   },
   {
    "duration": 48,
    "start_time": "2022-01-23T14:06:53.746Z"
   },
   {
    "duration": 14,
    "start_time": "2022-01-23T14:07:02.558Z"
   },
   {
    "duration": 96,
    "start_time": "2022-01-23T14:07:25.673Z"
   },
   {
    "duration": 13,
    "start_time": "2022-01-23T14:08:05.379Z"
   },
   {
    "duration": 12,
    "start_time": "2022-01-23T14:08:22.380Z"
   },
   {
    "duration": 13,
    "start_time": "2022-01-23T14:08:30.407Z"
   },
   {
    "duration": 49,
    "start_time": "2022-01-23T14:08:35.796Z"
   },
   {
    "duration": 24,
    "start_time": "2022-01-23T14:10:29.109Z"
   }
  ],
  "kernelspec": {
   "display_name": "Python 3 (ipykernel)",
   "language": "python",
   "name": "python3"
  },
  "language_info": {
   "codemirror_mode": {
    "name": "ipython",
    "version": 3
   },
   "file_extension": ".py",
   "mimetype": "text/x-python",
   "name": "python",
   "nbconvert_exporter": "python",
   "pygments_lexer": "ipython3",
   "version": "3.9.7"
  },
  "toc": {
   "base_numbering": 1,
   "nav_menu": {},
   "number_sections": true,
   "sideBar": true,
   "skip_h1_title": false,
   "title_cell": "Table of Contents",
   "title_sidebar": "Contents",
   "toc_cell": false,
   "toc_position": {
    "height": "calc(100% - 180px)",
    "left": "10px",
    "top": "150px",
    "width": "366.391px"
   },
   "toc_section_display": true,
   "toc_window_display": true
  }
 },
 "nbformat": 4,
 "nbformat_minor": 2
}
